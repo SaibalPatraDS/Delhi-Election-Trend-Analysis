{
 "cells": [
  {
   "cell_type": "markdown",
   "metadata": {},
   "source": [
    "# Delhi Election Trend Analysis"
   ]
  },
  {
   "cell_type": "code",
   "execution_count": 270,
   "metadata": {
    "execution": {
     "iopub.execute_input": "2025-01-01T09:21:26.453306Z",
     "iopub.status.busy": "2025-01-01T09:21:26.452981Z",
     "iopub.status.idle": "2025-01-01T09:21:27.678810Z",
     "shell.execute_reply": "2025-01-01T09:21:27.677907Z",
     "shell.execute_reply.started": "2025-01-01T09:21:26.453281Z"
    },
    "trusted": true
   },
   "outputs": [],
   "source": [
    "## importing necessary libraries\n",
    "import pandas as pd\n",
    "import numpy as np\n",
    "import matplotlib.pyplot as plt\n",
    "import seaborn as sns\n",
    "\n",
    "import plotly.express as px\n",
    "\n",
    "import warnings\n",
    "warnings.filterwarnings('ignore')"
   ]
  },
  {
   "cell_type": "code",
   "execution_count": 271,
   "metadata": {
    "execution": {
     "iopub.execute_input": "2025-01-01T09:21:27.680547Z",
     "iopub.status.busy": "2025-01-01T09:21:27.680124Z",
     "iopub.status.idle": "2025-01-01T09:21:27.767897Z",
     "shell.execute_reply": "2025-01-01T09:21:27.766996Z",
     "shell.execute_reply.started": "2025-01-01T09:21:27.680519Z"
    },
    "trusted": true
   },
   "outputs": [],
   "source": [
    "## loading the data\n",
    "delhi_election_df = pd.read_csv(\n",
    "    \"data\\Delhi_Assignment.csv\"\n",
    ") # given by competition\n",
    "\n",
    "delhi_election_2015_df = pd.read_csv(\n",
    "    \"data/delhi-2015-elections.csv\"\n",
    ")\n",
    "delhi_election_2020_df = pd.read_csv(\n",
    "    \"data/delhi-2020-elections.csv\"\n",
    ")\n",
    "delhi_election_2015_2_df = pd.read_csv(\n",
    "    \"data/delhi_2015_election_final.csv\"\n",
    ")\n"
   ]
  },
  {
   "cell_type": "code",
   "execution_count": 272,
   "metadata": {
    "execution": {
     "iopub.execute_input": "2025-01-01T09:21:27.769780Z",
     "iopub.status.busy": "2025-01-01T09:21:27.769410Z",
     "iopub.status.idle": "2025-01-01T09:21:27.797047Z",
     "shell.execute_reply": "2025-01-01T09:21:27.795949Z",
     "shell.execute_reply.started": "2025-01-01T09:21:27.769744Z"
    },
    "trusted": true
   },
   "outputs": [
    {
     "data": {
      "text/html": [
       "<div>\n",
       "<style scoped>\n",
       "    .dataframe tbody tr th:only-of-type {\n",
       "        vertical-align: middle;\n",
       "    }\n",
       "\n",
       "    .dataframe tbody tr th {\n",
       "        vertical-align: top;\n",
       "    }\n",
       "\n",
       "    .dataframe thead th {\n",
       "        text-align: right;\n",
       "    }\n",
       "</style>\n",
       "<table border=\"1\" class=\"dataframe\">\n",
       "  <thead>\n",
       "    <tr style=\"text-align: right;\">\n",
       "      <th></th>\n",
       "      <th>Year</th>\n",
       "      <th>Assembly</th>\n",
       "      <th>AAP</th>\n",
       "      <th>Position</th>\n",
       "      <th>Votes</th>\n",
       "      <th>BJP</th>\n",
       "      <th>Position.1</th>\n",
       "      <th>Votes.1</th>\n",
       "      <th>Valid Votes</th>\n",
       "      <th>Total Electors</th>\n",
       "      <th>Turnout Percentage</th>\n",
       "      <th>Margin(M1)</th>\n",
       "      <th>Margin(M1) Percentage</th>\n",
       "      <th>Vote Split Amongst Other Candidates(M2)</th>\n",
       "      <th>Margin(M1-M2)</th>\n",
       "      <th>Margin(M1-M2)  Percentage</th>\n",
       "    </tr>\n",
       "  </thead>\n",
       "  <tbody>\n",
       "    <tr>\n",
       "      <th>0</th>\n",
       "      <td>2020</td>\n",
       "      <td>NERELA</td>\n",
       "      <td>SHARAD KUMAR</td>\n",
       "      <td>1</td>\n",
       "      <td>86,262</td>\n",
       "      <td>NEEL DAMAN KHATRI</td>\n",
       "      <td>2.0</td>\n",
       "      <td>68,833</td>\n",
       "      <td>165,694</td>\n",
       "      <td>253,982</td>\n",
       "      <td>65.24</td>\n",
       "      <td>17,429</td>\n",
       "      <td>11%</td>\n",
       "      <td>10,603</td>\n",
       "      <td>6,826</td>\n",
       "      <td>4%</td>\n",
       "    </tr>\n",
       "    <tr>\n",
       "      <th>1</th>\n",
       "      <td>2020</td>\n",
       "      <td>BURARI</td>\n",
       "      <td>SANJEEV JHA</td>\n",
       "      <td>1</td>\n",
       "      <td>139,598</td>\n",
       "      <td>NaN</td>\n",
       "      <td>NaN</td>\n",
       "      <td>NaN</td>\n",
       "      <td>222,256</td>\n",
       "      <td>361,703</td>\n",
       "      <td>61.45</td>\n",
       "      <td>NaN</td>\n",
       "      <td>NaN</td>\n",
       "      <td>NaN</td>\n",
       "      <td>NaN</td>\n",
       "      <td>NaN</td>\n",
       "    </tr>\n",
       "    <tr>\n",
       "      <th>2</th>\n",
       "      <td>2020</td>\n",
       "      <td>TIMARPUR</td>\n",
       "      <td>DILIP PANDEY</td>\n",
       "      <td>1</td>\n",
       "      <td>71,432</td>\n",
       "      <td>SURINDER PAL SINGH (BITTOO)</td>\n",
       "      <td>2.0</td>\n",
       "      <td>47,288</td>\n",
       "      <td>124,011</td>\n",
       "      <td>203,599</td>\n",
       "      <td>60.91</td>\n",
       "      <td>24,144</td>\n",
       "      <td>19%</td>\n",
       "      <td>5,292</td>\n",
       "      <td>18,852</td>\n",
       "      <td>15%</td>\n",
       "    </tr>\n",
       "    <tr>\n",
       "      <th>3</th>\n",
       "      <td>2020</td>\n",
       "      <td>ADARSH NAGAR</td>\n",
       "      <td>PAWAN SHARMA</td>\n",
       "      <td>1</td>\n",
       "      <td>46,892</td>\n",
       "      <td>RAJ KUMAR BHATIA</td>\n",
       "      <td>2.0</td>\n",
       "      <td>45,303</td>\n",
       "      <td>103,752</td>\n",
       "      <td>173,416</td>\n",
       "      <td>59.83</td>\n",
       "      <td>1,589</td>\n",
       "      <td>2%</td>\n",
       "      <td>11,560</td>\n",
       "      <td>-9,971</td>\n",
       "      <td>-10%</td>\n",
       "    </tr>\n",
       "    <tr>\n",
       "      <th>4</th>\n",
       "      <td>2020</td>\n",
       "      <td>BADLI</td>\n",
       "      <td>AJESH YADAV</td>\n",
       "      <td>1</td>\n",
       "      <td>69,357</td>\n",
       "      <td>VIJAY KUMAR BHAGAT</td>\n",
       "      <td>2.0</td>\n",
       "      <td>40,234</td>\n",
       "      <td>139,638</td>\n",
       "      <td>219,941</td>\n",
       "      <td>63.49</td>\n",
       "      <td>29,123</td>\n",
       "      <td>21%</td>\n",
       "      <td>30,050</td>\n",
       "      <td>-927</td>\n",
       "      <td>-1%</td>\n",
       "    </tr>\n",
       "  </tbody>\n",
       "</table>\n",
       "</div>"
      ],
      "text/plain": [
       "   Year      Assembly           AAP  Position    Votes  \\\n",
       "0  2020        NERELA  SHARAD KUMAR         1   86,262   \n",
       "1  2020        BURARI   SANJEEV JHA         1  139,598   \n",
       "2  2020      TIMARPUR  DILIP PANDEY         1   71,432   \n",
       "3  2020  ADARSH NAGAR  PAWAN SHARMA         1   46,892   \n",
       "4  2020         BADLI   AJESH YADAV         1   69,357   \n",
       "\n",
       "                           BJP  Position.1 Votes.1 Valid Votes Total Electors  \\\n",
       "0            NEEL DAMAN KHATRI         2.0  68,833     165,694        253,982   \n",
       "1                          NaN         NaN     NaN     222,256        361,703   \n",
       "2  SURINDER PAL SINGH (BITTOO)         2.0  47,288     124,011        203,599   \n",
       "3             RAJ KUMAR BHATIA         2.0  45,303     103,752        173,416   \n",
       "4           VIJAY KUMAR BHAGAT         2.0  40,234     139,638        219,941   \n",
       "\n",
       "   Turnout Percentage Margin(M1) Margin(M1) Percentage  \\\n",
       "0               65.24     17,429                   11%   \n",
       "1               61.45        NaN                   NaN   \n",
       "2               60.91     24,144                   19%   \n",
       "3               59.83      1,589                    2%   \n",
       "4               63.49     29,123                   21%   \n",
       "\n",
       "  Vote Split Amongst Other Candidates(M2) Margin(M1-M2)  \\\n",
       "0                                  10,603         6,826   \n",
       "1                                     NaN           NaN   \n",
       "2                                   5,292        18,852   \n",
       "3                                  11,560        -9,971   \n",
       "4                                  30,050          -927   \n",
       "\n",
       "  Margin(M1-M2)  Percentage  \n",
       "0                        4%  \n",
       "1                       NaN  \n",
       "2                       15%  \n",
       "3                      -10%  \n",
       "4                       -1%  "
      ]
     },
     "execution_count": 272,
     "metadata": {},
     "output_type": "execute_result"
    }
   ],
   "source": [
    "delhi_election_df.head()"
   ]
  },
  {
   "cell_type": "code",
   "execution_count": 273,
   "metadata": {
    "execution": {
     "iopub.execute_input": "2025-01-01T09:21:27.798926Z",
     "iopub.status.busy": "2025-01-01T09:21:27.798569Z",
     "iopub.status.idle": "2025-01-01T09:21:27.823399Z",
     "shell.execute_reply": "2025-01-01T09:21:27.822013Z",
     "shell.execute_reply.started": "2025-01-01T09:21:27.798899Z"
    },
    "trusted": true
   },
   "outputs": [
    {
     "data": {
      "text/html": [
       "<div>\n",
       "<style scoped>\n",
       "    .dataframe tbody tr th:only-of-type {\n",
       "        vertical-align: middle;\n",
       "    }\n",
       "\n",
       "    .dataframe tbody tr th {\n",
       "        vertical-align: top;\n",
       "    }\n",
       "\n",
       "    .dataframe thead th {\n",
       "        text-align: right;\n",
       "    }\n",
       "</style>\n",
       "<table border=\"1\" class=\"dataframe\">\n",
       "  <thead>\n",
       "    <tr style=\"text-align: right;\">\n",
       "      <th></th>\n",
       "      <th>State_Name</th>\n",
       "      <th>Assembly_No</th>\n",
       "      <th>Constituency_No</th>\n",
       "      <th>Year</th>\n",
       "      <th>month</th>\n",
       "      <th>DelimID</th>\n",
       "      <th>Poll_No</th>\n",
       "      <th>Position</th>\n",
       "      <th>Candidate</th>\n",
       "      <th>Sex</th>\n",
       "      <th>...</th>\n",
       "      <th>No_Terms</th>\n",
       "      <th>Turncoat</th>\n",
       "      <th>Incumbent</th>\n",
       "      <th>Recontest</th>\n",
       "      <th>MyNeta_education</th>\n",
       "      <th>TCPD_Prof_Main</th>\n",
       "      <th>TCPD_Prof_Main_Desc</th>\n",
       "      <th>TCPD_Prof_Second</th>\n",
       "      <th>TCPD_Prof_Second_Desc</th>\n",
       "      <th>Election_Type</th>\n",
       "    </tr>\n",
       "  </thead>\n",
       "  <tbody>\n",
       "    <tr>\n",
       "      <th>0</th>\n",
       "      <td>Delhi</td>\n",
       "      <td>10</td>\n",
       "      <td>1</td>\n",
       "      <td>2015</td>\n",
       "      <td>2</td>\n",
       "      <td>4</td>\n",
       "      <td>0</td>\n",
       "      <td>1</td>\n",
       "      <td>SHARAD KUMAR</td>\n",
       "      <td>M</td>\n",
       "      <td>...</td>\n",
       "      <td>1.0</td>\n",
       "      <td>True</td>\n",
       "      <td>False</td>\n",
       "      <td>False</td>\n",
       "      <td>NaN</td>\n",
       "      <td>NaN</td>\n",
       "      <td>NaN</td>\n",
       "      <td>NaN</td>\n",
       "      <td>NaN</td>\n",
       "      <td>State Assembly Election (AE)</td>\n",
       "    </tr>\n",
       "    <tr>\n",
       "      <th>1</th>\n",
       "      <td>Delhi</td>\n",
       "      <td>10</td>\n",
       "      <td>1</td>\n",
       "      <td>2015</td>\n",
       "      <td>2</td>\n",
       "      <td>4</td>\n",
       "      <td>0</td>\n",
       "      <td>2</td>\n",
       "      <td>NEEL DAMAN KHATRI</td>\n",
       "      <td>M</td>\n",
       "      <td>...</td>\n",
       "      <td>1.0</td>\n",
       "      <td>False</td>\n",
       "      <td>True</td>\n",
       "      <td>True</td>\n",
       "      <td>10th Pass</td>\n",
       "      <td>Business</td>\n",
       "      <td>NaN</td>\n",
       "      <td>NaN</td>\n",
       "      <td>NaN</td>\n",
       "      <td>State Assembly Election (AE)</td>\n",
       "    </tr>\n",
       "    <tr>\n",
       "      <th>2</th>\n",
       "      <td>Delhi</td>\n",
       "      <td>10</td>\n",
       "      <td>1</td>\n",
       "      <td>2015</td>\n",
       "      <td>2</td>\n",
       "      <td>4</td>\n",
       "      <td>0</td>\n",
       "      <td>3</td>\n",
       "      <td>PRAVEEN KUMAR BHUGRA</td>\n",
       "      <td>M</td>\n",
       "      <td>...</td>\n",
       "      <td>0.0</td>\n",
       "      <td>False</td>\n",
       "      <td>False</td>\n",
       "      <td>False</td>\n",
       "      <td>8th Pass</td>\n",
       "      <td>Business</td>\n",
       "      <td>NaN</td>\n",
       "      <td>Social Work</td>\n",
       "      <td>NaN</td>\n",
       "      <td>State Assembly Election (AE)</td>\n",
       "    </tr>\n",
       "    <tr>\n",
       "      <th>3</th>\n",
       "      <td>Delhi</td>\n",
       "      <td>10</td>\n",
       "      <td>1</td>\n",
       "      <td>2015</td>\n",
       "      <td>2</td>\n",
       "      <td>4</td>\n",
       "      <td>0</td>\n",
       "      <td>4</td>\n",
       "      <td>ROOPESH BHARDWAJ</td>\n",
       "      <td>M</td>\n",
       "      <td>...</td>\n",
       "      <td>0.0</td>\n",
       "      <td>False</td>\n",
       "      <td>False</td>\n",
       "      <td>False</td>\n",
       "      <td>10th Pass</td>\n",
       "      <td>Business</td>\n",
       "      <td>Trader</td>\n",
       "      <td>Liberal Profession or Professional</td>\n",
       "      <td>Consultant</td>\n",
       "      <td>State Assembly Election (AE)</td>\n",
       "    </tr>\n",
       "    <tr>\n",
       "      <th>4</th>\n",
       "      <td>Delhi</td>\n",
       "      <td>10</td>\n",
       "      <td>1</td>\n",
       "      <td>2015</td>\n",
       "      <td>2</td>\n",
       "      <td>4</td>\n",
       "      <td>0</td>\n",
       "      <td>5</td>\n",
       "      <td>None of the Above</td>\n",
       "      <td>NaN</td>\n",
       "      <td>...</td>\n",
       "      <td>NaN</td>\n",
       "      <td>NaN</td>\n",
       "      <td>NaN</td>\n",
       "      <td>NaN</td>\n",
       "      <td>NaN</td>\n",
       "      <td>NaN</td>\n",
       "      <td>NaN</td>\n",
       "      <td>NaN</td>\n",
       "      <td>NaN</td>\n",
       "      <td>State Assembly Election (AE)</td>\n",
       "    </tr>\n",
       "  </tbody>\n",
       "</table>\n",
       "<p>5 rows × 47 columns</p>\n",
       "</div>"
      ],
      "text/plain": [
       "  State_Name  Assembly_No  Constituency_No  Year  month  DelimID  Poll_No  \\\n",
       "0      Delhi           10                1  2015      2        4        0   \n",
       "1      Delhi           10                1  2015      2        4        0   \n",
       "2      Delhi           10                1  2015      2        4        0   \n",
       "3      Delhi           10                1  2015      2        4        0   \n",
       "4      Delhi           10                1  2015      2        4        0   \n",
       "\n",
       "   Position             Candidate  Sex  ... No_Terms  Turncoat  Incumbent  \\\n",
       "0         1          SHARAD KUMAR    M  ...      1.0      True      False   \n",
       "1         2     NEEL DAMAN KHATRI    M  ...      1.0     False       True   \n",
       "2         3  PRAVEEN KUMAR BHUGRA    M  ...      0.0     False      False   \n",
       "3         4      ROOPESH BHARDWAJ    M  ...      0.0     False      False   \n",
       "4         5     None of the Above  NaN  ...      NaN       NaN        NaN   \n",
       "\n",
       "  Recontest  MyNeta_education  TCPD_Prof_Main TCPD_Prof_Main_Desc  \\\n",
       "0     False               NaN             NaN                 NaN   \n",
       "1      True         10th Pass        Business                 NaN   \n",
       "2     False          8th Pass        Business                 NaN   \n",
       "3     False         10th Pass        Business              Trader   \n",
       "4       NaN               NaN             NaN                 NaN   \n",
       "\n",
       "                     TCPD_Prof_Second TCPD_Prof_Second_Desc  \\\n",
       "0                                 NaN                   NaN   \n",
       "1                                 NaN                   NaN   \n",
       "2                         Social Work                   NaN   \n",
       "3  Liberal Profession or Professional            Consultant   \n",
       "4                                 NaN                   NaN   \n",
       "\n",
       "                  Election_Type  \n",
       "0  State Assembly Election (AE)  \n",
       "1  State Assembly Election (AE)  \n",
       "2  State Assembly Election (AE)  \n",
       "3  State Assembly Election (AE)  \n",
       "4  State Assembly Election (AE)  \n",
       "\n",
       "[5 rows x 47 columns]"
      ]
     },
     "execution_count": 273,
     "metadata": {},
     "output_type": "execute_result"
    }
   ],
   "source": [
    "delhi_election_2015_df.head()"
   ]
  },
  {
   "cell_type": "code",
   "execution_count": 274,
   "metadata": {
    "execution": {
     "iopub.execute_input": "2025-01-01T09:21:27.825153Z",
     "iopub.status.busy": "2025-01-01T09:21:27.824755Z",
     "iopub.status.idle": "2025-01-01T09:21:27.853147Z",
     "shell.execute_reply": "2025-01-01T09:21:27.852003Z",
     "shell.execute_reply.started": "2025-01-01T09:21:27.825122Z"
    },
    "trusted": true
   },
   "outputs": [
    {
     "data": {
      "text/html": [
       "<div>\n",
       "<style scoped>\n",
       "    .dataframe tbody tr th:only-of-type {\n",
       "        vertical-align: middle;\n",
       "    }\n",
       "\n",
       "    .dataframe tbody tr th {\n",
       "        vertical-align: top;\n",
       "    }\n",
       "\n",
       "    .dataframe thead th {\n",
       "        text-align: right;\n",
       "    }\n",
       "</style>\n",
       "<table border=\"1\" class=\"dataframe\">\n",
       "  <thead>\n",
       "    <tr style=\"text-align: right;\">\n",
       "      <th></th>\n",
       "      <th>State_Name</th>\n",
       "      <th>Assembly_No</th>\n",
       "      <th>Constituency_No</th>\n",
       "      <th>Year</th>\n",
       "      <th>month</th>\n",
       "      <th>DelimID</th>\n",
       "      <th>Poll_No</th>\n",
       "      <th>Position</th>\n",
       "      <th>Candidate</th>\n",
       "      <th>Sex</th>\n",
       "      <th>...</th>\n",
       "      <th>No_Terms</th>\n",
       "      <th>Turncoat</th>\n",
       "      <th>Incumbent</th>\n",
       "      <th>Recontest</th>\n",
       "      <th>MyNeta_education</th>\n",
       "      <th>TCPD_Prof_Main</th>\n",
       "      <th>TCPD_Prof_Main_Desc</th>\n",
       "      <th>TCPD_Prof_Second</th>\n",
       "      <th>TCPD_Prof_Second_Desc</th>\n",
       "      <th>Election_Type</th>\n",
       "    </tr>\n",
       "  </thead>\n",
       "  <tbody>\n",
       "    <tr>\n",
       "      <th>0</th>\n",
       "      <td>Delhi</td>\n",
       "      <td>11</td>\n",
       "      <td>1</td>\n",
       "      <td>2020</td>\n",
       "      <td>2</td>\n",
       "      <td>4</td>\n",
       "      <td>0</td>\n",
       "      <td>1</td>\n",
       "      <td>SHARAD KUMAR</td>\n",
       "      <td>M</td>\n",
       "      <td>...</td>\n",
       "      <td>2.0</td>\n",
       "      <td>False</td>\n",
       "      <td>True</td>\n",
       "      <td>True</td>\n",
       "      <td>10th Pass</td>\n",
       "      <td>Agriculture</td>\n",
       "      <td>NaN</td>\n",
       "      <td>NaN</td>\n",
       "      <td>NaN</td>\n",
       "      <td>State Assembly Election (AE)</td>\n",
       "    </tr>\n",
       "    <tr>\n",
       "      <th>1</th>\n",
       "      <td>Delhi</td>\n",
       "      <td>11</td>\n",
       "      <td>1</td>\n",
       "      <td>2020</td>\n",
       "      <td>2</td>\n",
       "      <td>4</td>\n",
       "      <td>0</td>\n",
       "      <td>2</td>\n",
       "      <td>NEEL DAMAN KHATRI</td>\n",
       "      <td>M</td>\n",
       "      <td>...</td>\n",
       "      <td>1.0</td>\n",
       "      <td>False</td>\n",
       "      <td>False</td>\n",
       "      <td>True</td>\n",
       "      <td>10th Pass</td>\n",
       "      <td>Business</td>\n",
       "      <td>NaN</td>\n",
       "      <td>NaN</td>\n",
       "      <td>NaN</td>\n",
       "      <td>State Assembly Election (AE)</td>\n",
       "    </tr>\n",
       "    <tr>\n",
       "      <th>2</th>\n",
       "      <td>Delhi</td>\n",
       "      <td>11</td>\n",
       "      <td>1</td>\n",
       "      <td>2020</td>\n",
       "      <td>2</td>\n",
       "      <td>4</td>\n",
       "      <td>0</td>\n",
       "      <td>3</td>\n",
       "      <td>SIDDHARTH KUNDU</td>\n",
       "      <td>M</td>\n",
       "      <td>...</td>\n",
       "      <td>0.0</td>\n",
       "      <td>False</td>\n",
       "      <td>False</td>\n",
       "      <td>False</td>\n",
       "      <td>Graduate Professional</td>\n",
       "      <td>Business</td>\n",
       "      <td>Rent</td>\n",
       "      <td>Liberal Profession or Professional</td>\n",
       "      <td>Lawyer</td>\n",
       "      <td>State Assembly Election (AE)</td>\n",
       "    </tr>\n",
       "    <tr>\n",
       "      <th>3</th>\n",
       "      <td>Delhi</td>\n",
       "      <td>11</td>\n",
       "      <td>1</td>\n",
       "      <td>2020</td>\n",
       "      <td>2</td>\n",
       "      <td>4</td>\n",
       "      <td>0</td>\n",
       "      <td>4</td>\n",
       "      <td>RAJBALA SAINI</td>\n",
       "      <td>F</td>\n",
       "      <td>...</td>\n",
       "      <td>0.0</td>\n",
       "      <td>False</td>\n",
       "      <td>False</td>\n",
       "      <td>False</td>\n",
       "      <td>Post Graduate</td>\n",
       "      <td>Other</td>\n",
       "      <td>Household</td>\n",
       "      <td>NaN</td>\n",
       "      <td>NaN</td>\n",
       "      <td>State Assembly Election (AE)</td>\n",
       "    </tr>\n",
       "    <tr>\n",
       "      <th>4</th>\n",
       "      <td>Delhi</td>\n",
       "      <td>11</td>\n",
       "      <td>1</td>\n",
       "      <td>2020</td>\n",
       "      <td>2</td>\n",
       "      <td>4</td>\n",
       "      <td>0</td>\n",
       "      <td>5</td>\n",
       "      <td>MAHENDER CHAUDHARY</td>\n",
       "      <td>M</td>\n",
       "      <td>...</td>\n",
       "      <td>0.0</td>\n",
       "      <td>False</td>\n",
       "      <td>False</td>\n",
       "      <td>False</td>\n",
       "      <td>12th Pass</td>\n",
       "      <td>Other</td>\n",
       "      <td>NaN</td>\n",
       "      <td>NaN</td>\n",
       "      <td>NaN</td>\n",
       "      <td>State Assembly Election (AE)</td>\n",
       "    </tr>\n",
       "  </tbody>\n",
       "</table>\n",
       "<p>5 rows × 47 columns</p>\n",
       "</div>"
      ],
      "text/plain": [
       "  State_Name  Assembly_No  Constituency_No  Year  month  DelimID  Poll_No  \\\n",
       "0      Delhi           11                1  2020      2        4        0   \n",
       "1      Delhi           11                1  2020      2        4        0   \n",
       "2      Delhi           11                1  2020      2        4        0   \n",
       "3      Delhi           11                1  2020      2        4        0   \n",
       "4      Delhi           11                1  2020      2        4        0   \n",
       "\n",
       "   Position           Candidate Sex  ... No_Terms  Turncoat  Incumbent  \\\n",
       "0         1        SHARAD KUMAR   M  ...      2.0     False       True   \n",
       "1         2   NEEL DAMAN KHATRI   M  ...      1.0     False      False   \n",
       "2         3     SIDDHARTH KUNDU   M  ...      0.0     False      False   \n",
       "3         4       RAJBALA SAINI   F  ...      0.0     False      False   \n",
       "4         5  MAHENDER CHAUDHARY   M  ...      0.0     False      False   \n",
       "\n",
       "  Recontest       MyNeta_education  TCPD_Prof_Main TCPD_Prof_Main_Desc  \\\n",
       "0      True              10th Pass     Agriculture                 NaN   \n",
       "1      True              10th Pass        Business                 NaN   \n",
       "2     False  Graduate Professional        Business                Rent   \n",
       "3     False          Post Graduate           Other           Household   \n",
       "4     False              12th Pass           Other                 NaN   \n",
       "\n",
       "                     TCPD_Prof_Second TCPD_Prof_Second_Desc  \\\n",
       "0                                 NaN                   NaN   \n",
       "1                                 NaN                   NaN   \n",
       "2  Liberal Profession or Professional                Lawyer   \n",
       "3                                 NaN                   NaN   \n",
       "4                                 NaN                   NaN   \n",
       "\n",
       "                  Election_Type  \n",
       "0  State Assembly Election (AE)  \n",
       "1  State Assembly Election (AE)  \n",
       "2  State Assembly Election (AE)  \n",
       "3  State Assembly Election (AE)  \n",
       "4  State Assembly Election (AE)  \n",
       "\n",
       "[5 rows x 47 columns]"
      ]
     },
     "execution_count": 274,
     "metadata": {},
     "output_type": "execute_result"
    }
   ],
   "source": [
    "delhi_election_2020_df.head()"
   ]
  },
  {
   "cell_type": "code",
   "execution_count": 275,
   "metadata": {
    "execution": {
     "iopub.execute_input": "2025-01-01T09:21:27.854516Z",
     "iopub.status.busy": "2025-01-01T09:21:27.854141Z",
     "iopub.status.idle": "2025-01-01T09:21:27.885194Z",
     "shell.execute_reply": "2025-01-01T09:21:27.884153Z",
     "shell.execute_reply.started": "2025-01-01T09:21:27.854484Z"
    },
    "trusted": true
   },
   "outputs": [
    {
     "data": {
      "text/html": [
       "<div>\n",
       "<style scoped>\n",
       "    .dataframe tbody tr th:only-of-type {\n",
       "        vertical-align: middle;\n",
       "    }\n",
       "\n",
       "    .dataframe tbody tr th {\n",
       "        vertical-align: top;\n",
       "    }\n",
       "\n",
       "    .dataframe thead th {\n",
       "        text-align: right;\n",
       "    }\n",
       "</style>\n",
       "<table border=\"1\" class=\"dataframe\">\n",
       "  <thead>\n",
       "    <tr style=\"text-align: right;\">\n",
       "      <th></th>\n",
       "      <th>_id</th>\n",
       "      <th>State_Name</th>\n",
       "      <th>Assembly_No</th>\n",
       "      <th>Constituency_No</th>\n",
       "      <th>Year</th>\n",
       "      <th>month</th>\n",
       "      <th>DelimID</th>\n",
       "      <th>Poll_No</th>\n",
       "      <th>Position</th>\n",
       "      <th>Candidate</th>\n",
       "      <th>...</th>\n",
       "      <th>No_Terms</th>\n",
       "      <th>Turncoat</th>\n",
       "      <th>Incumbent</th>\n",
       "      <th>Recontest</th>\n",
       "      <th>MyNeta_education</th>\n",
       "      <th>TCPD_Prof_Main</th>\n",
       "      <th>TCPD_Prof_Main_Desc</th>\n",
       "      <th>TCPD_Prof_Second</th>\n",
       "      <th>TCPD_Prof_Second_Desc</th>\n",
       "      <th>Election_Type</th>\n",
       "    </tr>\n",
       "  </thead>\n",
       "  <tbody>\n",
       "    <tr>\n",
       "      <th>0</th>\n",
       "      <td>1</td>\n",
       "      <td>Delhi</td>\n",
       "      <td>10</td>\n",
       "      <td>1</td>\n",
       "      <td>2015</td>\n",
       "      <td>2</td>\n",
       "      <td>4</td>\n",
       "      <td>0</td>\n",
       "      <td>1</td>\n",
       "      <td>SHARAD KUMAR</td>\n",
       "      <td>...</td>\n",
       "      <td>1.0</td>\n",
       "      <td>True</td>\n",
       "      <td>False</td>\n",
       "      <td>False</td>\n",
       "      <td>NaN</td>\n",
       "      <td>NaN</td>\n",
       "      <td>NaN</td>\n",
       "      <td>NaN</td>\n",
       "      <td>NaN</td>\n",
       "      <td>State Assembly Election (AE)</td>\n",
       "    </tr>\n",
       "    <tr>\n",
       "      <th>1</th>\n",
       "      <td>2</td>\n",
       "      <td>Delhi</td>\n",
       "      <td>10</td>\n",
       "      <td>1</td>\n",
       "      <td>2015</td>\n",
       "      <td>2</td>\n",
       "      <td>4</td>\n",
       "      <td>0</td>\n",
       "      <td>2</td>\n",
       "      <td>NEEL DAMAN KHATRI</td>\n",
       "      <td>...</td>\n",
       "      <td>1.0</td>\n",
       "      <td>False</td>\n",
       "      <td>True</td>\n",
       "      <td>True</td>\n",
       "      <td>10th Pass</td>\n",
       "      <td>Business</td>\n",
       "      <td>NaN</td>\n",
       "      <td>NaN</td>\n",
       "      <td>NaN</td>\n",
       "      <td>State Assembly Election (AE)</td>\n",
       "    </tr>\n",
       "    <tr>\n",
       "      <th>2</th>\n",
       "      <td>3</td>\n",
       "      <td>Delhi</td>\n",
       "      <td>10</td>\n",
       "      <td>1</td>\n",
       "      <td>2015</td>\n",
       "      <td>2</td>\n",
       "      <td>4</td>\n",
       "      <td>0</td>\n",
       "      <td>3</td>\n",
       "      <td>PRAVEEN KUMAR BHUGRA</td>\n",
       "      <td>...</td>\n",
       "      <td>0.0</td>\n",
       "      <td>False</td>\n",
       "      <td>False</td>\n",
       "      <td>False</td>\n",
       "      <td>8th Pass</td>\n",
       "      <td>Business</td>\n",
       "      <td>NaN</td>\n",
       "      <td>Social Work</td>\n",
       "      <td>NaN</td>\n",
       "      <td>State Assembly Election (AE)</td>\n",
       "    </tr>\n",
       "    <tr>\n",
       "      <th>3</th>\n",
       "      <td>4</td>\n",
       "      <td>Delhi</td>\n",
       "      <td>10</td>\n",
       "      <td>1</td>\n",
       "      <td>2015</td>\n",
       "      <td>2</td>\n",
       "      <td>4</td>\n",
       "      <td>0</td>\n",
       "      <td>4</td>\n",
       "      <td>ROOPESH BHARDWAJ</td>\n",
       "      <td>...</td>\n",
       "      <td>0.0</td>\n",
       "      <td>False</td>\n",
       "      <td>False</td>\n",
       "      <td>False</td>\n",
       "      <td>10th Pass</td>\n",
       "      <td>Business</td>\n",
       "      <td>Trader</td>\n",
       "      <td>Liberal Profession or Professional</td>\n",
       "      <td>Consultant</td>\n",
       "      <td>State Assembly Election (AE)</td>\n",
       "    </tr>\n",
       "    <tr>\n",
       "      <th>4</th>\n",
       "      <td>5</td>\n",
       "      <td>Delhi</td>\n",
       "      <td>10</td>\n",
       "      <td>1</td>\n",
       "      <td>2015</td>\n",
       "      <td>2</td>\n",
       "      <td>4</td>\n",
       "      <td>0</td>\n",
       "      <td>5</td>\n",
       "      <td>None of the Above</td>\n",
       "      <td>...</td>\n",
       "      <td>NaN</td>\n",
       "      <td>NaN</td>\n",
       "      <td>NaN</td>\n",
       "      <td>NaN</td>\n",
       "      <td>NaN</td>\n",
       "      <td>NaN</td>\n",
       "      <td>NaN</td>\n",
       "      <td>NaN</td>\n",
       "      <td>NaN</td>\n",
       "      <td>State Assembly Election (AE)</td>\n",
       "    </tr>\n",
       "  </tbody>\n",
       "</table>\n",
       "<p>5 rows × 48 columns</p>\n",
       "</div>"
      ],
      "text/plain": [
       "   _id State_Name  Assembly_No  Constituency_No  Year  month  DelimID  \\\n",
       "0    1      Delhi           10                1  2015      2        4   \n",
       "1    2      Delhi           10                1  2015      2        4   \n",
       "2    3      Delhi           10                1  2015      2        4   \n",
       "3    4      Delhi           10                1  2015      2        4   \n",
       "4    5      Delhi           10                1  2015      2        4   \n",
       "\n",
       "   Poll_No  Position             Candidate  ... No_Terms Turncoat  Incumbent  \\\n",
       "0        0         1          SHARAD KUMAR  ...      1.0     True      False   \n",
       "1        0         2     NEEL DAMAN KHATRI  ...      1.0    False       True   \n",
       "2        0         3  PRAVEEN KUMAR BHUGRA  ...      0.0    False      False   \n",
       "3        0         4      ROOPESH BHARDWAJ  ...      0.0    False      False   \n",
       "4        0         5     None of the Above  ...      NaN      NaN        NaN   \n",
       "\n",
       "   Recontest MyNeta_education  TCPD_Prof_Main  TCPD_Prof_Main_Desc  \\\n",
       "0      False              NaN             NaN                  NaN   \n",
       "1       True        10th Pass        Business                  NaN   \n",
       "2      False         8th Pass        Business                  NaN   \n",
       "3      False        10th Pass        Business               Trader   \n",
       "4        NaN              NaN             NaN                  NaN   \n",
       "\n",
       "                     TCPD_Prof_Second TCPD_Prof_Second_Desc  \\\n",
       "0                                 NaN                   NaN   \n",
       "1                                 NaN                   NaN   \n",
       "2                         Social Work                   NaN   \n",
       "3  Liberal Profession or Professional            Consultant   \n",
       "4                                 NaN                   NaN   \n",
       "\n",
       "                  Election_Type  \n",
       "0  State Assembly Election (AE)  \n",
       "1  State Assembly Election (AE)  \n",
       "2  State Assembly Election (AE)  \n",
       "3  State Assembly Election (AE)  \n",
       "4  State Assembly Election (AE)  \n",
       "\n",
       "[5 rows x 48 columns]"
      ]
     },
     "execution_count": 275,
     "metadata": {},
     "output_type": "execute_result"
    }
   ],
   "source": [
    "delhi_election_2015_2_df.head()"
   ]
  },
  {
   "cell_type": "code",
   "execution_count": 276,
   "metadata": {
    "execution": {
     "iopub.execute_input": "2025-01-01T09:21:27.886796Z",
     "iopub.status.busy": "2025-01-01T09:21:27.886398Z",
     "iopub.status.idle": "2025-01-01T09:21:27.909000Z",
     "shell.execute_reply": "2025-01-01T09:21:27.908041Z",
     "shell.execute_reply.started": "2025-01-01T09:21:27.886766Z"
    },
    "trusted": true
   },
   "outputs": [
    {
     "data": {
      "text/plain": [
       "Index(['Year', 'Assembly', 'AAP', 'Position', 'Votes', 'BJP', 'Position.1',\n",
       "       'Votes.1', 'Valid Votes', 'Total Electors', 'Turnout Percentage',\n",
       "       'Margin(M1)', 'Margin(M1) Percentage',\n",
       "       'Vote Split Amongst Other Candidates(M2)', 'Margin(M1-M2)',\n",
       "       'Margin(M1-M2)  Percentage'],\n",
       "      dtype='object')"
      ]
     },
     "execution_count": 276,
     "metadata": {},
     "output_type": "execute_result"
    }
   ],
   "source": [
    "## columns\n",
    "delhi_election_df.columns"
   ]
  },
  {
   "cell_type": "code",
   "execution_count": 277,
   "metadata": {
    "execution": {
     "iopub.execute_input": "2025-01-01T09:21:27.911903Z",
     "iopub.status.busy": "2025-01-01T09:21:27.911602Z",
     "iopub.status.idle": "2025-01-01T09:21:27.929289Z",
     "shell.execute_reply": "2025-01-01T09:21:27.928174Z",
     "shell.execute_reply.started": "2025-01-01T09:21:27.911878Z"
    },
    "trusted": true
   },
   "outputs": [
    {
     "data": {
      "text/plain": [
       "Index(['year', 'assembly', 'aap', 'position_aap', 'votes_aap', 'bjp',\n",
       "       'position_bjp', 'votes_bjp', 'valid_votes', 'total_electors',\n",
       "       'turnout_percentage', 'margin(m1)', 'margin(m1)_percentage',\n",
       "       'vote_split_amongst_other_candidates(m2)', 'margin(m1-m2)',\n",
       "       'margin(m1-m2)_percentage'],\n",
       "      dtype='object')"
      ]
     },
     "execution_count": 277,
     "metadata": {},
     "output_type": "execute_result"
    }
   ],
   "source": [
    "# Renaming columns\n",
    "delhi_election_df.columns = [\n",
    "    'Year', 'Assembly', 'AAP', 'position_aap', 'votes_aap', 'BJP', 'position_bjp',\n",
    "    'votes_bjp', 'Valid Votes', 'Total Electors', 'Turnout Percentage',\n",
    "    'Margin(M1)', 'Margin(M1) Percentage', 'Vote Split Amongst Other Candidates(M2)',\n",
    "    'Margin(M1-M2)', 'Margin(M1-M2) Percentage'\n",
    "]\n",
    "\n",
    "# Checking the columns name\n",
    "delhi_election_df.columns = delhi_election_df.columns.str.lower().str.replace(\" \", \"_\")\n",
    "delhi_election_df.columns"
   ]
  },
  {
   "cell_type": "code",
   "execution_count": 278,
   "metadata": {
    "execution": {
     "iopub.execute_input": "2025-01-01T09:21:27.930850Z",
     "iopub.status.busy": "2025-01-01T09:21:27.930538Z",
     "iopub.status.idle": "2025-01-01T09:21:27.953758Z",
     "shell.execute_reply": "2025-01-01T09:21:27.952673Z",
     "shell.execute_reply.started": "2025-01-01T09:21:27.930811Z"
    },
    "trusted": true
   },
   "outputs": [
    {
     "data": {
      "text/plain": [
       "year\n",
       "2013    70\n",
       "2015    70\n",
       "2020    70\n",
       "Name: assembly, dtype: int64"
      ]
     },
     "execution_count": 278,
     "metadata": {},
     "output_type": "execute_result"
    }
   ],
   "source": [
    "## checking the data\n",
    "\n",
    "delhi_election_df.groupby(['year'])['assembly'].count()"
   ]
  },
  {
   "cell_type": "code",
   "execution_count": 279,
   "metadata": {
    "execution": {
     "iopub.execute_input": "2025-01-01T09:21:27.954973Z",
     "iopub.status.busy": "2025-01-01T09:21:27.954664Z",
     "iopub.status.idle": "2025-01-01T09:21:27.984309Z",
     "shell.execute_reply": "2025-01-01T09:21:27.983330Z",
     "shell.execute_reply.started": "2025-01-01T09:21:27.954947Z"
    },
    "trusted": true
   },
   "outputs": [
    {
     "data": {
      "text/html": [
       "<div>\n",
       "<style scoped>\n",
       "    .dataframe tbody tr th:only-of-type {\n",
       "        vertical-align: middle;\n",
       "    }\n",
       "\n",
       "    .dataframe tbody tr th {\n",
       "        vertical-align: top;\n",
       "    }\n",
       "\n",
       "    .dataframe thead th {\n",
       "        text-align: right;\n",
       "    }\n",
       "</style>\n",
       "<table border=\"1\" class=\"dataframe\">\n",
       "  <thead>\n",
       "    <tr style=\"text-align: right;\">\n",
       "      <th></th>\n",
       "      <th>position_aap</th>\n",
       "      <th>position_bjp</th>\n",
       "      <th>winner_party</th>\n",
       "    </tr>\n",
       "  </thead>\n",
       "  <tbody>\n",
       "    <tr>\n",
       "      <th>140</th>\n",
       "      <td>4</td>\n",
       "      <td>1.0</td>\n",
       "      <td>BJP</td>\n",
       "    </tr>\n",
       "    <tr>\n",
       "      <th>141</th>\n",
       "      <td>1</td>\n",
       "      <td>2.0</td>\n",
       "      <td>AAP</td>\n",
       "    </tr>\n",
       "    <tr>\n",
       "      <th>142</th>\n",
       "      <td>1</td>\n",
       "      <td>2.0</td>\n",
       "      <td>AAP</td>\n",
       "    </tr>\n",
       "    <tr>\n",
       "      <th>143</th>\n",
       "      <td>2</td>\n",
       "      <td>1.0</td>\n",
       "      <td>BJP</td>\n",
       "    </tr>\n",
       "    <tr>\n",
       "      <th>144</th>\n",
       "      <td>3</td>\n",
       "      <td>2.0</td>\n",
       "      <td>Others</td>\n",
       "    </tr>\n",
       "    <tr>\n",
       "      <th>...</th>\n",
       "      <td>...</td>\n",
       "      <td>...</td>\n",
       "      <td>...</td>\n",
       "    </tr>\n",
       "    <tr>\n",
       "      <th>205</th>\n",
       "      <td>3</td>\n",
       "      <td>1.0</td>\n",
       "      <td>BJP</td>\n",
       "    </tr>\n",
       "    <tr>\n",
       "      <th>206</th>\n",
       "      <td>3</td>\n",
       "      <td>1.0</td>\n",
       "      <td>BJP</td>\n",
       "    </tr>\n",
       "    <tr>\n",
       "      <th>207</th>\n",
       "      <td>3</td>\n",
       "      <td>1.0</td>\n",
       "      <td>BJP</td>\n",
       "    </tr>\n",
       "    <tr>\n",
       "      <th>208</th>\n",
       "      <td>3</td>\n",
       "      <td>2.0</td>\n",
       "      <td>Others</td>\n",
       "    </tr>\n",
       "    <tr>\n",
       "      <th>209</th>\n",
       "      <td>2</td>\n",
       "      <td>1.0</td>\n",
       "      <td>BJP</td>\n",
       "    </tr>\n",
       "  </tbody>\n",
       "</table>\n",
       "<p>70 rows × 3 columns</p>\n",
       "</div>"
      ],
      "text/plain": [
       "     position_aap  position_bjp winner_party\n",
       "140             4           1.0          BJP\n",
       "141             1           2.0          AAP\n",
       "142             1           2.0          AAP\n",
       "143             2           1.0          BJP\n",
       "144             3           2.0       Others\n",
       "..            ...           ...          ...\n",
       "205             3           1.0          BJP\n",
       "206             3           1.0          BJP\n",
       "207             3           1.0          BJP\n",
       "208             3           2.0       Others\n",
       "209             2           1.0          BJP\n",
       "\n",
       "[70 rows x 3 columns]"
      ]
     },
     "execution_count": 279,
     "metadata": {},
     "output_type": "execute_result"
    }
   ],
   "source": [
    "## writing a function to create column of the winner Party\n",
    "\n",
    "delhi_election_df['winner_party'] = delhi_election_df.apply(\n",
    "    lambda row : 'AAP' if row['position_aap'] == 1 else ('BJP' if row['position_bjp'] == 1 else 'Others')\n",
    "    , axis = 1\n",
    ")\n",
    "\n",
    "## checking the final results\n",
    "delhi_election_df[delhi_election_df['year'] == 2013][['position_aap', 'position_bjp', 'winner_party']]\n"
   ]
  },
  {
   "cell_type": "code",
   "execution_count": 280,
   "metadata": {
    "execution": {
     "iopub.execute_input": "2025-01-01T09:21:27.985618Z",
     "iopub.status.busy": "2025-01-01T09:21:27.985258Z",
     "iopub.status.idle": "2025-01-01T09:21:28.009845Z",
     "shell.execute_reply": "2025-01-01T09:21:28.008788Z",
     "shell.execute_reply.started": "2025-01-01T09:21:27.985583Z"
    },
    "trusted": true
   },
   "outputs": [
    {
     "data": {
      "text/plain": [
       "year  winner_party\n",
       "2013  AAP             28\n",
       "      BJP             31\n",
       "      Others          11\n",
       "2015  AAP             67\n",
       "      BJP              3\n",
       "2020  AAP             62\n",
       "      BJP              8\n",
       "Name: year, dtype: int64"
      ]
     },
     "execution_count": 280,
     "metadata": {},
     "output_type": "execute_result"
    }
   ],
   "source": [
    "## checking all combination of winners accross all years\n",
    "delhi_election_df.groupby(['year', 'winner_party'])['year'].count()"
   ]
  },
  {
   "cell_type": "code",
   "execution_count": 281,
   "metadata": {},
   "outputs": [
    {
     "data": {
      "text/html": [
       "<div>\n",
       "<style scoped>\n",
       "    .dataframe tbody tr th:only-of-type {\n",
       "        vertical-align: middle;\n",
       "    }\n",
       "\n",
       "    .dataframe tbody tr th {\n",
       "        vertical-align: top;\n",
       "    }\n",
       "\n",
       "    .dataframe thead th {\n",
       "        text-align: right;\n",
       "    }\n",
       "</style>\n",
       "<table border=\"1\" class=\"dataframe\">\n",
       "  <thead>\n",
       "    <tr style=\"text-align: right;\">\n",
       "      <th></th>\n",
       "      <th>year</th>\n",
       "      <th>assembly</th>\n",
       "      <th>aap</th>\n",
       "      <th>position_aap</th>\n",
       "      <th>votes_aap</th>\n",
       "      <th>bjp</th>\n",
       "      <th>position_bjp</th>\n",
       "      <th>votes_bjp</th>\n",
       "      <th>valid_votes</th>\n",
       "      <th>total_electors</th>\n",
       "      <th>turnout_percentage</th>\n",
       "      <th>margin(m1)</th>\n",
       "      <th>margin(m1)_percentage</th>\n",
       "      <th>vote_split_amongst_other_candidates(m2)</th>\n",
       "      <th>margin(m1-m2)</th>\n",
       "      <th>margin(m1-m2)_percentage</th>\n",
       "      <th>winner_party</th>\n",
       "    </tr>\n",
       "  </thead>\n",
       "  <tbody>\n",
       "    <tr>\n",
       "      <th>0</th>\n",
       "      <td>2020</td>\n",
       "      <td>NERELA</td>\n",
       "      <td>SHARAD KUMAR</td>\n",
       "      <td>1</td>\n",
       "      <td>86,262</td>\n",
       "      <td>NEEL DAMAN KHATRI</td>\n",
       "      <td>2.0</td>\n",
       "      <td>68,833</td>\n",
       "      <td>165,694</td>\n",
       "      <td>253,982</td>\n",
       "      <td>65.24</td>\n",
       "      <td>17,429</td>\n",
       "      <td>11%</td>\n",
       "      <td>10,603</td>\n",
       "      <td>6,826</td>\n",
       "      <td>4%</td>\n",
       "      <td>AAP</td>\n",
       "    </tr>\n",
       "    <tr>\n",
       "      <th>1</th>\n",
       "      <td>2020</td>\n",
       "      <td>BURARI</td>\n",
       "      <td>SANJEEV JHA</td>\n",
       "      <td>1</td>\n",
       "      <td>139,598</td>\n",
       "      <td>NaN</td>\n",
       "      <td>NaN</td>\n",
       "      <td>NaN</td>\n",
       "      <td>222,256</td>\n",
       "      <td>361,703</td>\n",
       "      <td>61.45</td>\n",
       "      <td>NaN</td>\n",
       "      <td>NaN</td>\n",
       "      <td>NaN</td>\n",
       "      <td>NaN</td>\n",
       "      <td>NaN</td>\n",
       "      <td>AAP</td>\n",
       "    </tr>\n",
       "    <tr>\n",
       "      <th>2</th>\n",
       "      <td>2020</td>\n",
       "      <td>TIMARPUR</td>\n",
       "      <td>DILIP PANDEY</td>\n",
       "      <td>1</td>\n",
       "      <td>71,432</td>\n",
       "      <td>SURINDER PAL SINGH (BITTOO)</td>\n",
       "      <td>2.0</td>\n",
       "      <td>47,288</td>\n",
       "      <td>124,011</td>\n",
       "      <td>203,599</td>\n",
       "      <td>60.91</td>\n",
       "      <td>24,144</td>\n",
       "      <td>19%</td>\n",
       "      <td>5,292</td>\n",
       "      <td>18,852</td>\n",
       "      <td>15%</td>\n",
       "      <td>AAP</td>\n",
       "    </tr>\n",
       "    <tr>\n",
       "      <th>3</th>\n",
       "      <td>2020</td>\n",
       "      <td>ADARSH NAGAR</td>\n",
       "      <td>PAWAN SHARMA</td>\n",
       "      <td>1</td>\n",
       "      <td>46,892</td>\n",
       "      <td>RAJ KUMAR BHATIA</td>\n",
       "      <td>2.0</td>\n",
       "      <td>45,303</td>\n",
       "      <td>103,752</td>\n",
       "      <td>173,416</td>\n",
       "      <td>59.83</td>\n",
       "      <td>1,589</td>\n",
       "      <td>2%</td>\n",
       "      <td>11,560</td>\n",
       "      <td>-9,971</td>\n",
       "      <td>-10%</td>\n",
       "      <td>AAP</td>\n",
       "    </tr>\n",
       "    <tr>\n",
       "      <th>4</th>\n",
       "      <td>2020</td>\n",
       "      <td>BADLI</td>\n",
       "      <td>AJESH YADAV</td>\n",
       "      <td>1</td>\n",
       "      <td>69,357</td>\n",
       "      <td>VIJAY KUMAR BHAGAT</td>\n",
       "      <td>2.0</td>\n",
       "      <td>40,234</td>\n",
       "      <td>139,638</td>\n",
       "      <td>219,941</td>\n",
       "      <td>63.49</td>\n",
       "      <td>29,123</td>\n",
       "      <td>21%</td>\n",
       "      <td>30,050</td>\n",
       "      <td>-927</td>\n",
       "      <td>-1%</td>\n",
       "      <td>AAP</td>\n",
       "    </tr>\n",
       "    <tr>\n",
       "      <th>...</th>\n",
       "      <td>...</td>\n",
       "      <td>...</td>\n",
       "      <td>...</td>\n",
       "      <td>...</td>\n",
       "      <td>...</td>\n",
       "      <td>...</td>\n",
       "      <td>...</td>\n",
       "      <td>...</td>\n",
       "      <td>...</td>\n",
       "      <td>...</td>\n",
       "      <td>...</td>\n",
       "      <td>...</td>\n",
       "      <td>...</td>\n",
       "      <td>...</td>\n",
       "      <td>...</td>\n",
       "      <td>...</td>\n",
       "      <td>...</td>\n",
       "    </tr>\n",
       "    <tr>\n",
       "      <th>205</th>\n",
       "      <td>2013</td>\n",
       "      <td>GHONDA</td>\n",
       "      <td>DATARAM</td>\n",
       "      <td>3</td>\n",
       "      <td>23,621</td>\n",
       "      <td>SAHAB SINGH CHAUHAN</td>\n",
       "      <td>1.0</td>\n",
       "      <td>47,531</td>\n",
       "      <td>121,098</td>\n",
       "      <td>184,840</td>\n",
       "      <td>65.52</td>\n",
       "      <td>23,910</td>\n",
       "      <td>20%</td>\n",
       "      <td>49,955</td>\n",
       "      <td>-26,045</td>\n",
       "      <td>-22%</td>\n",
       "      <td>BJP</td>\n",
       "    </tr>\n",
       "    <tr>\n",
       "      <th>206</th>\n",
       "      <td>2013</td>\n",
       "      <td>BABARPUR</td>\n",
       "      <td>GOPAL RAI</td>\n",
       "      <td>3</td>\n",
       "      <td>25,723</td>\n",
       "      <td>NARESH GAUR</td>\n",
       "      <td>1.0</td>\n",
       "      <td>34,180</td>\n",
       "      <td>114,976</td>\n",
       "      <td>174,496</td>\n",
       "      <td>65.89</td>\n",
       "      <td>8,457</td>\n",
       "      <td>7%</td>\n",
       "      <td>55,072</td>\n",
       "      <td>-46,615</td>\n",
       "      <td>-41%</td>\n",
       "      <td>BJP</td>\n",
       "    </tr>\n",
       "    <tr>\n",
       "      <th>207</th>\n",
       "      <td>2013</td>\n",
       "      <td>GOKALPUR</td>\n",
       "      <td>DEVI DAYAL</td>\n",
       "      <td>3</td>\n",
       "      <td>29,633</td>\n",
       "      <td>RANJEET SINGH</td>\n",
       "      <td>1.0</td>\n",
       "      <td>34,888</td>\n",
       "      <td>128,054</td>\n",
       "      <td>178,740</td>\n",
       "      <td>71.64</td>\n",
       "      <td>5,255</td>\n",
       "      <td>4%</td>\n",
       "      <td>63,528</td>\n",
       "      <td>-58,273</td>\n",
       "      <td>-46%</td>\n",
       "      <td>BJP</td>\n",
       "    </tr>\n",
       "    <tr>\n",
       "      <th>208</th>\n",
       "      <td>2013</td>\n",
       "      <td>MUSTAFABAD</td>\n",
       "      <td>KAPIL DHAMA</td>\n",
       "      <td>3</td>\n",
       "      <td>19,759</td>\n",
       "      <td>JAGDISH PRADHAN</td>\n",
       "      <td>2.0</td>\n",
       "      <td>54,354</td>\n",
       "      <td>147,082</td>\n",
       "      <td>204,982</td>\n",
       "      <td>71.75</td>\n",
       "      <td>34,595</td>\n",
       "      <td>24%</td>\n",
       "      <td>72,962</td>\n",
       "      <td>-38,367</td>\n",
       "      <td>-26%</td>\n",
       "      <td>Others</td>\n",
       "    </tr>\n",
       "    <tr>\n",
       "      <th>209</th>\n",
       "      <td>2013</td>\n",
       "      <td>KARAWAL NAGAR</td>\n",
       "      <td>KAPIL MISHRA</td>\n",
       "      <td>2</td>\n",
       "      <td>46,179</td>\n",
       "      <td>MOHAN SINGH BISHT</td>\n",
       "      <td>1.0</td>\n",
       "      <td>49,262</td>\n",
       "      <td>142,209</td>\n",
       "      <td>207,924</td>\n",
       "      <td>68.39</td>\n",
       "      <td>3,083</td>\n",
       "      <td>2%</td>\n",
       "      <td>46,758</td>\n",
       "      <td>-43,675</td>\n",
       "      <td>-31%</td>\n",
       "      <td>BJP</td>\n",
       "    </tr>\n",
       "  </tbody>\n",
       "</table>\n",
       "<p>210 rows × 17 columns</p>\n",
       "</div>"
      ],
      "text/plain": [
       "     year       assembly           aap  position_aap votes_aap  \\\n",
       "0    2020         NERELA  SHARAD KUMAR             1    86,262   \n",
       "1    2020         BURARI   SANJEEV JHA             1   139,598   \n",
       "2    2020       TIMARPUR  DILIP PANDEY             1    71,432   \n",
       "3    2020   ADARSH NAGAR  PAWAN SHARMA             1    46,892   \n",
       "4    2020          BADLI   AJESH YADAV             1    69,357   \n",
       "..    ...            ...           ...           ...       ...   \n",
       "205  2013         GHONDA       DATARAM             3    23,621   \n",
       "206  2013       BABARPUR     GOPAL RAI             3    25,723   \n",
       "207  2013       GOKALPUR    DEVI DAYAL             3    29,633   \n",
       "208  2013     MUSTAFABAD   KAPIL DHAMA             3    19,759   \n",
       "209  2013  KARAWAL NAGAR  KAPIL MISHRA             2    46,179   \n",
       "\n",
       "                             bjp  position_bjp votes_bjp valid_votes  \\\n",
       "0              NEEL DAMAN KHATRI           2.0    68,833     165,694   \n",
       "1                            NaN           NaN       NaN     222,256   \n",
       "2    SURINDER PAL SINGH (BITTOO)           2.0    47,288     124,011   \n",
       "3               RAJ KUMAR BHATIA           2.0    45,303     103,752   \n",
       "4             VIJAY KUMAR BHAGAT           2.0    40,234     139,638   \n",
       "..                           ...           ...       ...         ...   \n",
       "205          SAHAB SINGH CHAUHAN           1.0    47,531     121,098   \n",
       "206                  NARESH GAUR           1.0    34,180     114,976   \n",
       "207                RANJEET SINGH           1.0    34,888     128,054   \n",
       "208              JAGDISH PRADHAN           2.0    54,354     147,082   \n",
       "209            MOHAN SINGH BISHT           1.0    49,262     142,209   \n",
       "\n",
       "    total_electors  turnout_percentage margin(m1) margin(m1)_percentage  \\\n",
       "0          253,982               65.24     17,429                   11%   \n",
       "1          361,703               61.45        NaN                   NaN   \n",
       "2          203,599               60.91     24,144                   19%   \n",
       "3          173,416               59.83      1,589                    2%   \n",
       "4          219,941               63.49     29,123                   21%   \n",
       "..             ...                 ...        ...                   ...   \n",
       "205        184,840               65.52     23,910                   20%   \n",
       "206        174,496               65.89      8,457                    7%   \n",
       "207        178,740               71.64      5,255                    4%   \n",
       "208        204,982               71.75     34,595                   24%   \n",
       "209        207,924               68.39      3,083                    2%   \n",
       "\n",
       "    vote_split_amongst_other_candidates(m2) margin(m1-m2)  \\\n",
       "0                                    10,603         6,826   \n",
       "1                                       NaN           NaN   \n",
       "2                                     5,292        18,852   \n",
       "3                                    11,560        -9,971   \n",
       "4                                    30,050          -927   \n",
       "..                                      ...           ...   \n",
       "205                                  49,955       -26,045   \n",
       "206                                  55,072       -46,615   \n",
       "207                                  63,528       -58,273   \n",
       "208                                  72,962       -38,367   \n",
       "209                                  46,758       -43,675   \n",
       "\n",
       "    margin(m1-m2)_percentage winner_party  \n",
       "0                         4%          AAP  \n",
       "1                        NaN          AAP  \n",
       "2                        15%          AAP  \n",
       "3                       -10%          AAP  \n",
       "4                        -1%          AAP  \n",
       "..                       ...          ...  \n",
       "205                     -22%          BJP  \n",
       "206                     -41%          BJP  \n",
       "207                     -46%          BJP  \n",
       "208                     -26%       Others  \n",
       "209                     -31%          BJP  \n",
       "\n",
       "[210 rows x 17 columns]"
      ]
     },
     "execution_count": 281,
     "metadata": {},
     "output_type": "execute_result"
    }
   ],
   "source": [
    "delhi_election_df"
   ]
  },
  {
   "cell_type": "code",
   "execution_count": 282,
   "metadata": {},
   "outputs": [],
   "source": [
    "## converting to numeric\n",
    "\n",
    "# delhi_election_df['votes_aap'] = pd.to_numeric(delhi_election_df['votes_aap'], errors='coerce')\n",
    "# delhi_election_df['votes_bjp'] = pd.to_numeric(delhi_election_df['votes_bjp'], errors='coerce')\n",
    "# delhi_election_df['vote_split_amongst_other_candidates(m2)'] = pd.to_numeric(delhi_election_df['vote_split_amongst_other_candidates(m2)'], errors='coerce')"
   ]
  },
  {
   "cell_type": "markdown",
   "metadata": {},
   "source": [
    "--------------------------\n",
    "\n",
    "## EDA \n",
    "\n",
    "-------------------------"
   ]
  },
  {
   "cell_type": "markdown",
   "metadata": {},
   "source": [
    "### Analysing Trends of Vote Share"
   ]
  },
  {
   "cell_type": "code",
   "execution_count": 283,
   "metadata": {
    "execution": {
     "iopub.execute_input": "2025-01-01T09:21:28.011208Z",
     "iopub.status.busy": "2025-01-01T09:21:28.010880Z",
     "iopub.status.idle": "2025-01-01T09:21:28.025613Z",
     "shell.execute_reply": "2025-01-01T09:21:28.024533Z",
     "shell.execute_reply.started": "2025-01-01T09:21:28.011181Z"
    },
    "trusted": true
   },
   "outputs": [
    {
     "data": {
      "application/vnd.plotly.v1+json": {
       "config": {
        "plotlyServerURL": "https://plot.ly"
       },
       "data": [
        {
         "alignmentgroup": "True",
         "hovertemplate": "Party=AAP<br>Year=%{x}<br>Votes=%{text}<extra></extra>",
         "legendgroup": "AAP",
         "marker": {
          "color": "#000001",
          "pattern": {
           "shape": ""
          }
         },
         "name": "AAP",
         "offsetgroup": "AAP",
         "orientation": "v",
         "showlegend": true,
         "text": [
          46892,
          54026,
          26842
         ],
         "textposition": "outside",
         "texttemplate": "%{text:.0f}",
         "type": "bar",
         "x": [
          2020,
          2015,
          2013
         ],
         "xaxis": "x",
         "y": [
          46892,
          54026,
          26842
         ],
         "yaxis": "y"
        },
        {
         "alignmentgroup": "True",
         "hovertemplate": "Party=BJP<br>Year=%{x}<br>Votes=%{text}<extra></extra>",
         "legendgroup": "BJP",
         "marker": {
          "color": "#000002",
          "pattern": {
           "shape": ""
          }
         },
         "name": "BJP",
         "offsetgroup": "BJP",
         "orientation": "v",
         "showlegend": true,
         "text": [
          45303,
          33285,
          36765
         ],
         "textposition": "outside",
         "texttemplate": "%{text:.0f}",
         "type": "bar",
         "x": [
          2020,
          2015,
          2013
         ],
         "xaxis": "x",
         "y": [
          45303,
          33285,
          36765
         ],
         "yaxis": "y"
        },
        {
         "alignmentgroup": "True",
         "hovertemplate": "Party=Others<br>Year=%{x}<br>Votes=%{text}<extra></extra>",
         "legendgroup": "Others",
         "marker": {
          "color": "#000003",
          "pattern": {
           "shape": ""
          }
         },
         "name": "Others",
         "offsetgroup": "Others",
         "orientation": "v",
         "showlegend": true,
         "text": [
          11560,
          17876,
          33095
         ],
         "textposition": "outside",
         "texttemplate": "%{text:.0f}",
         "type": "bar",
         "x": [
          2020,
          2015,
          2013
         ],
         "xaxis": "x",
         "y": [
          11560,
          17876,
          33095
         ],
         "yaxis": "y"
        }
       ],
       "layout": {
        "barmode": "group",
        "height": 600,
        "legend": {
         "title": {
          "text": "Party"
         },
         "tracegroupgap": 0
        },
        "template": {
         "data": {
          "candlestick": [
           {
            "decreasing": {
             "line": {
              "color": "#000033"
             }
            },
            "increasing": {
             "line": {
              "color": "#000032"
             }
            },
            "type": "candlestick"
           }
          ],
          "contour": [
           {
            "colorscale": [
             [
              0,
              "#000011"
             ],
             [
              0.1111111111111111,
              "#000012"
             ],
             [
              0.2222222222222222,
              "#000013"
             ],
             [
              0.3333333333333333,
              "#000014"
             ],
             [
              0.4444444444444444,
              "#000015"
             ],
             [
              0.5555555555555556,
              "#000016"
             ],
             [
              0.6666666666666666,
              "#000017"
             ],
             [
              0.7777777777777778,
              "#000018"
             ],
             [
              0.8888888888888888,
              "#000019"
             ],
             [
              1,
              "#000020"
             ]
            ],
            "type": "contour"
           }
          ],
          "contourcarpet": [
           {
            "colorscale": [
             [
              0,
              "#000011"
             ],
             [
              0.1111111111111111,
              "#000012"
             ],
             [
              0.2222222222222222,
              "#000013"
             ],
             [
              0.3333333333333333,
              "#000014"
             ],
             [
              0.4444444444444444,
              "#000015"
             ],
             [
              0.5555555555555556,
              "#000016"
             ],
             [
              0.6666666666666666,
              "#000017"
             ],
             [
              0.7777777777777778,
              "#000018"
             ],
             [
              0.8888888888888888,
              "#000019"
             ],
             [
              1,
              "#000020"
             ]
            ],
            "type": "contourcarpet"
           }
          ],
          "heatmap": [
           {
            "colorscale": [
             [
              0,
              "#000011"
             ],
             [
              0.1111111111111111,
              "#000012"
             ],
             [
              0.2222222222222222,
              "#000013"
             ],
             [
              0.3333333333333333,
              "#000014"
             ],
             [
              0.4444444444444444,
              "#000015"
             ],
             [
              0.5555555555555556,
              "#000016"
             ],
             [
              0.6666666666666666,
              "#000017"
             ],
             [
              0.7777777777777778,
              "#000018"
             ],
             [
              0.8888888888888888,
              "#000019"
             ],
             [
              1,
              "#000020"
             ]
            ],
            "type": "heatmap"
           }
          ],
          "histogram2d": [
           {
            "colorscale": [
             [
              0,
              "#000011"
             ],
             [
              0.1111111111111111,
              "#000012"
             ],
             [
              0.2222222222222222,
              "#000013"
             ],
             [
              0.3333333333333333,
              "#000014"
             ],
             [
              0.4444444444444444,
              "#000015"
             ],
             [
              0.5555555555555556,
              "#000016"
             ],
             [
              0.6666666666666666,
              "#000017"
             ],
             [
              0.7777777777777778,
              "#000018"
             ],
             [
              0.8888888888888888,
              "#000019"
             ],
             [
              1,
              "#000020"
             ]
            ],
            "type": "histogram2d"
           }
          ],
          "icicle": [
           {
            "textfont": {
             "color": "white"
            },
            "type": "icicle"
           }
          ],
          "sankey": [
           {
            "textfont": {
             "color": "#000036"
            },
            "type": "sankey"
           }
          ],
          "scatter": [
           {
            "marker": {
             "line": {
              "width": 0
             }
            },
            "type": "scatter"
           }
          ],
          "table": [
           {
            "cells": {
             "fill": {
              "color": "#000038"
             },
             "font": {
              "color": "#000037"
             },
             "line": {
              "color": "#000039"
             }
            },
            "header": {
             "fill": {
              "color": "#000040"
             },
             "font": {
              "color": "#000036"
             },
             "line": {
              "color": "#000039"
             }
            },
            "type": "table"
           }
          ],
          "waterfall": [
           {
            "connector": {
             "line": {
              "color": "#000036",
              "width": 2
             }
            },
            "decreasing": {
             "marker": {
              "color": "#000033"
             }
            },
            "increasing": {
             "marker": {
              "color": "#000032"
             }
            },
            "totals": {
             "marker": {
              "color": "#000034"
             }
            },
            "type": "waterfall"
           }
          ]
         },
         "layout": {
          "coloraxis": {
           "colorscale": [
            [
             0,
             "#000011"
            ],
            [
             0.1111111111111111,
             "#000012"
            ],
            [
             0.2222222222222222,
             "#000013"
            ],
            [
             0.3333333333333333,
             "#000014"
            ],
            [
             0.4444444444444444,
             "#000015"
            ],
            [
             0.5555555555555556,
             "#000016"
            ],
            [
             0.6666666666666666,
             "#000017"
            ],
            [
             0.7777777777777778,
             "#000018"
            ],
            [
             0.8888888888888888,
             "#000019"
            ],
            [
             1,
             "#000020"
            ]
           ]
          },
          "colorscale": {
           "diverging": [
            [
             0,
             "#000021"
            ],
            [
             0.1,
             "#000022"
            ],
            [
             0.2,
             "#000023"
            ],
            [
             0.3,
             "#000024"
            ],
            [
             0.4,
             "#000025"
            ],
            [
             0.5,
             "#000026"
            ],
            [
             0.6,
             "#000027"
            ],
            [
             0.7,
             "#000028"
            ],
            [
             0.8,
             "#000029"
            ],
            [
             0.9,
             "#000030"
            ],
            [
             1,
             "#000031"
            ]
           ],
           "sequential": [
            [
             0,
             "#000011"
            ],
            [
             0.1111111111111111,
             "#000012"
            ],
            [
             0.2222222222222222,
             "#000013"
            ],
            [
             0.3333333333333333,
             "#000014"
            ],
            [
             0.4444444444444444,
             "#000015"
            ],
            [
             0.5555555555555556,
             "#000016"
            ],
            [
             0.6666666666666666,
             "#000017"
            ],
            [
             0.7777777777777778,
             "#000018"
            ],
            [
             0.8888888888888888,
             "#000019"
            ],
            [
             1,
             "#000020"
            ]
           ],
           "sequentialminus": [
            [
             0,
             "#000011"
            ],
            [
             0.1111111111111111,
             "#000012"
            ],
            [
             0.2222222222222222,
             "#000013"
            ],
            [
             0.3333333333333333,
             "#000014"
            ],
            [
             0.4444444444444444,
             "#000015"
            ],
            [
             0.5555555555555556,
             "#000016"
            ],
            [
             0.6666666666666666,
             "#000017"
            ],
            [
             0.7777777777777778,
             "#000018"
            ],
            [
             0.8888888888888888,
             "#000019"
            ],
            [
             1,
             "#000020"
            ]
           ]
          },
          "colorway": [
           "#000001",
           "#000002",
           "#000003",
           "#000004",
           "#000005",
           "#000006",
           "#000007",
           "#000008",
           "#000009",
           "#000010"
          ]
         }
        },
        "title": {
         "text": "Votes Distribution for Assembly: ADARSH NAGAR"
        },
        "width": 900,
        "xaxis": {
         "anchor": "y",
         "domain": [
          0,
          1
         ],
         "tickvals": [
          2013,
          2015,
          2020
         ],
         "title": {
          "text": "Year"
         }
        },
        "yaxis": {
         "anchor": "x",
         "domain": [
          0,
          1
         ],
         "title": {
          "text": "Votes"
         }
        }
       }
      }
     },
     "metadata": {},
     "output_type": "display_data"
    },
    {
     "data": {
      "application/vnd.jupyter.widget-view+json": {
       "model_id": "0f13241b86aa483cb22599bcf3eb4622",
       "version_major": 2,
       "version_minor": 0
      },
      "text/plain": [
       "interactive(children=(Dropdown(description='assembly', options=('ADARSH NAGAR', 'AMBEDKAR NAGAR', 'BABARPUR', …"
      ]
     },
     "metadata": {},
     "output_type": "display_data"
    },
    {
     "data": {
      "text/plain": [
       "<function __main__.<lambda>(assembly)>"
      ]
     },
     "execution_count": 283,
     "metadata": {},
     "output_type": "execute_result"
    }
   ],
   "source": [
    "## visualize the trends of votes in bar chart yoy assemblywise for three winner splits, what I want is to plot the votes of AAP, BJP and Others in each assembly for each year\n",
    "\n",
    "# Data cleaning: Convert vote columns to numeric, handling errors\n",
    "for col in ['votes_aap', 'votes_bjp', 'vote_split_amongst_other_candidates(m2)']:\n",
    "    delhi_election_df[col] = (\n",
    "        delhi_election_df[col]\n",
    "        .astype(str)\n",
    "        .str.replace(',', '')  # Remove commas\n",
    "        .replace('#VALUE!', '0')  # Replace #VALUE! with 0\n",
    "        .astype(float)  # Convert to float\n",
    "    )\n",
    "\n",
    "# Fill missing values with 0 for simplicity\n",
    "delhi_election_df.fillna(0, inplace=True)\n",
    "\n",
    "# Melt the data for easier plotting\n",
    "data_melted = delhi_election_df.melt(\n",
    "    id_vars=['year', 'assembly'], \n",
    "    value_vars=['votes_aap', 'votes_bjp', 'vote_split_amongst_other_candidates(m2)'],\n",
    "    var_name='party', \n",
    "    value_name='votes'\n",
    ")\n",
    "\n",
    "# Map party names\n",
    "party_mapping = {\n",
    "    'votes_aap': 'AAP',\n",
    "    'votes_bjp': 'BJP',\n",
    "    'vote_split_amongst_other_candidates(m2)': 'Others'\n",
    "}\n",
    "data_melted['party'] = data_melted['party'].map(party_mapping)\n",
    "\n",
    "# Create a dropdown-based interactive plot\n",
    "def create_plot(selected_assembly):\n",
    "    # Filter data for the selected assembly\n",
    "    filtered_data = data_melted[data_melted['assembly'] == selected_assembly]\n",
    "    \n",
    "    # Create the bar plot\n",
    "    fig = px.bar(\n",
    "        filtered_data,\n",
    "        x='year',\n",
    "        y='votes',\n",
    "        color='party',\n",
    "        barmode='group',\n",
    "        text='votes',\n",
    "        labels={'votes': 'Votes', 'year': 'Year', 'party': 'Party'},\n",
    "        title=f\"Votes Distribution for Assembly: {selected_assembly}\"\n",
    "    )\n",
    "    \n",
    "    # Update layout for better visuals\n",
    "    fig.update_traces(texttemplate='%{text:.0f}', textposition='outside')\n",
    "    fig.update_layout(\n",
    "        xaxis=dict(title=\"Year\", tickvals=[2013, 2015, 2020]),\n",
    "        yaxis=dict(title=\"Votes\"),\n",
    "        barmode='group',\n",
    "        height=600,\n",
    "        width=900,\n",
    "        legend_title=\"Party\"\n",
    "    )\n",
    "    return fig\n",
    "\n",
    "# # Default plot for the first assembly\n",
    "assembly_list = sorted(delhi_election_df['assembly'].unique())\n",
    "# default_assembly = assembly_list[0]\n",
    "# fig = create_plot(default_assembly)\n",
    "\n",
    "# Display dropdown to select assembly\n",
    "from ipywidgets import interact\n",
    "interact(lambda assembly: create_plot(assembly).show(), assembly=assembly_list)"
   ]
  },
  {
   "cell_type": "code",
   "execution_count": 284,
   "metadata": {},
   "outputs": [
    {
     "data": {
      "image/png": "[encoded data removed]",
      "text/plain": [
       "<Figure size 1000x500 with 1 Axes>"
      ]
     },
     "metadata": {},
     "output_type": "display_data"
    }
   ],
   "source": [
    "## Line Chart for Vote Trends Over the Years\n",
    "def plot_line_chart():\n",
    "    plt.figure(figsize=(10, 5))\n",
    "\n",
    "    for party, color in zip(['votes_aap', 'votes_bjp', 'vote_split_amongst_other_candidates(m2)'], ['blue', 'orange', 'green']):\n",
    "        sns.lineplot(data=delhi_election_df, x='year', y=party, marker='o', label=party.split('_')[1].upper(), color=color)\n",
    "\n",
    "    plt.xlabel('Year')\n",
    "    plt.ylabel('Votes')\n",
    "    plt.title('Vote Trends Over the Years by Assembly')\n",
    "    plt.legend()\n",
    "    plt.tight_layout()\n",
    "    plt.show()\n",
    "\n",
    "# Line chart for vote trends\n",
    "plot_line_chart()\n"
   ]
  },
  {
   "cell_type": "code",
   "execution_count": 285,
   "metadata": {},
   "outputs": [
    {
     "data": {
      "image/png": "[encoded data removed]",
      "text/plain": [
       "<Figure size 1500x500 with 3 Axes>"
      ]
     },
     "metadata": {},
     "output_type": "display_data"
    }
   ],
   "source": [
    "## Pie Chart for Vote Distribution in a Specific Year\n",
    "\n",
    "def plot_pie_charts_for_multiple_years(years):\n",
    "    plt.figure(figsize=(15, 5))\n",
    "    \n",
    "    # Loop through the years and plot a pie chart for each\n",
    "    for i, year in enumerate(years, 1):\n",
    "        filtered_data = delhi_election_df[delhi_election_df['year'] == year]\n",
    "        if filtered_data.empty:\n",
    "            print(f\"No data found for year: {year}\")\n",
    "            continue\n",
    "\n",
    "        aggregated_votes = filtered_data[['votes_aap', 'votes_bjp', 'vote_split_amongst_other_candidates(m2)']].sum()\n",
    "\n",
    "        plt.subplot(1, 3, i)  # 1 row, 3 columns, i-th subplot\n",
    "        plt.pie(aggregated_votes, labels=['AAP', 'BJP', 'Others'], autopct='%1.1f%%', colors=['cyan', 'orange', 'green'])\n",
    "        plt.title(f'Vote Distribution in {year}')\n",
    "\n",
    "    plt.tight_layout()\n",
    "    plt.show()\n",
    "\n",
    "# Plot pie charts for years 2013, 2015, and 2020\n",
    "plot_pie_charts_for_multiple_years([2013, 2015, 2020])\n"
   ]
  },
  {
   "cell_type": "code",
   "execution_count": 286,
   "metadata": {},
   "outputs": [
    {
     "data": {
      "image/png": "[encoded data removed]",
      "text/plain": [
       "<Figure size 1000x800 with 2 Axes>"
      ]
     },
     "metadata": {},
     "output_type": "display_data"
    }
   ],
   "source": [
    "## Heatmap for Turnout Percentage Across Assemblies and Years\n",
    "def plot_heatmap():\n",
    "    # Correcting the pivot function usage\n",
    "    pivot_data = delhi_election_df.pivot(index='assembly', columns='year', values='votes_aap')  # 'votes_aap' as the metric for heatmap\n",
    "\n",
    "    plt.figure(figsize=(10, 8))\n",
    "    sns.heatmap(pivot_data, annot=False, fmt='.0f', cmap='coolwarm')\n",
    "    plt.title('Votes for AAP Across Assemblies and Years')\n",
    "    plt.xlabel('Year')\n",
    "    plt.ylabel('Assembly')\n",
    "    plt.tight_layout()\n",
    "    plt.show()\n",
    "\n",
    "# Heatmap for votes for AAP\n",
    "plot_heatmap()"
   ]
  },
  {
   "cell_type": "code",
   "execution_count": 287,
   "metadata": {},
   "outputs": [
    {
     "data": {
      "application/vnd.plotly.v1+json": {
       "config": {
        "plotlyServerURL": "https://plot.ly"
       },
       "data": [
        {
         "hovertemplate": "<b>%{hovertext}</b><br><br>assembly=NERELA<br>year=2020<br>Votes for AAP=%{x}<br>Votes for BJP=%{y}<br>vote_split_amongst_other_candidates(m2)=%{marker.size}<extra></extra>",
         "hovertext": [
          "NERELA"
         ],
         "legendgroup": "NERELA",
         "marker": {
          "color": "#636efa",
          "size": [
           10603
          ],
          "sizemode": "area",
          "sizeref": 226.9375,
          "symbol": "circle"
         },
         "mode": "markers",
         "name": "NERELA",
         "orientation": "v",
         "showlegend": true,
         "type": "scatter",
         "x": [
          86262
         ],
         "xaxis": "x",
         "y": [
          68833
         ],
         "yaxis": "y"
        },
        {
         "hovertemplate": "<b>%{hovertext}</b><br><br>assembly=BURARI<br>year=2020<br>Votes for AAP=%{x}<br>Votes for BJP=%{y}<br>vote_split_amongst_other_candidates(m2)=%{marker.size}<extra></extra>",
         "hovertext": [
          "BURARI"
         ],
         "legendgroup": "BURARI",
         "marker": {
          "color": "#EF553B",
          "size": [
           0
          ],
          "sizemode": "area",
          "sizeref": 226.9375,
          "symbol": "circle"
         },
         "mode": "markers",
         "name": "BURARI",
         "orientation": "v",
         "showlegend": true,
         "type": "scatter",
         "x": [
          139598
         ],
         "xaxis": "x",
         "y": [
          0
         ],
         "yaxis": "y"
        },
        {
         "hovertemplate": "<b>%{hovertext}</b><br><br>assembly=TIMARPUR<br>year=2020<br>Votes for AAP=%{x}<br>Votes for BJP=%{y}<br>vote_split_amongst_other_candidates(m2)=%{marker.size}<extra></extra>",
         "hovertext": [
          "TIMARPUR"
         ],
         "legendgroup": "TIMARPUR",
         "marker": {
          "color": "#00cc96",
          "size": [
           5292
          ],
          "sizemode": "area",
          "sizeref": 226.9375,
          "symbol": "circle"
         },
         "mode": "markers",
         "name": "TIMARPUR",
         "orientation": "v",
         "showlegend": true,
         "type": "scatter",
         "x": [
          71432
         ],
         "xaxis": "x",
         "y": [
          47288
         ],
         "yaxis": "y"
        },
        {
         "hovertemplate": "<b>%{hovertext}</b><br><br>assembly=ADARSH NAGAR<br>year=2020<br>Votes for AAP=%{x}<br>Votes for BJP=%{y}<br>vote_split_amongst_other_candidates(m2)=%{marker.size}<extra></extra>",
         "hovertext": [
          "ADARSH NAGAR"
         ],
         "legendgroup": "ADARSH NAGAR",
         "marker": {
          "color": "#ab63fa",
          "size": [
           11560
          ],
          "sizemode": "area",
          "sizeref": 226.9375,
          "symbol": "circle"
         },
         "mode": "markers",
         "name": "ADARSH NAGAR",
         "orientation": "v",
         "showlegend": true,
         "type": "scatter",
         "x": [
          46892
         ],
         "xaxis": "x",
         "y": [
          45303
         ],
         "yaxis": "y"
        },
        {
         "hovertemplate": "<b>%{hovertext}</b><br><br>assembly=BADLI<br>year=2020<br>Votes for AAP=%{x}<br>Votes for BJP=%{y}<br>vote_split_amongst_other_candidates(m2)=%{marker.size}<extra></extra>",
         "hovertext": [
          "BADLI"
         ],
         "legendgroup": "BADLI",
         "marker": {
          "color": "#FFA15A",
          "size": [
           30050
          ],
          "sizemode": "area",
          "sizeref": 226.9375,
          "symbol": "circle"
         },
         "mode": "markers",
         "name": "BADLI",
         "orientation": "v",
         "showlegend": true,
         "type": "scatter",
         "x": [
          69357
         ],
         "xaxis": "x",
         "y": [
          40234
         ],
         "yaxis": "y"
        },
        {
         "hovertemplate": "<b>%{hovertext}</b><br><br>assembly=RITHALA<br>year=2020<br>Votes for AAP=%{x}<br>Votes for BJP=%{y}<br>vote_split_amongst_other_candidates(m2)=%{marker.size}<extra></extra>",
         "hovertext": [
          "RITHALA"
         ],
         "legendgroup": "RITHALA",
         "marker": {
          "color": "#19d3f3",
          "size": [
           5086
          ],
          "sizemode": "area",
          "sizeref": 226.9375,
          "symbol": "circle"
         },
         "mode": "markers",
         "name": "RITHALA",
         "orientation": "v",
         "showlegend": true,
         "type": "scatter",
         "x": [
          87940
         ],
         "xaxis": "x",
         "y": [
          74067
         ],
         "yaxis": "y"
        },
        {
         "hovertemplate": "<b>%{hovertext}</b><br><br>assembly=BAWANA<br>year=2020<br>Votes for AAP=%{x}<br>Votes for BJP=%{y}<br>vote_split_amongst_other_candidates(m2)=%{marker.size}<extra></extra>",
         "hovertext": [
          "BAWANA"
         ],
         "legendgroup": "BAWANA",
         "marker": {
          "color": "#FF6692",
          "size": [
           17935
          ],
          "sizemode": "area",
          "sizeref": 226.9375,
          "symbol": "circle"
         },
         "mode": "markers",
         "name": "BAWANA",
         "orientation": "v",
         "showlegend": true,
         "type": "scatter",
         "x": [
          95715
         ],
         "xaxis": "x",
         "y": [
          84189
         ],
         "yaxis": "y"
        },
        {
         "hovertemplate": "<b>%{hovertext}</b><br><br>assembly=MUNDKA<br>year=2020<br>Votes for AAP=%{x}<br>Votes for BJP=%{y}<br>vote_split_amongst_other_candidates(m2)=%{marker.size}<extra></extra>",
         "hovertext": [
          "MUNDKA"
         ],
         "legendgroup": "MUNDKA",
         "marker": {
          "color": "#B6E880",
          "size": [
           6466
          ],
          "sizemode": "area",
          "sizeref": 226.9375,
          "symbol": "circle"
         },
         "mode": "markers",
         "name": "MUNDKA",
         "orientation": "v",
         "showlegend": true,
         "type": "scatter",
         "x": [
          90293
         ],
         "xaxis": "x",
         "y": [
          71135
         ],
         "yaxis": "y"
        },
        {
         "hovertemplate": "<b>%{hovertext}</b><br><br>assembly=KIRARI<br>year=2020<br>Votes for AAP=%{x}<br>Votes for BJP=%{y}<br>vote_split_amongst_other_candidates(m2)=%{marker.size}<extra></extra>",
         "hovertext": [
          "KIRARI"
         ],
         "legendgroup": "KIRARI",
         "marker": {
          "color": "#FF97FF",
          "size": [
           6463
          ],
          "sizemode": "area",
          "sizeref": 226.9375,
          "symbol": "circle"
         },
         "mode": "markers",
         "name": "KIRARI",
         "orientation": "v",
         "showlegend": true,
         "type": "scatter",
         "x": [
          86312
         ],
         "xaxis": "x",
         "y": [
          80658
         ],
         "yaxis": "y"
        },
        {
         "hovertemplate": "<b>%{hovertext}</b><br><br>assembly=SULTANPUR MAJRA<br>year=2020<br>Votes for AAP=%{x}<br>Votes for BJP=%{y}<br>vote_split_amongst_other_candidates(m2)=%{marker.size}<extra></extra>",
         "hovertext": [
          "SULTANPUR MAJRA"
         ],
         "legendgroup": "SULTANPUR MAJRA",
         "marker": {
          "color": "#FECB52",
          "size": [
           11023
          ],
          "sizemode": "area",
          "sizeref": 226.9375,
          "symbol": "circle"
         },
         "mode": "markers",
         "name": "SULTANPUR MAJRA",
         "orientation": "v",
         "showlegend": true,
         "type": "scatter",
         "x": [
          74573
         ],
         "xaxis": "x",
         "y": [
          26521
         ],
         "yaxis": "y"
        },
        {
         "hovertemplate": "<b>%{hovertext}</b><br><br>assembly=NANGLOI JAT<br>year=2020<br>Votes for AAP=%{x}<br>Votes for BJP=%{y}<br>vote_split_amongst_other_candidates(m2)=%{marker.size}<extra></extra>",
         "hovertext": [
          "NANGLOI JAT"
         ],
         "legendgroup": "NANGLOI JAT",
         "marker": {
          "color": "#636efa",
          "size": [
           14017
          ],
          "sizemode": "area",
          "sizeref": 226.9375,
          "symbol": "circle"
         },
         "mode": "markers",
         "name": "NANGLOI JAT",
         "orientation": "v",
         "showlegend": true,
         "type": "scatter",
         "x": [
          74444
         ],
         "xaxis": "x",
         "y": [
          62820
         ],
         "yaxis": "y"
        },
        {
         "hovertemplate": "<b>%{hovertext}</b><br><br>assembly=MANGOL PURI<br>year=2020<br>Votes for AAP=%{x}<br>Votes for BJP=%{y}<br>vote_split_amongst_other_candidates(m2)=%{marker.size}<extra></extra>",
         "hovertext": [
          "MANGOL PURI"
         ],
         "legendgroup": "MANGOL PURI",
         "marker": {
          "color": "#EF553B",
          "size": [
           8490
          ],
          "sizemode": "area",
          "sizeref": 226.9375,
          "symbol": "circle"
         },
         "mode": "markers",
         "name": "MANGOL PURI",
         "orientation": "v",
         "showlegend": true,
         "type": "scatter",
         "x": [
          74154
         ],
         "xaxis": "x",
         "y": [
          44038
         ],
         "yaxis": "y"
        },
        {
         "hovertemplate": "<b>%{hovertext}</b><br><br>assembly=ROHINI<br>year=2020<br>Votes for AAP=%{x}<br>Votes for BJP=%{y}<br>vote_split_amongst_other_candidates(m2)=%{marker.size}<extra></extra>",
         "hovertext": [
          "ROHINI"
         ],
         "legendgroup": "ROHINI",
         "marker": {
          "color": "#00cc96",
          "size": [
           4142
          ],
          "sizemode": "area",
          "sizeref": 226.9375,
          "symbol": "circle"
         },
         "mode": "markers",
         "name": "ROHINI",
         "orientation": "v",
         "showlegend": true,
         "type": "scatter",
         "x": [
          49526
         ],
         "xaxis": "x",
         "y": [
          62174
         ],
         "yaxis": "y"
        },
        {
         "hovertemplate": "<b>%{hovertext}</b><br><br>assembly=SHALIMAR BAGH<br>year=2020<br>Votes for AAP=%{x}<br>Votes for BJP=%{y}<br>vote_split_amongst_other_candidates(m2)=%{marker.size}<extra></extra>",
         "hovertext": [
          "SHALIMAR BAGH"
         ],
         "legendgroup": "SHALIMAR BAGH",
         "marker": {
          "color": "#ab63fa",
          "size": [
           4831
          ],
          "sizemode": "area",
          "sizeref": 226.9375,
          "symbol": "circle"
         },
         "mode": "markers",
         "name": "SHALIMAR BAGH",
         "orientation": "v",
         "showlegend": true,
         "type": "scatter",
         "x": [
          57707
         ],
         "xaxis": "x",
         "y": [
          54267
         ],
         "yaxis": "y"
        },
        {
         "hovertemplate": "<b>%{hovertext}</b><br><br>assembly=SHAKUR BASTI<br>year=2020<br>Votes for AAP=%{x}<br>Votes for BJP=%{y}<br>vote_split_amongst_other_candidates(m2)=%{marker.size}<extra></extra>",
         "hovertext": [
          "SHAKUR BASTI"
         ],
         "legendgroup": "SHAKUR BASTI",
         "marker": {
          "color": "#FFA15A",
          "size": [
           4432
          ],
          "sizemode": "area",
          "sizeref": 226.9375,
          "symbol": "circle"
         },
         "mode": "markers",
         "name": "SHAKUR BASTI",
         "orientation": "v",
         "showlegend": true,
         "type": "scatter",
         "x": [
          51165
         ],
         "xaxis": "x",
         "y": [
          43573
         ],
         "yaxis": "y"
        },
        {
         "hovertemplate": "<b>%{hovertext}</b><br><br>assembly=TRI NAGAR<br>year=2020<br>Votes for AAP=%{x}<br>Votes for BJP=%{y}<br>vote_split_amongst_other_candidates(m2)=%{marker.size}<extra></extra>",
         "hovertext": [
          "TRI NAGAR"
         ],
         "legendgroup": "TRI NAGAR",
         "marker": {
          "color": "#19d3f3",
          "size": [
           5407
          ],
          "sizemode": "area",
          "sizeref": 226.9375,
          "symbol": "circle"
         },
         "mode": "markers",
         "name": "TRI NAGAR",
         "orientation": "v",
         "showlegend": true,
         "type": "scatter",
         "x": [
          58504
         ],
         "xaxis": "x",
         "y": [
          47794
         ],
         "yaxis": "y"
        },
        {
         "hovertemplate": "<b>%{hovertext}</b><br><br>assembly=WAZIRPUR<br>year=2020<br>Votes for AAP=%{x}<br>Votes for BJP=%{y}<br>vote_split_amongst_other_candidates(m2)=%{marker.size}<extra></extra>",
         "hovertext": [
          "WAZIRPUR"
         ],
         "legendgroup": "WAZIRPUR",
         "marker": {
          "color": "#FF6692",
          "size": [
           5936
          ],
          "sizemode": "area",
          "sizeref": 226.9375,
          "symbol": "circle"
         },
         "mode": "markers",
         "name": "WAZIRPUR",
         "orientation": "v",
         "showlegend": true,
         "type": "scatter",
         "x": [
          57331
         ],
         "xaxis": "x",
         "y": [
          45641
         ],
         "yaxis": "y"
        },
        {
         "hovertemplate": "<b>%{hovertext}</b><br><br>assembly=MODEL TOWN<br>year=2020<br>Votes for AAP=%{x}<br>Votes for BJP=%{y}<br>vote_split_amongst_other_candidates(m2)=%{marker.size}<extra></extra>",
         "hovertext": [
          "MODEL TOWN"
         ],
         "legendgroup": "MODEL TOWN",
         "marker": {
          "color": "#B6E880",
          "size": [
           5974
          ],
          "sizemode": "area",
          "sizeref": 226.9375,
          "symbol": "circle"
         },
         "mode": "markers",
         "name": "MODEL TOWN",
         "orientation": "v",
         "showlegend": true,
         "type": "scatter",
         "x": [
          52665
         ],
         "xaxis": "x",
         "y": [
          41532
         ],
         "yaxis": "y"
        },
        {
         "hovertemplate": "<b>%{hovertext}</b><br><br>assembly=SADAR BAZAR<br>year=2020<br>Votes for AAP=%{x}<br>Votes for BJP=%{y}<br>vote_split_amongst_other_candidates(m2)=%{marker.size}<extra></extra>",
         "hovertext": [
          "SADAR BAZAR"
         ],
         "legendgroup": "SADAR BAZAR",
         "marker": {
          "color": "#FF97FF",
          "size": [
           11542
          ],
          "sizemode": "area",
          "sizeref": 226.9375,
          "symbol": "circle"
         },
         "mode": "markers",
         "name": "SADAR BAZAR",
         "orientation": "v",
         "showlegend": true,
         "type": "scatter",
         "x": [
          68790
         ],
         "xaxis": "x",
         "y": [
          43146
         ],
         "yaxis": "y"
        },
        {
         "hovertemplate": "<b>%{hovertext}</b><br><br>assembly=CHANDNI CHOWK<br>year=2020<br>Votes for AAP=%{x}<br>Votes for BJP=%{y}<br>vote_split_amongst_other_candidates(m2)=%{marker.size}<extra></extra>",
         "hovertext": [
          "CHANDNI CHOWK"
         ],
         "legendgroup": "CHANDNI CHOWK",
         "marker": {
          "color": "#FECB52",
          "size": [
           5005
          ],
          "sizemode": "area",
          "sizeref": 226.9375,
          "symbol": "circle"
         },
         "mode": "markers",
         "name": "CHANDNI CHOWK",
         "orientation": "v",
         "showlegend": true,
         "type": "scatter",
         "x": [
          50891
         ],
         "xaxis": "x",
         "y": [
          21307
         ],
         "yaxis": "y"
        },
        {
         "hovertemplate": "<b>%{hovertext}</b><br><br>assembly=MATIA MAHAL<br>year=2020<br>Votes for AAP=%{x}<br>Votes for BJP=%{y}<br>vote_split_amongst_other_candidates(m2)=%{marker.size}<extra></extra>",
         "hovertext": [
          "MATIA MAHAL"
         ],
         "legendgroup": "MATIA MAHAL",
         "marker": {
          "color": "#636efa",
          "size": [
           4248
          ],
          "sizemode": "area",
          "sizeref": 226.9375,
          "symbol": "circle"
         },
         "mode": "markers",
         "name": "MATIA MAHAL",
         "orientation": "v",
         "showlegend": true,
         "type": "scatter",
         "x": [
          67282
         ],
         "xaxis": "x",
         "y": [
          17041
         ],
         "yaxis": "y"
        },
        {
         "hovertemplate": "<b>%{hovertext}</b><br><br>assembly=BALLIMARAN<br>year=2020<br>Votes for AAP=%{x}<br>Votes for BJP=%{y}<br>vote_split_amongst_other_candidates(m2)=%{marker.size}<extra></extra>",
         "hovertext": [
          "BALLIMARAN"
         ],
         "legendgroup": "BALLIMARAN",
         "marker": {
          "color": "#EF553B",
          "size": [
           6415
          ],
          "sizemode": "area",
          "sizeref": 226.9375,
          "symbol": "circle"
         },
         "mode": "markers",
         "name": "BALLIMARAN",
         "orientation": "v",
         "showlegend": true,
         "type": "scatter",
         "x": [
          65644
         ],
         "xaxis": "x",
         "y": [
          29472
         ],
         "yaxis": "y"
        },
        {
         "hovertemplate": "<b>%{hovertext}</b><br><br>assembly=KAROL BAGH<br>year=2020<br>Votes for AAP=%{x}<br>Votes for BJP=%{y}<br>vote_split_amongst_other_candidates(m2)=%{marker.size}<extra></extra>",
         "hovertext": [
          "KAROL BAGH"
         ],
         "legendgroup": "KAROL BAGH",
         "marker": {
          "color": "#00cc96",
          "size": [
           5225
          ],
          "sizemode": "area",
          "sizeref": 226.9375,
          "symbol": "circle"
         },
         "mode": "markers",
         "name": "KAROL BAGH",
         "orientation": "v",
         "showlegend": true,
         "type": "scatter",
         "x": [
          67494
         ],
         "xaxis": "x",
         "y": [
          35734
         ],
         "yaxis": "y"
        },
        {
         "hovertemplate": "<b>%{hovertext}</b><br><br>assembly=PATEL NAGAR<br>year=2020<br>Votes for AAP=%{x}<br>Votes for BJP=%{y}<br>vote_split_amongst_other_candidates(m2)=%{marker.size}<extra></extra>",
         "hovertext": [
          "PATEL NAGAR"
         ],
         "legendgroup": "PATEL NAGAR",
         "marker": {
          "color": "#ab63fa",
          "size": [
           4823
          ],
          "sizemode": "area",
          "sizeref": 226.9375,
          "symbol": "circle"
         },
         "mode": "markers",
         "name": "PATEL NAGAR",
         "orientation": "v",
         "showlegend": true,
         "type": "scatter",
         "x": [
          73463
         ],
         "xaxis": "x",
         "y": [
          42528
         ],
         "yaxis": "y"
        },
        {
         "hovertemplate": "<b>%{hovertext}</b><br><br>assembly=MOTI NAGAR<br>year=2020<br>Votes for AAP=%{x}<br>Votes for BJP=%{y}<br>vote_split_amongst_other_candidates(m2)=%{marker.size}<extra></extra>",
         "hovertext": [
          "MOTI NAGAR"
         ],
         "legendgroup": "MOTI NAGAR",
         "marker": {
          "color": "#FFA15A",
          "size": [
           5450
          ],
          "sizemode": "area",
          "sizeref": 226.9375,
          "symbol": "circle"
         },
         "mode": "markers",
         "name": "MOTI NAGAR",
         "orientation": "v",
         "showlegend": true,
         "type": "scatter",
         "x": [
          60622
         ],
         "xaxis": "x",
         "y": [
          46550
         ],
         "yaxis": "y"
        },
        {
         "hovertemplate": "<b>%{hovertext}</b><br><br>assembly=MADIPUR<br>year=2020<br>Votes for AAP=%{x}<br>Votes for BJP=%{y}<br>vote_split_amongst_other_candidates(m2)=%{marker.size}<extra></extra>",
         "hovertext": [
          "MADIPUR"
         ],
         "legendgroup": "MADIPUR",
         "marker": {
          "color": "#19d3f3",
          "size": [
           8916
          ],
          "sizemode": "area",
          "sizeref": 226.9375,
          "symbol": "circle"
         },
         "mode": "markers",
         "name": "MADIPUR",
         "orientation": "v",
         "showlegend": true,
         "type": "scatter",
         "x": [
          64440
         ],
         "xaxis": "x",
         "y": [
          41721
         ],
         "yaxis": "y"
        },
        {
         "hovertemplate": "<b>%{hovertext}</b><br><br>assembly=RAJOURI GARDEN<br>year=2020<br>Votes for AAP=%{x}<br>Votes for BJP=%{y}<br>vote_split_amongst_other_candidates(m2)=%{marker.size}<extra></extra>",
         "hovertext": [
          "RAJOURI GARDEN"
         ],
         "legendgroup": "RAJOURI GARDEN",
         "marker": {
          "color": "#FF6692",
          "size": [
           10230
          ],
          "sizemode": "area",
          "sizeref": 226.9375,
          "symbol": "circle"
         },
         "mode": "markers",
         "name": "RAJOURI GARDEN",
         "orientation": "v",
         "showlegend": true,
         "type": "scatter",
         "x": [
          62212
         ],
         "xaxis": "x",
         "y": [
          39240
         ],
         "yaxis": "y"
        },
        {
         "hovertemplate": "<b>%{hovertext}</b><br><br>assembly=HARI NAGAR<br>year=2020<br>Votes for AAP=%{x}<br>Votes for BJP=%{y}<br>vote_split_amongst_other_candidates(m2)=%{marker.size}<extra></extra>",
         "hovertext": [
          "HARI NAGAR"
         ],
         "legendgroup": "HARI NAGAR",
         "marker": {
          "color": "#B6E880",
          "size": [
           12190
          ],
          "sizemode": "area",
          "sizeref": 226.9375,
          "symbol": "circle"
         },
         "mode": "markers",
         "name": "HARI NAGAR",
         "orientation": "v",
         "showlegend": true,
         "type": "scatter",
         "x": [
          58087
         ],
         "xaxis": "x",
         "y": [
          37956
         ],
         "yaxis": "y"
        },
        {
         "hovertemplate": "<b>%{hovertext}</b><br><br>assembly=TILAK NAGAR<br>year=2020<br>Votes for AAP=%{x}<br>Votes for BJP=%{y}<br>vote_split_amongst_other_candidates(m2)=%{marker.size}<extra></extra>",
         "hovertext": [
          "TILAK NAGAR"
         ],
         "legendgroup": "TILAK NAGAR",
         "marker": {
          "color": "#FF97FF",
          "size": [
           3542
          ],
          "sizemode": "area",
          "sizeref": 226.9375,
          "symbol": "circle"
         },
         "mode": "markers",
         "name": "TILAK NAGAR",
         "orientation": "v",
         "showlegend": true,
         "type": "scatter",
         "x": [
          62436
         ],
         "xaxis": "x",
         "y": [
          34407
         ],
         "yaxis": "y"
        },
        {
         "hovertemplate": "<b>%{hovertext}</b><br><br>assembly=JANAKPURI<br>year=2020<br>Votes for AAP=%{x}<br>Votes for BJP=%{y}<br>vote_split_amongst_other_candidates(m2)=%{marker.size}<extra></extra>",
         "hovertext": [
          "JANAKPURI"
         ],
         "legendgroup": "JANAKPURI",
         "marker": {
          "color": "#FECB52",
          "size": [
           3862
          ],
          "sizemode": "area",
          "sizeref": 226.9375,
          "symbol": "circle"
         },
         "mode": "markers",
         "name": "JANAKPURI",
         "orientation": "v",
         "showlegend": true,
         "type": "scatter",
         "x": [
          67968
         ],
         "xaxis": "x",
         "y": [
          53051
         ],
         "yaxis": "y"
        },
        {
         "hovertemplate": "<b>%{hovertext}</b><br><br>assembly=VIKASPURI<br>year=2020<br>Votes for AAP=%{x}<br>Votes for BJP=%{y}<br>vote_split_amongst_other_candidates(m2)=%{marker.size}<extra></extra>",
         "hovertext": [
          "VIKASPURI"
         ],
         "legendgroup": "VIKASPURI",
         "marker": {
          "color": "#636efa",
          "size": [
           13567
          ],
          "sizemode": "area",
          "sizeref": 226.9375,
          "symbol": "circle"
         },
         "mode": "markers",
         "name": "VIKASPURI",
         "orientation": "v",
         "showlegend": true,
         "type": "scatter",
         "x": [
          133898
         ],
         "xaxis": "x",
         "y": [
          91840
         ],
         "yaxis": "y"
        },
        {
         "hovertemplate": "<b>%{hovertext}</b><br><br>assembly=UTTAM NAGAR<br>year=2020<br>Votes for AAP=%{x}<br>Votes for BJP=%{y}<br>vote_split_amongst_other_candidates(m2)=%{marker.size}<extra></extra>",
         "hovertext": [
          "UTTAM NAGAR"
         ],
         "legendgroup": "UTTAM NAGAR",
         "marker": {
          "color": "#EF553B",
          "size": [
           3053
          ],
          "sizemode": "area",
          "sizeref": 226.9375,
          "symbol": "circle"
         },
         "mode": "markers",
         "name": "UTTAM NAGAR",
         "orientation": "v",
         "showlegend": true,
         "type": "scatter",
         "x": [
          99622
         ],
         "xaxis": "x",
         "y": [
          79863
         ],
         "yaxis": "y"
        },
        {
         "hovertemplate": "<b>%{hovertext}</b><br><br>assembly=DWARKA<br>year=2020<br>Votes for AAP=%{x}<br>Votes for BJP=%{y}<br>vote_split_amongst_other_candidates(m2)=%{marker.size}<extra></extra>",
         "hovertext": [
          "DWARKA"
         ],
         "legendgroup": "DWARKA",
         "marker": {
          "color": "#00cc96",
          "size": [
           8716
          ],
          "sizemode": "area",
          "sizeref": 226.9375,
          "symbol": "circle"
         },
         "mode": "markers",
         "name": "DWARKA",
         "orientation": "v",
         "showlegend": true,
         "type": "scatter",
         "x": [
          71003
         ],
         "xaxis": "x",
         "y": [
          56616
         ],
         "yaxis": "y"
        },
        {
         "hovertemplate": "<b>%{hovertext}</b><br><br>assembly=MATIALA<br>year=2020<br>Votes for AAP=%{x}<br>Votes for BJP=%{y}<br>vote_split_amongst_other_candidates(m2)=%{marker.size}<extra></extra>",
         "hovertext": [
          "MATIALA"
         ],
         "legendgroup": "MATIALA",
         "marker": {
          "color": "#ab63fa",
          "size": [
           11383
          ],
          "sizemode": "area",
          "sizeref": 226.9375,
          "symbol": "circle"
         },
         "mode": "markers",
         "name": "MATIALA",
         "orientation": "v",
         "showlegend": true,
         "type": "scatter",
         "x": [
          139010
         ],
         "xaxis": "x",
         "y": [
          110935
         ],
         "yaxis": "y"
        },
        {
         "hovertemplate": "<b>%{hovertext}</b><br><br>assembly=NAJAFGARH<br>year=2020<br>Votes for AAP=%{x}<br>Votes for BJP=%{y}<br>vote_split_amongst_other_candidates(m2)=%{marker.size}<extra></extra>",
         "hovertext": [
          "NAJAFGARH"
         ],
         "legendgroup": "NAJAFGARH",
         "marker": {
          "color": "#FFA15A",
          "size": [
           6707
          ],
          "sizemode": "area",
          "sizeref": 226.9375,
          "symbol": "circle"
         },
         "mode": "markers",
         "name": "NAJAFGARH",
         "orientation": "v",
         "showlegend": true,
         "type": "scatter",
         "x": [
          81507
         ],
         "xaxis": "x",
         "y": [
          75276
         ],
         "yaxis": "y"
        },
        {
         "hovertemplate": "<b>%{hovertext}</b><br><br>assembly=BIJWASAN<br>year=2020<br>Votes for AAP=%{x}<br>Votes for BJP=%{y}<br>vote_split_amongst_other_candidates(m2)=%{marker.size}<extra></extra>",
         "hovertext": [
          "BIJWASAN"
         ],
         "legendgroup": "BIJWASAN",
         "marker": {
          "color": "#19d3f3",
          "size": [
           11181
          ],
          "sizemode": "area",
          "sizeref": 226.9375,
          "symbol": "circle"
         },
         "mode": "markers",
         "name": "BIJWASAN",
         "orientation": "v",
         "showlegend": true,
         "type": "scatter",
         "x": [
          57271
         ],
         "xaxis": "x",
         "y": [
          56518
         ],
         "yaxis": "y"
        },
        {
         "hovertemplate": "<b>%{hovertext}</b><br><br>assembly=PALAM<br>year=2020<br>Votes for AAP=%{x}<br>Votes for BJP=%{y}<br>vote_split_amongst_other_candidates(m2)=%{marker.size}<extra></extra>",
         "hovertext": [
          "PALAM"
         ],
         "legendgroup": "PALAM",
         "marker": {
          "color": "#FF6692",
          "size": [
           4072
          ],
          "sizemode": "area",
          "sizeref": 226.9375,
          "symbol": "circle"
         },
         "mode": "markers",
         "name": "PALAM",
         "orientation": "v",
         "showlegend": true,
         "type": "scatter",
         "x": [
          92775
         ],
         "xaxis": "x",
         "y": [
          60010
         ],
         "yaxis": "y"
        },
        {
         "hovertemplate": "<b>%{hovertext}</b><br><br>assembly=DELHI CANTT<br>year=2020<br>Votes for AAP=%{x}<br>Votes for BJP=%{y}<br>vote_split_amongst_other_candidates(m2)=%{marker.size}<extra></extra>",
         "hovertext": [
          "DELHI CANTT"
         ],
         "legendgroup": "DELHI CANTT",
         "marker": {
          "color": "#B6E880",
          "size": [
           11572
          ],
          "sizemode": "area",
          "sizeref": 226.9375,
          "symbol": "circle"
         },
         "mode": "markers",
         "name": "DELHI CANTT",
         "orientation": "v",
         "showlegend": true,
         "type": "scatter",
         "x": [
          28971
         ],
         "xaxis": "x",
         "y": [
          18381
         ],
         "yaxis": "y"
        },
        {
         "hovertemplate": "<b>%{hovertext}</b><br><br>assembly=RAJINDER NAGAR<br>year=2020<br>Votes for AAP=%{x}<br>Votes for BJP=%{y}<br>vote_split_amongst_other_candidates(m2)=%{marker.size}<extra></extra>",
         "hovertext": [
          "RAJINDER NAGAR"
         ],
         "legendgroup": "RAJINDER NAGAR",
         "marker": {
          "color": "#FF97FF",
          "size": [
           5427
          ],
          "sizemode": "area",
          "sizeref": 226.9375,
          "symbol": "circle"
         },
         "mode": "markers",
         "name": "RAJINDER NAGAR",
         "orientation": "v",
         "showlegend": true,
         "type": "scatter",
         "x": [
          59135
         ],
         "xaxis": "x",
         "y": [
          39077
         ],
         "yaxis": "y"
        },
        {
         "hovertemplate": "<b>%{hovertext}</b><br><br>assembly=NEW DELHI<br>year=2020<br>Votes for AAP=%{x}<br>Votes for BJP=%{y}<br>vote_split_amongst_other_candidates(m2)=%{marker.size}<extra></extra>",
         "hovertext": [
          "NEW DELHI"
         ],
         "legendgroup": "NEW DELHI",
         "marker": {
          "color": "#FECB52",
          "size": [
           4705
          ],
          "sizemode": "area",
          "sizeref": 226.9375,
          "symbol": "circle"
         },
         "mode": "markers",
         "name": "NEW DELHI",
         "orientation": "v",
         "showlegend": true,
         "type": "scatter",
         "x": [
          46758
         ],
         "xaxis": "x",
         "y": [
          25061
         ],
         "yaxis": "y"
        },
        {
         "hovertemplate": "<b>%{hovertext}</b><br><br>assembly=JANGPURA<br>year=2020<br>Votes for AAP=%{x}<br>Votes for BJP=%{y}<br>vote_split_amongst_other_candidates(m2)=%{marker.size}<extra></extra>",
         "hovertext": [
          "JANGPURA"
         ],
         "legendgroup": "JANGPURA",
         "marker": {
          "color": "#636efa",
          "size": [
           14505
          ],
          "sizemode": "area",
          "sizeref": 226.9375,
          "symbol": "circle"
         },
         "mode": "markers",
         "name": "JANGPURA",
         "orientation": "v",
         "showlegend": true,
         "type": "scatter",
         "x": [
          45133
         ],
         "xaxis": "x",
         "y": [
          29070
         ],
         "yaxis": "y"
        },
        {
         "hovertemplate": "<b>%{hovertext}</b><br><br>assembly=KASTURBA NAGAR<br>year=2020<br>Votes for AAP=%{x}<br>Votes for BJP=%{y}<br>vote_split_amongst_other_candidates(m2)=%{marker.size}<extra></extra>",
         "hovertext": [
          "KASTURBA NAGAR"
         ],
         "legendgroup": "KASTURBA NAGAR",
         "marker": {
          "color": "#EF553B",
          "size": [
           20672
          ],
          "sizemode": "area",
          "sizeref": 226.9375,
          "symbol": "circle"
         },
         "mode": "markers",
         "name": "KASTURBA NAGAR",
         "orientation": "v",
         "showlegend": true,
         "type": "scatter",
         "x": [
          37100
         ],
         "xaxis": "x",
         "y": [
          33935
         ],
         "yaxis": "y"
        },
        {
         "hovertemplate": "<b>%{hovertext}</b><br><br>assembly=MALVIYA NAGAR<br>year=2020<br>Votes for AAP=%{x}<br>Votes for BJP=%{y}<br>vote_split_amongst_other_candidates(m2)=%{marker.size}<extra></extra>",
         "hovertext": [
          "MALVIYA NAGAR"
         ],
         "legendgroup": "MALVIYA NAGAR",
         "marker": {
          "color": "#00cc96",
          "size": [
           3831
          ],
          "sizemode": "area",
          "sizeref": 226.9375,
          "symbol": "circle"
         },
         "mode": "markers",
         "name": "MALVIYA NAGAR",
         "orientation": "v",
         "showlegend": true,
         "type": "scatter",
         "x": [
          52043
         ],
         "xaxis": "x",
         "y": [
          33899
         ],
         "yaxis": "y"
        },
        {
         "hovertemplate": "<b>%{hovertext}</b><br><br>assembly=R K PURAM<br>year=2020<br>Votes for AAP=%{x}<br>Votes for BJP=%{y}<br>vote_split_amongst_other_candidates(m2)=%{marker.size}<extra></extra>",
         "hovertext": [
          "R K PURAM"
         ],
         "legendgroup": "R K PURAM",
         "marker": {
          "color": "#ab63fa",
          "size": [
           5958
          ],
          "sizemode": "area",
          "sizeref": 226.9375,
          "symbol": "circle"
         },
         "mode": "markers",
         "name": "R K PURAM",
         "orientation": "v",
         "showlegend": true,
         "type": "scatter",
         "x": [
          47208
         ],
         "xaxis": "x",
         "y": [
          36839
         ],
         "yaxis": "y"
        },
        {
         "hovertemplate": "<b>%{hovertext}</b><br><br>assembly=MEHRAULI<br>year=2020<br>Votes for AAP=%{x}<br>Votes for BJP=%{y}<br>vote_split_amongst_other_candidates(m2)=%{marker.size}<extra></extra>",
         "hovertext": [
          "MEHRAULI"
         ],
         "legendgroup": "MEHRAULI",
         "marker": {
          "color": "#FFA15A",
          "size": [
           8334
          ],
          "sizemode": "area",
          "sizeref": 226.9375,
          "symbol": "circle"
         },
         "mode": "markers",
         "name": "MEHRAULI",
         "orientation": "v",
         "showlegend": true,
         "type": "scatter",
         "x": [
          62417
         ],
         "xaxis": "x",
         "y": [
          44256
         ],
         "yaxis": "y"
        },
        {
         "hovertemplate": "<b>%{hovertext}</b><br><br>assembly=CHHATARPUR<br>year=2020<br>Votes for AAP=%{x}<br>Votes for BJP=%{y}<br>vote_split_amongst_other_candidates(m2)=%{marker.size}<extra></extra>",
         "hovertext": [
          "CHHATARPUR"
         ],
         "legendgroup": "CHHATARPUR",
         "marker": {
          "color": "#19d3f3",
          "size": [
           6180
          ],
          "sizemode": "area",
          "sizeref": 226.9375,
          "symbol": "circle"
         },
         "mode": "markers",
         "name": "CHHATARPUR",
         "orientation": "v",
         "showlegend": true,
         "type": "scatter",
         "x": [
          69411
         ],
         "xaxis": "x",
         "y": [
          65691
         ],
         "yaxis": "y"
        },
        {
         "hovertemplate": "<b>%{hovertext}</b><br><br>assembly=DEOLI<br>year=2020<br>Votes for AAP=%{x}<br>Votes for BJP=%{y}<br>vote_split_amongst_other_candidates(m2)=%{marker.size}<extra></extra>",
         "hovertext": [
          "DEOLI"
         ],
         "legendgroup": "DEOLI",
         "marker": {
          "color": "#FF6692",
          "size": [
           5345
          ],
          "sizemode": "area",
          "sizeref": 226.9375,
          "symbol": "circle"
         },
         "mode": "markers",
         "name": "DEOLI",
         "orientation": "v",
         "showlegend": true,
         "type": "scatter",
         "x": [
          92575
         ],
         "xaxis": "x",
         "y": [
          52402
         ],
         "yaxis": "y"
        },
        {
         "hovertemplate": "<b>%{hovertext}</b><br><br>assembly=AMBEDKAR NAGAR<br>year=2020<br>Votes for AAP=%{x}<br>Votes for BJP=%{y}<br>vote_split_amongst_other_candidates(m2)=%{marker.size}<extra></extra>",
         "hovertext": [
          "AMBEDKAR NAGAR"
         ],
         "legendgroup": "AMBEDKAR NAGAR",
         "marker": {
          "color": "#B6E880",
          "size": [
           3585
          ],
          "sizemode": "area",
          "sizeref": 226.9375,
          "symbol": "circle"
         },
         "mode": "markers",
         "name": "AMBEDKAR NAGAR",
         "orientation": "v",
         "showlegend": true,
         "type": "scatter",
         "x": [
          62871
         ],
         "xaxis": "x",
         "y": [
          34544
         ],
         "yaxis": "y"
        },
        {
         "hovertemplate": "<b>%{hovertext}</b><br><br>assembly=SANGAM VIHAR<br>year=2020<br>Votes for AAP=%{x}<br>Votes for BJP=%{y}<br>vote_split_amongst_other_candidates(m2)=%{marker.size}<extra></extra>",
         "hovertext": [
          "SANGAM VIHAR"
         ],
         "legendgroup": "SANGAM VIHAR",
         "marker": {
          "color": "#FF97FF",
          "size": [
           0
          ],
          "sizemode": "area",
          "sizeref": 226.9375,
          "symbol": "circle"
         },
         "mode": "markers",
         "name": "SANGAM VIHAR",
         "orientation": "v",
         "showlegend": true,
         "type": "scatter",
         "x": [
          75345
         ],
         "xaxis": "x",
         "y": [
          0
         ],
         "yaxis": "y"
        },
        {
         "hovertemplate": "<b>%{hovertext}</b><br><br>assembly=GREATER KAILASH<br>year=2020<br>Votes for AAP=%{x}<br>Votes for BJP=%{y}<br>vote_split_amongst_other_candidates(m2)=%{marker.size}<extra></extra>",
         "hovertext": [
          "GREATER KAILASH"
         ],
         "legendgroup": "GREATER KAILASH",
         "marker": {
          "color": "#FECB52",
          "size": [
           4619
          ],
          "sizemode": "area",
          "sizeref": 226.9375,
          "symbol": "circle"
         },
         "mode": "markers",
         "name": "GREATER KAILASH",
         "orientation": "v",
         "showlegend": true,
         "type": "scatter",
         "x": [
          60372
         ],
         "xaxis": "x",
         "y": [
          43563
         ],
         "yaxis": "y"
        },
        {
         "hovertemplate": "<b>%{hovertext}</b><br><br>assembly=KALKAJI<br>year=2020<br>Votes for AAP=%{x}<br>Votes for BJP=%{y}<br>vote_split_amongst_other_candidates(m2)=%{marker.size}<extra></extra>",
         "hovertext": [
          "KALKAJI"
         ],
         "legendgroup": "KALKAJI",
         "marker": {
          "color": "#636efa",
          "size": [
           6516
          ],
          "sizemode": "area",
          "sizeref": 226.9375,
          "symbol": "circle"
         },
         "mode": "markers",
         "name": "KALKAJI",
         "orientation": "v",
         "showlegend": true,
         "type": "scatter",
         "x": [
          55897
         ],
         "xaxis": "x",
         "y": [
          44504
         ],
         "yaxis": "y"
        },
        {
         "hovertemplate": "<b>%{hovertext}</b><br><br>assembly=TUGHLAKABAD<br>year=2020<br>Votes for AAP=%{x}<br>Votes for BJP=%{y}<br>vote_split_amongst_other_candidates(m2)=%{marker.size}<extra></extra>",
         "hovertext": [
          "TUGHLAKABAD"
         ],
         "legendgroup": "TUGHLAKABAD",
         "marker": {
          "color": "#EF553B",
          "size": [
           4026
          ],
          "sizemode": "area",
          "sizeref": 226.9375,
          "symbol": "circle"
         },
         "mode": "markers",
         "name": "TUGHLAKABAD",
         "orientation": "v",
         "showlegend": true,
         "type": "scatter",
         "x": [
          58905
         ],
         "xaxis": "x",
         "y": [
          45147
         ],
         "yaxis": "y"
        },
        {
         "hovertemplate": "<b>%{hovertext}</b><br><br>assembly=BADARPUR<br>year=2020<br>Votes for AAP=%{x}<br>Votes for BJP=%{y}<br>vote_split_amongst_other_candidates(m2)=%{marker.size}<extra></extra>",
         "hovertext": [
          "BADARPUR"
         ],
         "legendgroup": "BADARPUR",
         "marker": {
          "color": "#00cc96",
          "size": [
           15009
          ],
          "sizemode": "area",
          "sizeref": 226.9375,
          "symbol": "circle"
         },
         "mode": "markers",
         "name": "BADARPUR",
         "orientation": "v",
         "showlegend": true,
         "type": "scatter",
         "x": [
          86363
         ],
         "xaxis": "x",
         "y": [
          90082
         ],
         "yaxis": "y"
        },
        {
         "hovertemplate": "<b>%{hovertext}</b><br><br>assembly=OKHLA<br>year=2020<br>Votes for AAP=%{x}<br>Votes for BJP=%{y}<br>vote_split_amongst_other_candidates(m2)=%{marker.size}<extra></extra>",
         "hovertext": [
          "OKHLA"
         ],
         "legendgroup": "OKHLA",
         "marker": {
          "color": "#ab63fa",
          "size": [
           8528
          ],
          "sizemode": "area",
          "sizeref": 226.9375,
          "symbol": "circle"
         },
         "mode": "markers",
         "name": "OKHLA",
         "orientation": "v",
         "showlegend": true,
         "type": "scatter",
         "x": [
          130367
         ],
         "xaxis": "x",
         "y": [
          58540
         ],
         "yaxis": "y"
        },
        {
         "hovertemplate": "<b>%{hovertext}</b><br><br>assembly=TRILOKPURI<br>year=2020<br>Votes for AAP=%{x}<br>Votes for BJP=%{y}<br>vote_split_amongst_other_candidates(m2)=%{marker.size}<extra></extra>",
         "hovertext": [
          "TRILOKPURI"
         ],
         "legendgroup": "TRILOKPURI",
         "marker": {
          "color": "#FFA15A",
          "size": [
           6192
          ],
          "sizemode": "area",
          "sizeref": 226.9375,
          "symbol": "circle"
         },
         "mode": "markers",
         "name": "TRILOKPURI",
         "orientation": "v",
         "showlegend": true,
         "type": "scatter",
         "x": [
          69947
         ],
         "xaxis": "x",
         "y": [
          57461
         ],
         "yaxis": "y"
        },
        {
         "hovertemplate": "<b>%{hovertext}</b><br><br>assembly=KONDLI<br>year=2020<br>Votes for AAP=%{x}<br>Votes for BJP=%{y}<br>vote_split_amongst_other_candidates(m2)=%{marker.size}<extra></extra>",
         "hovertext": [
          "KONDLI"
         ],
         "legendgroup": "KONDLI",
         "marker": {
          "color": "#19d3f3",
          "size": [
           9897
          ],
          "sizemode": "area",
          "sizeref": 226.9375,
          "symbol": "circle"
         },
         "mode": "markers",
         "name": "KONDLI",
         "orientation": "v",
         "showlegend": true,
         "type": "scatter",
         "x": [
          68348
         ],
         "xaxis": "x",
         "y": [
          50441
         ],
         "yaxis": "y"
        },
        {
         "hovertemplate": "<b>%{hovertext}</b><br><br>assembly=PATPARGANJ<br>year=2020<br>Votes for AAP=%{x}<br>Votes for BJP=%{y}<br>vote_split_amongst_other_candidates(m2)=%{marker.size}<extra></extra>",
         "hovertext": [
          "PATPARGANJ"
         ],
         "legendgroup": "PATPARGANJ",
         "marker": {
          "color": "#FF6692",
          "size": [
           5137
          ],
          "sizemode": "area",
          "sizeref": 226.9375,
          "symbol": "circle"
         },
         "mode": "markers",
         "name": "PATPARGANJ",
         "orientation": "v",
         "showlegend": true,
         "type": "scatter",
         "x": [
          70163
         ],
         "xaxis": "x",
         "y": [
          66956
         ],
         "yaxis": "y"
        },
        {
         "hovertemplate": "<b>%{hovertext}</b><br><br>assembly=LAXMI NAGAR<br>year=2020<br>Votes for AAP=%{x}<br>Votes for BJP=%{y}<br>vote_split_amongst_other_candidates(m2)=%{marker.size}<extra></extra>",
         "hovertext": [
          "LAXMI NAGAR"
         ],
         "legendgroup": "LAXMI NAGAR",
         "marker": {
          "color": "#B6E880",
          "size": [
           6233
          ],
          "sizemode": "area",
          "sizeref": 226.9375,
          "symbol": "circle"
         },
         "mode": "markers",
         "name": "LAXMI NAGAR",
         "orientation": "v",
         "showlegend": true,
         "type": "scatter",
         "x": [
          64855
         ],
         "xaxis": "x",
         "y": [
          65735
         ],
         "yaxis": "y"
        },
        {
         "hovertemplate": "<b>%{hovertext}</b><br><br>assembly=VISHWAS NAGAR<br>year=2020<br>Votes for AAP=%{x}<br>Votes for BJP=%{y}<br>vote_split_amongst_other_candidates(m2)=%{marker.size}<extra></extra>",
         "hovertext": [
          "VISHWAS NAGAR"
         ],
         "legendgroup": "VISHWAS NAGAR",
         "marker": {
          "color": "#FF97FF",
          "size": [
           10026
          ],
          "sizemode": "area",
          "sizeref": 226.9375,
          "symbol": "circle"
         },
         "mode": "markers",
         "name": "VISHWAS NAGAR",
         "orientation": "v",
         "showlegend": true,
         "type": "scatter",
         "x": [
          49373
         ],
         "xaxis": "x",
         "y": [
          65830
         ],
         "yaxis": "y"
        },
        {
         "hovertemplate": "<b>%{hovertext}</b><br><br>assembly=KRISHNA NAGAR<br>year=2020<br>Votes for AAP=%{x}<br>Votes for BJP=%{y}<br>vote_split_amongst_other_candidates(m2)=%{marker.size}<extra></extra>",
         "hovertext": [
          "KRISHNA NAGAR"
         ],
         "legendgroup": "KRISHNA NAGAR",
         "marker": {
          "color": "#FECB52",
          "size": [
           6626
          ],
          "sizemode": "area",
          "sizeref": 226.9375,
          "symbol": "circle"
         },
         "mode": "markers",
         "name": "KRISHNA NAGAR",
         "orientation": "v",
         "showlegend": true,
         "type": "scatter",
         "x": [
          72111
         ],
         "xaxis": "x",
         "y": [
          68116
         ],
         "yaxis": "y"
        },
        {
         "hovertemplate": "<b>%{hovertext}</b><br><br>assembly=GANDHI NAGAR<br>year=2020<br>Votes for AAP=%{x}<br>Votes for BJP=%{y}<br>vote_split_amongst_other_candidates(m2)=%{marker.size}<extra></extra>",
         "hovertext": [
          "GANDHI NAGAR"
         ],
         "legendgroup": "GANDHI NAGAR",
         "marker": {
          "color": "#636efa",
          "size": [
           22938
          ],
          "sizemode": "area",
          "sizeref": 226.9375,
          "symbol": "circle"
         },
         "mode": "markers",
         "name": "GANDHI NAGAR",
         "orientation": "v",
         "showlegend": true,
         "type": "scatter",
         "x": [
          42745
         ],
         "xaxis": "x",
         "y": [
          48824
         ],
         "yaxis": "y"
        },
        {
         "hovertemplate": "<b>%{hovertext}</b><br><br>assembly=SHAHDARA<br>year=2020<br>Votes for AAP=%{x}<br>Votes for BJP=%{y}<br>vote_split_amongst_other_candidates(m2)=%{marker.size}<extra></extra>",
         "hovertext": [
          "SHAHDARA"
         ],
         "legendgroup": "SHAHDARA",
         "marker": {
          "color": "#EF553B",
          "size": [
           6475
          ],
          "sizemode": "area",
          "sizeref": 226.9375,
          "symbol": "circle"
         },
         "mode": "markers",
         "name": "SHAHDARA",
         "orientation": "v",
         "showlegend": true,
         "type": "scatter",
         "x": [
          62103
         ],
         "xaxis": "x",
         "y": [
          56809
         ],
         "yaxis": "y"
        },
        {
         "hovertemplate": "<b>%{hovertext}</b><br><br>assembly=SEEMA PURI<br>year=2020<br>Votes for AAP=%{x}<br>Votes for BJP=%{y}<br>vote_split_amongst_other_candidates(m2)=%{marker.size}<extra></extra>",
         "hovertext": [
          "SEEMA PURI"
         ],
         "legendgroup": "SEEMA PURI",
         "marker": {
          "color": "#00cc96",
          "size": [
           0
          ],
          "sizemode": "area",
          "sizeref": 226.9375,
          "symbol": "circle"
         },
         "mode": "markers",
         "name": "SEEMA PURI",
         "orientation": "v",
         "showlegend": true,
         "type": "scatter",
         "x": [
          88392
         ],
         "xaxis": "x",
         "y": [
          0
         ],
         "yaxis": "y"
        },
        {
         "hovertemplate": "<b>%{hovertext}</b><br><br>assembly=ROHTAS NAGAR<br>year=2020<br>Votes for AAP=%{x}<br>Votes for BJP=%{y}<br>vote_split_amongst_other_candidates(m2)=%{marker.size}<extra></extra>",
         "hovertext": [
          "ROHTAS NAGAR"
         ],
         "legendgroup": "ROHTAS NAGAR",
         "marker": {
          "color": "#ab63fa",
          "size": [
           7713
          ],
          "sizemode": "area",
          "sizeref": 226.9375,
          "symbol": "circle"
         },
         "mode": "markers",
         "name": "ROHTAS NAGAR",
         "orientation": "v",
         "showlegend": true,
         "type": "scatter",
         "x": [
          60632
         ],
         "xaxis": "x",
         "y": [
          73873
         ],
         "yaxis": "y"
        },
        {
         "hovertemplate": "<b>%{hovertext}</b><br><br>assembly=SEELAMPUR<br>year=2020<br>Votes for AAP=%{x}<br>Votes for BJP=%{y}<br>vote_split_amongst_other_candidates(m2)=%{marker.size}<extra></extra>",
         "hovertext": [
          "SEELAMPUR"
         ],
         "legendgroup": "SEELAMPUR",
         "marker": {
          "color": "#FFA15A",
          "size": [
           21233
          ],
          "sizemode": "area",
          "sizeref": 226.9375,
          "symbol": "circle"
         },
         "mode": "markers",
         "name": "SEELAMPUR",
         "orientation": "v",
         "showlegend": true,
         "type": "scatter",
         "x": [
          72694
         ],
         "xaxis": "x",
         "y": [
          35774
         ],
         "yaxis": "y"
        },
        {
         "hovertemplate": "<b>%{hovertext}</b><br><br>assembly=GHONDA<br>year=2020<br>Votes for AAP=%{x}<br>Votes for BJP=%{y}<br>vote_split_amongst_other_candidates(m2)=%{marker.size}<extra></extra>",
         "hovertext": [
          "GHONDA"
         ],
         "legendgroup": "GHONDA",
         "marker": {
          "color": "#19d3f3",
          "size": [
           6911
          ],
          "sizemode": "area",
          "sizeref": 226.9375,
          "symbol": "circle"
         },
         "mode": "markers",
         "name": "GHONDA",
         "orientation": "v",
         "showlegend": true,
         "type": "scatter",
         "x": [
          53427
         ],
         "xaxis": "x",
         "y": [
          81797
         ],
         "yaxis": "y"
        },
        {
         "hovertemplate": "<b>%{hovertext}</b><br><br>assembly=BABARPUR<br>year=2020<br>Votes for AAP=%{x}<br>Votes for BJP=%{y}<br>vote_split_amongst_other_candidates(m2)=%{marker.size}<extra></extra>",
         "hovertext": [
          "BABARPUR"
         ],
         "legendgroup": "BABARPUR",
         "marker": {
          "color": "#FF6692",
          "size": [
           6239
          ],
          "sizemode": "area",
          "sizeref": 226.9375,
          "symbol": "circle"
         },
         "mode": "markers",
         "name": "BABARPUR",
         "orientation": "v",
         "showlegend": true,
         "type": "scatter",
         "x": [
          84776
         ],
         "xaxis": "x",
         "y": [
          51714
         ],
         "yaxis": "y"
        },
        {
         "hovertemplate": "<b>%{hovertext}</b><br><br>assembly=GOKALPUR<br>year=2020<br>Votes for AAP=%{x}<br>Votes for BJP=%{y}<br>vote_split_amongst_other_candidates(m2)=%{marker.size}<extra></extra>",
         "hovertext": [
          "GOKALPUR"
         ],
         "legendgroup": "GOKALPUR",
         "marker": {
          "color": "#B6E880",
          "size": [
           8784
          ],
          "sizemode": "area",
          "sizeref": 226.9375,
          "symbol": "circle"
         },
         "mode": "markers",
         "name": "GOKALPUR",
         "orientation": "v",
         "showlegend": true,
         "type": "scatter",
         "x": [
          88452
         ],
         "xaxis": "x",
         "y": [
          68964
         ],
         "yaxis": "y"
        },
        {
         "hovertemplate": "<b>%{hovertext}</b><br><br>assembly=MUSTAFABAD<br>year=2020<br>Votes for AAP=%{x}<br>Votes for BJP=%{y}<br>vote_split_amongst_other_candidates(m2)=%{marker.size}<extra></extra>",
         "hovertext": [
          "MUSTAFABAD"
         ],
         "legendgroup": "MUSTAFABAD",
         "marker": {
          "color": "#FF97FF",
          "size": [
           8795
          ],
          "sizemode": "area",
          "sizeref": 226.9375,
          "symbol": "circle"
         },
         "mode": "markers",
         "name": "MUSTAFABAD",
         "orientation": "v",
         "showlegend": true,
         "type": "scatter",
         "x": [
          98850
         ],
         "xaxis": "x",
         "y": [
          78146
         ],
         "yaxis": "y"
        },
        {
         "hovertemplate": "<b>%{hovertext}</b><br><br>assembly=KARAWAL NAGAR<br>year=2020<br>Votes for AAP=%{x}<br>Votes for BJP=%{y}<br>vote_split_amongst_other_candidates(m2)=%{marker.size}<extra></extra>",
         "hovertext": [
          "KARAWAL NAGAR"
         ],
         "legendgroup": "KARAWAL NAGAR",
         "marker": {
          "color": "#FECB52",
          "size": [
           5971
          ],
          "sizemode": "area",
          "sizeref": 226.9375,
          "symbol": "circle"
         },
         "mode": "markers",
         "name": "KARAWAL NAGAR",
         "orientation": "v",
         "showlegend": true,
         "type": "scatter",
         "x": [
          88498
         ],
         "xaxis": "x",
         "y": [
          96721
         ],
         "yaxis": "y"
        }
       ],
       "frames": [
        {
         "data": [
          {
           "hovertemplate": "<b>%{hovertext}</b><br><br>assembly=NERELA<br>year=2020<br>Votes for AAP=%{x}<br>Votes for BJP=%{y}<br>vote_split_amongst_other_candidates(m2)=%{marker.size}<extra></extra>",
           "hovertext": [
            "NERELA"
           ],
           "legendgroup": "NERELA",
           "marker": {
            "color": "#636efa",
            "size": [
             10603
            ],
            "sizemode": "area",
            "sizeref": 226.9375,
            "symbol": "circle"
           },
           "mode": "markers",
           "name": "NERELA",
           "orientation": "v",
           "showlegend": true,
           "type": "scatter",
           "x": [
            86262
           ],
           "xaxis": "x",
           "y": [
            68833
           ],
           "yaxis": "y"
          },
          {
           "hovertemplate": "<b>%{hovertext}</b><br><br>assembly=BURARI<br>year=2020<br>Votes for AAP=%{x}<br>Votes for BJP=%{y}<br>vote_split_amongst_other_candidates(m2)=%{marker.size}<extra></extra>",
           "hovertext": [
            "BURARI"
           ],
           "legendgroup": "BURARI",
           "marker": {
            "color": "#EF553B",
            "size": [
             0
            ],
            "sizemode": "area",
            "sizeref": 226.9375,
            "symbol": "circle"
           },
           "mode": "markers",
           "name": "BURARI",
           "orientation": "v",
           "showlegend": true,
           "type": "scatter",
           "x": [
            139598
           ],
           "xaxis": "x",
           "y": [
            0
           ],
           "yaxis": "y"
          },
          {
           "hovertemplate": "<b>%{hovertext}</b><br><br>assembly=TIMARPUR<br>year=2020<br>Votes for AAP=%{x}<br>Votes for BJP=%{y}<br>vote_split_amongst_other_candidates(m2)=%{marker.size}<extra></extra>",
           "hovertext": [
            "TIMARPUR"
           ],
           "legendgroup": "TIMARPUR",
           "marker": {
            "color": "#00cc96",
            "size": [
             5292
            ],
            "sizemode": "area",
            "sizeref": 226.9375,
            "symbol": "circle"
           },
           "mode": "markers",
           "name": "TIMARPUR",
           "orientation": "v",
           "showlegend": true,
           "type": "scatter",
           "x": [
            71432
           ],
           "xaxis": "x",
           "y": [
            47288
           ],
           "yaxis": "y"
          },
          {
           "hovertemplate": "<b>%{hovertext}</b><br><br>assembly=ADARSH NAGAR<br>year=2020<br>Votes for AAP=%{x}<br>Votes for BJP=%{y}<br>vote_split_amongst_other_candidates(m2)=%{marker.size}<extra></extra>",
           "hovertext": [
            "ADARSH NAGAR"
           ],
           "legendgroup": "ADARSH NAGAR",
           "marker": {
            "color": "#ab63fa",
            "size": [
             11560
            ],
            "sizemode": "area",
            "sizeref": 226.9375,
            "symbol": "circle"
           },
           "mode": "markers",
           "name": "ADARSH NAGAR",
           "orientation": "v",
           "showlegend": true,
           "type": "scatter",
           "x": [
            46892
           ],
           "xaxis": "x",
           "y": [
            45303
           ],
           "yaxis": "y"
          },
          {
           "hovertemplate": "<b>%{hovertext}</b><br><br>assembly=BADLI<br>year=2020<br>Votes for AAP=%{x}<br>Votes for BJP=%{y}<br>vote_split_amongst_other_candidates(m2)=%{marker.size}<extra></extra>",
           "hovertext": [
            "BADLI"
           ],
           "legendgroup": "BADLI",
           "marker": {
            "color": "#FFA15A",
            "size": [
             30050
            ],
            "sizemode": "area",
            "sizeref": 226.9375,
            "symbol": "circle"
           },
           "mode": "markers",
           "name": "BADLI",
           "orientation": "v",
           "showlegend": true,
           "type": "scatter",
           "x": [
            69357
           ],
           "xaxis": "x",
           "y": [
            40234
           ],
           "yaxis": "y"
          },
          {
           "hovertemplate": "<b>%{hovertext}</b><br><br>assembly=RITHALA<br>year=2020<br>Votes for AAP=%{x}<br>Votes for BJP=%{y}<br>vote_split_amongst_other_candidates(m2)=%{marker.size}<extra></extra>",
           "hovertext": [
            "RITHALA"
           ],
           "legendgroup": "RITHALA",
           "marker": {
            "color": "#19d3f3",
            "size": [
             5086
            ],
            "sizemode": "area",
            "sizeref": 226.9375,
            "symbol": "circle"
           },
           "mode": "markers",
           "name": "RITHALA",
           "orientation": "v",
           "showlegend": true,
           "type": "scatter",
           "x": [
            87940
           ],
           "xaxis": "x",
           "y": [
            74067
           ],
           "yaxis": "y"
          },
          {
           "hovertemplate": "<b>%{hovertext}</b><br><br>assembly=BAWANA<br>year=2020<br>Votes for AAP=%{x}<br>Votes for BJP=%{y}<br>vote_split_amongst_other_candidates(m2)=%{marker.size}<extra></extra>",
           "hovertext": [
            "BAWANA"
           ],
           "legendgroup": "BAWANA",
           "marker": {
            "color": "#FF6692",
            "size": [
             17935
            ],
            "sizemode": "area",
            "sizeref": 226.9375,
            "symbol": "circle"
           },
           "mode": "markers",
           "name": "BAWANA",
           "orientation": "v",
           "showlegend": true,
           "type": "scatter",
           "x": [
            95715
           ],
           "xaxis": "x",
           "y": [
            84189
           ],
           "yaxis": "y"
          },
          {
           "hovertemplate": "<b>%{hovertext}</b><br><br>assembly=MUNDKA<br>year=2020<br>Votes for AAP=%{x}<br>Votes for BJP=%{y}<br>vote_split_amongst_other_candidates(m2)=%{marker.size}<extra></extra>",
           "hovertext": [
            "MUNDKA"
           ],
           "legendgroup": "MUNDKA",
           "marker": {
            "color": "#B6E880",
            "size": [
             6466
            ],
            "sizemode": "area",
            "sizeref": 226.9375,
            "symbol": "circle"
           },
           "mode": "markers",
           "name": "MUNDKA",
           "orientation": "v",
           "showlegend": true,
           "type": "scatter",
           "x": [
            90293
           ],
           "xaxis": "x",
           "y": [
            71135
           ],
           "yaxis": "y"
          },
          {
           "hovertemplate": "<b>%{hovertext}</b><br><br>assembly=KIRARI<br>year=2020<br>Votes for AAP=%{x}<br>Votes for BJP=%{y}<br>vote_split_amongst_other_candidates(m2)=%{marker.size}<extra></extra>",
           "hovertext": [
            "KIRARI"
           ],
           "legendgroup": "KIRARI",
           "marker": {
            "color": "#FF97FF",
            "size": [
             6463
            ],
            "sizemode": "area",
            "sizeref": 226.9375,
            "symbol": "circle"
           },
           "mode": "markers",
           "name": "KIRARI",
           "orientation": "v",
           "showlegend": true,
           "type": "scatter",
           "x": [
            86312
           ],
           "xaxis": "x",
           "y": [
            80658
           ],
           "yaxis": "y"
          },
          {
           "hovertemplate": "<b>%{hovertext}</b><br><br>assembly=SULTANPUR MAJRA<br>year=2020<br>Votes for AAP=%{x}<br>Votes for BJP=%{y}<br>vote_split_amongst_other_candidates(m2)=%{marker.size}<extra></extra>",
           "hovertext": [
            "SULTANPUR MAJRA"
           ],
           "legendgroup": "SULTANPUR MAJRA",
           "marker": {
            "color": "#FECB52",
            "size": [
             11023
            ],
            "sizemode": "area",
            "sizeref": 226.9375,
            "symbol": "circle"
           },
           "mode": "markers",
           "name": "SULTANPUR MAJRA",
           "orientation": "v",
           "showlegend": true,
           "type": "scatter",
           "x": [
            74573
           ],
           "xaxis": "x",
           "y": [
            26521
           ],
           "yaxis": "y"
          },
          {
           "hovertemplate": "<b>%{hovertext}</b><br><br>assembly=NANGLOI JAT<br>year=2020<br>Votes for AAP=%{x}<br>Votes for BJP=%{y}<br>vote_split_amongst_other_candidates(m2)=%{marker.size}<extra></extra>",
           "hovertext": [
            "NANGLOI JAT"
           ],
           "legendgroup": "NANGLOI JAT",
           "marker": {
            "color": "#636efa",
            "size": [
             14017
            ],
            "sizemode": "area",
            "sizeref": 226.9375,
            "symbol": "circle"
           },
           "mode": "markers",
           "name": "NANGLOI JAT",
           "orientation": "v",
           "showlegend": true,
           "type": "scatter",
           "x": [
            74444
           ],
           "xaxis": "x",
           "y": [
            62820
           ],
           "yaxis": "y"
          },
          {
           "hovertemplate": "<b>%{hovertext}</b><br><br>assembly=MANGOL PURI<br>year=2020<br>Votes for AAP=%{x}<br>Votes for BJP=%{y}<br>vote_split_amongst_other_candidates(m2)=%{marker.size}<extra></extra>",
           "hovertext": [
            "MANGOL PURI"
           ],
           "legendgroup": "MANGOL PURI",
           "marker": {
            "color": "#EF553B",
            "size": [
             8490
            ],
            "sizemode": "area",
            "sizeref": 226.9375,
            "symbol": "circle"
           },
           "mode": "markers",
           "name": "MANGOL PURI",
           "orientation": "v",
           "showlegend": true,
           "type": "scatter",
           "x": [
            74154
           ],
           "xaxis": "x",
           "y": [
            44038
           ],
           "yaxis": "y"
          },
          {
           "hovertemplate": "<b>%{hovertext}</b><br><br>assembly=ROHINI<br>year=2020<br>Votes for AAP=%{x}<br>Votes for BJP=%{y}<br>vote_split_amongst_other_candidates(m2)=%{marker.size}<extra></extra>",
           "hovertext": [
            "ROHINI"
           ],
           "legendgroup": "ROHINI",
           "marker": {
            "color": "#00cc96",
            "size": [
             4142
            ],
            "sizemode": "area",
            "sizeref": 226.9375,
            "symbol": "circle"
           },
           "mode": "markers",
           "name": "ROHINI",
           "orientation": "v",
           "showlegend": true,
           "type": "scatter",
           "x": [
            49526
           ],
           "xaxis": "x",
           "y": [
            62174
           ],
           "yaxis": "y"
          },
          {
           "hovertemplate": "<b>%{hovertext}</b><br><br>assembly=SHALIMAR BAGH<br>year=2020<br>Votes for AAP=%{x}<br>Votes for BJP=%{y}<br>vote_split_amongst_other_candidates(m2)=%{marker.size}<extra></extra>",
           "hovertext": [
            "SHALIMAR BAGH"
           ],
           "legendgroup": "SHALIMAR BAGH",
           "marker": {
            "color": "#ab63fa",
            "size": [
             4831
            ],
            "sizemode": "area",
            "sizeref": 226.9375,
            "symbol": "circle"
           },
           "mode": "markers",
           "name": "SHALIMAR BAGH",
           "orientation": "v",
           "showlegend": true,
           "type": "scatter",
           "x": [
            57707
           ],
           "xaxis": "x",
           "y": [
            54267
           ],
           "yaxis": "y"
          },
          {
           "hovertemplate": "<b>%{hovertext}</b><br><br>assembly=SHAKUR BASTI<br>year=2020<br>Votes for AAP=%{x}<br>Votes for BJP=%{y}<br>vote_split_amongst_other_candidates(m2)=%{marker.size}<extra></extra>",
           "hovertext": [
            "SHAKUR BASTI"
           ],
           "legendgroup": "SHAKUR BASTI",
           "marker": {
            "color": "#FFA15A",
            "size": [
             4432
            ],
            "sizemode": "area",
            "sizeref": 226.9375,
            "symbol": "circle"
           },
           "mode": "markers",
           "name": "SHAKUR BASTI",
           "orientation": "v",
           "showlegend": true,
           "type": "scatter",
           "x": [
            51165
           ],
           "xaxis": "x",
           "y": [
            43573
           ],
           "yaxis": "y"
          },
          {
           "hovertemplate": "<b>%{hovertext}</b><br><br>assembly=TRI NAGAR<br>year=2020<br>Votes for AAP=%{x}<br>Votes for BJP=%{y}<br>vote_split_amongst_other_candidates(m2)=%{marker.size}<extra></extra>",
           "hovertext": [
            "TRI NAGAR"
           ],
           "legendgroup": "TRI NAGAR",
           "marker": {
            "color": "#19d3f3",
            "size": [
             5407
            ],
            "sizemode": "area",
            "sizeref": 226.9375,
            "symbol": "circle"
           },
           "mode": "markers",
           "name": "TRI NAGAR",
           "orientation": "v",
           "showlegend": true,
           "type": "scatter",
           "x": [
            58504
           ],
           "xaxis": "x",
           "y": [
            47794
           ],
           "yaxis": "y"
          },
          {
           "hovertemplate": "<b>%{hovertext}</b><br><br>assembly=WAZIRPUR<br>year=2020<br>Votes for AAP=%{x}<br>Votes for BJP=%{y}<br>vote_split_amongst_other_candidates(m2)=%{marker.size}<extra></extra>",
           "hovertext": [
            "WAZIRPUR"
           ],
           "legendgroup": "WAZIRPUR",
           "marker": {
            "color": "#FF6692",
            "size": [
             5936
            ],
            "sizemode": "area",
            "sizeref": 226.9375,
            "symbol": "circle"
           },
           "mode": "markers",
           "name": "WAZIRPUR",
           "orientation": "v",
           "showlegend": true,
           "type": "scatter",
           "x": [
            57331
           ],
           "xaxis": "x",
           "y": [
            45641
           ],
           "yaxis": "y"
          },
          {
           "hovertemplate": "<b>%{hovertext}</b><br><br>assembly=MODEL TOWN<br>year=2020<br>Votes for AAP=%{x}<br>Votes for BJP=%{y}<br>vote_split_amongst_other_candidates(m2)=%{marker.size}<extra></extra>",
           "hovertext": [
            "MODEL TOWN"
           ],
           "legendgroup": "MODEL TOWN",
           "marker": {
            "color": "#B6E880",
            "size": [
             5974
            ],
            "sizemode": "area",
            "sizeref": 226.9375,
            "symbol": "circle"
           },
           "mode": "markers",
           "name": "MODEL TOWN",
           "orientation": "v",
           "showlegend": true,
           "type": "scatter",
           "x": [
            52665
           ],
           "xaxis": "x",
           "y": [
            41532
           ],
           "yaxis": "y"
          },
          {
           "hovertemplate": "<b>%{hovertext}</b><br><br>assembly=SADAR BAZAR<br>year=2020<br>Votes for AAP=%{x}<br>Votes for BJP=%{y}<br>vote_split_amongst_other_candidates(m2)=%{marker.size}<extra></extra>",
           "hovertext": [
            "SADAR BAZAR"
           ],
           "legendgroup": "SADAR BAZAR",
           "marker": {
            "color": "#FF97FF",
            "size": [
             11542
            ],
            "sizemode": "area",
            "sizeref": 226.9375,
            "symbol": "circle"
           },
           "mode": "markers",
           "name": "SADAR BAZAR",
           "orientation": "v",
           "showlegend": true,
           "type": "scatter",
           "x": [
            68790
           ],
           "xaxis": "x",
           "y": [
            43146
           ],
           "yaxis": "y"
          },
          {
           "hovertemplate": "<b>%{hovertext}</b><br><br>assembly=CHANDNI CHOWK<br>year=2020<br>Votes for AAP=%{x}<br>Votes for BJP=%{y}<br>vote_split_amongst_other_candidates(m2)=%{marker.size}<extra></extra>",
           "hovertext": [
            "CHANDNI CHOWK"
           ],
           "legendgroup": "CHANDNI CHOWK",
           "marker": {
            "color": "#FECB52",
            "size": [
             5005
            ],
            "sizemode": "area",
            "sizeref": 226.9375,
            "symbol": "circle"
           },
           "mode": "markers",
           "name": "CHANDNI CHOWK",
           "orientation": "v",
           "showlegend": true,
           "type": "scatter",
           "x": [
            50891
           ],
           "xaxis": "x",
           "y": [
            21307
           ],
           "yaxis": "y"
          },
          {
           "hovertemplate": "<b>%{hovertext}</b><br><br>assembly=MATIA MAHAL<br>year=2020<br>Votes for AAP=%{x}<br>Votes for BJP=%{y}<br>vote_split_amongst_other_candidates(m2)=%{marker.size}<extra></extra>",
           "hovertext": [
            "MATIA MAHAL"
           ],
           "legendgroup": "MATIA MAHAL",
           "marker": {
            "color": "#636efa",
            "size": [
             4248
            ],
            "sizemode": "area",
            "sizeref": 226.9375,
            "symbol": "circle"
           },
           "mode": "markers",
           "name": "MATIA MAHAL",
           "orientation": "v",
           "showlegend": true,
           "type": "scatter",
           "x": [
            67282
           ],
           "xaxis": "x",
           "y": [
            17041
           ],
           "yaxis": "y"
          },
          {
           "hovertemplate": "<b>%{hovertext}</b><br><br>assembly=BALLIMARAN<br>year=2020<br>Votes for AAP=%{x}<br>Votes for BJP=%{y}<br>vote_split_amongst_other_candidates(m2)=%{marker.size}<extra></extra>",
           "hovertext": [
            "BALLIMARAN"
           ],
           "legendgroup": "BALLIMARAN",
           "marker": {
            "color": "#EF553B",
            "size": [
             6415
            ],
            "sizemode": "area",
            "sizeref": 226.9375,
            "symbol": "circle"
           },
           "mode": "markers",
           "name": "BALLIMARAN",
           "orientation": "v",
           "showlegend": true,
           "type": "scatter",
           "x": [
            65644
           ],
           "xaxis": "x",
           "y": [
            29472
           ],
           "yaxis": "y"
          },
          {
           "hovertemplate": "<b>%{hovertext}</b><br><br>assembly=KAROL BAGH<br>year=2020<br>Votes for AAP=%{x}<br>Votes for BJP=%{y}<br>vote_split_amongst_other_candidates(m2)=%{marker.size}<extra></extra>",
           "hovertext": [
            "KAROL BAGH"
           ],
           "legendgroup": "KAROL BAGH",
           "marker": {
            "color": "#00cc96",
            "size": [
             5225
            ],
            "sizemode": "area",
            "sizeref": 226.9375,
            "symbol": "circle"
           },
           "mode": "markers",
           "name": "KAROL BAGH",
           "orientation": "v",
           "showlegend": true,
           "type": "scatter",
           "x": [
            67494
           ],
           "xaxis": "x",
           "y": [
            35734
           ],
           "yaxis": "y"
          },
          {
           "hovertemplate": "<b>%{hovertext}</b><br><br>assembly=PATEL NAGAR<br>year=2020<br>Votes for AAP=%{x}<br>Votes for BJP=%{y}<br>vote_split_amongst_other_candidates(m2)=%{marker.size}<extra></extra>",
           "hovertext": [
            "PATEL NAGAR"
           ],
           "legendgroup": "PATEL NAGAR",
           "marker": {
            "color": "#ab63fa",
            "size": [
             4823
            ],
            "sizemode": "area",
            "sizeref": 226.9375,
            "symbol": "circle"
           },
           "mode": "markers",
           "name": "PATEL NAGAR",
           "orientation": "v",
           "showlegend": true,
           "type": "scatter",
           "x": [
            73463
           ],
           "xaxis": "x",
           "y": [
            42528
           ],
           "yaxis": "y"
          },
          {
           "hovertemplate": "<b>%{hovertext}</b><br><br>assembly=MOTI NAGAR<br>year=2020<br>Votes for AAP=%{x}<br>Votes for BJP=%{y}<br>vote_split_amongst_other_candidates(m2)=%{marker.size}<extra></extra>",
           "hovertext": [
            "MOTI NAGAR"
           ],
           "legendgroup": "MOTI NAGAR",
           "marker": {
            "color": "#FFA15A",
            "size": [
             5450
            ],
            "sizemode": "area",
            "sizeref": 226.9375,
            "symbol": "circle"
           },
           "mode": "markers",
           "name": "MOTI NAGAR",
           "orientation": "v",
           "showlegend": true,
           "type": "scatter",
           "x": [
            60622
           ],
           "xaxis": "x",
           "y": [
            46550
           ],
           "yaxis": "y"
          },
          {
           "hovertemplate": "<b>%{hovertext}</b><br><br>assembly=MADIPUR<br>year=2020<br>Votes for AAP=%{x}<br>Votes for BJP=%{y}<br>vote_split_amongst_other_candidates(m2)=%{marker.size}<extra></extra>",
           "hovertext": [
            "MADIPUR"
           ],
           "legendgroup": "MADIPUR",
           "marker": {
            "color": "#19d3f3",
            "size": [
             8916
            ],
            "sizemode": "area",
            "sizeref": 226.9375,
            "symbol": "circle"
           },
           "mode": "markers",
           "name": "MADIPUR",
           "orientation": "v",
           "showlegend": true,
           "type": "scatter",
           "x": [
            64440
           ],
           "xaxis": "x",
           "y": [
            41721
           ],
           "yaxis": "y"
          },
          {
           "hovertemplate": "<b>%{hovertext}</b><br><br>assembly=RAJOURI GARDEN<br>year=2020<br>Votes for AAP=%{x}<br>Votes for BJP=%{y}<br>vote_split_amongst_other_candidates(m2)=%{marker.size}<extra></extra>",
           "hovertext": [
            "RAJOURI GARDEN"
           ],
           "legendgroup": "RAJOURI GARDEN",
           "marker": {
            "color": "#FF6692",
            "size": [
             10230
            ],
            "sizemode": "area",
            "sizeref": 226.9375,
            "symbol": "circle"
           },
           "mode": "markers",
           "name": "RAJOURI GARDEN",
           "orientation": "v",
           "showlegend": true,
           "type": "scatter",
           "x": [
            62212
           ],
           "xaxis": "x",
           "y": [
            39240
           ],
           "yaxis": "y"
          },
          {
           "hovertemplate": "<b>%{hovertext}</b><br><br>assembly=HARI NAGAR<br>year=2020<br>Votes for AAP=%{x}<br>Votes for BJP=%{y}<br>vote_split_amongst_other_candidates(m2)=%{marker.size}<extra></extra>",
           "hovertext": [
            "HARI NAGAR"
           ],
           "legendgroup": "HARI NAGAR",
           "marker": {
            "color": "#B6E880",
            "size": [
             12190
            ],
            "sizemode": "area",
            "sizeref": 226.9375,
            "symbol": "circle"
           },
           "mode": "markers",
           "name": "HARI NAGAR",
           "orientation": "v",
           "showlegend": true,
           "type": "scatter",
           "x": [
            58087
           ],
           "xaxis": "x",
           "y": [
            37956
           ],
           "yaxis": "y"
          },
          {
           "hovertemplate": "<b>%{hovertext}</b><br><br>assembly=TILAK NAGAR<br>year=2020<br>Votes for AAP=%{x}<br>Votes for BJP=%{y}<br>vote_split_amongst_other_candidates(m2)=%{marker.size}<extra></extra>",
           "hovertext": [
            "TILAK NAGAR"
           ],
           "legendgroup": "TILAK NAGAR",
           "marker": {
            "color": "#FF97FF",
            "size": [
             3542
            ],
            "sizemode": "area",
            "sizeref": 226.9375,
            "symbol": "circle"
           },
           "mode": "markers",
           "name": "TILAK NAGAR",
           "orientation": "v",
           "showlegend": true,
           "type": "scatter",
           "x": [
            62436
           ],
           "xaxis": "x",
           "y": [
            34407
           ],
           "yaxis": "y"
          },
          {
           "hovertemplate": "<b>%{hovertext}</b><br><br>assembly=JANAKPURI<br>year=2020<br>Votes for AAP=%{x}<br>Votes for BJP=%{y}<br>vote_split_amongst_other_candidates(m2)=%{marker.size}<extra></extra>",
           "hovertext": [
            "JANAKPURI"
           ],
           "legendgroup": "JANAKPURI",
           "marker": {
            "color": "#FECB52",
            "size": [
             3862
            ],
            "sizemode": "area",
            "sizeref": 226.9375,
            "symbol": "circle"
           },
           "mode": "markers",
           "name": "JANAKPURI",
           "orientation": "v",
           "showlegend": true,
           "type": "scatter",
           "x": [
            67968
           ],
           "xaxis": "x",
           "y": [
            53051
           ],
           "yaxis": "y"
          },
          {
           "hovertemplate": "<b>%{hovertext}</b><br><br>assembly=VIKASPURI<br>year=2020<br>Votes for AAP=%{x}<br>Votes for BJP=%{y}<br>vote_split_amongst_other_candidates(m2)=%{marker.size}<extra></extra>",
           "hovertext": [
            "VIKASPURI"
           ],
           "legendgroup": "VIKASPURI",
           "marker": {
            "color": "#636efa",
            "size": [
             13567
            ],
            "sizemode": "area",
            "sizeref": 226.9375,
            "symbol": "circle"
           },
           "mode": "markers",
           "name": "VIKASPURI",
           "orientation": "v",
           "showlegend": true,
           "type": "scatter",
           "x": [
            133898
           ],
           "xaxis": "x",
           "y": [
            91840
           ],
           "yaxis": "y"
          },
          {
           "hovertemplate": "<b>%{hovertext}</b><br><br>assembly=UTTAM NAGAR<br>year=2020<br>Votes for AAP=%{x}<br>Votes for BJP=%{y}<br>vote_split_amongst_other_candidates(m2)=%{marker.size}<extra></extra>",
           "hovertext": [
            "UTTAM NAGAR"
           ],
           "legendgroup": "UTTAM NAGAR",
           "marker": {
            "color": "#EF553B",
            "size": [
             3053
            ],
            "sizemode": "area",
            "sizeref": 226.9375,
            "symbol": "circle"
           },
           "mode": "markers",
           "name": "UTTAM NAGAR",
           "orientation": "v",
           "showlegend": true,
           "type": "scatter",
           "x": [
            99622
           ],
           "xaxis": "x",
           "y": [
            79863
           ],
           "yaxis": "y"
          },
          {
           "hovertemplate": "<b>%{hovertext}</b><br><br>assembly=DWARKA<br>year=2020<br>Votes for AAP=%{x}<br>Votes for BJP=%{y}<br>vote_split_amongst_other_candidates(m2)=%{marker.size}<extra></extra>",
           "hovertext": [
            "DWARKA"
           ],
           "legendgroup": "DWARKA",
           "marker": {
            "color": "#00cc96",
            "size": [
             8716
            ],
            "sizemode": "area",
            "sizeref": 226.9375,
            "symbol": "circle"
           },
           "mode": "markers",
           "name": "DWARKA",
           "orientation": "v",
           "showlegend": true,
           "type": "scatter",
           "x": [
            71003
           ],
           "xaxis": "x",
           "y": [
            56616
           ],
           "yaxis": "y"
          },
          {
           "hovertemplate": "<b>%{hovertext}</b><br><br>assembly=MATIALA<br>year=2020<br>Votes for AAP=%{x}<br>Votes for BJP=%{y}<br>vote_split_amongst_other_candidates(m2)=%{marker.size}<extra></extra>",
           "hovertext": [
            "MATIALA"
           ],
           "legendgroup": "MATIALA",
           "marker": {
            "color": "#ab63fa",
            "size": [
             11383
            ],
            "sizemode": "area",
            "sizeref": 226.9375,
            "symbol": "circle"
           },
           "mode": "markers",
           "name": "MATIALA",
           "orientation": "v",
           "showlegend": true,
           "type": "scatter",
           "x": [
            139010
           ],
           "xaxis": "x",
           "y": [
            110935
           ],
           "yaxis": "y"
          },
          {
           "hovertemplate": "<b>%{hovertext}</b><br><br>assembly=NAJAFGARH<br>year=2020<br>Votes for AAP=%{x}<br>Votes for BJP=%{y}<br>vote_split_amongst_other_candidates(m2)=%{marker.size}<extra></extra>",
           "hovertext": [
            "NAJAFGARH"
           ],
           "legendgroup": "NAJAFGARH",
           "marker": {
            "color": "#FFA15A",
            "size": [
             6707
            ],
            "sizemode": "area",
            "sizeref": 226.9375,
            "symbol": "circle"
           },
           "mode": "markers",
           "name": "NAJAFGARH",
           "orientation": "v",
           "showlegend": true,
           "type": "scatter",
           "x": [
            81507
           ],
           "xaxis": "x",
           "y": [
            75276
           ],
           "yaxis": "y"
          },
          {
           "hovertemplate": "<b>%{hovertext}</b><br><br>assembly=BIJWASAN<br>year=2020<br>Votes for AAP=%{x}<br>Votes for BJP=%{y}<br>vote_split_amongst_other_candidates(m2)=%{marker.size}<extra></extra>",
           "hovertext": [
            "BIJWASAN"
           ],
           "legendgroup": "BIJWASAN",
           "marker": {
            "color": "#19d3f3",
            "size": [
             11181
            ],
            "sizemode": "area",
            "sizeref": 226.9375,
            "symbol": "circle"
           },
           "mode": "markers",
           "name": "BIJWASAN",
           "orientation": "v",
           "showlegend": true,
           "type": "scatter",
           "x": [
            57271
           ],
           "xaxis": "x",
           "y": [
            56518
           ],
           "yaxis": "y"
          },
          {
           "hovertemplate": "<b>%{hovertext}</b><br><br>assembly=PALAM<br>year=2020<br>Votes for AAP=%{x}<br>Votes for BJP=%{y}<br>vote_split_amongst_other_candidates(m2)=%{marker.size}<extra></extra>",
           "hovertext": [
            "PALAM"
           ],
           "legendgroup": "PALAM",
           "marker": {
            "color": "#FF6692",
            "size": [
             4072
            ],
            "sizemode": "area",
            "sizeref": 226.9375,
            "symbol": "circle"
           },
           "mode": "markers",
           "name": "PALAM",
           "orientation": "v",
           "showlegend": true,
           "type": "scatter",
           "x": [
            92775
           ],
           "xaxis": "x",
           "y": [
            60010
           ],
           "yaxis": "y"
          },
          {
           "hovertemplate": "<b>%{hovertext}</b><br><br>assembly=DELHI CANTT<br>year=2020<br>Votes for AAP=%{x}<br>Votes for BJP=%{y}<br>vote_split_amongst_other_candidates(m2)=%{marker.size}<extra></extra>",
           "hovertext": [
            "DELHI CANTT"
           ],
           "legendgroup": "DELHI CANTT",
           "marker": {
            "color": "#B6E880",
            "size": [
             11572
            ],
            "sizemode": "area",
            "sizeref": 226.9375,
            "symbol": "circle"
           },
           "mode": "markers",
           "name": "DELHI CANTT",
           "orientation": "v",
           "showlegend": true,
           "type": "scatter",
           "x": [
            28971
           ],
           "xaxis": "x",
           "y": [
            18381
           ],
           "yaxis": "y"
          },
          {
           "hovertemplate": "<b>%{hovertext}</b><br><br>assembly=RAJINDER NAGAR<br>year=2020<br>Votes for AAP=%{x}<br>Votes for BJP=%{y}<br>vote_split_amongst_other_candidates(m2)=%{marker.size}<extra></extra>",
           "hovertext": [
            "RAJINDER NAGAR"
           ],
           "legendgroup": "RAJINDER NAGAR",
           "marker": {
            "color": "#FF97FF",
            "size": [
             5427
            ],
            "sizemode": "area",
            "sizeref": 226.9375,
            "symbol": "circle"
           },
           "mode": "markers",
           "name": "RAJINDER NAGAR",
           "orientation": "v",
           "showlegend": true,
           "type": "scatter",
           "x": [
            59135
           ],
           "xaxis": "x",
           "y": [
            39077
           ],
           "yaxis": "y"
          },
          {
           "hovertemplate": "<b>%{hovertext}</b><br><br>assembly=NEW DELHI<br>year=2020<br>Votes for AAP=%{x}<br>Votes for BJP=%{y}<br>vote_split_amongst_other_candidates(m2)=%{marker.size}<extra></extra>",
           "hovertext": [
            "NEW DELHI"
           ],
           "legendgroup": "NEW DELHI",
           "marker": {
            "color": "#FECB52",
            "size": [
             4705
            ],
            "sizemode": "area",
            "sizeref": 226.9375,
            "symbol": "circle"
           },
           "mode": "markers",
           "name": "NEW DELHI",
           "orientation": "v",
           "showlegend": true,
           "type": "scatter",
           "x": [
            46758
           ],
           "xaxis": "x",
           "y": [
            25061
           ],
           "yaxis": "y"
          },
          {
           "hovertemplate": "<b>%{hovertext}</b><br><br>assembly=JANGPURA<br>year=2020<br>Votes for AAP=%{x}<br>Votes for BJP=%{y}<br>vote_split_amongst_other_candidates(m2)=%{marker.size}<extra></extra>",
           "hovertext": [
            "JANGPURA"
           ],
           "legendgroup": "JANGPURA",
           "marker": {
            "color": "#636efa",
            "size": [
             14505
            ],
            "sizemode": "area",
            "sizeref": 226.9375,
            "symbol": "circle"
           },
           "mode": "markers",
           "name": "JANGPURA",
           "orientation": "v",
           "showlegend": true,
           "type": "scatter",
           "x": [
            45133
           ],
           "xaxis": "x",
           "y": [
            29070
           ],
           "yaxis": "y"
          },
          {
           "hovertemplate": "<b>%{hovertext}</b><br><br>assembly=KASTURBA NAGAR<br>year=2020<br>Votes for AAP=%{x}<br>Votes for BJP=%{y}<br>vote_split_amongst_other_candidates(m2)=%{marker.size}<extra></extra>",
           "hovertext": [
            "KASTURBA NAGAR"
           ],
           "legendgroup": "KASTURBA NAGAR",
           "marker": {
            "color": "#EF553B",
            "size": [
             20672
            ],
            "sizemode": "area",
            "sizeref": 226.9375,
            "symbol": "circle"
           },
           "mode": "markers",
           "name": "KASTURBA NAGAR",
           "orientation": "v",
           "showlegend": true,
           "type": "scatter",
           "x": [
            37100
           ],
           "xaxis": "x",
           "y": [
            33935
           ],
           "yaxis": "y"
          },
          {
           "hovertemplate": "<b>%{hovertext}</b><br><br>assembly=MALVIYA NAGAR<br>year=2020<br>Votes for AAP=%{x}<br>Votes for BJP=%{y}<br>vote_split_amongst_other_candidates(m2)=%{marker.size}<extra></extra>",
           "hovertext": [
            "MALVIYA NAGAR"
           ],
           "legendgroup": "MALVIYA NAGAR",
           "marker": {
            "color": "#00cc96",
            "size": [
             3831
            ],
            "sizemode": "area",
            "sizeref": 226.9375,
            "symbol": "circle"
           },
           "mode": "markers",
           "name": "MALVIYA NAGAR",
           "orientation": "v",
           "showlegend": true,
           "type": "scatter",
           "x": [
            52043
           ],
           "xaxis": "x",
           "y": [
            33899
           ],
           "yaxis": "y"
          },
          {
           "hovertemplate": "<b>%{hovertext}</b><br><br>assembly=R K PURAM<br>year=2020<br>Votes for AAP=%{x}<br>Votes for BJP=%{y}<br>vote_split_amongst_other_candidates(m2)=%{marker.size}<extra></extra>",
           "hovertext": [
            "R K PURAM"
           ],
           "legendgroup": "R K PURAM",
           "marker": {
            "color": "#ab63fa",
            "size": [
             5958
            ],
            "sizemode": "area",
            "sizeref": 226.9375,
            "symbol": "circle"
           },
           "mode": "markers",
           "name": "R K PURAM",
           "orientation": "v",
           "showlegend": true,
           "type": "scatter",
           "x": [
            47208
           ],
           "xaxis": "x",
           "y": [
            36839
           ],
           "yaxis": "y"
          },
          {
           "hovertemplate": "<b>%{hovertext}</b><br><br>assembly=MEHRAULI<br>year=2020<br>Votes for AAP=%{x}<br>Votes for BJP=%{y}<br>vote_split_amongst_other_candidates(m2)=%{marker.size}<extra></extra>",
           "hovertext": [
            "MEHRAULI"
           ],
           "legendgroup": "MEHRAULI",
           "marker": {
            "color": "#FFA15A",
            "size": [
             8334
            ],
            "sizemode": "area",
            "sizeref": 226.9375,
            "symbol": "circle"
           },
           "mode": "markers",
           "name": "MEHRAULI",
           "orientation": "v",
           "showlegend": true,
           "type": "scatter",
           "x": [
            62417
           ],
           "xaxis": "x",
           "y": [
            44256
           ],
           "yaxis": "y"
          },
          {
           "hovertemplate": "<b>%{hovertext}</b><br><br>assembly=CHHATARPUR<br>year=2020<br>Votes for AAP=%{x}<br>Votes for BJP=%{y}<br>vote_split_amongst_other_candidates(m2)=%{marker.size}<extra></extra>",
           "hovertext": [
            "CHHATARPUR"
           ],
           "legendgroup": "CHHATARPUR",
           "marker": {
            "color": "#19d3f3",
            "size": [
             6180
            ],
            "sizemode": "area",
            "sizeref": 226.9375,
            "symbol": "circle"
           },
           "mode": "markers",
           "name": "CHHATARPUR",
           "orientation": "v",
           "showlegend": true,
           "type": "scatter",
           "x": [
            69411
           ],
           "xaxis": "x",
           "y": [
            65691
           ],
           "yaxis": "y"
          },
          {
           "hovertemplate": "<b>%{hovertext}</b><br><br>assembly=DEOLI<br>year=2020<br>Votes for AAP=%{x}<br>Votes for BJP=%{y}<br>vote_split_amongst_other_candidates(m2)=%{marker.size}<extra></extra>",
           "hovertext": [
            "DEOLI"
           ],
           "legendgroup": "DEOLI",
           "marker": {
            "color": "#FF6692",
            "size": [
             5345
            ],
            "sizemode": "area",
            "sizeref": 226.9375,
            "symbol": "circle"
           },
           "mode": "markers",
           "name": "DEOLI",
           "orientation": "v",
           "showlegend": true,
           "type": "scatter",
           "x": [
            92575
           ],
           "xaxis": "x",
           "y": [
            52402
           ],
           "yaxis": "y"
          },
          {
           "hovertemplate": "<b>%{hovertext}</b><br><br>assembly=AMBEDKAR NAGAR<br>year=2020<br>Votes for AAP=%{x}<br>Votes for BJP=%{y}<br>vote_split_amongst_other_candidates(m2)=%{marker.size}<extra></extra>",
           "hovertext": [
            "AMBEDKAR NAGAR"
           ],
           "legendgroup": "AMBEDKAR NAGAR",
           "marker": {
            "color": "#B6E880",
            "size": [
             3585
            ],
            "sizemode": "area",
            "sizeref": 226.9375,
            "symbol": "circle"
           },
           "mode": "markers",
           "name": "AMBEDKAR NAGAR",
           "orientation": "v",
           "showlegend": true,
           "type": "scatter",
           "x": [
            62871
           ],
           "xaxis": "x",
           "y": [
            34544
           ],
           "yaxis": "y"
          },
          {
           "hovertemplate": "<b>%{hovertext}</b><br><br>assembly=SANGAM VIHAR<br>year=2020<br>Votes for AAP=%{x}<br>Votes for BJP=%{y}<br>vote_split_amongst_other_candidates(m2)=%{marker.size}<extra></extra>",
           "hovertext": [
            "SANGAM VIHAR"
           ],
           "legendgroup": "SANGAM VIHAR",
           "marker": {
            "color": "#FF97FF",
            "size": [
             0
            ],
            "sizemode": "area",
            "sizeref": 226.9375,
            "symbol": "circle"
           },
           "mode": "markers",
           "name": "SANGAM VIHAR",
           "orientation": "v",
           "showlegend": true,
           "type": "scatter",
           "x": [
            75345
           ],
           "xaxis": "x",
           "y": [
            0
           ],
           "yaxis": "y"
          },
          {
           "hovertemplate": "<b>%{hovertext}</b><br><br>assembly=GREATER KAILASH<br>year=2020<br>Votes for AAP=%{x}<br>Votes for BJP=%{y}<br>vote_split_amongst_other_candidates(m2)=%{marker.size}<extra></extra>",
           "hovertext": [
            "GREATER KAILASH"
           ],
           "legendgroup": "GREATER KAILASH",
           "marker": {
            "color": "#FECB52",
            "size": [
             4619
            ],
            "sizemode": "area",
            "sizeref": 226.9375,
            "symbol": "circle"
           },
           "mode": "markers",
           "name": "GREATER KAILASH",
           "orientation": "v",
           "showlegend": true,
           "type": "scatter",
           "x": [
            60372
           ],
           "xaxis": "x",
           "y": [
            43563
           ],
           "yaxis": "y"
          },
          {
           "hovertemplate": "<b>%{hovertext}</b><br><br>assembly=KALKAJI<br>year=2020<br>Votes for AAP=%{x}<br>Votes for BJP=%{y}<br>vote_split_amongst_other_candidates(m2)=%{marker.size}<extra></extra>",
           "hovertext": [
            "KALKAJI"
           ],
           "legendgroup": "KALKAJI",
           "marker": {
            "color": "#636efa",
            "size": [
             6516
            ],
            "sizemode": "area",
            "sizeref": 226.9375,
            "symbol": "circle"
           },
           "mode": "markers",
           "name": "KALKAJI",
           "orientation": "v",
           "showlegend": true,
           "type": "scatter",
           "x": [
            55897
           ],
           "xaxis": "x",
           "y": [
            44504
           ],
           "yaxis": "y"
          },
          {
           "hovertemplate": "<b>%{hovertext}</b><br><br>assembly=TUGHLAKABAD<br>year=2020<br>Votes for AAP=%{x}<br>Votes for BJP=%{y}<br>vote_split_amongst_other_candidates(m2)=%{marker.size}<extra></extra>",
           "hovertext": [
            "TUGHLAKABAD"
           ],
           "legendgroup": "TUGHLAKABAD",
           "marker": {
            "color": "#EF553B",
            "size": [
             4026
            ],
            "sizemode": "area",
            "sizeref": 226.9375,
            "symbol": "circle"
           },
           "mode": "markers",
           "name": "TUGHLAKABAD",
           "orientation": "v",
           "showlegend": true,
           "type": "scatter",
           "x": [
            58905
           ],
           "xaxis": "x",
           "y": [
            45147
           ],
           "yaxis": "y"
          },
          {
           "hovertemplate": "<b>%{hovertext}</b><br><br>assembly=BADARPUR<br>year=2020<br>Votes for AAP=%{x}<br>Votes for BJP=%{y}<br>vote_split_amongst_other_candidates(m2)=%{marker.size}<extra></extra>",
           "hovertext": [
            "BADARPUR"
           ],
           "legendgroup": "BADARPUR",
           "marker": {
            "color": "#00cc96",
            "size": [
             15009
            ],
            "sizemode": "area",
            "sizeref": 226.9375,
            "symbol": "circle"
           },
           "mode": "markers",
           "name": "BADARPUR",
           "orientation": "v",
           "showlegend": true,
           "type": "scatter",
           "x": [
            86363
           ],
           "xaxis": "x",
           "y": [
            90082
           ],
           "yaxis": "y"
          },
          {
           "hovertemplate": "<b>%{hovertext}</b><br><br>assembly=OKHLA<br>year=2020<br>Votes for AAP=%{x}<br>Votes for BJP=%{y}<br>vote_split_amongst_other_candidates(m2)=%{marker.size}<extra></extra>",
           "hovertext": [
            "OKHLA"
           ],
           "legendgroup": "OKHLA",
           "marker": {
            "color": "#ab63fa",
            "size": [
             8528
            ],
            "sizemode": "area",
            "sizeref": 226.9375,
            "symbol": "circle"
           },
           "mode": "markers",
           "name": "OKHLA",
           "orientation": "v",
           "showlegend": true,
           "type": "scatter",
           "x": [
            130367
           ],
           "xaxis": "x",
           "y": [
            58540
           ],
           "yaxis": "y"
          },
          {
           "hovertemplate": "<b>%{hovertext}</b><br><br>assembly=TRILOKPURI<br>year=2020<br>Votes for AAP=%{x}<br>Votes for BJP=%{y}<br>vote_split_amongst_other_candidates(m2)=%{marker.size}<extra></extra>",
           "hovertext": [
            "TRILOKPURI"
           ],
           "legendgroup": "TRILOKPURI",
           "marker": {
            "color": "#FFA15A",
            "size": [
             6192
            ],
            "sizemode": "area",
            "sizeref": 226.9375,
            "symbol": "circle"
           },
           "mode": "markers",
           "name": "TRILOKPURI",
           "orientation": "v",
           "showlegend": true,
           "type": "scatter",
           "x": [
            69947
           ],
           "xaxis": "x",
           "y": [
            57461
           ],
           "yaxis": "y"
          },
          {
           "hovertemplate": "<b>%{hovertext}</b><br><br>assembly=KONDLI<br>year=2020<br>Votes for AAP=%{x}<br>Votes for BJP=%{y}<br>vote_split_amongst_other_candidates(m2)=%{marker.size}<extra></extra>",
           "hovertext": [
            "KONDLI"
           ],
           "legendgroup": "KONDLI",
           "marker": {
            "color": "#19d3f3",
            "size": [
             9897
            ],
            "sizemode": "area",
            "sizeref": 226.9375,
            "symbol": "circle"
           },
           "mode": "markers",
           "name": "KONDLI",
           "orientation": "v",
           "showlegend": true,
           "type": "scatter",
           "x": [
            68348
           ],
           "xaxis": "x",
           "y": [
            50441
           ],
           "yaxis": "y"
          },
          {
           "hovertemplate": "<b>%{hovertext}</b><br><br>assembly=PATPARGANJ<br>year=2020<br>Votes for AAP=%{x}<br>Votes for BJP=%{y}<br>vote_split_amongst_other_candidates(m2)=%{marker.size}<extra></extra>",
           "hovertext": [
            "PATPARGANJ"
           ],
           "legendgroup": "PATPARGANJ",
           "marker": {
            "color": "#FF6692",
            "size": [
             5137
            ],
            "sizemode": "area",
            "sizeref": 226.9375,
            "symbol": "circle"
           },
           "mode": "markers",
           "name": "PATPARGANJ",
           "orientation": "v",
           "showlegend": true,
           "type": "scatter",
           "x": [
            70163
           ],
           "xaxis": "x",
           "y": [
            66956
           ],
           "yaxis": "y"
          },
          {
           "hovertemplate": "<b>%{hovertext}</b><br><br>assembly=LAXMI NAGAR<br>year=2020<br>Votes for AAP=%{x}<br>Votes for BJP=%{y}<br>vote_split_amongst_other_candidates(m2)=%{marker.size}<extra></extra>",
           "hovertext": [
            "LAXMI NAGAR"
           ],
           "legendgroup": "LAXMI NAGAR",
           "marker": {
            "color": "#B6E880",
            "size": [
             6233
            ],
            "sizemode": "area",
            "sizeref": 226.9375,
            "symbol": "circle"
           },
           "mode": "markers",
           "name": "LAXMI NAGAR",
           "orientation": "v",
           "showlegend": true,
           "type": "scatter",
           "x": [
            64855
           ],
           "xaxis": "x",
           "y": [
            65735
           ],
           "yaxis": "y"
          },
          {
           "hovertemplate": "<b>%{hovertext}</b><br><br>assembly=VISHWAS NAGAR<br>year=2020<br>Votes for AAP=%{x}<br>Votes for BJP=%{y}<br>vote_split_amongst_other_candidates(m2)=%{marker.size}<extra></extra>",
           "hovertext": [
            "VISHWAS NAGAR"
           ],
           "legendgroup": "VISHWAS NAGAR",
           "marker": {
            "color": "#FF97FF",
            "size": [
             10026
            ],
            "sizemode": "area",
            "sizeref": 226.9375,
            "symbol": "circle"
           },
           "mode": "markers",
           "name": "VISHWAS NAGAR",
           "orientation": "v",
           "showlegend": true,
           "type": "scatter",
           "x": [
            49373
           ],
           "xaxis": "x",
           "y": [
            65830
           ],
           "yaxis": "y"
          },
          {
           "hovertemplate": "<b>%{hovertext}</b><br><br>assembly=KRISHNA NAGAR<br>year=2020<br>Votes for AAP=%{x}<br>Votes for BJP=%{y}<br>vote_split_amongst_other_candidates(m2)=%{marker.size}<extra></extra>",
           "hovertext": [
            "KRISHNA NAGAR"
           ],
           "legendgroup": "KRISHNA NAGAR",
           "marker": {
            "color": "#FECB52",
            "size": [
             6626
            ],
            "sizemode": "area",
            "sizeref": 226.9375,
            "symbol": "circle"
           },
           "mode": "markers",
           "name": "KRISHNA NAGAR",
           "orientation": "v",
           "showlegend": true,
           "type": "scatter",
           "x": [
            72111
           ],
           "xaxis": "x",
           "y": [
            68116
           ],
           "yaxis": "y"
          },
          {
           "hovertemplate": "<b>%{hovertext}</b><br><br>assembly=GANDHI NAGAR<br>year=2020<br>Votes for AAP=%{x}<br>Votes for BJP=%{y}<br>vote_split_amongst_other_candidates(m2)=%{marker.size}<extra></extra>",
           "hovertext": [
            "GANDHI NAGAR"
           ],
           "legendgroup": "GANDHI NAGAR",
           "marker": {
            "color": "#636efa",
            "size": [
             22938
            ],
            "sizemode": "area",
            "sizeref": 226.9375,
            "symbol": "circle"
           },
           "mode": "markers",
           "name": "GANDHI NAGAR",
           "orientation": "v",
           "showlegend": true,
           "type": "scatter",
           "x": [
            42745
           ],
           "xaxis": "x",
           "y": [
            48824
           ],
           "yaxis": "y"
          },
          {
           "hovertemplate": "<b>%{hovertext}</b><br><br>assembly=SHAHDARA<br>year=2020<br>Votes for AAP=%{x}<br>Votes for BJP=%{y}<br>vote_split_amongst_other_candidates(m2)=%{marker.size}<extra></extra>",
           "hovertext": [
            "SHAHDARA"
           ],
           "legendgroup": "SHAHDARA",
           "marker": {
            "color": "#EF553B",
            "size": [
             6475
            ],
            "sizemode": "area",
            "sizeref": 226.9375,
            "symbol": "circle"
           },
           "mode": "markers",
           "name": "SHAHDARA",
           "orientation": "v",
           "showlegend": true,
           "type": "scatter",
           "x": [
            62103
           ],
           "xaxis": "x",
           "y": [
            56809
           ],
           "yaxis": "y"
          },
          {
           "hovertemplate": "<b>%{hovertext}</b><br><br>assembly=SEEMA PURI<br>year=2020<br>Votes for AAP=%{x}<br>Votes for BJP=%{y}<br>vote_split_amongst_other_candidates(m2)=%{marker.size}<extra></extra>",
           "hovertext": [
            "SEEMA PURI"
           ],
           "legendgroup": "SEEMA PURI",
           "marker": {
            "color": "#00cc96",
            "size": [
             0
            ],
            "sizemode": "area",
            "sizeref": 226.9375,
            "symbol": "circle"
           },
           "mode": "markers",
           "name": "SEEMA PURI",
           "orientation": "v",
           "showlegend": true,
           "type": "scatter",
           "x": [
            88392
           ],
           "xaxis": "x",
           "y": [
            0
           ],
           "yaxis": "y"
          },
          {
           "hovertemplate": "<b>%{hovertext}</b><br><br>assembly=ROHTAS NAGAR<br>year=2020<br>Votes for AAP=%{x}<br>Votes for BJP=%{y}<br>vote_split_amongst_other_candidates(m2)=%{marker.size}<extra></extra>",
           "hovertext": [
            "ROHTAS NAGAR"
           ],
           "legendgroup": "ROHTAS NAGAR",
           "marker": {
            "color": "#ab63fa",
            "size": [
             7713
            ],
            "sizemode": "area",
            "sizeref": 226.9375,
            "symbol": "circle"
           },
           "mode": "markers",
           "name": "ROHTAS NAGAR",
           "orientation": "v",
           "showlegend": true,
           "type": "scatter",
           "x": [
            60632
           ],
           "xaxis": "x",
           "y": [
            73873
           ],
           "yaxis": "y"
          },
          {
           "hovertemplate": "<b>%{hovertext}</b><br><br>assembly=SEELAMPUR<br>year=2020<br>Votes for AAP=%{x}<br>Votes for BJP=%{y}<br>vote_split_amongst_other_candidates(m2)=%{marker.size}<extra></extra>",
           "hovertext": [
            "SEELAMPUR"
           ],
           "legendgroup": "SEELAMPUR",
           "marker": {
            "color": "#FFA15A",
            "size": [
             21233
            ],
            "sizemode": "area",
            "sizeref": 226.9375,
            "symbol": "circle"
           },
           "mode": "markers",
           "name": "SEELAMPUR",
           "orientation": "v",
           "showlegend": true,
           "type": "scatter",
           "x": [
            72694
           ],
           "xaxis": "x",
           "y": [
            35774
           ],
           "yaxis": "y"
          },
          {
           "hovertemplate": "<b>%{hovertext}</b><br><br>assembly=GHONDA<br>year=2020<br>Votes for AAP=%{x}<br>Votes for BJP=%{y}<br>vote_split_amongst_other_candidates(m2)=%{marker.size}<extra></extra>",
           "hovertext": [
            "GHONDA"
           ],
           "legendgroup": "GHONDA",
           "marker": {
            "color": "#19d3f3",
            "size": [
             6911
            ],
            "sizemode": "area",
            "sizeref": 226.9375,
            "symbol": "circle"
           },
           "mode": "markers",
           "name": "GHONDA",
           "orientation": "v",
           "showlegend": true,
           "type": "scatter",
           "x": [
            53427
           ],
           "xaxis": "x",
           "y": [
            81797
           ],
           "yaxis": "y"
          },
          {
           "hovertemplate": "<b>%{hovertext}</b><br><br>assembly=BABARPUR<br>year=2020<br>Votes for AAP=%{x}<br>Votes for BJP=%{y}<br>vote_split_amongst_other_candidates(m2)=%{marker.size}<extra></extra>",
           "hovertext": [
            "BABARPUR"
           ],
           "legendgroup": "BABARPUR",
           "marker": {
            "color": "#FF6692",
            "size": [
             6239
            ],
            "sizemode": "area",
            "sizeref": 226.9375,
            "symbol": "circle"
           },
           "mode": "markers",
           "name": "BABARPUR",
           "orientation": "v",
           "showlegend": true,
           "type": "scatter",
           "x": [
            84776
           ],
           "xaxis": "x",
           "y": [
            51714
           ],
           "yaxis": "y"
          },
          {
           "hovertemplate": "<b>%{hovertext}</b><br><br>assembly=GOKALPUR<br>year=2020<br>Votes for AAP=%{x}<br>Votes for BJP=%{y}<br>vote_split_amongst_other_candidates(m2)=%{marker.size}<extra></extra>",
           "hovertext": [
            "GOKALPUR"
           ],
           "legendgroup": "GOKALPUR",
           "marker": {
            "color": "#B6E880",
            "size": [
             8784
            ],
            "sizemode": "area",
            "sizeref": 226.9375,
            "symbol": "circle"
           },
           "mode": "markers",
           "name": "GOKALPUR",
           "orientation": "v",
           "showlegend": true,
           "type": "scatter",
           "x": [
            88452
           ],
           "xaxis": "x",
           "y": [
            68964
           ],
           "yaxis": "y"
          },
          {
           "hovertemplate": "<b>%{hovertext}</b><br><br>assembly=MUSTAFABAD<br>year=2020<br>Votes for AAP=%{x}<br>Votes for BJP=%{y}<br>vote_split_amongst_other_candidates(m2)=%{marker.size}<extra></extra>",
           "hovertext": [
            "MUSTAFABAD"
           ],
           "legendgroup": "MUSTAFABAD",
           "marker": {
            "color": "#FF97FF",
            "size": [
             8795
            ],
            "sizemode": "area",
            "sizeref": 226.9375,
            "symbol": "circle"
           },
           "mode": "markers",
           "name": "MUSTAFABAD",
           "orientation": "v",
           "showlegend": true,
           "type": "scatter",
           "x": [
            98850
           ],
           "xaxis": "x",
           "y": [
            78146
           ],
           "yaxis": "y"
          },
          {
           "hovertemplate": "<b>%{hovertext}</b><br><br>assembly=KARAWAL NAGAR<br>year=2020<br>Votes for AAP=%{x}<br>Votes for BJP=%{y}<br>vote_split_amongst_other_candidates(m2)=%{marker.size}<extra></extra>",
           "hovertext": [
            "KARAWAL NAGAR"
           ],
           "legendgroup": "KARAWAL NAGAR",
           "marker": {
            "color": "#FECB52",
            "size": [
             5971
            ],
            "sizemode": "area",
            "sizeref": 226.9375,
            "symbol": "circle"
           },
           "mode": "markers",
           "name": "KARAWAL NAGAR",
           "orientation": "v",
           "showlegend": true,
           "type": "scatter",
           "x": [
            88498
           ],
           "xaxis": "x",
           "y": [
            96721
           ],
           "yaxis": "y"
          }
         ],
         "name": "2020"
        },
        {
         "data": [
          {
           "hovertemplate": "<b>%{hovertext}</b><br><br>assembly=NERELA<br>year=2015<br>Votes for AAP=%{x}<br>Votes for BJP=%{y}<br>vote_split_amongst_other_candidates(m2)=%{marker.size}<extra></extra>",
           "hovertext": [
            "NERELA"
           ],
           "legendgroup": "NERELA",
           "marker": {
            "color": "#636efa",
            "size": [
             8316
            ],
            "sizemode": "area",
            "sizeref": 226.9375,
            "symbol": "circle"
           },
           "mode": "markers",
           "name": "NERELA",
           "orientation": "v",
           "showlegend": true,
           "type": "scatter",
           "x": [
            96143
           ],
           "xaxis": "x",
           "y": [
            55851
           ],
           "yaxis": "y"
          },
          {
           "hovertemplate": "<b>%{hovertext}</b><br><br>assembly=BURARI<br>year=2015<br>Votes for AAP=%{x}<br>Votes for BJP=%{y}<br>vote_split_amongst_other_candidates(m2)=%{marker.size}<extra></extra>",
           "hovertext": [
            "BURARI"
           ],
           "legendgroup": "BURARI",
           "marker": {
            "color": "#EF553B",
            "size": [
             13935
            ],
            "sizemode": "area",
            "sizeref": 226.9375,
            "symbol": "circle"
           },
           "mode": "markers",
           "name": "BURARI",
           "orientation": "v",
           "showlegend": true,
           "type": "scatter",
           "x": [
            124724
           ],
           "xaxis": "x",
           "y": [
            56774
           ],
           "yaxis": "y"
          },
          {
           "hovertemplate": "<b>%{hovertext}</b><br><br>assembly=TIMARPUR<br>year=2015<br>Votes for AAP=%{x}<br>Votes for BJP=%{y}<br>vote_split_amongst_other_candidates(m2)=%{marker.size}<extra></extra>",
           "hovertext": [
            "TIMARPUR"
           ],
           "legendgroup": "TIMARPUR",
           "marker": {
            "color": "#00cc96",
            "size": [
             17996
            ],
            "sizemode": "area",
            "sizeref": 226.9375,
            "symbol": "circle"
           },
           "mode": "markers",
           "name": "TIMARPUR",
           "orientation": "v",
           "showlegend": true,
           "type": "scatter",
           "x": [
            64477
           ],
           "xaxis": "x",
           "y": [
            43830
           ],
           "yaxis": "y"
          },
          {
           "hovertemplate": "<b>%{hovertext}</b><br><br>assembly=ADARSH NAGAR<br>year=2015<br>Votes for AAP=%{x}<br>Votes for BJP=%{y}<br>vote_split_amongst_other_candidates(m2)=%{marker.size}<extra></extra>",
           "hovertext": [
            "ADARSH NAGAR"
           ],
           "legendgroup": "ADARSH NAGAR",
           "marker": {
            "color": "#ab63fa",
            "size": [
             17876
            ],
            "sizemode": "area",
            "sizeref": 226.9375,
            "symbol": "circle"
           },
           "mode": "markers",
           "name": "ADARSH NAGAR",
           "orientation": "v",
           "showlegend": true,
           "type": "scatter",
           "x": [
            54026
           ],
           "xaxis": "x",
           "y": [
            33285
           ],
           "yaxis": "y"
          },
          {
           "hovertemplate": "<b>%{hovertext}</b><br><br>assembly=BADLI<br>year=2015<br>Votes for AAP=%{x}<br>Votes for BJP=%{y}<br>vote_split_amongst_other_candidates(m2)=%{marker.size}<extra></extra>",
           "hovertext": [
            "BADLI"
           ],
           "legendgroup": "BADLI",
           "marker": {
            "color": "#FFA15A",
            "size": [
             41323
            ],
            "sizemode": "area",
            "sizeref": 226.9375,
            "symbol": "circle"
           },
           "mode": "markers",
           "name": "BADLI",
           "orientation": "v",
           "showlegend": true,
           "type": "scatter",
           "x": [
            72795
           ],
           "xaxis": "x",
           "y": [
            28238
           ],
           "yaxis": "y"
          },
          {
           "hovertemplate": "<b>%{hovertext}</b><br><br>assembly=RITHALA<br>year=2015<br>Votes for AAP=%{x}<br>Votes for BJP=%{y}<br>vote_split_amongst_other_candidates(m2)=%{marker.size}<extra></extra>",
           "hovertext": [
            "RITHALA"
           ],
           "legendgroup": "RITHALA",
           "marker": {
            "color": "#19d3f3",
            "size": [
             7376
            ],
            "sizemode": "area",
            "sizeref": 226.9375,
            "symbol": "circle"
           },
           "mode": "markers",
           "name": "RITHALA",
           "orientation": "v",
           "showlegend": true,
           "type": "scatter",
           "x": [
            93470
           ],
           "xaxis": "x",
           "y": [
            64219
           ],
           "yaxis": "y"
          },
          {
           "hovertemplate": "<b>%{hovertext}</b><br><br>assembly=BAWANA<br>year=2015<br>Votes for AAP=%{x}<br>Votes for BJP=%{y}<br>vote_split_amongst_other_candidates(m2)=%{marker.size}<extra></extra>",
           "hovertext": [
            "BAWANA"
           ],
           "legendgroup": "BAWANA",
           "marker": {
            "color": "#FF6692",
            "size": [
             20052
            ],
            "sizemode": "area",
            "sizeref": 226.9375,
            "symbol": "circle"
           },
           "mode": "markers",
           "name": "BAWANA",
           "orientation": "v",
           "showlegend": true,
           "type": "scatter",
           "x": [
            108928
           ],
           "xaxis": "x",
           "y": [
            58371
           ],
           "yaxis": "y"
          },
          {
           "hovertemplate": "<b>%{hovertext}</b><br><br>assembly=MUNDKA<br>year=2015<br>Votes for AAP=%{x}<br>Votes for BJP=%{y}<br>vote_split_amongst_other_candidates(m2)=%{marker.size}<extra></extra>",
           "hovertext": [
            "MUNDKA"
           ],
           "legendgroup": "MUNDKA",
           "marker": {
            "color": "#B6E880",
            "size": [
             17059
            ],
            "sizemode": "area",
            "sizeref": 226.9375,
            "symbol": "circle"
           },
           "mode": "markers",
           "name": "MUNDKA",
           "orientation": "v",
           "showlegend": true,
           "type": "scatter",
           "x": [
            94206
           ],
           "xaxis": "x",
           "y": [
            53380
           ],
           "yaxis": "y"
          },
          {
           "hovertemplate": "<b>%{hovertext}</b><br><br>assembly=KIRARI<br>year=2015<br>Votes for AAP=%{x}<br>Votes for BJP=%{y}<br>vote_split_amongst_other_candidates(m2)=%{marker.size}<extra></extra>",
           "hovertext": [
            "KIRARI"
           ],
           "legendgroup": "KIRARI",
           "marker": {
            "color": "#FF97FF",
            "size": [
             8213
            ],
            "sizemode": "area",
            "sizeref": 226.9375,
            "symbol": "circle"
           },
           "mode": "markers",
           "name": "KIRARI",
           "orientation": "v",
           "showlegend": true,
           "type": "scatter",
           "x": [
            97727
           ],
           "xaxis": "x",
           "y": [
            52555
           ],
           "yaxis": "y"
          },
          {
           "hovertemplate": "<b>%{hovertext}</b><br><br>assembly=SULTANPUR MAJRA<br>year=2015<br>Votes for AAP=%{x}<br>Votes for BJP=%{y}<br>vote_split_amongst_other_candidates(m2)=%{marker.size}<extra></extra>",
           "hovertext": [
            "SULTANPUR MAJRA"
           ],
           "legendgroup": "SULTANPUR MAJRA",
           "marker": {
            "color": "#FECB52",
            "size": [
             19404
            ],
            "sizemode": "area",
            "sizeref": 226.9375,
            "symbol": "circle"
           },
           "mode": "markers",
           "name": "SULTANPUR MAJRA",
           "orientation": "v",
           "showlegend": true,
           "type": "scatter",
           "x": [
            80269
           ],
           "xaxis": "x",
           "y": [
            15830
           ],
           "yaxis": "y"
          },
          {
           "hovertemplate": "<b>%{hovertext}</b><br><br>assembly=NANGLOI JAT<br>year=2015<br>Votes for AAP=%{x}<br>Votes for BJP=%{y}<br>vote_split_amongst_other_candidates(m2)=%{marker.size}<extra></extra>",
           "hovertext": [
            "NANGLOI JAT"
           ],
           "legendgroup": "NANGLOI JAT",
           "marker": {
            "color": "#636efa",
            "size": [
             22878
            ],
            "sizemode": "area",
            "sizeref": 226.9375,
            "symbol": "circle"
           },
           "mode": "markers",
           "name": "NANGLOI JAT",
           "orientation": "v",
           "showlegend": true,
           "type": "scatter",
           "x": [
            83259
           ],
           "xaxis": "x",
           "y": [
            46235
           ],
           "yaxis": "y"
          },
          {
           "hovertemplate": "<b>%{hovertext}</b><br><br>assembly=MANGOL PURI<br>year=2015<br>Votes for AAP=%{x}<br>Votes for BJP=%{y}<br>vote_split_amongst_other_candidates(m2)=%{marker.size}<extra></extra>",
           "hovertext": [
            "MANGOL PURI"
           ],
           "legendgroup": "MANGOL PURI",
           "marker": {
            "color": "#EF553B",
            "size": [
             40539
            ],
            "sizemode": "area",
            "sizeref": 226.9375,
            "symbol": "circle"
           },
           "mode": "markers",
           "name": "MANGOL PURI",
           "orientation": "v",
           "showlegend": true,
           "type": "scatter",
           "x": [
            60534
           ],
           "xaxis": "x",
           "y": [
            27889
           ],
           "yaxis": "y"
          },
          {
           "hovertemplate": "<b>%{hovertext}</b><br><br>assembly=ROHINI<br>year=2015<br>Votes for AAP=%{x}<br>Votes for BJP=%{y}<br>vote_split_amongst_other_candidates(m2)=%{marker.size}<extra></extra>",
           "hovertext": [
            "ROHINI"
           ],
           "legendgroup": "ROHINI",
           "marker": {
            "color": "#00cc96",
            "size": [
             5779
            ],
            "sizemode": "area",
            "sizeref": 226.9375,
            "symbol": "circle"
           },
           "mode": "markers",
           "name": "ROHINI",
           "orientation": "v",
           "showlegend": true,
           "type": "scatter",
           "x": [
            54499
           ],
           "xaxis": "x",
           "y": [
            59866
           ],
           "yaxis": "y"
          },
          {
           "hovertemplate": "<b>%{hovertext}</b><br><br>assembly=SHALIMAR BAGH<br>year=2015<br>Votes for AAP=%{x}<br>Votes for BJP=%{y}<br>vote_split_amongst_other_candidates(m2)=%{marker.size}<extra></extra>",
           "hovertext": [
            "SHALIMAR BAGH"
           ],
           "legendgroup": "SHALIMAR BAGH",
           "marker": {
            "color": "#ab63fa",
            "size": [
             5822
            ],
            "sizemode": "area",
            "sizeref": 226.9375,
            "symbol": "circle"
           },
           "mode": "markers",
           "name": "SHALIMAR BAGH",
           "orientation": "v",
           "showlegend": true,
           "type": "scatter",
           "x": [
            62656
           ],
           "xaxis": "x",
           "y": [
            51678
           ],
           "yaxis": "y"
          },
          {
           "hovertemplate": "<b>%{hovertext}</b><br><br>assembly=SHAKUR BASTI<br>year=2015<br>Votes for AAP=%{x}<br>Votes for BJP=%{y}<br>vote_split_amongst_other_candidates(m2)=%{marker.size}<extra></extra>",
           "hovertext": [
            "SHAKUR BASTI"
           ],
           "legendgroup": "SHAKUR BASTI",
           "marker": {
            "color": "#FFA15A",
            "size": [
             5954
            ],
            "sizemode": "area",
            "sizeref": 226.9375,
            "symbol": "circle"
           },
           "mode": "markers",
           "name": "SHAKUR BASTI",
           "orientation": "v",
           "showlegend": true,
           "type": "scatter",
           "x": [
            51530
           ],
           "xaxis": "x",
           "y": [
            48397
           ],
           "yaxis": "y"
          },
          {
           "hovertemplate": "<b>%{hovertext}</b><br><br>assembly=TRI NAGAR<br>year=2015<br>Votes for AAP=%{x}<br>Votes for BJP=%{y}<br>vote_split_amongst_other_candidates(m2)=%{marker.size}<extra></extra>",
           "hovertext": [
            "TRI NAGAR"
           ],
           "legendgroup": "TRI NAGAR",
           "marker": {
            "color": "#19d3f3",
            "size": [
             9399
            ],
            "sizemode": "area",
            "sizeref": 226.9375,
            "symbol": "circle"
           },
           "mode": "markers",
           "name": "TRI NAGAR",
           "orientation": "v",
           "showlegend": true,
           "type": "scatter",
           "x": [
            63012
           ],
           "xaxis": "x",
           "y": [
            40701
           ],
           "yaxis": "y"
          },
          {
           "hovertemplate": "<b>%{hovertext}</b><br><br>assembly=WAZIRPUR<br>year=2015<br>Votes for AAP=%{x}<br>Votes for BJP=%{y}<br>vote_split_amongst_other_candidates(m2)=%{marker.size}<extra></extra>",
           "hovertext": [
            "WAZIRPUR"
           ],
           "legendgroup": "WAZIRPUR",
           "marker": {
            "color": "#FF6692",
            "size": [
             11221
            ],
            "sizemode": "area",
            "sizeref": 226.9375,
            "symbol": "circle"
           },
           "mode": "markers",
           "name": "WAZIRPUR",
           "orientation": "v",
           "showlegend": true,
           "type": "scatter",
           "x": [
            61208
           ],
           "xaxis": "x",
           "y": [
            39164
           ],
           "yaxis": "y"
          },
          {
           "hovertemplate": "<b>%{hovertext}</b><br><br>assembly=MODEL TOWN<br>year=2015<br>Votes for AAP=%{x}<br>Votes for BJP=%{y}<br>vote_split_amongst_other_candidates(m2)=%{marker.size}<extra></extra>",
           "hovertext": [
            "MODEL TOWN"
           ],
           "legendgroup": "MODEL TOWN",
           "marker": {
            "color": "#B6E880",
            "size": [
             11732
            ],
            "sizemode": "area",
            "sizeref": 226.9375,
            "symbol": "circle"
           },
           "mode": "markers",
           "name": "MODEL TOWN",
           "orientation": "v",
           "showlegend": true,
           "type": "scatter",
           "x": [
            54628
           ],
           "xaxis": "x",
           "y": [
            37922
           ],
           "yaxis": "y"
          },
          {
           "hovertemplate": "<b>%{hovertext}</b><br><br>assembly=SADAR BAZAR<br>year=2015<br>Votes for AAP=%{x}<br>Votes for BJP=%{y}<br>vote_split_amongst_other_candidates(m2)=%{marker.size}<extra></extra>",
           "hovertext": [
            "SADAR BAZAR"
           ],
           "legendgroup": "SADAR BAZAR",
           "marker": {
            "color": "#FF97FF",
            "size": [
             18575
            ],
            "sizemode": "area",
            "sizeref": 226.9375,
            "symbol": "circle"
           },
           "mode": "markers",
           "name": "SADAR BAZAR",
           "orientation": "v",
           "showlegend": true,
           "type": "scatter",
           "x": [
            67507
           ],
           "xaxis": "x",
           "y": [
            33192
           ],
           "yaxis": "y"
          },
          {
           "hovertemplate": "<b>%{hovertext}</b><br><br>assembly=CHANDNI CHOWK<br>year=2015<br>Votes for AAP=%{x}<br>Votes for BJP=%{y}<br>vote_split_amongst_other_candidates(m2)=%{marker.size}<extra></extra>",
           "hovertext": [
            "CHANDNI CHOWK"
           ],
           "legendgroup": "CHANDNI CHOWK",
           "marker": {
            "color": "#FECB52",
            "size": [
             19247
            ],
            "sizemode": "area",
            "sizeref": 226.9375,
            "symbol": "circle"
           },
           "mode": "markers",
           "name": "CHANDNI CHOWK",
           "orientation": "v",
           "showlegend": true,
           "type": "scatter",
           "x": [
            36756
           ],
           "xaxis": "x",
           "y": [
            18469
           ],
           "yaxis": "y"
          },
          {
           "hovertemplate": "<b>%{hovertext}</b><br><br>assembly=MATIA MAHAL<br>year=2015<br>Votes for AAP=%{x}<br>Votes for BJP=%{y}<br>vote_split_amongst_other_candidates(m2)=%{marker.size}<extra></extra>",
           "hovertext": [
            "MATIA MAHAL"
           ],
           "legendgroup": "MATIA MAHAL",
           "marker": {
            "color": "#636efa",
            "size": [
             23649
            ],
            "sizemode": "area",
            "sizeref": 226.9375,
            "symbol": "circle"
           },
           "mode": "markers",
           "name": "MATIA MAHAL",
           "orientation": "v",
           "showlegend": true,
           "type": "scatter",
           "x": [
            47584
           ],
           "xaxis": "x",
           "y": [
            9105
           ],
           "yaxis": "y"
          },
          {
           "hovertemplate": "<b>%{hovertext}</b><br><br>assembly=BALLIMARAN<br>year=2015<br>Votes for AAP=%{x}<br>Votes for BJP=%{y}<br>vote_split_amongst_other_candidates(m2)=%{marker.size}<extra></extra>",
           "hovertext": [
            "BALLIMARAN"
           ],
           "legendgroup": "BALLIMARAN",
           "marker": {
            "color": "#EF553B",
            "size": [
             15298
            ],
            "sizemode": "area",
            "sizeref": 226.9375,
            "symbol": "circle"
           },
           "mode": "markers",
           "name": "BALLIMARAN",
           "orientation": "v",
           "showlegend": true,
           "type": "scatter",
           "x": [
            57118
           ],
           "xaxis": "x",
           "y": [
            23241
           ],
           "yaxis": "y"
          },
          {
           "hovertemplate": "<b>%{hovertext}</b><br><br>assembly=KAROL BAGH<br>year=2015<br>Votes for AAP=%{x}<br>Votes for BJP=%{y}<br>vote_split_amongst_other_candidates(m2)=%{marker.size}<extra></extra>",
           "hovertext": [
            "KAROL BAGH"
           ],
           "legendgroup": "KAROL BAGH",
           "marker": {
            "color": "#00cc96",
            "size": [
             10771
            ],
            "sizemode": "area",
            "sizeref": 226.9375,
            "symbol": "circle"
           },
           "mode": "markers",
           "name": "KAROL BAGH",
           "orientation": "v",
           "showlegend": true,
           "type": "scatter",
           "x": [
            67429
           ],
           "xaxis": "x",
           "y": [
            34549
           ],
           "yaxis": "y"
          },
          {
           "hovertemplate": "<b>%{hovertext}</b><br><br>assembly=PATEL NAGAR<br>year=2015<br>Votes for AAP=%{x}<br>Votes for BJP=%{y}<br>vote_split_amongst_other_candidates(m2)=%{marker.size}<extra></extra>",
           "hovertext": [
            "PATEL NAGAR"
           ],
           "legendgroup": "PATEL NAGAR",
           "marker": {
            "color": "#ab63fa",
            "size": [
             13515
            ],
            "sizemode": "area",
            "sizeref": 226.9375,
            "symbol": "circle"
           },
           "mode": "markers",
           "name": "PATEL NAGAR",
           "orientation": "v",
           "showlegend": true,
           "type": "scatter",
           "x": [
            68868
           ],
           "xaxis": "x",
           "y": [
            34230
           ],
           "yaxis": "y"
          },
          {
           "hovertemplate": "<b>%{hovertext}</b><br><br>assembly=MOTI NAGAR<br>year=2015<br>Votes for AAP=%{x}<br>Votes for BJP=%{y}<br>vote_split_amongst_other_candidates(m2)=%{marker.size}<extra></extra>",
           "hovertext": [
            "MOTI NAGAR"
           ],
           "legendgroup": "MOTI NAGAR",
           "marker": {
            "color": "#FFA15A",
            "size": [
             8143
            ],
            "sizemode": "area",
            "sizeref": 226.9375,
            "symbol": "circle"
           },
           "mode": "markers",
           "name": "MOTI NAGAR",
           "orientation": "v",
           "showlegend": true,
           "type": "scatter",
           "x": [
            60223
           ],
           "xaxis": "x",
           "y": [
            45002
           ],
           "yaxis": "y"
          },
          {
           "hovertemplate": "<b>%{hovertext}</b><br><br>assembly=MADIPUR<br>year=2015<br>Votes for AAP=%{x}<br>Votes for BJP=%{y}<br>vote_split_amongst_other_candidates(m2)=%{marker.size}<extra></extra>",
           "hovertext": [
            "MADIPUR"
           ],
           "legendgroup": "MADIPUR",
           "marker": {
            "color": "#19d3f3",
            "size": [
             12541
            ],
            "sizemode": "area",
            "sizeref": 226.9375,
            "symbol": "circle"
           },
           "mode": "markers",
           "name": "MADIPUR",
           "orientation": "v",
           "showlegend": true,
           "type": "scatter",
           "x": [
            66571
           ],
           "xaxis": "x",
           "y": [
            37184
           ],
           "yaxis": "y"
          },
          {
           "hovertemplate": "<b>%{hovertext}</b><br><br>assembly=RAJOURI GARDEN<br>year=2015<br>Votes for AAP=%{x}<br>Votes for BJP=%{y}<br>vote_split_amongst_other_candidates(m2)=%{marker.size}<extra></extra>",
           "hovertext": [
            "RAJOURI GARDEN"
           ],
           "legendgroup": "RAJOURI GARDEN",
           "marker": {
            "color": "#FF6692",
            "size": [
             0
            ],
            "sizemode": "area",
            "sizeref": 226.9375,
            "symbol": "circle"
           },
           "mode": "markers",
           "name": "RAJOURI GARDEN",
           "orientation": "v",
           "showlegend": true,
           "type": "scatter",
           "x": [
            54916
           ],
           "xaxis": "x",
           "y": [
            0
           ],
           "yaxis": "y"
          },
          {
           "hovertemplate": "<b>%{hovertext}</b><br><br>assembly=HARI NAGAR<br>year=2015<br>Votes for AAP=%{x}<br>Votes for BJP=%{y}<br>vote_split_amongst_other_candidates(m2)=%{marker.size}<extra></extra>",
           "hovertext": [
            "HARI NAGAR"
           ],
           "legendgroup": "HARI NAGAR",
           "marker": {
            "color": "#B6E880",
            "size": [
             7428
            ],
            "sizemode": "area",
            "sizeref": 226.9375,
            "symbol": "circle"
           },
           "mode": "markers",
           "name": "HARI NAGAR",
           "orientation": "v",
           "showlegend": true,
           "type": "scatter",
           "x": [
            65398
           ],
           "xaxis": "x",
           "y": [
            38954
           ],
           "yaxis": "y"
          },
          {
           "hovertemplate": "<b>%{hovertext}</b><br><br>assembly=TILAK NAGAR<br>year=2015<br>Votes for AAP=%{x}<br>Votes for BJP=%{y}<br>vote_split_amongst_other_candidates(m2)=%{marker.size}<extra></extra>",
           "hovertext": [
            "TILAK NAGAR"
           ],
           "legendgroup": "TILAK NAGAR",
           "marker": {
            "color": "#FF97FF",
            "size": [
             9314
            ],
            "sizemode": "area",
            "sizeref": 226.9375,
            "symbol": "circle"
           },
           "mode": "markers",
           "name": "TILAK NAGAR",
           "orientation": "v",
           "showlegend": true,
           "type": "scatter",
           "x": [
            57180
           ],
           "xaxis": "x",
           "y": [
            37290
           ],
           "yaxis": "y"
          },
          {
           "hovertemplate": "<b>%{hovertext}</b><br><br>assembly=JANAKPURI<br>year=2015<br>Votes for AAP=%{x}<br>Votes for BJP=%{y}<br>vote_split_amongst_other_candidates(m2)=%{marker.size}<extra></extra>",
           "hovertext": [
            "JANAKPURI"
           ],
           "legendgroup": "JANAKPURI",
           "marker": {
            "color": "#FECB52",
            "size": [
             6359
            ],
            "sizemode": "area",
            "sizeref": 226.9375,
            "symbol": "circle"
           },
           "mode": "markers",
           "name": "JANAKPURI",
           "orientation": "v",
           "showlegend": true,
           "type": "scatter",
           "x": [
            71802
           ],
           "xaxis": "x",
           "y": [
            46222
           ],
           "yaxis": "y"
          },
          {
           "hovertemplate": "<b>%{hovertext}</b><br><br>assembly=VIKASPURI<br>year=2015<br>Votes for AAP=%{x}<br>Votes for BJP=%{y}<br>vote_split_amongst_other_candidates(m2)=%{marker.size}<extra></extra>",
           "hovertext": [
            "VIKASPURI"
           ],
           "legendgroup": "VIKASPURI",
           "marker": {
            "color": "#636efa",
            "size": [
             24591
            ],
            "sizemode": "area",
            "sizeref": 226.9375,
            "symbol": "circle"
           },
           "mode": "markers",
           "name": "VIKASPURI",
           "orientation": "v",
           "showlegend": true,
           "type": "scatter",
           "x": [
            132437
           ],
           "xaxis": "x",
           "y": [
            54772
           ],
           "yaxis": "y"
          },
          {
           "hovertemplate": "<b>%{hovertext}</b><br><br>assembly=UTTAM NAGAR<br>year=2015<br>Votes for AAP=%{x}<br>Votes for BJP=%{y}<br>vote_split_amongst_other_candidates(m2)=%{marker.size}<extra></extra>",
           "hovertext": [
            "UTTAM NAGAR"
           ],
           "legendgroup": "UTTAM NAGAR",
           "marker": {
            "color": "#EF553B",
            "size": [
             23845
            ],
            "sizemode": "area",
            "sizeref": 226.9375,
            "symbol": "circle"
           },
           "mode": "markers",
           "name": "UTTAM NAGAR",
           "orientation": "v",
           "showlegend": true,
           "type": "scatter",
           "x": [
            85881
           ],
           "xaxis": "x",
           "y": [
            55462
           ],
           "yaxis": "y"
          },
          {
           "hovertemplate": "<b>%{hovertext}</b><br><br>assembly=DWARKA<br>year=2015<br>Votes for AAP=%{x}<br>Votes for BJP=%{y}<br>vote_split_amongst_other_candidates(m2)=%{marker.size}<extra></extra>",
           "hovertext": [
            "DWARKA"
           ],
           "legendgroup": "DWARKA",
           "marker": {
            "color": "#00cc96",
            "size": [
             14862
            ],
            "sizemode": "area",
            "sizeref": 226.9375,
            "symbol": "circle"
           },
           "mode": "markers",
           "name": "DWARKA",
           "orientation": "v",
           "showlegend": true,
           "type": "scatter",
           "x": [
            79729
           ],
           "xaxis": "x",
           "y": [
            40363
           ],
           "yaxis": "y"
          },
          {
           "hovertemplate": "<b>%{hovertext}</b><br><br>assembly=MATIALA<br>year=2015<br>Votes for AAP=%{x}<br>Votes for BJP=%{y}<br>vote_split_amongst_other_candidates(m2)=%{marker.size}<extra></extra>",
           "hovertext": [
            "MATIALA"
           ],
           "legendgroup": "MATIALA",
           "marker": {
            "color": "#ab63fa",
            "size": [
             24151
            ],
            "sizemode": "area",
            "sizeref": 226.9375,
            "symbol": "circle"
           },
           "mode": "markers",
           "name": "MATIALA",
           "orientation": "v",
           "showlegend": true,
           "type": "scatter",
           "x": [
            127665
           ],
           "xaxis": "x",
           "y": [
            80661
           ],
           "yaxis": "y"
          },
          {
           "hovertemplate": "<b>%{hovertext}</b><br><br>assembly=NAJAFGARH<br>year=2015<br>Votes for AAP=%{x}<br>Votes for BJP=%{y}<br>vote_split_amongst_other_candidates(m2)=%{marker.size}<extra></extra>",
           "hovertext": [
            "NAJAFGARH"
           ],
           "legendgroup": "NAJAFGARH",
           "marker": {
            "color": "#FFA15A",
            "size": [
             65514
            ],
            "sizemode": "area",
            "sizeref": 226.9375,
            "symbol": "circle"
           },
           "mode": "markers",
           "name": "NAJAFGARH",
           "orientation": "v",
           "showlegend": true,
           "type": "scatter",
           "x": [
            55598
           ],
           "xaxis": "x",
           "y": [
            39462
           ],
           "yaxis": "y"
          },
          {
           "hovertemplate": "<b>%{hovertext}</b><br><br>assembly=BIJWASAN<br>year=2015<br>Votes for AAP=%{x}<br>Votes for BJP=%{y}<br>vote_split_amongst_other_candidates(m2)=%{marker.size}<extra></extra>",
           "hovertext": [
            "BIJWASAN"
           ],
           "legendgroup": "BIJWASAN",
           "marker": {
            "color": "#19d3f3",
            "size": [
             7746
            ],
            "sizemode": "area",
            "sizeref": 226.9375,
            "symbol": "circle"
           },
           "mode": "markers",
           "name": "BIJWASAN",
           "orientation": "v",
           "showlegend": true,
           "type": "scatter",
           "x": [
            65006
           ],
           "xaxis": "x",
           "y": [
            45470
           ],
           "yaxis": "y"
          },
          {
           "hovertemplate": "<b>%{hovertext}</b><br><br>assembly=PALAM<br>year=2015<br>Votes for AAP=%{x}<br>Votes for BJP=%{y}<br>vote_split_amongst_other_candidates(m2)=%{marker.size}<extra></extra>",
           "hovertext": [
            "PALAM"
           ],
           "legendgroup": "PALAM",
           "marker": {
            "color": "#FF6692",
            "size": [
             13239
            ],
            "sizemode": "area",
            "sizeref": 226.9375,
            "symbol": "circle"
           },
           "mode": "markers",
           "name": "PALAM",
           "orientation": "v",
           "showlegend": true,
           "type": "scatter",
           "x": [
            82637
           ],
           "xaxis": "x",
           "y": [
            51788
           ],
           "yaxis": "y"
          },
          {
           "hovertemplate": "<b>%{hovertext}</b><br><br>assembly=DELHI CANTT<br>year=2015<br>Votes for AAP=%{x}<br>Votes for BJP=%{y}<br>vote_split_amongst_other_candidates(m2)=%{marker.size}<extra></extra>",
           "hovertext": [
            "DELHI CANTT"
           ],
           "legendgroup": "DELHI CANTT",
           "marker": {
            "color": "#B6E880",
            "size": [
             8381
            ],
            "sizemode": "area",
            "sizeref": 226.9375,
            "symbol": "circle"
           },
           "mode": "markers",
           "name": "DELHI CANTT",
           "orientation": "v",
           "showlegend": true,
           "type": "scatter",
           "x": [
            40133
           ],
           "xaxis": "x",
           "y": [
            28935
           ],
           "yaxis": "y"
          },
          {
           "hovertemplate": "<b>%{hovertext}</b><br><br>assembly=RAJINDER NAGAR<br>year=2015<br>Votes for AAP=%{x}<br>Votes for BJP=%{y}<br>vote_split_amongst_other_candidates(m2)=%{marker.size}<extra></extra>",
           "hovertext": [
            "RAJINDER NAGAR"
           ],
           "legendgroup": "RAJINDER NAGAR",
           "marker": {
            "color": "#FF97FF",
            "size": [
             12246
            ],
            "sizemode": "area",
            "sizeref": 226.9375,
            "symbol": "circle"
           },
           "mode": "markers",
           "name": "RAJINDER NAGAR",
           "orientation": "v",
           "showlegend": true,
           "type": "scatter",
           "x": [
            61354
           ],
           "xaxis": "x",
           "y": [
            41303
           ],
           "yaxis": "y"
          },
          {
           "hovertemplate": "<b>%{hovertext}</b><br><br>assembly=NEW DELHI<br>year=2015<br>Votes for AAP=%{x}<br>Votes for BJP=%{y}<br>vote_split_amongst_other_candidates(m2)=%{marker.size}<extra></extra>",
           "hovertext": [
            "NEW DELHI"
           ],
           "legendgroup": "NEW DELHI",
           "marker": {
            "color": "#FECB52",
            "size": [
             6366
            ],
            "sizemode": "area",
            "sizeref": 226.9375,
            "symbol": "circle"
           },
           "mode": "markers",
           "name": "NEW DELHI",
           "orientation": "v",
           "showlegend": true,
           "type": "scatter",
           "x": [
            57213
           ],
           "xaxis": "x",
           "y": [
            25630
           ],
           "yaxis": "y"
          },
          {
           "hovertemplate": "<b>%{hovertext}</b><br><br>assembly=JANGPURA<br>year=2015<br>Votes for AAP=%{x}<br>Votes for BJP=%{y}<br>vote_split_amongst_other_candidates(m2)=%{marker.size}<extra></extra>",
           "hovertext": [
            "JANGPURA"
           ],
           "legendgroup": "JANGPURA",
           "marker": {
            "color": "#636efa",
            "size": [
             23898
            ],
            "sizemode": "area",
            "sizeref": 226.9375,
            "symbol": "circle"
           },
           "mode": "markers",
           "name": "JANGPURA",
           "orientation": "v",
           "showlegend": true,
           "type": "scatter",
           "x": [
            43927
           ],
           "xaxis": "x",
           "y": [
            23477
           ],
           "yaxis": "y"
          },
          {
           "hovertemplate": "<b>%{hovertext}</b><br><br>assembly=KASTURBA NAGAR<br>year=2015<br>Votes for AAP=%{x}<br>Votes for BJP=%{y}<br>vote_split_amongst_other_candidates(m2)=%{marker.size}<extra></extra>",
           "hovertext": [
            "KASTURBA NAGAR"
           ],
           "legendgroup": "KASTURBA NAGAR",
           "marker": {
            "color": "#EF553B",
            "size": [
             12827
            ],
            "sizemode": "area",
            "sizeref": 226.9375,
            "symbol": "circle"
           },
           "mode": "markers",
           "name": "KASTURBA NAGAR",
           "orientation": "v",
           "showlegend": true,
           "type": "scatter",
           "x": [
            50766
           ],
           "xaxis": "x",
           "y": [
            34870
           ],
           "yaxis": "y"
          },
          {
           "hovertemplate": "<b>%{hovertext}</b><br><br>assembly=MALVIYA NAGAR<br>year=2015<br>Votes for AAP=%{x}<br>Votes for BJP=%{y}<br>vote_split_amongst_other_candidates(m2)=%{marker.size}<extra></extra>",
           "hovertext": [
            "MALVIYA NAGAR"
           ],
           "legendgroup": "MALVIYA NAGAR",
           "marker": {
            "color": "#00cc96",
            "size": [
             6610
            ],
            "sizemode": "area",
            "sizeref": 226.9375,
            "symbol": "circle"
           },
           "mode": "markers",
           "name": "MALVIYA NAGAR",
           "orientation": "v",
           "showlegend": true,
           "type": "scatter",
           "x": [
            51196
           ],
           "xaxis": "x",
           "y": [
            35299
           ],
           "yaxis": "y"
          },
          {
           "hovertemplate": "<b>%{hovertext}</b><br><br>assembly=R K PURAM<br>year=2015<br>Votes for AAP=%{x}<br>Votes for BJP=%{y}<br>vote_split_amongst_other_candidates(m2)=%{marker.size}<extra></extra>",
           "hovertext": [
            "R K PURAM"
           ],
           "legendgroup": "R K PURAM",
           "marker": {
            "color": "#ab63fa",
            "size": [
             6033
            ],
            "sizemode": "area",
            "sizeref": 226.9375,
            "symbol": "circle"
           },
           "mode": "markers",
           "name": "R K PURAM",
           "orientation": "v",
           "showlegend": true,
           "type": "scatter",
           "x": [
            54645
           ],
           "xaxis": "x",
           "y": [
            35577
           ],
           "yaxis": "y"
          },
          {
           "hovertemplate": "<b>%{hovertext}</b><br><br>assembly=MEHRAULI<br>year=2015<br>Votes for AAP=%{x}<br>Votes for BJP=%{y}<br>vote_split_amongst_other_candidates(m2)=%{marker.size}<extra></extra>",
           "hovertext": [
            "MEHRAULI"
           ],
           "legendgroup": "MEHRAULI",
           "marker": {
            "color": "#FFA15A",
            "size": [
             14525
            ],
            "sizemode": "area",
            "sizeref": 226.9375,
            "symbol": "circle"
           },
           "mode": "markers",
           "name": "MEHRAULI",
           "orientation": "v",
           "showlegend": true,
           "type": "scatter",
           "x": [
            58125
           ],
           "xaxis": "x",
           "y": [
            41174
           ],
           "yaxis": "y"
          },
          {
           "hovertemplate": "<b>%{hovertext}</b><br><br>assembly=CHHATARPUR<br>year=2015<br>Votes for AAP=%{x}<br>Votes for BJP=%{y}<br>vote_split_amongst_other_candidates(m2)=%{marker.size}<extra></extra>",
           "hovertext": [
            "CHHATARPUR"
           ],
           "legendgroup": "CHHATARPUR",
           "marker": {
            "color": "#19d3f3",
            "size": [
             11554
            ],
            "sizemode": "area",
            "sizeref": 226.9375,
            "symbol": "circle"
           },
           "mode": "markers",
           "name": "CHHATARPUR",
           "orientation": "v",
           "showlegend": true,
           "type": "scatter",
           "x": [
            67645
           ],
           "xaxis": "x",
           "y": [
            45405
           ],
           "yaxis": "y"
          },
          {
           "hovertemplate": "<b>%{hovertext}</b><br><br>assembly=DEOLI<br>year=2015<br>Votes for AAP=%{x}<br>Votes for BJP=%{y}<br>vote_split_amongst_other_candidates(m2)=%{marker.size}<extra></extra>",
           "hovertext": [
            "DEOLI"
           ],
           "legendgroup": "DEOLI",
           "marker": {
            "color": "#FF6692",
            "size": [
             7574
            ],
            "sizemode": "area",
            "sizeref": 226.9375,
            "symbol": "circle"
           },
           "mode": "markers",
           "name": "DEOLI",
           "orientation": "v",
           "showlegend": true,
           "type": "scatter",
           "x": [
            96530
           ],
           "xaxis": "x",
           "y": [
            32593
           ],
           "yaxis": "y"
          },
          {
           "hovertemplate": "<b>%{hovertext}</b><br><br>assembly=AMBEDKAR NAGAR<br>year=2015<br>Votes for AAP=%{x}<br>Votes for BJP=%{y}<br>vote_split_amongst_other_candidates(m2)=%{marker.size}<extra></extra>",
           "hovertext": [
            "AMBEDKAR NAGAR"
           ],
           "legendgroup": "AMBEDKAR NAGAR",
           "marker": {
            "color": "#B6E880",
            "size": [
             6634
            ],
            "sizemode": "area",
            "sizeref": 226.9375,
            "symbol": "circle"
           },
           "mode": "markers",
           "name": "AMBEDKAR NAGAR",
           "orientation": "v",
           "showlegend": true,
           "type": "scatter",
           "x": [
            66632
           ],
           "xaxis": "x",
           "y": [
            24172
           ],
           "yaxis": "y"
          },
          {
           "hovertemplate": "<b>%{hovertext}</b><br><br>assembly=SANGAM VIHAR<br>year=2015<br>Votes for AAP=%{x}<br>Votes for BJP=%{y}<br>vote_split_amongst_other_candidates(m2)=%{marker.size}<extra></extra>",
           "hovertext": [
            "SANGAM VIHAR"
           ],
           "legendgroup": "SANGAM VIHAR",
           "marker": {
            "color": "#FF97FF",
            "size": [
             9077
            ],
            "sizemode": "area",
            "sizeref": 226.9375,
            "symbol": "circle"
           },
           "mode": "markers",
           "name": "SANGAM VIHAR",
           "orientation": "v",
           "showlegend": true,
           "type": "scatter",
           "x": [
            72131
           ],
           "xaxis": "x",
           "y": [
            28143
           ],
           "yaxis": "y"
          },
          {
           "hovertemplate": "<b>%{hovertext}</b><br><br>assembly=GREATER KAILASH<br>year=2015<br>Votes for AAP=%{x}<br>Votes for BJP=%{y}<br>vote_split_amongst_other_candidates(m2)=%{marker.size}<extra></extra>",
           "hovertext": [
            "GREATER KAILASH"
           ],
           "legendgroup": "GREATER KAILASH",
           "marker": {
            "color": "#FECB52",
            "size": [
             7442
            ],
            "sizemode": "area",
            "sizeref": 226.9375,
            "symbol": "circle"
           },
           "mode": "markers",
           "name": "GREATER KAILASH",
           "orientation": "v",
           "showlegend": true,
           "type": "scatter",
           "x": [
            57589
           ],
           "xaxis": "x",
           "y": [
            43006
           ],
           "yaxis": "y"
          },
          {
           "hovertemplate": "<b>%{hovertext}</b><br><br>assembly=KALKAJI<br>year=2015<br>Votes for AAP=%{x}<br>Votes for BJP=%{y}<br>vote_split_amongst_other_candidates(m2)=%{marker.size}<extra></extra>",
           "hovertext": [
            "KALKAJI"
           ],
           "legendgroup": "KALKAJI",
           "marker": {
            "color": "#636efa",
            "size": [
             16105
            ],
            "sizemode": "area",
            "sizeref": 226.9375,
            "symbol": "circle"
           },
           "mode": "markers",
           "name": "KALKAJI",
           "orientation": "v",
           "showlegend": true,
           "type": "scatter",
           "x": [
            55104
           ],
           "xaxis": "x",
           "y": [
            35335
           ],
           "yaxis": "y"
          },
          {
           "hovertemplate": "<b>%{hovertext}</b><br><br>assembly=TUGHLAKABAD<br>year=2015<br>Votes for AAP=%{x}<br>Votes for BJP=%{y}<br>vote_split_amongst_other_candidates(m2)=%{marker.size}<extra></extra>",
           "hovertext": [
            "TUGHLAKABAD"
           ],
           "legendgroup": "TUGHLAKABAD",
           "marker": {
            "color": "#EF553B",
            "size": [
             8138
            ],
            "sizemode": "area",
            "sizeref": 226.9375,
            "symbol": "circle"
           },
           "mode": "markers",
           "name": "TUGHLAKABAD",
           "orientation": "v",
           "showlegend": true,
           "type": "scatter",
           "x": [
            64311
           ],
           "xaxis": "x",
           "y": [
            30610
           ],
           "yaxis": "y"
          },
          {
           "hovertemplate": "<b>%{hovertext}</b><br><br>assembly=BADARPUR<br>year=2015<br>Votes for AAP=%{x}<br>Votes for BJP=%{y}<br>vote_split_amongst_other_candidates(m2)=%{marker.size}<extra></extra>",
           "hovertext": [
            "BADARPUR"
           ],
           "legendgroup": "BADARPUR",
           "marker": {
            "color": "#00cc96",
            "size": [
             29510
            ],
            "sizemode": "area",
            "sizeref": 226.9375,
            "symbol": "circle"
           },
           "mode": "markers",
           "name": "BADARPUR",
           "orientation": "v",
           "showlegend": true,
           "type": "scatter",
           "x": [
            94242
           ],
           "xaxis": "x",
           "y": [
            46659
           ],
           "yaxis": "y"
          },
          {
           "hovertemplate": "<b>%{hovertext}</b><br><br>assembly=OKHLA<br>year=2015<br>Votes for AAP=%{x}<br>Votes for BJP=%{y}<br>vote_split_amongst_other_candidates(m2)=%{marker.size}<extra></extra>",
           "hovertext": [
            "OKHLA"
           ],
           "legendgroup": "OKHLA",
           "marker": {
            "color": "#ab63fa",
            "size": [
             22660
            ],
            "sizemode": "area",
            "sizeref": 226.9375,
            "symbol": "circle"
           },
           "mode": "markers",
           "name": "OKHLA",
           "orientation": "v",
           "showlegend": true,
           "type": "scatter",
           "x": [
            104271
           ],
           "xaxis": "x",
           "y": [
            39739
           ],
           "yaxis": "y"
          },
          {
           "hovertemplate": "<b>%{hovertext}</b><br><br>assembly=TRILOKPURI<br>year=2015<br>Votes for AAP=%{x}<br>Votes for BJP=%{y}<br>vote_split_amongst_other_candidates(m2)=%{marker.size}<extra></extra>",
           "hovertext": [
            "TRILOKPURI"
           ],
           "legendgroup": "TRILOKPURI",
           "marker": {
            "color": "#FFA15A",
            "size": [
             7719
            ],
            "sizemode": "area",
            "sizeref": 226.9375,
            "symbol": "circle"
           },
           "mode": "markers",
           "name": "TRILOKPURI",
           "orientation": "v",
           "showlegend": true,
           "type": "scatter",
           "x": [
            74907
           ],
           "xaxis": "x",
           "y": [
            45153
           ],
           "yaxis": "y"
          },
          {
           "hovertemplate": "<b>%{hovertext}</b><br><br>assembly=KONDLI<br>year=2015<br>Votes for AAP=%{x}<br>Votes for BJP=%{y}<br>vote_split_amongst_other_candidates(m2)=%{marker.size}<extra></extra>",
           "hovertext": [
            "KONDLI"
           ],
           "legendgroup": "KONDLI",
           "marker": {
            "color": "#19d3f3",
            "size": [
             23109
            ],
            "sizemode": "area",
            "sizeref": 226.9375,
            "symbol": "circle"
           },
           "mode": "markers",
           "name": "KONDLI",
           "orientation": "v",
           "showlegend": true,
           "type": "scatter",
           "x": [
            63185
           ],
           "xaxis": "x",
           "y": [
            38426
           ],
           "yaxis": "y"
          },
          {
           "hovertemplate": "<b>%{hovertext}</b><br><br>assembly=PATPARGANJ<br>year=2015<br>Votes for AAP=%{x}<br>Votes for BJP=%{y}<br>vote_split_amongst_other_candidates(m2)=%{marker.size}<extra></extra>",
           "hovertext": [
            "PATPARGANJ"
           ],
           "legendgroup": "PATPARGANJ",
           "marker": {
            "color": "#FF6692",
            "size": [
             18566
            ],
            "sizemode": "area",
            "sizeref": 226.9375,
            "symbol": "circle"
           },
           "mode": "markers",
           "name": "PATPARGANJ",
           "orientation": "v",
           "showlegend": true,
           "type": "scatter",
           "x": [
            75243
           ],
           "xaxis": "x",
           "y": [
            46452
           ],
           "yaxis": "y"
          },
          {
           "hovertemplate": "<b>%{hovertext}</b><br><br>assembly=LAXMI NAGAR<br>year=2015<br>Votes for AAP=%{x}<br>Votes for BJP=%{y}<br>vote_split_amongst_other_candidates(m2)=%{marker.size}<extra></extra>",
           "hovertext": [
            "LAXMI NAGAR"
           ],
           "legendgroup": "LAXMI NAGAR",
           "marker": {
            "color": "#B6E880",
            "size": [
             25231
            ],
            "sizemode": "area",
            "sizeref": 226.9375,
            "symbol": "circle"
           },
           "mode": "markers",
           "name": "LAXMI NAGAR",
           "orientation": "v",
           "showlegend": true,
           "type": "scatter",
           "x": [
            58229
           ],
           "xaxis": "x",
           "y": [
            53383
           ],
           "yaxis": "y"
          },
          {
           "hovertemplate": "<b>%{hovertext}</b><br><br>assembly=VISHWAS NAGAR<br>year=2015<br>Votes for AAP=%{x}<br>Votes for BJP=%{y}<br>vote_split_amongst_other_candidates(m2)=%{marker.size}<extra></extra>",
           "hovertext": [
            "VISHWAS NAGAR"
           ],
           "legendgroup": "VISHWAS NAGAR",
           "marker": {
            "color": "#FF97FF",
            "size": [
             22627
            ],
            "sizemode": "area",
            "sizeref": 226.9375,
            "symbol": "circle"
           },
           "mode": "markers",
           "name": "VISHWAS NAGAR",
           "orientation": "v",
           "showlegend": true,
           "type": "scatter",
           "x": [
            47966
           ],
           "xaxis": "x",
           "y": [
            58124
           ],
           "yaxis": "y"
          },
          {
           "hovertemplate": "<b>%{hovertext}</b><br><br>assembly=KRISHNA NAGAR<br>year=2015<br>Votes for AAP=%{x}<br>Votes for BJP=%{y}<br>vote_split_amongst_other_candidates(m2)=%{marker.size}<extra></extra>",
           "hovertext": [
            "KRISHNA NAGAR"
           ],
           "legendgroup": "KRISHNA NAGAR",
           "marker": {
            "color": "#FECB52",
            "size": [
             7805
            ],
            "sizemode": "area",
            "sizeref": 226.9375,
            "symbol": "circle"
           },
           "mode": "markers",
           "name": "KRISHNA NAGAR",
           "orientation": "v",
           "showlegend": true,
           "type": "scatter",
           "x": [
            65919
           ],
           "xaxis": "x",
           "y": [
            63642
           ],
           "yaxis": "y"
          },
          {
           "hovertemplate": "<b>%{hovertext}</b><br><br>assembly=GANDHI NAGAR<br>year=2015<br>Votes for AAP=%{x}<br>Votes for BJP=%{y}<br>vote_split_amongst_other_candidates(m2)=%{marker.size}<extra></extra>",
           "hovertext": [
            "GANDHI NAGAR"
           ],
           "legendgroup": "GANDHI NAGAR",
           "marker": {
            "color": "#636efa",
            "size": [
             18196
            ],
            "sizemode": "area",
            "sizeref": 226.9375,
            "symbol": "circle"
           },
           "mode": "markers",
           "name": "GANDHI NAGAR",
           "orientation": "v",
           "showlegend": true,
           "type": "scatter",
           "x": [
            50946
           ],
           "xaxis": "x",
           "y": [
            43464
           ],
           "yaxis": "y"
          },
          {
           "hovertemplate": "<b>%{hovertext}</b><br><br>assembly=SHAHDARA<br>year=2015<br>Votes for AAP=%{x}<br>Votes for BJP=%{y}<br>vote_split_amongst_other_candidates(m2)=%{marker.size}<extra></extra>",
           "hovertext": [
            "SHAHDARA"
           ],
           "legendgroup": "SHAHDARA",
           "marker": {
            "color": "#EF553B",
            "size": [
             12942
            ],
            "sizemode": "area",
            "sizeref": 226.9375,
            "symbol": "circle"
           },
           "mode": "markers",
           "name": "SHAHDARA",
           "orientation": "v",
           "showlegend": true,
           "type": "scatter",
           "x": [
            58523
           ],
           "xaxis": "x",
           "y": [
            46792
           ],
           "yaxis": "y"
          },
          {
           "hovertemplate": "<b>%{hovertext}</b><br><br>assembly=SEEMA PURI<br>year=2015<br>Votes for AAP=%{x}<br>Votes for BJP=%{y}<br>vote_split_amongst_other_candidates(m2)=%{marker.size}<extra></extra>",
           "hovertext": [
            "SEEMA PURI"
           ],
           "legendgroup": "SEEMA PURI",
           "marker": {
            "color": "#00cc96",
            "size": [
             15801
            ],
            "sizemode": "area",
            "sizeref": 226.9375,
            "symbol": "circle"
           },
           "mode": "markers",
           "name": "SEEMA PURI",
           "orientation": "v",
           "showlegend": true,
           "type": "scatter",
           "x": [
            79777
           ],
           "xaxis": "x",
           "y": [
            30956
           ],
           "yaxis": "y"
          },
          {
           "hovertemplate": "<b>%{hovertext}</b><br><br>assembly=ROHTAS NAGAR<br>year=2015<br>Votes for AAP=%{x}<br>Votes for BJP=%{y}<br>vote_split_amongst_other_candidates(m2)=%{marker.size}<extra></extra>",
           "hovertext": [
            "ROHTAS NAGAR"
           ],
           "legendgroup": "ROHTAS NAGAR",
           "marker": {
            "color": "#ab63fa",
            "size": [
             18812
            ],
            "sizemode": "area",
            "sizeref": 226.9375,
            "symbol": "circle"
           },
           "mode": "markers",
           "name": "ROHTAS NAGAR",
           "orientation": "v",
           "showlegend": true,
           "type": "scatter",
           "x": [
            62209
           ],
           "xaxis": "x",
           "y": [
            54335
           ],
           "yaxis": "y"
          },
          {
           "hovertemplate": "<b>%{hovertext}</b><br><br>assembly=SEELAMPUR<br>year=2015<br>Votes for AAP=%{x}<br>Votes for BJP=%{y}<br>vote_split_amongst_other_candidates(m2)=%{marker.size}<extra></extra>",
           "hovertext": [
            "SEELAMPUR"
           ],
           "legendgroup": "SEELAMPUR",
           "marker": {
            "color": "#FFA15A",
            "size": [
             25074
            ],
            "sizemode": "area",
            "sizeref": 226.9375,
            "symbol": "circle"
           },
           "mode": "markers",
           "name": "SEELAMPUR",
           "orientation": "v",
           "showlegend": true,
           "type": "scatter",
           "x": [
            57302
           ],
           "xaxis": "x",
           "y": [
            29415
           ],
           "yaxis": "y"
          },
          {
           "hovertemplate": "<b>%{hovertext}</b><br><br>assembly=GHONDA<br>year=2015<br>Votes for AAP=%{x}<br>Votes for BJP=%{y}<br>vote_split_amongst_other_candidates(m2)=%{marker.size}<extra></extra>",
           "hovertext": [
            "GHONDA"
           ],
           "legendgroup": "GHONDA",
           "marker": {
            "color": "#19d3f3",
            "size": [
             21751
            ],
            "sizemode": "area",
            "sizeref": 226.9375,
            "symbol": "circle"
           },
           "mode": "markers",
           "name": "GHONDA",
           "orientation": "v",
           "showlegend": true,
           "type": "scatter",
           "x": [
            60906
           ],
           "xaxis": "x",
           "y": [
            52813
           ],
           "yaxis": "y"
          },
          {
           "hovertemplate": "<b>%{hovertext}</b><br><br>assembly=BABARPUR<br>year=2015<br>Votes for AAP=%{x}<br>Votes for BJP=%{y}<br>vote_split_amongst_other_candidates(m2)=%{marker.size}<extra></extra>",
           "hovertext": [
            "BABARPUR"
           ],
           "legendgroup": "BABARPUR",
           "marker": {
            "color": "#FF6692",
            "size": [
             11735
            ],
            "sizemode": "area",
            "sizeref": 226.9375,
            "symbol": "circle"
           },
           "mode": "markers",
           "name": "BABARPUR",
           "orientation": "v",
           "showlegend": true,
           "type": "scatter",
           "x": [
            76179
           ],
           "xaxis": "x",
           "y": [
            40908
           ],
           "yaxis": "y"
          },
          {
           "hovertemplate": "<b>%{hovertext}</b><br><br>assembly=GOKALPUR<br>year=2015<br>Votes for AAP=%{x}<br>Votes for BJP=%{y}<br>vote_split_amongst_other_candidates(m2)=%{marker.size}<extra></extra>",
           "hovertext": [
            "GOKALPUR"
           ],
           "legendgroup": "GOKALPUR",
           "marker": {
            "color": "#B6E880",
            "size": [
             35725
            ],
            "sizemode": "area",
            "sizeref": 226.9375,
            "symbol": "circle"
           },
           "mode": "markers",
           "name": "GOKALPUR",
           "orientation": "v",
           "showlegend": true,
           "type": "scatter",
           "x": [
            71240
           ],
           "xaxis": "x",
           "y": [
            39272
           ],
           "yaxis": "y"
          },
          {
           "hovertemplate": "<b>%{hovertext}</b><br><br>assembly=MUSTAFABAD<br>year=2015<br>Votes for AAP=%{x}<br>Votes for BJP=%{y}<br>vote_split_amongst_other_candidates(m2)=%{marker.size}<extra></extra>",
           "hovertext": [
            "MUSTAFABAD"
           ],
           "legendgroup": "MUSTAFABAD",
           "marker": {
            "color": "#FF97FF",
            "size": [
             57100
            ],
            "sizemode": "area",
            "sizeref": 226.9375,
            "symbol": "circle"
           },
           "mode": "markers",
           "name": "MUSTAFABAD",
           "orientation": "v",
           "showlegend": true,
           "type": "scatter",
           "x": [
            49791
           ],
           "xaxis": "x",
           "y": [
            58388
           ],
           "yaxis": "y"
          },
          {
           "hovertemplate": "<b>%{hovertext}</b><br><br>assembly=KARAWAL NAGAR<br>year=2015<br>Votes for AAP=%{x}<br>Votes for BJP=%{y}<br>vote_split_amongst_other_candidates(m2)=%{marker.size}<extra></extra>",
           "hovertext": [
            "KARAWAL NAGAR"
           ],
           "legendgroup": "KARAWAL NAGAR",
           "marker": {
            "color": "#FECB52",
            "size": [
             10904
            ],
            "sizemode": "area",
            "sizeref": 226.9375,
            "symbol": "circle"
           },
           "mode": "markers",
           "name": "KARAWAL NAGAR",
           "orientation": "v",
           "showlegend": true,
           "type": "scatter",
           "x": [
            101865
           ],
           "xaxis": "x",
           "y": [
            57434
           ],
           "yaxis": "y"
          }
         ],
         "name": "2015"
        },
        {
         "data": [
          {
           "hovertemplate": "<b>%{hovertext}</b><br><br>assembly=NERELA<br>year=2013<br>Votes for AAP=%{x}<br>Votes for BJP=%{y}<br>vote_split_amongst_other_candidates(m2)=%{marker.size}<extra></extra>",
           "hovertext": [
            "NERELA"
           ],
           "legendgroup": "NERELA",
           "marker": {
            "color": "#636efa",
            "size": [
             65284
            ],
            "sizemode": "area",
            "sizeref": 226.9375,
            "symbol": "circle"
           },
           "mode": "markers",
           "name": "NERELA",
           "orientation": "v",
           "showlegend": true,
           "type": "scatter",
           "x": [
            24031
           ],
           "xaxis": "x",
           "y": [
            54622
           ],
           "yaxis": "y"
          },
          {
           "hovertemplate": "<b>%{hovertext}</b><br><br>assembly=BURARI<br>year=2013<br>Votes for AAP=%{x}<br>Votes for BJP=%{y}<br>vote_split_amongst_other_candidates(m2)=%{marker.size}<extra></extra>",
           "hovertext": [
            "BURARI"
           ],
           "legendgroup": "BURARI",
           "marker": {
            "color": "#EF553B",
            "size": [
             52330
            ],
            "sizemode": "area",
            "sizeref": 226.9375,
            "symbol": "circle"
           },
           "mode": "markers",
           "name": "BURARI",
           "orientation": "v",
           "showlegend": true,
           "type": "scatter",
           "x": [
            60164
           ],
           "xaxis": "x",
           "y": [
            49813
           ],
           "yaxis": "y"
          },
          {
           "hovertemplate": "<b>%{hovertext}</b><br><br>assembly=TIMARPUR<br>year=2013<br>Votes for AAP=%{x}<br>Votes for BJP=%{y}<br>vote_split_amongst_other_candidates(m2)=%{marker.size}<extra></extra>",
           "hovertext": [
            "TIMARPUR"
           ],
           "legendgroup": "TIMARPUR",
           "marker": {
            "color": "#00cc96",
            "size": [
             37272
            ],
            "sizemode": "area",
            "sizeref": 226.9375,
            "symbol": "circle"
           },
           "mode": "markers",
           "name": "TIMARPUR",
           "orientation": "v",
           "showlegend": true,
           "type": "scatter",
           "x": [
            39650
           ],
           "xaxis": "x",
           "y": [
            36267
           ],
           "yaxis": "y"
          },
          {
           "hovertemplate": "<b>%{hovertext}</b><br><br>assembly=ADARSH NAGAR<br>year=2013<br>Votes for AAP=%{x}<br>Votes for BJP=%{y}<br>vote_split_amongst_other_candidates(m2)=%{marker.size}<extra></extra>",
           "hovertext": [
            "ADARSH NAGAR"
           ],
           "legendgroup": "ADARSH NAGAR",
           "marker": {
            "color": "#ab63fa",
            "size": [
             33095
            ],
            "sizemode": "area",
            "sizeref": 226.9375,
            "symbol": "circle"
           },
           "mode": "markers",
           "name": "ADARSH NAGAR",
           "orientation": "v",
           "showlegend": true,
           "type": "scatter",
           "x": [
            26842
           ],
           "xaxis": "x",
           "y": [
            36765
           ],
           "yaxis": "y"
          },
          {
           "hovertemplate": "<b>%{hovertext}</b><br><br>assembly=BADLI<br>year=2013<br>Votes for AAP=%{x}<br>Votes for BJP=%{y}<br>vote_split_amongst_other_candidates(m2)=%{marker.size}<extra></extra>",
           "hovertext": [
            "BADLI"
           ],
           "legendgroup": "BADLI",
           "marker": {
            "color": "#FFA15A",
            "size": [
             59541
            ],
            "sizemode": "area",
            "sizeref": 226.9375,
            "symbol": "circle"
           },
           "mode": "markers",
           "name": "BADLI",
           "orientation": "v",
           "showlegend": true,
           "type": "scatter",
           "x": [
            31098
           ],
           "xaxis": "x",
           "y": [
            31263
           ],
           "yaxis": "y"
          },
          {
           "hovertemplate": "<b>%{hovertext}</b><br><br>assembly=RITHALA<br>year=2013<br>Votes for AAP=%{x}<br>Votes for BJP=%{y}<br>vote_split_amongst_other_candidates(m2)=%{marker.size}<extra></extra>",
           "hovertext": [
            "RITHALA"
           ],
           "legendgroup": "RITHALA",
           "marker": {
            "color": "#19d3f3",
            "size": [
             22083
            ],
            "sizemode": "area",
            "sizeref": 226.9375,
            "symbol": "circle"
           },
           "mode": "markers",
           "name": "RITHALA",
           "orientation": "v",
           "showlegend": true,
           "type": "scatter",
           "x": [
            48135
           ],
           "xaxis": "x",
           "y": [
            73961
           ],
           "yaxis": "y"
          },
          {
           "hovertemplate": "<b>%{hovertext}</b><br><br>assembly=BAWANA<br>year=2013<br>Votes for AAP=%{x}<br>Votes for BJP=%{y}<br>vote_split_amongst_other_candidates(m2)=%{marker.size}<extra></extra>",
           "hovertext": [
            "BAWANA"
           ],
           "legendgroup": "BAWANA",
           "marker": {
            "color": "#FF6692",
            "size": [
             55267
            ],
            "sizemode": "area",
            "sizeref": 226.9375,
            "symbol": "circle"
           },
           "mode": "markers",
           "name": "BAWANA",
           "orientation": "v",
           "showlegend": true,
           "type": "scatter",
           "x": [
            42768
           ],
           "xaxis": "x",
           "y": [
            68407
           ],
           "yaxis": "y"
          },
          {
           "hovertemplate": "<b>%{hovertext}</b><br><br>assembly=MUNDKA<br>year=2013<br>Votes for AAP=%{x}<br>Votes for BJP=%{y}<br>vote_split_amongst_other_candidates(m2)=%{marker.size}<extra></extra>",
           "hovertext": [
            "MUNDKA"
           ],
           "legendgroup": "MUNDKA",
           "marker": {
            "color": "#B6E880",
            "size": [
             84095
            ],
            "sizemode": "area",
            "sizeref": 226.9375,
            "symbol": "circle"
           },
           "mode": "markers",
           "name": "MUNDKA",
           "orientation": "v",
           "showlegend": true,
           "type": "scatter",
           "x": [
            23872
           ],
           "xaxis": "x",
           "y": [
            45430
           ],
           "yaxis": "y"
          },
          {
           "hovertemplate": "<b>%{hovertext}</b><br><br>assembly=KIRARI<br>year=2013<br>Votes for AAP=%{x}<br>Votes for BJP=%{y}<br>vote_split_amongst_other_candidates(m2)=%{marker.size}<extra></extra>",
           "hovertext": [
            "KIRARI"
           ],
           "legendgroup": "KIRARI",
           "marker": {
            "color": "#FF97FF",
            "size": [
             42582
            ],
            "sizemode": "area",
            "sizeref": 226.9375,
            "symbol": "circle"
           },
           "mode": "markers",
           "name": "KIRARI",
           "orientation": "v",
           "showlegend": true,
           "type": "scatter",
           "x": [
            23757
           ],
           "xaxis": "x",
           "y": [
            72283
           ],
           "yaxis": "y"
          },
          {
           "hovertemplate": "<b>%{hovertext}</b><br><br>assembly=SULTANPUR MAJRA<br>year=2013<br>Votes for AAP=%{x}<br>Votes for BJP=%{y}<br>vote_split_amongst_other_candidates(m2)=%{marker.size}<extra></extra>",
           "hovertext": [
            "SULTANPUR MAJRA"
           ],
           "legendgroup": "SULTANPUR MAJRA",
           "marker": {
            "color": "#FECB52",
            "size": [
             59374
            ],
            "sizemode": "area",
            "sizeref": 226.9375,
            "symbol": "circle"
           },
           "mode": "markers",
           "name": "SULTANPUR MAJRA",
           "orientation": "v",
           "showlegend": true,
           "type": "scatter",
           "x": [
            30346
           ],
           "xaxis": "x",
           "y": [
            15866
           ],
           "yaxis": "y"
          },
          {
           "hovertemplate": "<b>%{hovertext}</b><br><br>assembly=NANGLOI JAT<br>year=2013<br>Votes for AAP=%{x}<br>Votes for BJP=%{y}<br>vote_split_amongst_other_candidates(m2)=%{marker.size}<extra></extra>",
           "hovertext": [
            "NANGLOI JAT"
           ],
           "legendgroup": "NANGLOI JAT",
           "marker": {
            "color": "#636efa",
            "size": [
             52565
            ],
            "sizemode": "area",
            "sizeref": 226.9375,
            "symbol": "circle"
           },
           "mode": "markers",
           "name": "NANGLOI JAT",
           "orientation": "v",
           "showlegend": true,
           "type": "scatter",
           "x": [
            25743
           ],
           "xaxis": "x",
           "y": [
            57449
           ],
           "yaxis": "y"
          },
          {
           "hovertemplate": "<b>%{hovertext}</b><br><br>assembly=MANGOL PURI<br>year=2013<br>Votes for AAP=%{x}<br>Votes for BJP=%{y}<br>vote_split_amongst_other_candidates(m2)=%{marker.size}<extra></extra>",
           "hovertext": [
            "MANGOL PURI"
           ],
           "legendgroup": "MANGOL PURI",
           "marker": {
            "color": "#EF553B",
            "size": [
             39911
            ],
            "sizemode": "area",
            "sizeref": 226.9375,
            "symbol": "circle"
           },
           "mode": "markers",
           "name": "MANGOL PURI",
           "orientation": "v",
           "showlegend": true,
           "type": "scatter",
           "x": [
            44383
           ],
           "xaxis": "x",
           "y": [
            31232
           ],
           "yaxis": "y"
          },
          {
           "hovertemplate": "<b>%{hovertext}</b><br><br>assembly=ROHINI<br>year=2013<br>Votes for AAP=%{x}<br>Votes for BJP=%{y}<br>vote_split_amongst_other_candidates(m2)=%{marker.size}<extra></extra>",
           "hovertext": [
            "ROHINI"
           ],
           "legendgroup": "ROHINI",
           "marker": {
            "color": "#00cc96",
            "size": [
             16080
            ],
            "sizemode": "area",
            "sizeref": 226.9375,
            "symbol": "circle"
           },
           "mode": "markers",
           "name": "ROHINI",
           "orientation": "v",
           "showlegend": true,
           "type": "scatter",
           "x": [
            47890
           ],
           "xaxis": "x",
           "y": [
            46018
           ],
           "yaxis": "y"
          },
          {
           "hovertemplate": "<b>%{hovertext}</b><br><br>assembly=SHALIMAR BAGH<br>year=2013<br>Votes for AAP=%{x}<br>Votes for BJP=%{y}<br>vote_split_amongst_other_candidates(m2)=%{marker.size}<extra></extra>",
           "hovertext": [
            "SHALIMAR BAGH"
           ],
           "legendgroup": "SHALIMAR BAGH",
           "marker": {
            "color": "#ab63fa",
            "size": [
             23507
            ],
            "sizemode": "area",
            "sizeref": 226.9375,
            "symbol": "circle"
           },
           "mode": "markers",
           "name": "SHALIMAR BAGH",
           "orientation": "v",
           "showlegend": true,
           "type": "scatter",
           "x": [
            47235
           ],
           "xaxis": "x",
           "y": [
            36584
           ],
           "yaxis": "y"
          },
          {
           "hovertemplate": "<b>%{hovertext}</b><br><br>assembly=SHAKUR BASTI<br>year=2013<br>Votes for AAP=%{x}<br>Votes for BJP=%{y}<br>vote_split_amongst_other_candidates(m2)=%{marker.size}<extra></extra>",
           "hovertext": [
            "SHAKUR BASTI"
           ],
           "legendgroup": "SHAKUR BASTI",
           "marker": {
            "color": "#FFA15A",
            "size": [
             21709
            ],
            "sizemode": "area",
            "sizeref": 226.9375,
            "symbol": "circle"
           },
           "mode": "markers",
           "name": "SHAKUR BASTI",
           "orientation": "v",
           "showlegend": true,
           "type": "scatter",
           "x": [
            40232
           ],
           "xaxis": "x",
           "y": [
            33170
           ],
           "yaxis": "y"
          },
          {
           "hovertemplate": "<b>%{hovertext}</b><br><br>assembly=TRI NAGAR<br>year=2013<br>Votes for AAP=%{x}<br>Votes for BJP=%{y}<br>vote_split_amongst_other_candidates(m2)=%{marker.size}<extra></extra>",
           "hovertext": [
            "TRI NAGAR"
           ],
           "legendgroup": "TRI NAGAR",
           "marker": {
            "color": "#19d3f3",
            "size": [
             32198
            ],
            "sizemode": "area",
            "sizeref": 226.9375,
            "symbol": "circle"
           },
           "mode": "markers",
           "name": "TRI NAGAR",
           "orientation": "v",
           "showlegend": true,
           "type": "scatter",
           "x": [
            34161
           ],
           "xaxis": "x",
           "y": [
            36970
           ],
           "yaxis": "y"
          },
          {
           "hovertemplate": "<b>%{hovertext}</b><br><br>assembly=WAZIRPUR<br>year=2013<br>Votes for AAP=%{x}<br>Votes for BJP=%{y}<br>vote_split_amongst_other_candidates(m2)=%{marker.size}<extra></extra>",
           "hovertext": [
            "WAZIRPUR"
           ],
           "legendgroup": "WAZIRPUR",
           "marker": {
            "color": "#FF6692",
            "size": [
             33868
            ],
            "sizemode": "area",
            "sizeref": 226.9375,
            "symbol": "circle"
           },
           "mode": "markers",
           "name": "WAZIRPUR",
           "orientation": "v",
           "showlegend": true,
           "type": "scatter",
           "x": [
            31732
           ],
           "xaxis": "x",
           "y": [
            37306
           ],
           "yaxis": "y"
          },
          {
           "hovertemplate": "<b>%{hovertext}</b><br><br>assembly=MODEL TOWN<br>year=2013<br>Votes for AAP=%{x}<br>Votes for BJP=%{y}<br>vote_split_amongst_other_candidates(m2)=%{marker.size}<extra></extra>",
           "hovertext": [
            "MODEL TOWN"
           ],
           "legendgroup": "MODEL TOWN",
           "marker": {
            "color": "#B6E880",
            "size": [
             27500
            ],
            "sizemode": "area",
            "sizeref": 226.9375,
            "symbol": "circle"
           },
           "mode": "markers",
           "name": "MODEL TOWN",
           "orientation": "v",
           "showlegend": true,
           "type": "scatter",
           "x": [
            38492
           ],
           "xaxis": "x",
           "y": [
            30617
           ],
           "yaxis": "y"
          },
          {
           "hovertemplate": "<b>%{hovertext}</b><br><br>assembly=SADAR BAZAR<br>year=2013<br>Votes for AAP=%{x}<br>Votes for BJP=%{y}<br>vote_split_amongst_other_candidates(m2)=%{marker.size}<extra></extra>",
           "hovertext": [
            "SADAR BAZAR"
           ],
           "legendgroup": "SADAR BAZAR",
           "marker": {
            "color": "#FF97FF",
            "size": [
             41720
            ],
            "sizemode": "area",
            "sizeref": 226.9375,
            "symbol": "circle"
           },
           "mode": "markers",
           "name": "SADAR BAZAR",
           "orientation": "v",
           "showlegend": true,
           "type": "scatter",
           "x": [
            34079
           ],
           "xaxis": "x",
           "y": [
            33283
           ],
           "yaxis": "y"
          },
          {
           "hovertemplate": "<b>%{hovertext}</b><br><br>assembly=CHANDNI CHOWK<br>year=2013<br>Votes for AAP=%{x}<br>Votes for BJP=%{y}<br>vote_split_amongst_other_candidates(m2)=%{marker.size}<extra></extra>",
           "hovertext": [
            "CHANDNI CHOWK"
           ],
           "legendgroup": "CHANDNI CHOWK",
           "marker": {
            "color": "#FECB52",
            "size": [
             36328
            ],
            "sizemode": "area",
            "sizeref": 226.9375,
            "symbol": "circle"
           },
           "mode": "markers",
           "name": "CHANDNI CHOWK",
           "orientation": "v",
           "showlegend": true,
           "type": "scatter",
           "x": [
            15312
           ],
           "xaxis": "x",
           "y": [
            18092
           ],
           "yaxis": "y"
          },
          {
           "hovertemplate": "<b>%{hovertext}</b><br><br>assembly=MATIA MAHAL<br>year=2013<br>Votes for AAP=%{x}<br>Votes for BJP=%{y}<br>vote_split_amongst_other_candidates(m2)=%{marker.size}<extra></extra>",
           "hovertext": [
            "MATIA MAHAL"
           ],
           "legendgroup": "MATIA MAHAL",
           "marker": {
            "color": "#636efa",
            "size": [
             46937
            ],
            "sizemode": "area",
            "sizeref": 226.9375,
            "symbol": "circle"
           },
           "mode": "markers",
           "name": "MATIA MAHAL",
           "orientation": "v",
           "showlegend": true,
           "type": "scatter",
           "x": [
            18668
           ],
           "xaxis": "x",
           "y": [
            6061
           ],
           "yaxis": "y"
          },
          {
           "hovertemplate": "<b>%{hovertext}</b><br><br>assembly=BALLIMARAN<br>year=2013<br>Votes for AAP=%{x}<br>Votes for BJP=%{y}<br>vote_split_amongst_other_candidates(m2)=%{marker.size}<extra></extra>",
           "hovertext": [
            "BALLIMARAN"
           ],
           "legendgroup": "BALLIMARAN",
           "marker": {
            "color": "#EF553B",
            "size": [
             51632
            ],
            "sizemode": "area",
            "sizeref": 226.9375,
            "symbol": "circle"
           },
           "mode": "markers",
           "name": "BALLIMARAN",
           "orientation": "v",
           "showlegend": true,
           "type": "scatter",
           "x": [
            13103
           ],
           "xaxis": "x",
           "y": [
            24012
           ],
           "yaxis": "y"
          },
          {
           "hovertemplate": "<b>%{hovertext}</b><br><br>assembly=KAROL BAGH<br>year=2013<br>Votes for AAP=%{x}<br>Votes for BJP=%{y}<br>vote_split_amongst_other_candidates(m2)=%{marker.size}<extra></extra>",
           "hovertext": [
            "KAROL BAGH"
           ],
           "legendgroup": "KAROL BAGH",
           "marker": {
            "color": "#00cc96",
            "size": [
             32285
            ],
            "sizemode": "area",
            "sizeref": 226.9375,
            "symbol": "circle"
           },
           "mode": "markers",
           "name": "KAROL BAGH",
           "orientation": "v",
           "showlegend": true,
           "type": "scatter",
           "x": [
            35818
           ],
           "xaxis": "x",
           "y": [
            34068
           ],
           "yaxis": "y"
          },
          {
           "hovertemplate": "<b>%{hovertext}</b><br><br>assembly=PATEL NAGAR<br>year=2013<br>Votes for AAP=%{x}<br>Votes for BJP=%{y}<br>vote_split_amongst_other_candidates(m2)=%{marker.size}<extra></extra>",
           "hovertext": [
            "PATEL NAGAR"
           ],
           "legendgroup": "PATEL NAGAR",
           "marker": {
            "color": "#ab63fa",
            "size": [
             31074
            ],
            "sizemode": "area",
            "sizeref": 226.9375,
            "symbol": "circle"
           },
           "mode": "markers",
           "name": "PATEL NAGAR",
           "orientation": "v",
           "showlegend": true,
           "type": "scatter",
           "x": [
            38899
           ],
           "xaxis": "x",
           "y": [
            32637
           ],
           "yaxis": "y"
          },
          {
           "hovertemplate": "<b>%{hovertext}</b><br><br>assembly=MOTI NAGAR<br>year=2013<br>Votes for AAP=%{x}<br>Votes for BJP=%{y}<br>vote_split_amongst_other_candidates(m2)=%{marker.size}<extra></extra>",
           "hovertext": [
            "MOTI NAGAR"
           ],
           "legendgroup": "MOTI NAGAR",
           "marker": {
            "color": "#FFA15A",
            "size": [
             31242
            ],
            "sizemode": "area",
            "sizeref": 226.9375,
            "symbol": "circle"
           },
           "mode": "markers",
           "name": "MOTI NAGAR",
           "orientation": "v",
           "showlegend": true,
           "type": "scatter",
           "x": [
            26578
           ],
           "xaxis": "x",
           "y": [
            42599
           ],
           "yaxis": "y"
          },
          {
           "hovertemplate": "<b>%{hovertext}</b><br><br>assembly=MADIPUR<br>year=2013<br>Votes for AAP=%{x}<br>Votes for BJP=%{y}<br>vote_split_amongst_other_candidates(m2)=%{marker.size}<extra></extra>",
           "hovertext": [
            "MADIPUR"
           ],
           "legendgroup": "MADIPUR",
           "marker": {
            "color": "#19d3f3",
            "size": [
             29479
            ],
            "sizemode": "area",
            "sizeref": 226.9375,
            "symbol": "circle"
           },
           "mode": "markers",
           "name": "MADIPUR",
           "orientation": "v",
           "showlegend": true,
           "type": "scatter",
           "x": [
            36393
           ],
           "xaxis": "x",
           "y": [
            35290
           ],
           "yaxis": "y"
          },
          {
           "hovertemplate": "<b>%{hovertext}</b><br><br>assembly=RAJOURI GARDEN<br>year=2013<br>Votes for AAP=%{x}<br>Votes for BJP=%{y}<br>vote_split_amongst_other_candidates(m2)=%{marker.size}<extra></extra>",
           "hovertext": [
            "RAJOURI GARDEN"
           ],
           "legendgroup": "RAJOURI GARDEN",
           "marker": {
            "color": "#FF6692",
            "size": [
             0
            ],
            "sizemode": "area",
            "sizeref": 226.9375,
            "symbol": "circle"
           },
           "mode": "markers",
           "name": "RAJOURI GARDEN",
           "orientation": "v",
           "showlegend": true,
           "type": "scatter",
           "x": [
            17022
           ],
           "xaxis": "x",
           "y": [
            0
           ],
           "yaxis": "y"
          },
          {
           "hovertemplate": "<b>%{hovertext}</b><br><br>assembly=HARI NAGAR<br>year=2013<br>Votes for AAP=%{x}<br>Votes for BJP=%{y}<br>vote_split_amongst_other_candidates(m2)=%{marker.size}<extra></extra>",
           "hovertext": [
            "HARI NAGAR"
           ],
           "legendgroup": "HARI NAGAR",
           "marker": {
            "color": "#B6E880",
            "size": [
             0
            ],
            "sizemode": "area",
            "sizeref": 226.9375,
            "symbol": "circle"
           },
           "mode": "markers",
           "name": "HARI NAGAR",
           "orientation": "v",
           "showlegend": true,
           "type": "scatter",
           "x": [
            38912
           ],
           "xaxis": "x",
           "y": [
            0
           ],
           "yaxis": "y"
          },
          {
           "hovertemplate": "<b>%{hovertext}</b><br><br>assembly=TILAK NAGAR<br>year=2013<br>Votes for AAP=%{x}<br>Votes for BJP=%{y}<br>vote_split_amongst_other_candidates(m2)=%{marker.size}<extra></extra>",
           "hovertext": [
            "TILAK NAGAR"
           ],
           "legendgroup": "TILAK NAGAR",
           "marker": {
            "color": "#FF97FF",
            "size": [
             20932
            ],
            "sizemode": "area",
            "sizeref": 226.9375,
            "symbol": "circle"
           },
           "mode": "markers",
           "name": "TILAK NAGAR",
           "orientation": "v",
           "showlegend": true,
           "type": "scatter",
           "x": [
            34493
           ],
           "xaxis": "x",
           "y": [
            32405
           ],
           "yaxis": "y"
          },
          {
           "hovertemplate": "<b>%{hovertext}</b><br><br>assembly=JANAKPURI<br>year=2013<br>Votes for AAP=%{x}<br>Votes for BJP=%{y}<br>vote_split_amongst_other_candidates(m2)=%{marker.size}<extra></extra>",
           "hovertext": [
            "JANAKPURI"
           ],
           "legendgroup": "JANAKPURI",
           "marker": {
            "color": "#FECB52",
            "size": [
             24424
            ],
            "sizemode": "area",
            "sizeref": 226.9375,
            "symbol": "circle"
           },
           "mode": "markers",
           "name": "JANAKPURI",
           "orientation": "v",
           "showlegend": true,
           "type": "scatter",
           "x": [
            40242
           ],
           "xaxis": "x",
           "y": [
            42886
           ],
           "yaxis": "y"
          },
          {
           "hovertemplate": "<b>%{hovertext}</b><br><br>assembly=VIKASPURI<br>year=2013<br>Votes for AAP=%{x}<br>Votes for BJP=%{y}<br>vote_split_amongst_other_candidates(m2)=%{marker.size}<extra></extra>",
           "hovertext": [
            "VIKASPURI"
           ],
           "legendgroup": "VIKASPURI",
           "marker": {
            "color": "#636efa",
            "size": [
             57061
            ],
            "sizemode": "area",
            "sizeref": 226.9375,
            "symbol": "circle"
           },
           "mode": "markers",
           "name": "VIKASPURI",
           "orientation": "v",
           "showlegend": true,
           "type": "scatter",
           "x": [
            62032
           ],
           "xaxis": "x",
           "y": [
            61627
           ],
           "yaxis": "y"
          },
          {
           "hovertemplate": "<b>%{hovertext}</b><br><br>assembly=UTTAM NAGAR<br>year=2013<br>Votes for AAP=%{x}<br>Votes for BJP=%{y}<br>vote_split_amongst_other_candidates(m2)=%{marker.size}<extra></extra>",
           "hovertext": [
            "UTTAM NAGAR"
           ],
           "legendgroup": "UTTAM NAGAR",
           "marker": {
            "color": "#EF553B",
            "size": [
             50992
            ],
            "sizemode": "area",
            "sizeref": 226.9375,
            "symbol": "circle"
           },
           "mode": "markers",
           "name": "UTTAM NAGAR",
           "orientation": "v",
           "showlegend": true,
           "type": "scatter",
           "x": [
            33619
           ],
           "xaxis": "x",
           "y": [
            48377
           ],
           "yaxis": "y"
          },
          {
           "hovertemplate": "<b>%{hovertext}</b><br><br>assembly=DWARKA<br>year=2013<br>Votes for AAP=%{x}<br>Votes for BJP=%{y}<br>vote_split_amongst_other_candidates(m2)=%{marker.size}<extra></extra>",
           "hovertext": [
            "DWARKA"
           ],
           "legendgroup": "DWARKA",
           "marker": {
            "color": "#00cc96",
            "size": [
             34296
            ],
            "sizemode": "area",
            "sizeref": 226.9375,
            "symbol": "circle"
           },
           "mode": "markers",
           "name": "DWARKA",
           "orientation": "v",
           "showlegend": true,
           "type": "scatter",
           "x": [
            37537
           ],
           "xaxis": "x",
           "y": [
            42734
           ],
           "yaxis": "y"
          },
          {
           "hovertemplate": "<b>%{hovertext}</b><br><br>assembly=MATIALA<br>year=2013<br>Votes for AAP=%{x}<br>Votes for BJP=%{y}<br>vote_split_amongst_other_candidates(m2)=%{marker.size}<extra></extra>",
           "hovertext": [
            "MATIALA"
           ],
           "legendgroup": "MATIALA",
           "marker": {
            "color": "#ab63fa",
            "size": [
             57889
            ],
            "sizemode": "area",
            "sizeref": 226.9375,
            "symbol": "circle"
           },
           "mode": "markers",
           "name": "MATIALA",
           "orientation": "v",
           "showlegend": true,
           "type": "scatter",
           "x": [
            66051
           ],
           "xaxis": "x",
           "y": [
            70053
           ],
           "yaxis": "y"
          },
          {
           "hovertemplate": "<b>%{hovertext}</b><br><br>assembly=NAJAFGARH<br>year=2013<br>Votes for AAP=%{x}<br>Votes for BJP=%{y}<br>vote_split_amongst_other_candidates(m2)=%{marker.size}<extra></extra>",
           "hovertext": [
            "NAJAFGARH"
           ],
           "legendgroup": "NAJAFGARH",
           "marker": {
            "color": "#FFA15A",
            "size": [
             66659
            ],
            "sizemode": "area",
            "sizeref": 226.9375,
            "symbol": "circle"
           },
           "mode": "markers",
           "name": "NAJAFGARH",
           "orientation": "v",
           "showlegend": true,
           "type": "scatter",
           "x": [
            22798
           ],
           "xaxis": "x",
           "y": [
            54358
           ],
           "yaxis": "y"
          },
          {
           "hovertemplate": "<b>%{hovertext}</b><br><br>assembly=BIJWASAN<br>year=2013<br>Votes for AAP=%{x}<br>Votes for BJP=%{y}<br>vote_split_amongst_other_candidates(m2)=%{marker.size}<extra></extra>",
           "hovertext": [
            "BIJWASAN"
           ],
           "legendgroup": "BIJWASAN",
           "marker": {
            "color": "#19d3f3",
            "size": [
             34316
            ],
            "sizemode": "area",
            "sizeref": 226.9375,
            "symbol": "circle"
           },
           "mode": "markers",
           "name": "BIJWASAN",
           "orientation": "v",
           "showlegend": true,
           "type": "scatter",
           "x": [
            33574
           ],
           "xaxis": "x",
           "y": [
            35988
           ],
           "yaxis": "y"
          },
          {
           "hovertemplate": "<b>%{hovertext}</b><br><br>assembly=PALAM<br>year=2013<br>Votes for AAP=%{x}<br>Votes for BJP=%{y}<br>vote_split_amongst_other_candidates(m2)=%{marker.size}<extra></extra>",
           "hovertext": [
            "PALAM"
           ],
           "legendgroup": "PALAM",
           "marker": {
            "color": "#FF6692",
            "size": [
             51330
            ],
            "sizemode": "area",
            "sizeref": 226.9375,
            "symbol": "circle"
           },
           "mode": "markers",
           "name": "PALAM",
           "orientation": "v",
           "showlegend": true,
           "type": "scatter",
           "x": [
            34461
           ],
           "xaxis": "x",
           "y": [
            42833
           ],
           "yaxis": "y"
          },
          {
           "hovertemplate": "<b>%{hovertext}</b><br><br>assembly=DELHI CANTT<br>year=2013<br>Votes for AAP=%{x}<br>Votes for BJP=%{y}<br>vote_split_amongst_other_candidates(m2)=%{marker.size}<extra></extra>",
           "hovertext": [
            "DELHI CANTT"
           ],
           "legendgroup": "DELHI CANTT",
           "marker": {
            "color": "#B6E880",
            "size": [
             13967
            ],
            "sizemode": "area",
            "sizeref": 226.9375,
            "symbol": "circle"
           },
           "mode": "markers",
           "name": "DELHI CANTT",
           "orientation": "v",
           "showlegend": true,
           "type": "scatter",
           "x": [
            26124
           ],
           "xaxis": "x",
           "y": [
            25769
           ],
           "yaxis": "y"
          },
          {
           "hovertemplate": "<b>%{hovertext}</b><br><br>assembly=RAJINDER NAGAR<br>year=2013<br>Votes for AAP=%{x}<br>Votes for BJP=%{y}<br>vote_split_amongst_other_candidates(m2)=%{marker.size}<extra></extra>",
           "hovertext": [
            "RAJINDER NAGAR"
           ],
           "legendgroup": "RAJINDER NAGAR",
           "marker": {
            "color": "#FF97FF",
            "size": [
             30082
            ],
            "sizemode": "area",
            "sizeref": 226.9375,
            "symbol": "circle"
           },
           "mode": "markers",
           "name": "RAJINDER NAGAR",
           "orientation": "v",
           "showlegend": true,
           "type": "scatter",
           "x": [
            33917
           ],
           "xaxis": "x",
           "y": [
            35713
           ],
           "yaxis": "y"
          },
          {
           "hovertemplate": "<b>%{hovertext}</b><br><br>assembly=NEW DELHI<br>year=2013<br>Votes for AAP=%{x}<br>Votes for BJP=%{y}<br>vote_split_amongst_other_candidates(m2)=%{marker.size}<extra></extra>",
           "hovertext": [
            "NEW DELHI"
           ],
           "legendgroup": "NEW DELHI",
           "marker": {
            "color": "#FECB52",
            "size": [
             20583
            ],
            "sizemode": "area",
            "sizeref": 226.9375,
            "symbol": "circle"
           },
           "mode": "markers",
           "name": "NEW DELHI",
           "orientation": "v",
           "showlegend": true,
           "type": "scatter",
           "x": [
            44269
           ],
           "xaxis": "x",
           "y": [
            17952
           ],
           "yaxis": "y"
          },
          {
           "hovertemplate": "<b>%{hovertext}</b><br><br>assembly=JANGPURA<br>year=2013<br>Votes for AAP=%{x}<br>Votes for BJP=%{y}<br>vote_split_amongst_other_candidates(m2)=%{marker.size}<extra></extra>",
           "hovertext": [
            "JANGPURA"
           ],
           "legendgroup": "JANGPURA",
           "marker": {
            "color": "#636efa",
            "size": [
             31695
            ],
            "sizemode": "area",
            "sizeref": 226.9375,
            "symbol": "circle"
           },
           "mode": "markers",
           "name": "JANGPURA",
           "orientation": "v",
           "showlegend": true,
           "type": "scatter",
           "x": [
            29701
           ],
           "xaxis": "x",
           "y": [
            18978
           ],
           "yaxis": "y"
          },
          {
           "hovertemplate": "<b>%{hovertext}</b><br><br>assembly=KASTURBA NAGAR<br>year=2013<br>Votes for AAP=%{x}<br>Votes for BJP=%{y}<br>vote_split_amongst_other_candidates(m2)=%{marker.size}<extra></extra>",
           "hovertext": [
            "KASTURBA NAGAR"
           ],
           "legendgroup": "KASTURBA NAGAR",
           "marker": {
            "color": "#EF553B",
            "size": [
             25836
            ],
            "sizemode": "area",
            "sizeref": 226.9375,
            "symbol": "circle"
           },
           "mode": "markers",
           "name": "KASTURBA NAGAR",
           "orientation": "v",
           "showlegend": true,
           "type": "scatter",
           "x": [
            33609
           ],
           "xaxis": "x",
           "y": [
            28935
           ],
           "yaxis": "y"
          },
          {
           "hovertemplate": "<b>%{hovertext}</b><br><br>assembly=MALVIYA NAGAR<br>year=2013<br>Votes for AAP=%{x}<br>Votes for BJP=%{y}<br>vote_split_amongst_other_candidates(m2)=%{marker.size}<extra></extra>",
           "hovertext": [
            "MALVIYA NAGAR"
           ],
           "legendgroup": "MALVIYA NAGAR",
           "marker": {
            "color": "#00cc96",
            "size": [
             25064
            ],
            "sizemode": "area",
            "sizeref": 226.9375,
            "symbol": "circle"
           },
           "mode": "markers",
           "name": "MALVIYA NAGAR",
           "orientation": "v",
           "showlegend": true,
           "type": "scatter",
           "x": [
            32258
           ],
           "xaxis": "x",
           "y": [
            24486
           ],
           "yaxis": "y"
          },
          {
           "hovertemplate": "<b>%{hovertext}</b><br><br>assembly=R K PURAM<br>year=2013<br>Votes for AAP=%{x}<br>Votes for BJP=%{y}<br>vote_split_amongst_other_candidates(m2)=%{marker.size}<extra></extra>",
           "hovertext": [
            "R K PURAM"
           ],
           "legendgroup": "R K PURAM",
           "marker": {
            "color": "#ab63fa",
            "size": [
             28765
            ],
            "sizemode": "area",
            "sizeref": 226.9375,
            "symbol": "circle"
           },
           "mode": "markers",
           "name": "R K PURAM",
           "orientation": "v",
           "showlegend": true,
           "type": "scatter",
           "x": [
            27691
           ],
           "xaxis": "x",
           "y": [
            28017
           ],
           "yaxis": "y"
          },
          {
           "hovertemplate": "<b>%{hovertext}</b><br><br>assembly=MEHRAULI<br>year=2013<br>Votes for AAP=%{x}<br>Votes for BJP=%{y}<br>vote_split_amongst_other_candidates(m2)=%{marker.size}<extra></extra>",
           "hovertext": [
            "MEHRAULI"
           ],
           "legendgroup": "MEHRAULI",
           "marker": {
            "color": "#FFA15A",
            "size": [
             26393
            ],
            "sizemode": "area",
            "sizeref": 226.9375,
            "symbol": "circle"
           },
           "mode": "markers",
           "name": "MEHRAULI",
           "orientation": "v",
           "showlegend": true,
           "type": "scatter",
           "x": [
            32917
           ],
           "xaxis": "x",
           "y": [
            37481
           ],
           "yaxis": "y"
          },
          {
           "hovertemplate": "<b>%{hovertext}</b><br><br>assembly=CHHATARPUR<br>year=2013<br>Votes for AAP=%{x}<br>Votes for BJP=%{y}<br>vote_split_amongst_other_candidates(m2)=%{marker.size}<extra></extra>",
           "hovertext": [
            "CHHATARPUR"
           ],
           "legendgroup": "CHHATARPUR",
           "marker": {
            "color": "#19d3f3",
            "size": [
             38614
            ],
            "sizemode": "area",
            "sizeref": 226.9375,
            "symbol": "circle"
           },
           "mode": "markers",
           "name": "CHHATARPUR",
           "orientation": "v",
           "showlegend": true,
           "type": "scatter",
           "x": [
            22285
           ],
           "xaxis": "x",
           "y": [
            49975
           ],
           "yaxis": "y"
          },
          {
           "hovertemplate": "<b>%{hovertext}</b><br><br>assembly=DEOLI<br>year=2013<br>Votes for AAP=%{x}<br>Votes for BJP=%{y}<br>vote_split_amongst_other_candidates(m2)=%{marker.size}<extra></extra>",
           "hovertext": [
            "DEOLI"
           ],
           "legendgroup": "DEOLI",
           "marker": {
            "color": "#FF6692",
            "size": [
             32142
            ],
            "sizemode": "area",
            "sizeref": 226.9375,
            "symbol": "circle"
           },
           "mode": "markers",
           "name": "DEOLI",
           "orientation": "v",
           "showlegend": true,
           "type": "scatter",
           "x": [
            51646
           ],
           "xaxis": "x",
           "y": [
            34538
           ],
           "yaxis": "y"
          },
          {
           "hovertemplate": "<b>%{hovertext}</b><br><br>assembly=AMBEDKAR NAGAR<br>year=2013<br>Votes for AAP=%{x}<br>Votes for BJP=%{y}<br>vote_split_amongst_other_candidates(m2)=%{marker.size}<extra></extra>",
           "hovertext": [
            "AMBEDKAR NAGAR"
           ],
           "legendgroup": "AMBEDKAR NAGAR",
           "marker": {
            "color": "#B6E880",
            "size": [
             24615
            ],
            "sizemode": "area",
            "sizeref": 226.9375,
            "symbol": "circle"
           },
           "mode": "markers",
           "name": "AMBEDKAR NAGAR",
           "orientation": "v",
           "showlegend": true,
           "type": "scatter",
           "x": [
            36239
           ],
           "xaxis": "x",
           "y": [
            24569
           ],
           "yaxis": "y"
          },
          {
           "hovertemplate": "<b>%{hovertext}</b><br><br>assembly=SANGAM VIHAR<br>year=2013<br>Votes for AAP=%{x}<br>Votes for BJP=%{y}<br>vote_split_amongst_other_candidates(m2)=%{marker.size}<extra></extra>",
           "hovertext": [
            "SANGAM VIHAR"
           ],
           "legendgroup": "SANGAM VIHAR",
           "marker": {
            "color": "#FF97FF",
            "size": [
             40248
            ],
            "sizemode": "area",
            "sizeref": 226.9375,
            "symbol": "circle"
           },
           "mode": "markers",
           "name": "SANGAM VIHAR",
           "orientation": "v",
           "showlegend": true,
           "type": "scatter",
           "x": [
            24851
           ],
           "xaxis": "x",
           "y": [
            24074
           ],
           "yaxis": "y"
          },
          {
           "hovertemplate": "<b>%{hovertext}</b><br><br>assembly=GREATER KAILASH<br>year=2013<br>Votes for AAP=%{x}<br>Votes for BJP=%{y}<br>vote_split_amongst_other_candidates(m2)=%{marker.size}<extra></extra>",
           "hovertext": [
            "GREATER KAILASH"
           ],
           "legendgroup": "GREATER KAILASH",
           "marker": {
            "color": "#FECB52",
            "size": [
             22121
            ],
            "sizemode": "area",
            "sizeref": 226.9375,
            "symbol": "circle"
           },
           "mode": "markers",
           "name": "GREATER KAILASH",
           "orientation": "v",
           "showlegend": true,
           "type": "scatter",
           "x": [
            43097
           ],
           "xaxis": "x",
           "y": [
            30005
           ],
           "yaxis": "y"
          },
          {
           "hovertemplate": "<b>%{hovertext}</b><br><br>assembly=KALKAJI<br>year=2013<br>Votes for AAP=%{x}<br>Votes for BJP=%{y}<br>vote_split_amongst_other_candidates(m2)=%{marker.size}<extra></extra>",
           "hovertext": [
            "KALKAJI"
           ],
           "legendgroup": "KALKAJI",
           "marker": {
            "color": "#636efa",
            "size": [
             31533
            ],
            "sizemode": "area",
            "sizeref": 226.9375,
            "symbol": "circle"
           },
           "mode": "markers",
           "name": "KALKAJI",
           "orientation": "v",
           "showlegend": true,
           "type": "scatter",
           "x": [
            28639
           ],
           "xaxis": "x",
           "y": [
            30683
           ],
           "yaxis": "y"
          },
          {
           "hovertemplate": "<b>%{hovertext}</b><br><br>assembly=TUGHLAKABAD<br>year=2013<br>Votes for AAP=%{x}<br>Votes for BJP=%{y}<br>vote_split_amongst_other_candidates(m2)=%{marker.size}<extra></extra>",
           "hovertext": [
            "TUGHLAKABAD"
           ],
           "legendgroup": "TUGHLAKABAD",
           "marker": {
            "color": "#EF553B",
            "size": [
             40763
            ],
            "sizemode": "area",
            "sizeref": 226.9375,
            "symbol": "circle"
           },
           "mode": "markers",
           "name": "TUGHLAKABAD",
           "orientation": "v",
           "showlegend": true,
           "type": "scatter",
           "x": [
            12465
           ],
           "xaxis": "x",
           "y": [
            34009
           ],
           "yaxis": "y"
          },
          {
           "hovertemplate": "<b>%{hovertext}</b><br><br>assembly=BADARPUR<br>year=2013<br>Votes for AAP=%{x}<br>Votes for BJP=%{y}<br>vote_split_amongst_other_candidates(m2)=%{marker.size}<extra></extra>",
           "hovertext": [
            "BADARPUR"
           ],
           "legendgroup": "BADARPUR",
           "marker": {
            "color": "#00cc96",
            "size": [
             66278
            ],
            "sizemode": "area",
            "sizeref": 226.9375,
            "symbol": "circle"
           },
           "mode": "markers",
           "name": "BADARPUR",
           "orientation": "v",
           "showlegend": true,
           "type": "scatter",
           "x": [
            20833
           ],
           "xaxis": "x",
           "y": [
            45344
           ],
           "yaxis": "y"
          },
          {
           "hovertemplate": "<b>%{hovertext}</b><br><br>assembly=OKHLA<br>year=2013<br>Votes for AAP=%{x}<br>Votes for BJP=%{y}<br>vote_split_amongst_other_candidates(m2)=%{marker.size}<extra></extra>",
           "hovertext": [
            "OKHLA"
           ],
           "legendgroup": "OKHLA",
           "marker": {
            "color": "#ab63fa",
            "size": [
             90775
            ],
            "sizemode": "area",
            "sizeref": 226.9375,
            "symbol": "circle"
           },
           "mode": "markers",
           "name": "OKHLA",
           "orientation": "v",
           "showlegend": true,
           "type": "scatter",
           "x": [
            23459
           ],
           "xaxis": "x",
           "y": [
            23358
           ],
           "yaxis": "y"
          },
          {
           "hovertemplate": "<b>%{hovertext}</b><br><br>assembly=TRILOKPURI<br>year=2013<br>Votes for AAP=%{x}<br>Votes for BJP=%{y}<br>vote_split_amongst_other_candidates(m2)=%{marker.size}<extra></extra>",
           "hovertext": [
            "TRILOKPURI"
           ],
           "legendgroup": "TRILOKPURI",
           "marker": {
            "color": "#FFA15A",
            "size": [
             42766
            ],
            "sizemode": "area",
            "sizeref": 226.9375,
            "symbol": "circle"
           },
           "mode": "markers",
           "name": "TRILOKPURI",
           "orientation": "v",
           "showlegend": true,
           "type": "scatter",
           "x": [
            44082
           ],
           "xaxis": "x",
           "y": [
            26397
           ],
           "yaxis": "y"
          },
          {
           "hovertemplate": "<b>%{hovertext}</b><br><br>assembly=KONDLI<br>year=2013<br>Votes for AAP=%{x}<br>Votes for BJP=%{y}<br>vote_split_amongst_other_candidates(m2)=%{marker.size}<extra></extra>",
           "hovertext": [
            "KONDLI"
           ],
           "legendgroup": "KONDLI",
           "marker": {
            "color": "#19d3f3",
            "size": [
             41663
            ],
            "sizemode": "area",
            "sizeref": 226.9375,
            "symbol": "circle"
           },
           "mode": "markers",
           "name": "KONDLI",
           "orientation": "v",
           "showlegend": true,
           "type": "scatter",
           "x": [
            36863
           ],
           "xaxis": "x",
           "y": [
            29373
           ],
           "yaxis": "y"
          },
          {
           "hovertemplate": "<b>%{hovertext}</b><br><br>assembly=PATPARGANJ<br>year=2013<br>Votes for AAP=%{x}<br>Votes for BJP=%{y}<br>vote_split_amongst_other_candidates(m2)=%{marker.size}<extra></extra>",
           "hovertext": [
            "PATPARGANJ"
           ],
           "legendgroup": "PATPARGANJ",
           "marker": {
            "color": "#FF6692",
            "size": [
             31961
            ],
            "sizemode": "area",
            "sizeref": 226.9375,
            "symbol": "circle"
           },
           "mode": "markers",
           "name": "PATPARGANJ",
           "orientation": "v",
           "showlegend": true,
           "type": "scatter",
           "x": [
            50211
           ],
           "xaxis": "x",
           "y": [
            38735
           ],
           "yaxis": "y"
          },
          {
           "hovertemplate": "<b>%{hovertext}</b><br><br>assembly=LAXMI NAGAR<br>year=2013<br>Votes for AAP=%{x}<br>Votes for BJP=%{y}<br>vote_split_amongst_other_candidates(m2)=%{marker.size}<extra></extra>",
           "hovertext": [
            "LAXMI NAGAR"
           ],
           "legendgroup": "LAXMI NAGAR",
           "marker": {
            "color": "#B6E880",
            "size": [
             41335
            ],
            "sizemode": "area",
            "sizeref": 226.9375,
            "symbol": "circle"
           },
           "mode": "markers",
           "name": "LAXMI NAGAR",
           "orientation": "v",
           "showlegend": true,
           "type": "scatter",
           "x": [
            43052
           ],
           "xaxis": "x",
           "y": [
            33849
           ],
           "yaxis": "y"
          },
          {
           "hovertemplate": "<b>%{hovertext}</b><br><br>assembly=VISHWAS NAGAR<br>year=2013<br>Votes for AAP=%{x}<br>Votes for BJP=%{y}<br>vote_split_amongst_other_candidates(m2)=%{marker.size}<extra></extra>",
           "hovertext": [
            "VISHWAS NAGAR"
           ],
           "legendgroup": "VISHWAS NAGAR",
           "marker": {
            "color": "#FF97FF",
            "size": [
             42723
            ],
            "sizemode": "area",
            "sizeref": 226.9375,
            "symbol": "circle"
           },
           "mode": "markers",
           "name": "VISHWAS NAGAR",
           "orientation": "v",
           "showlegend": true,
           "type": "scatter",
           "x": [
            30388
           ],
           "xaxis": "x",
           "y": [
            44801
           ],
           "yaxis": "y"
          },
          {
           "hovertemplate": "<b>%{hovertext}</b><br><br>assembly=KRISHNA NAGAR<br>year=2013<br>Votes for AAP=%{x}<br>Votes for BJP=%{y}<br>vote_split_amongst_other_candidates(m2)=%{marker.size}<extra></extra>",
           "hovertext": [
            "KRISHNA NAGAR"
           ],
           "legendgroup": "KRISHNA NAGAR",
           "marker": {
            "color": "#FECB52",
            "size": [
             31946
            ],
            "sizemode": "area",
            "sizeref": 226.9375,
            "symbol": "circle"
           },
           "mode": "markers",
           "name": "KRISHNA NAGAR",
           "orientation": "v",
           "showlegend": true,
           "type": "scatter",
           "x": [
            17498
           ],
           "xaxis": "x",
           "y": [
            69222
           ],
           "yaxis": "y"
          },
          {
           "hovertemplate": "<b>%{hovertext}</b><br><br>assembly=GANDHI NAGAR<br>year=2013<br>Votes for AAP=%{x}<br>Votes for BJP=%{y}<br>vote_split_amongst_other_candidates(m2)=%{marker.size}<extra></extra>",
           "hovertext": [
            "GANDHI NAGAR"
           ],
           "legendgroup": "GANDHI NAGAR",
           "marker": {
            "color": "#636efa",
            "size": [
             52394
            ],
            "sizemode": "area",
            "sizeref": 226.9375,
            "symbol": "circle"
           },
           "mode": "markers",
           "name": "GANDHI NAGAR",
           "orientation": "v",
           "showlegend": true,
           "type": "scatter",
           "x": [
            16546
           ],
           "xaxis": "x",
           "y": [
            31936
           ],
           "yaxis": "y"
          },
          {
           "hovertemplate": "<b>%{hovertext}</b><br><br>assembly=SHAHDARA<br>year=2013<br>Votes for AAP=%{x}<br>Votes for BJP=%{y}<br>vote_split_amongst_other_candidates(m2)=%{marker.size}<extra></extra>",
           "hovertext": [
            "SHAHDARA"
           ],
           "legendgroup": "SHAHDARA",
           "marker": {
            "color": "#EF553B",
            "size": [
             36727
            ],
            "sizemode": "area",
            "sizeref": 226.9375,
            "symbol": "circle"
           },
           "mode": "markers",
           "name": "SHAHDARA",
           "orientation": "v",
           "showlegend": true,
           "type": "scatter",
           "x": [
            23512
           ],
           "xaxis": "x",
           "y": [
            45364
           ],
           "yaxis": "y"
          },
          {
           "hovertemplate": "<b>%{hovertext}</b><br><br>assembly=SEEMA PURI<br>year=2013<br>Votes for AAP=%{x}<br>Votes for BJP=%{y}<br>vote_split_amongst_other_candidates(m2)=%{marker.size}<extra></extra>",
           "hovertext": [
            "SEEMA PURI"
           ],
           "legendgroup": "SEEMA PURI",
           "marker": {
            "color": "#00cc96",
            "size": [
             46844
            ],
            "sizemode": "area",
            "sizeref": 226.9375,
            "symbol": "circle"
           },
           "mode": "markers",
           "name": "SEEMA PURI",
           "orientation": "v",
           "showlegend": true,
           "type": "scatter",
           "x": [
            43199
           ],
           "xaxis": "x",
           "y": [
            24356
           ],
           "yaxis": "y"
          },
          {
           "hovertemplate": "<b>%{hovertext}</b><br><br>assembly=ROHTAS NAGAR<br>year=2013<br>Votes for AAP=%{x}<br>Votes for BJP=%{y}<br>vote_split_amongst_other_candidates(m2)=%{marker.size}<extra></extra>",
           "hovertext": [
            "ROHTAS NAGAR"
           ],
           "legendgroup": "ROHTAS NAGAR",
           "marker": {
            "color": "#ab63fa",
            "size": [
             35863
            ],
            "sizemode": "area",
            "sizeref": 226.9375,
            "symbol": "circle"
           },
           "mode": "markers",
           "name": "ROHTAS NAGAR",
           "orientation": "v",
           "showlegend": true,
           "type": "scatter",
           "x": [
            34973
           ],
           "xaxis": "x",
           "y": [
            49916
           ],
           "yaxis": "y"
          },
          {
           "hovertemplate": "<b>%{hovertext}</b><br><br>assembly=SEELAMPUR<br>year=2013<br>Votes for AAP=%{x}<br>Votes for BJP=%{y}<br>vote_split_amongst_other_candidates(m2)=%{marker.size}<extra></extra>",
           "hovertext": [
            "SEELAMPUR"
           ],
           "legendgroup": "SEELAMPUR",
           "marker": {
            "color": "#FFA15A",
            "size": [
             62152
            ],
            "sizemode": "area",
            "sizeref": 226.9375,
            "symbol": "circle"
           },
           "mode": "markers",
           "name": "SEELAMPUR",
           "orientation": "v",
           "showlegend": true,
           "type": "scatter",
           "x": [
            12969
           ],
           "xaxis": "x",
           "y": [
            24724
           ],
           "yaxis": "y"
          },
          {
           "hovertemplate": "<b>%{hovertext}</b><br><br>assembly=GHONDA<br>year=2013<br>Votes for AAP=%{x}<br>Votes for BJP=%{y}<br>vote_split_amongst_other_candidates(m2)=%{marker.size}<extra></extra>",
           "hovertext": [
            "GHONDA"
           ],
           "legendgroup": "GHONDA",
           "marker": {
            "color": "#19d3f3",
            "size": [
             49955
            ],
            "sizemode": "area",
            "sizeref": 226.9375,
            "symbol": "circle"
           },
           "mode": "markers",
           "name": "GHONDA",
           "orientation": "v",
           "showlegend": true,
           "type": "scatter",
           "x": [
            23621
           ],
           "xaxis": "x",
           "y": [
            47531
           ],
           "yaxis": "y"
          },
          {
           "hovertemplate": "<b>%{hovertext}</b><br><br>assembly=BABARPUR<br>year=2013<br>Votes for AAP=%{x}<br>Votes for BJP=%{y}<br>vote_split_amongst_other_candidates(m2)=%{marker.size}<extra></extra>",
           "hovertext": [
            "BABARPUR"
           ],
           "legendgroup": "BABARPUR",
           "marker": {
            "color": "#FF6692",
            "size": [
             55072
            ],
            "sizemode": "area",
            "sizeref": 226.9375,
            "symbol": "circle"
           },
           "mode": "markers",
           "name": "BABARPUR",
           "orientation": "v",
           "showlegend": true,
           "type": "scatter",
           "x": [
            25723
           ],
           "xaxis": "x",
           "y": [
            34180
           ],
           "yaxis": "y"
          },
          {
           "hovertemplate": "<b>%{hovertext}</b><br><br>assembly=GOKALPUR<br>year=2013<br>Votes for AAP=%{x}<br>Votes for BJP=%{y}<br>vote_split_amongst_other_candidates(m2)=%{marker.size}<extra></extra>",
           "hovertext": [
            "GOKALPUR"
           ],
           "legendgroup": "GOKALPUR",
           "marker": {
            "color": "#B6E880",
            "size": [
             63528
            ],
            "sizemode": "area",
            "sizeref": 226.9375,
            "symbol": "circle"
           },
           "mode": "markers",
           "name": "GOKALPUR",
           "orientation": "v",
           "showlegend": true,
           "type": "scatter",
           "x": [
            29633
           ],
           "xaxis": "x",
           "y": [
            34888
           ],
           "yaxis": "y"
          },
          {
           "hovertemplate": "<b>%{hovertext}</b><br><br>assembly=MUSTAFABAD<br>year=2013<br>Votes for AAP=%{x}<br>Votes for BJP=%{y}<br>vote_split_amongst_other_candidates(m2)=%{marker.size}<extra></extra>",
           "hovertext": [
            "MUSTAFABAD"
           ],
           "legendgroup": "MUSTAFABAD",
           "marker": {
            "color": "#FF97FF",
            "size": [
             72962
            ],
            "sizemode": "area",
            "sizeref": 226.9375,
            "symbol": "circle"
           },
           "mode": "markers",
           "name": "MUSTAFABAD",
           "orientation": "v",
           "showlegend": true,
           "type": "scatter",
           "x": [
            19759
           ],
           "xaxis": "x",
           "y": [
            54354
           ],
           "yaxis": "y"
          },
          {
           "hovertemplate": "<b>%{hovertext}</b><br><br>assembly=KARAWAL NAGAR<br>year=2013<br>Votes for AAP=%{x}<br>Votes for BJP=%{y}<br>vote_split_amongst_other_candidates(m2)=%{marker.size}<extra></extra>",
           "hovertext": [
            "KARAWAL NAGAR"
           ],
           "legendgroup": "KARAWAL NAGAR",
           "marker": {
            "color": "#FECB52",
            "size": [
             46758
            ],
            "sizemode": "area",
            "sizeref": 226.9375,
            "symbol": "circle"
           },
           "mode": "markers",
           "name": "KARAWAL NAGAR",
           "orientation": "v",
           "showlegend": true,
           "type": "scatter",
           "x": [
            46179
           ],
           "xaxis": "x",
           "y": [
            49262
           ],
           "yaxis": "y"
          }
         ],
         "name": "2013"
        }
       ],
       "layout": {
        "legend": {
         "itemsizing": "constant",
         "title": {
          "text": "assembly"
         },
         "tracegroupgap": 0
        },
        "showlegend": true,
        "sliders": [
         {
          "active": 0,
          "currentvalue": {
           "prefix": "year="
          },
          "len": 0.9,
          "pad": {
           "b": 10,
           "t": 60
          },
          "steps": [
           {
            "args": [
             [
              "2020"
             ],
             {
              "frame": {
               "duration": 0,
               "redraw": false
              },
              "fromcurrent": true,
              "mode": "immediate",
              "transition": {
               "duration": 0,
               "easing": "linear"
              }
             }
            ],
            "label": "2020",
            "method": "animate"
           },
           {
            "args": [
             [
              "2015"
             ],
             {
              "frame": {
               "duration": 0,
               "redraw": false
              },
              "fromcurrent": true,
              "mode": "immediate",
              "transition": {
               "duration": 0,
               "easing": "linear"
              }
             }
            ],
            "label": "2015",
            "method": "animate"
           },
           {
            "args": [
             [
              "2013"
             ],
             {
              "frame": {
               "duration": 0,
               "redraw": false
              },
              "fromcurrent": true,
              "mode": "immediate",
              "transition": {
               "duration": 0,
               "easing": "linear"
              }
             }
            ],
            "label": "2013",
            "method": "animate"
           }
          ],
          "x": 0.1,
          "xanchor": "left",
          "y": 0,
          "yanchor": "top"
         }
        ],
        "template": {
         "data": {
          "bar": [
           {
            "error_x": {
             "color": "#2a3f5f"
            },
            "error_y": {
             "color": "#2a3f5f"
            },
            "marker": {
             "line": {
              "color": "#E5ECF6",
              "width": 0.5
             },
             "pattern": {
              "fillmode": "overlay",
              "size": 10,
              "solidity": 0.2
             }
            },
            "type": "bar"
           }
          ],
          "barpolar": [
           {
            "marker": {
             "line": {
              "color": "#E5ECF6",
              "width": 0.5
             },
             "pattern": {
              "fillmode": "overlay",
              "size": 10,
              "solidity": 0.2
             }
            },
            "type": "barpolar"
           }
          ],
          "carpet": [
           {
            "aaxis": {
             "endlinecolor": "#2a3f5f",
             "gridcolor": "white",
             "linecolor": "white",
             "minorgridcolor": "white",
             "startlinecolor": "#2a3f5f"
            },
            "baxis": {
             "endlinecolor": "#2a3f5f",
             "gridcolor": "white",
             "linecolor": "white",
             "minorgridcolor": "white",
             "startlinecolor": "#2a3f5f"
            },
            "type": "carpet"
           }
          ],
          "choropleth": [
           {
            "colorbar": {
             "outlinewidth": 0,
             "ticks": ""
            },
            "type": "choropleth"
           }
          ],
          "contour": [
           {
            "colorbar": {
             "outlinewidth": 0,
             "ticks": ""
            },
            "colorscale": [
             [
              0,
              "#0d0887"
             ],
             [
              0.1111111111111111,
              "#46039f"
             ],
             [
              0.2222222222222222,
              "#7201a8"
             ],
             [
              0.3333333333333333,
              "#9c179e"
             ],
             [
              0.4444444444444444,
              "#bd3786"
             ],
             [
              0.5555555555555556,
              "#d8576b"
             ],
             [
              0.6666666666666666,
              "#ed7953"
             ],
             [
              0.7777777777777778,
              "#fb9f3a"
             ],
             [
              0.8888888888888888,
              "#fdca26"
             ],
             [
              1,
              "#f0f921"
             ]
            ],
            "type": "contour"
           }
          ],
          "contourcarpet": [
           {
            "colorbar": {
             "outlinewidth": 0,
             "ticks": ""
            },
            "type": "contourcarpet"
           }
          ],
          "heatmap": [
           {
            "colorbar": {
             "outlinewidth": 0,
             "ticks": ""
            },
            "colorscale": [
             [
              0,
              "#0d0887"
             ],
             [
              0.1111111111111111,
              "#46039f"
             ],
             [
              0.2222222222222222,
              "#7201a8"
             ],
             [
              0.3333333333333333,
              "#9c179e"
             ],
             [
              0.4444444444444444,
              "#bd3786"
             ],
             [
              0.5555555555555556,
              "#d8576b"
             ],
             [
              0.6666666666666666,
              "#ed7953"
             ],
             [
              0.7777777777777778,
              "#fb9f3a"
             ],
             [
              0.8888888888888888,
              "#fdca26"
             ],
             [
              1,
              "#f0f921"
             ]
            ],
            "type": "heatmap"
           }
          ],
          "heatmapgl": [
           {
            "colorbar": {
             "outlinewidth": 0,
             "ticks": ""
            },
            "colorscale": [
             [
              0,
              "#0d0887"
             ],
             [
              0.1111111111111111,
              "#46039f"
             ],
             [
              0.2222222222222222,
              "#7201a8"
             ],
             [
              0.3333333333333333,
              "#9c179e"
             ],
             [
              0.4444444444444444,
              "#bd3786"
             ],
             [
              0.5555555555555556,
              "#d8576b"
             ],
             [
              0.6666666666666666,
              "#ed7953"
             ],
             [
              0.7777777777777778,
              "#fb9f3a"
             ],
             [
              0.8888888888888888,
              "#fdca26"
             ],
             [
              1,
              "#f0f921"
             ]
            ],
            "type": "heatmapgl"
           }
          ],
          "histogram": [
           {
            "marker": {
             "pattern": {
              "fillmode": "overlay",
              "size": 10,
              "solidity": 0.2
             }
            },
            "type": "histogram"
           }
          ],
          "histogram2d": [
           {
            "colorbar": {
             "outlinewidth": 0,
             "ticks": ""
            },
            "colorscale": [
             [
              0,
              "#0d0887"
             ],
             [
              0.1111111111111111,
              "#46039f"
             ],
             [
              0.2222222222222222,
              "#7201a8"
             ],
             [
              0.3333333333333333,
              "#9c179e"
             ],
             [
              0.4444444444444444,
              "#bd3786"
             ],
             [
              0.5555555555555556,
              "#d8576b"
             ],
             [
              0.6666666666666666,
              "#ed7953"
             ],
             [
              0.7777777777777778,
              "#fb9f3a"
             ],
             [
              0.8888888888888888,
              "#fdca26"
             ],
             [
              1,
              "#f0f921"
             ]
            ],
            "type": "histogram2d"
           }
          ],
          "histogram2dcontour": [
           {
            "colorbar": {
             "outlinewidth": 0,
             "ticks": ""
            },
            "colorscale": [
             [
              0,
              "#0d0887"
             ],
             [
              0.1111111111111111,
              "#46039f"
             ],
             [
              0.2222222222222222,
              "#7201a8"
             ],
             [
              0.3333333333333333,
              "#9c179e"
             ],
             [
              0.4444444444444444,
              "#bd3786"
             ],
             [
              0.5555555555555556,
              "#d8576b"
             ],
             [
              0.6666666666666666,
              "#ed7953"
             ],
             [
              0.7777777777777778,
              "#fb9f3a"
             ],
             [
              0.8888888888888888,
              "#fdca26"
             ],
             [
              1,
              "#f0f921"
             ]
            ],
            "type": "histogram2dcontour"
           }
          ],
          "mesh3d": [
           {
            "colorbar": {
             "outlinewidth": 0,
             "ticks": ""
            },
            "type": "mesh3d"
           }
          ],
          "parcoords": [
           {
            "line": {
             "colorbar": {
              "outlinewidth": 0,
              "ticks": ""
             }
            },
            "type": "parcoords"
           }
          ],
          "pie": [
           {
            "automargin": true,
            "type": "pie"
           }
          ],
          "scatter": [
           {
            "fillpattern": {
             "fillmode": "overlay",
             "size": 10,
             "solidity": 0.2
            },
            "type": "scatter"
           }
          ],
          "scatter3d": [
           {
            "line": {
             "colorbar": {
              "outlinewidth": 0,
              "ticks": ""
             }
            },
            "marker": {
             "colorbar": {
              "outlinewidth": 0,
              "ticks": ""
             }
            },
            "type": "scatter3d"
           }
          ],
          "scattercarpet": [
           {
            "marker": {
             "colorbar": {
              "outlinewidth": 0,
              "ticks": ""
             }
            },
            "type": "scattercarpet"
           }
          ],
          "scattergeo": [
           {
            "marker": {
             "colorbar": {
              "outlinewidth": 0,
              "ticks": ""
             }
            },
            "type": "scattergeo"
           }
          ],
          "scattergl": [
           {
            "marker": {
             "colorbar": {
              "outlinewidth": 0,
              "ticks": ""
             }
            },
            "type": "scattergl"
           }
          ],
          "scattermapbox": [
           {
            "marker": {
             "colorbar": {
              "outlinewidth": 0,
              "ticks": ""
             }
            },
            "type": "scattermapbox"
           }
          ],
          "scatterpolar": [
           {
            "marker": {
             "colorbar": {
              "outlinewidth": 0,
              "ticks": ""
             }
            },
            "type": "scatterpolar"
           }
          ],
          "scatterpolargl": [
           {
            "marker": {
             "colorbar": {
              "outlinewidth": 0,
              "ticks": ""
             }
            },
            "type": "scatterpolargl"
           }
          ],
          "scatterternary": [
           {
            "marker": {
             "colorbar": {
              "outlinewidth": 0,
              "ticks": ""
             }
            },
            "type": "scatterternary"
           }
          ],
          "surface": [
           {
            "colorbar": {
             "outlinewidth": 0,
             "ticks": ""
            },
            "colorscale": [
             [
              0,
              "#0d0887"
             ],
             [
              0.1111111111111111,
              "#46039f"
             ],
             [
              0.2222222222222222,
              "#7201a8"
             ],
             [
              0.3333333333333333,
              "#9c179e"
             ],
             [
              0.4444444444444444,
              "#bd3786"
             ],
             [
              0.5555555555555556,
              "#d8576b"
             ],
             [
              0.6666666666666666,
              "#ed7953"
             ],
             [
              0.7777777777777778,
              "#fb9f3a"
             ],
             [
              0.8888888888888888,
              "#fdca26"
             ],
             [
              1,
              "#f0f921"
             ]
            ],
            "type": "surface"
           }
          ],
          "table": [
           {
            "cells": {
             "fill": {
              "color": "#EBF0F8"
             },
             "line": {
              "color": "white"
             }
            },
            "header": {
             "fill": {
              "color": "#C8D4E3"
             },
             "line": {
              "color": "white"
             }
            },
            "type": "table"
           }
          ]
         },
         "layout": {
          "annotationdefaults": {
           "arrowcolor": "#2a3f5f",
           "arrowhead": 0,
           "arrowwidth": 1
          },
          "autotypenumbers": "strict",
          "coloraxis": {
           "colorbar": {
            "outlinewidth": 0,
            "ticks": ""
           }
          },
          "colorscale": {
           "diverging": [
            [
             0,
             "#8e0152"
            ],
            [
             0.1,
             "#c51b7d"
            ],
            [
             0.2,
             "#de77ae"
            ],
            [
             0.3,
             "#f1b6da"
            ],
            [
             0.4,
             "#fde0ef"
            ],
            [
             0.5,
             "#f7f7f7"
            ],
            [
             0.6,
             "#e6f5d0"
            ],
            [
             0.7,
             "#b8e186"
            ],
            [
             0.8,
             "#7fbc41"
            ],
            [
             0.9,
             "#4d9221"
            ],
            [
             1,
             "#276419"
            ]
           ],
           "sequential": [
            [
             0,
             "#0d0887"
            ],
            [
             0.1111111111111111,
             "#46039f"
            ],
            [
             0.2222222222222222,
             "#7201a8"
            ],
            [
             0.3333333333333333,
             "#9c179e"
            ],
            [
             0.4444444444444444,
             "#bd3786"
            ],
            [
             0.5555555555555556,
             "#d8576b"
            ],
            [
             0.6666666666666666,
             "#ed7953"
            ],
            [
             0.7777777777777778,
             "#fb9f3a"
            ],
            [
             0.8888888888888888,
             "#fdca26"
            ],
            [
             1,
             "#f0f921"
            ]
           ],
           "sequentialminus": [
            [
             0,
             "#0d0887"
            ],
            [
             0.1111111111111111,
             "#46039f"
            ],
            [
             0.2222222222222222,
             "#7201a8"
            ],
            [
             0.3333333333333333,
             "#9c179e"
            ],
            [
             0.4444444444444444,
             "#bd3786"
            ],
            [
             0.5555555555555556,
             "#d8576b"
            ],
            [
             0.6666666666666666,
             "#ed7953"
            ],
            [
             0.7777777777777778,
             "#fb9f3a"
            ],
            [
             0.8888888888888888,
             "#fdca26"
            ],
            [
             1,
             "#f0f921"
            ]
           ]
          },
          "colorway": [
           "#636efa",
           "#EF553B",
           "#00cc96",
           "#ab63fa",
           "#FFA15A",
           "#19d3f3",
           "#FF6692",
           "#B6E880",
           "#FF97FF",
           "#FECB52"
          ],
          "font": {
           "color": "#2a3f5f"
          },
          "geo": {
           "bgcolor": "white",
           "lakecolor": "white",
           "landcolor": "#E5ECF6",
           "showlakes": true,
           "showland": true,
           "subunitcolor": "white"
          },
          "hoverlabel": {
           "align": "left"
          },
          "hovermode": "closest",
          "mapbox": {
           "style": "light"
          },
          "paper_bgcolor": "white",
          "plot_bgcolor": "#E5ECF6",
          "polar": {
           "angularaxis": {
            "gridcolor": "white",
            "linecolor": "white",
            "ticks": ""
           },
           "bgcolor": "#E5ECF6",
           "radialaxis": {
            "gridcolor": "white",
            "linecolor": "white",
            "ticks": ""
           }
          },
          "scene": {
           "xaxis": {
            "backgroundcolor": "#E5ECF6",
            "gridcolor": "white",
            "gridwidth": 2,
            "linecolor": "white",
            "showbackground": true,
            "ticks": "",
            "zerolinecolor": "white"
           },
           "yaxis": {
            "backgroundcolor": "#E5ECF6",
            "gridcolor": "white",
            "gridwidth": 2,
            "linecolor": "white",
            "showbackground": true,
            "ticks": "",
            "zerolinecolor": "white"
           },
           "zaxis": {
            "backgroundcolor": "#E5ECF6",
            "gridcolor": "white",
            "gridwidth": 2,
            "linecolor": "white",
            "showbackground": true,
            "ticks": "",
            "zerolinecolor": "white"
           }
          },
          "shapedefaults": {
           "line": {
            "color": "#2a3f5f"
           }
          },
          "ternary": {
           "aaxis": {
            "gridcolor": "white",
            "linecolor": "white",
            "ticks": ""
           },
           "baxis": {
            "gridcolor": "white",
            "linecolor": "white",
            "ticks": ""
           },
           "bgcolor": "#E5ECF6",
           "caxis": {
            "gridcolor": "white",
            "linecolor": "white",
            "ticks": ""
           }
          },
          "title": {
           "x": 0.05
          },
          "xaxis": {
           "automargin": true,
           "gridcolor": "white",
           "linecolor": "white",
           "ticks": "",
           "title": {
            "standoff": 15
           },
           "zerolinecolor": "white",
           "zerolinewidth": 2
          },
          "yaxis": {
           "automargin": true,
           "gridcolor": "white",
           "linecolor": "white",
           "ticks": "",
           "title": {
            "standoff": 15
           },
           "zerolinecolor": "white",
           "zerolinewidth": 2
          }
         }
        },
        "title": {
         "text": "Scatter Plot: AAP vs BJP Votes with Other Votes as Size"
        },
        "updatemenus": [
         {
          "buttons": [
           {
            "args": [
             null,
             {
              "frame": {
               "duration": 500,
               "redraw": false
              },
              "fromcurrent": true,
              "mode": "immediate",
              "transition": {
               "duration": 500,
               "easing": "linear"
              }
             }
            ],
            "label": "&#9654;",
            "method": "animate"
           },
           {
            "args": [
             [
              null
             ],
             {
              "frame": {
               "duration": 0,
               "redraw": false
              },
              "fromcurrent": true,
              "mode": "immediate",
              "transition": {
               "duration": 0,
               "easing": "linear"
              }
             }
            ],
            "label": "&#9724;",
            "method": "animate"
           },
           {
            "args": [
             "xaxis.range",
             [
              36756,
              80661
             ]
            ],
            "label": "2015",
            "method": "relayout"
           },
           {
            "args": [
             "xaxis.range",
             [
              12465,
              73961
             ]
            ],
            "label": "2013",
            "method": "relayout"
           }
          ],
          "direction": "left",
          "pad": {
           "r": 10,
           "t": 70
          },
          "showactive": true,
          "type": "dropdown",
          "x": 0.17,
          "xanchor": "right",
          "y": 1.15,
          "yanchor": "top"
         }
        ],
        "xaxis": {
         "anchor": "y",
         "domain": [
          0,
          1
         ],
         "title": {
          "text": "Votes for AAP"
         }
        },
        "yaxis": {
         "anchor": "x",
         "domain": [
          0,
          1
         ],
         "title": {
          "text": "Votes for BJP"
         }
        }
       }
      }
     },
     "metadata": {},
     "output_type": "display_data"
    }
   ],
   "source": [
    "## Scatter Plot to Analyze Vote Margins\n",
    "\n",
    "def plot_scatter_plot_with_year_filter():\n",
    "    # Creating the scatter plot with an option to filter by year\n",
    "    fig = px.scatter(delhi_election_df, \n",
    "                     x='votes_aap', \n",
    "                     y='votes_bjp', \n",
    "                     color='assembly', \n",
    "                     size='vote_split_amongst_other_candidates(m2)', \n",
    "                     hover_name='assembly', \n",
    "                     title='Scatter Plot: AAP vs BJP Votes with Other Votes as Size',\n",
    "                     labels={'votes_aap': 'Votes for AAP', 'votes_bjp': 'Votes for BJP'},\n",
    "                     template='plotly',\n",
    "                     color_continuous_scale='Viridis', \n",
    "                     animation_frame='year')  # Adding year as an animation frame\n",
    "\n",
    "    # Customizing layout\n",
    "    fig.update_layout(\n",
    "        showlegend=True,\n",
    "        updatemenus=[dict(\n",
    "            type='dropdown',\n",
    "            buttons=[\n",
    "                dict(\n",
    "                    label='All Years',\n",
    "                    method='relayout',\n",
    "                    args=['xaxis.range', [delhi_election_df['votes_aap'].min(), delhi_election_df['votes_bjp'].max()]]\n",
    "                ),\n",
    "                *[\n",
    "                    dict(\n",
    "                        label=str(year),\n",
    "                        method='relayout',\n",
    "                        args=['xaxis.range', [delhi_election_df[delhi_election_df['year'] == year]['votes_aap'].min(), \n",
    "                                              delhi_election_df[delhi_election_df['year'] == year]['votes_bjp'].max()]]\n",
    "                    ) for year in delhi_election_df['year'].unique()\n",
    "                ]\n",
    "            ],\n",
    "            showactive=True,\n",
    "            x=0.17,\n",
    "            y=1.15\n",
    "        )]\n",
    "    )\n",
    "    fig.show()\n",
    "\n",
    "# Scatter plot for AAP vs BJP with year filter\n",
    "plot_scatter_plot_with_year_filter()"
   ]
  },
  {
   "cell_type": "code",
   "execution_count": null,
   "metadata": {},
   "outputs": [],
   "source": []
  },
  {
   "cell_type": "code",
   "execution_count": 288,
   "metadata": {},
   "outputs": [
    {
     "data": {
      "text/plain": [
       "Index(['year', 'assembly', 'aap', 'position_aap', 'votes_aap', 'bjp',\n",
       "       'position_bjp', 'votes_bjp', 'valid_votes', 'total_electors',\n",
       "       'turnout_percentage', 'margin(m1)', 'margin(m1)_percentage',\n",
       "       'vote_split_amongst_other_candidates(m2)', 'margin(m1-m2)',\n",
       "       'margin(m1-m2)_percentage', 'winner_party'],\n",
       "      dtype='object')"
      ]
     },
     "execution_count": 288,
     "metadata": {},
     "output_type": "execute_result"
    }
   ],
   "source": [
    "delhi_election_df.columns"
   ]
  },
  {
   "cell_type": "markdown",
   "metadata": {},
   "source": [
    "#### Preparing the data for Model"
   ]
  },
  {
   "cell_type": "code",
   "execution_count": 289,
   "metadata": {},
   "outputs": [],
   "source": [
    "# Convert relevant columns to the appropriate data types\n",
    "delhi_election_df['valid_votes'] = delhi_election_df['valid_votes'].str.replace(',', '').astype(int)\n",
    "delhi_election_df['total_electors'] = delhi_election_df['total_electors'].str.replace(',', '').astype(int)\n",
    "delhi_election_df['margin(m1)'] = pd.to_numeric(delhi_election_df['margin(m1)'].str.replace(',', '').replace(\"#VALUE!\", \"\"), errors='coerce')\n",
    "delhi_election_df['margin(m1)_percentage'] = pd.to_numeric(delhi_election_df['margin(m1)_percentage'].str.replace('%', '').replace(\"#VALUE!\", \"\"), errors='coerce')\n",
    "delhi_election_df['margin(m1-m2)'] = pd.to_numeric(delhi_election_df['margin(m1-m2)'].str.replace(',', '').replace(\"#VALUE!\", \"\"), errors='coerce')\n",
    "delhi_election_df['margin(m1-m2)_percentage'] = pd.to_numeric(delhi_election_df['margin(m1-m2)_percentage'].str.replace('%', '').replace(\"#VALUE!\", \"\"), errors='coerce')"
   ]
  },
  {
   "cell_type": "code",
   "execution_count": 290,
   "metadata": {},
   "outputs": [
    {
     "name": "stdout",
     "output_type": "stream",
     "text": [
      "<class 'pandas.core.frame.DataFrame'>\n",
      "RangeIndex: 210 entries, 0 to 209\n",
      "Data columns (total 17 columns):\n",
      " #   Column                                   Non-Null Count  Dtype  \n",
      "---  ------                                   --------------  -----  \n",
      " 0   year                                     210 non-null    int64  \n",
      " 1   assembly                                 210 non-null    object \n",
      " 2   aap                                      210 non-null    object \n",
      " 3   position_aap                             210 non-null    int64  \n",
      " 4   votes_aap                                210 non-null    float64\n",
      " 5   bjp                                      210 non-null    object \n",
      " 6   position_bjp                             210 non-null    float64\n",
      " 7   votes_bjp                                210 non-null    float64\n",
      " 8   valid_votes                              210 non-null    int32  \n",
      " 9   total_electors                           210 non-null    int32  \n",
      " 10  turnout_percentage                       210 non-null    float64\n",
      " 11  margin(m1)                               204 non-null    float64\n",
      " 12  margin(m1)_percentage                    204 non-null    float64\n",
      " 13  vote_split_amongst_other_candidates(m2)  210 non-null    float64\n",
      " 14  margin(m1-m2)                            204 non-null    float64\n",
      " 15  margin(m1-m2)_percentage                 204 non-null    float64\n",
      " 16  winner_party                             210 non-null    object \n",
      "dtypes: float64(9), int32(2), int64(2), object(4)\n",
      "memory usage: 26.4+ KB\n"
     ]
    }
   ],
   "source": [
    "delhi_election_df.info()"
   ]
  },
  {
   "cell_type": "code",
   "execution_count": 291,
   "metadata": {},
   "outputs": [
    {
     "name": "stdout",
     "output_type": "stream",
     "text": [
      "<class 'pandas.core.frame.DataFrame'>\n",
      "RangeIndex: 210 entries, 0 to 209\n",
      "Data columns (total 9 columns):\n",
      " #   Column                    Non-Null Count  Dtype  \n",
      "---  ------                    --------------  -----  \n",
      " 0   year                      210 non-null    int64  \n",
      " 1   assembly                  210 non-null    object \n",
      " 2   valid_votes               210 non-null    int32  \n",
      " 3   total_electors            210 non-null    int32  \n",
      " 4   turnout_percentage        210 non-null    float64\n",
      " 5   margin(m1)                204 non-null    float64\n",
      " 6   margin(m1-m2)             204 non-null    float64\n",
      " 7   margin(m1-m2)_percentage  204 non-null    float64\n",
      " 8   winner_party              210 non-null    object \n",
      "dtypes: float64(4), int32(2), int64(1), object(2)\n",
      "memory usage: 13.3+ KB\n"
     ]
    }
   ],
   "source": [
    "## considering only important features\n",
    "delhi_elec_df = delhi_election_df[['year', 'assembly', 'valid_votes', 'total_electors', 'turnout_percentage', 'margin(m1)', 'margin(m1-m2)', 'margin(m1-m2)_percentage', 'winner_party']]\n",
    "\n",
    "## change dtypes\n",
    "\n",
    "## checking the data\n",
    "delhi_elec_df.info()"
   ]
  },
  {
   "cell_type": "code",
   "execution_count": 292,
   "metadata": {},
   "outputs": [
    {
     "data": {
      "text/html": [
       "<div>\n",
       "<style scoped>\n",
       "    .dataframe tbody tr th:only-of-type {\n",
       "        vertical-align: middle;\n",
       "    }\n",
       "\n",
       "    .dataframe tbody tr th {\n",
       "        vertical-align: top;\n",
       "    }\n",
       "\n",
       "    .dataframe thead th {\n",
       "        text-align: right;\n",
       "    }\n",
       "</style>\n",
       "<table border=\"1\" class=\"dataframe\">\n",
       "  <thead>\n",
       "    <tr style=\"text-align: right;\">\n",
       "      <th></th>\n",
       "      <th>year</th>\n",
       "      <th>valid_votes</th>\n",
       "      <th>total_electors</th>\n",
       "      <th>turnout_percentage</th>\n",
       "      <th>margin(m1)</th>\n",
       "      <th>margin(m1-m2)</th>\n",
       "      <th>margin(m1-m2)_percentage</th>\n",
       "    </tr>\n",
       "  </thead>\n",
       "  <tbody>\n",
       "    <tr>\n",
       "      <th>count</th>\n",
       "      <td>210.000000</td>\n",
       "      <td>210.000000</td>\n",
       "      <td>210.000000</td>\n",
       "      <td>210.000000</td>\n",
       "      <td>204.000000</td>\n",
       "      <td>204.000000</td>\n",
       "      <td>204.000000</td>\n",
       "    </tr>\n",
       "    <tr>\n",
       "      <th>mean</th>\n",
       "      <td>2016.000000</td>\n",
       "      <td>124464.600000</td>\n",
       "      <td>190703.071429</td>\n",
       "      <td>65.514000</td>\n",
       "      <td>20079.308824</td>\n",
       "      <td>-2043.901961</td>\n",
       "      <td>-2.598039</td>\n",
       "    </tr>\n",
       "    <tr>\n",
       "      <th>std</th>\n",
       "      <td>2.950955</td>\n",
       "      <td>32791.507445</td>\n",
       "      <td>52955.464759</td>\n",
       "      <td>4.069579</td>\n",
       "      <td>15447.388571</td>\n",
       "      <td>25578.183780</td>\n",
       "      <td>21.012199</td>\n",
       "    </tr>\n",
       "    <tr>\n",
       "      <th>min</th>\n",
       "      <td>2013.000000</td>\n",
       "      <td>58926.000000</td>\n",
       "      <td>106559.000000</td>\n",
       "      <td>45.430000</td>\n",
       "      <td>101.000000</td>\n",
       "      <td>-90674.000000</td>\n",
       "      <td>-66.000000</td>\n",
       "    </tr>\n",
       "    <tr>\n",
       "      <th>25%</th>\n",
       "      <td>2013.000000</td>\n",
       "      <td>103126.500000</td>\n",
       "      <td>155774.000000</td>\n",
       "      <td>63.052500</td>\n",
       "      <td>8190.500000</td>\n",
       "      <td>-20578.500000</td>\n",
       "      <td>-20.250000</td>\n",
       "    </tr>\n",
       "    <tr>\n",
       "      <th>50%</th>\n",
       "      <td>2015.000000</td>\n",
       "      <td>116734.500000</td>\n",
       "      <td>178002.500000</td>\n",
       "      <td>65.955000</td>\n",
       "      <td>16880.000000</td>\n",
       "      <td>2815.000000</td>\n",
       "      <td>2.500000</td>\n",
       "    </tr>\n",
       "    <tr>\n",
       "      <th>75%</th>\n",
       "      <td>2020.000000</td>\n",
       "      <td>140109.750000</td>\n",
       "      <td>213805.000000</td>\n",
       "      <td>68.095000</td>\n",
       "      <td>29285.000000</td>\n",
       "      <td>14680.750000</td>\n",
       "      <td>11.250000</td>\n",
       "    </tr>\n",
       "    <tr>\n",
       "      <th>max</th>\n",
       "      <td>2020.000000</td>\n",
       "      <td>261315.000000</td>\n",
       "      <td>424924.000000</td>\n",
       "      <td>74.190000</td>\n",
       "      <td>77665.000000</td>\n",
       "      <td>63299.000000</td>\n",
       "      <td>52.000000</td>\n",
       "    </tr>\n",
       "  </tbody>\n",
       "</table>\n",
       "</div>"
      ],
      "text/plain": [
       "              year    valid_votes  total_electors  turnout_percentage  \\\n",
       "count   210.000000     210.000000      210.000000          210.000000   \n",
       "mean   2016.000000  124464.600000   190703.071429           65.514000   \n",
       "std       2.950955   32791.507445    52955.464759            4.069579   \n",
       "min    2013.000000   58926.000000   106559.000000           45.430000   \n",
       "25%    2013.000000  103126.500000   155774.000000           63.052500   \n",
       "50%    2015.000000  116734.500000   178002.500000           65.955000   \n",
       "75%    2020.000000  140109.750000   213805.000000           68.095000   \n",
       "max    2020.000000  261315.000000   424924.000000           74.190000   \n",
       "\n",
       "         margin(m1)  margin(m1-m2)  margin(m1-m2)_percentage  \n",
       "count    204.000000     204.000000                204.000000  \n",
       "mean   20079.308824   -2043.901961                 -2.598039  \n",
       "std    15447.388571   25578.183780                 21.012199  \n",
       "min      101.000000  -90674.000000                -66.000000  \n",
       "25%     8190.500000  -20578.500000                -20.250000  \n",
       "50%    16880.000000    2815.000000                  2.500000  \n",
       "75%    29285.000000   14680.750000                 11.250000  \n",
       "max    77665.000000   63299.000000                 52.000000  "
      ]
     },
     "execution_count": 292,
     "metadata": {},
     "output_type": "execute_result"
    }
   ],
   "source": [
    "## looking into the data\n",
    "delhi_elec_df.describe()"
   ]
  },
  {
   "cell_type": "code",
   "execution_count": 293,
   "metadata": {},
   "outputs": [],
   "source": [
    "# delhi_elec_df.sample(100)"
   ]
  },
  {
   "cell_type": "markdown",
   "metadata": {},
   "source": [
    "-----------------------\n",
    "\n",
    "### preprocessing \n",
    "\n",
    "--------------------------"
   ]
  },
  {
   "cell_type": "code",
   "execution_count": 294,
   "metadata": {},
   "outputs": [
    {
     "data": {
      "text/html": [
       "<div>\n",
       "<style scoped>\n",
       "    .dataframe tbody tr th:only-of-type {\n",
       "        vertical-align: middle;\n",
       "    }\n",
       "\n",
       "    .dataframe tbody tr th {\n",
       "        vertical-align: top;\n",
       "    }\n",
       "\n",
       "    .dataframe thead th {\n",
       "        text-align: right;\n",
       "    }\n",
       "</style>\n",
       "<table border=\"1\" class=\"dataframe\">\n",
       "  <thead>\n",
       "    <tr style=\"text-align: right;\">\n",
       "      <th></th>\n",
       "      <th>year</th>\n",
       "      <th>assembly</th>\n",
       "      <th>valid_votes</th>\n",
       "      <th>total_electors</th>\n",
       "      <th>turnout_percentage</th>\n",
       "      <th>margin(m1)</th>\n",
       "      <th>margin(m1-m2)</th>\n",
       "      <th>margin(m1-m2)_percentage</th>\n",
       "      <th>winner_party</th>\n",
       "    </tr>\n",
       "  </thead>\n",
       "  <tbody>\n",
       "    <tr>\n",
       "      <th>3</th>\n",
       "      <td>2020</td>\n",
       "      <td>ADARSH NAGAR</td>\n",
       "      <td>-0.633155</td>\n",
       "      <td>-0.327226</td>\n",
       "      <td>-1.400042</td>\n",
       "      <td>-1.199931</td>\n",
       "      <td>-0.310679</td>\n",
       "      <td>-0.353136</td>\n",
       "      <td>AAP</td>\n",
       "    </tr>\n",
       "    <tr>\n",
       "      <th>121</th>\n",
       "      <td>2015</td>\n",
       "      <td>TUGHLAKABAD</td>\n",
       "      <td>-0.654400</td>\n",
       "      <td>-0.669631</td>\n",
       "      <td>0.205918</td>\n",
       "      <td>0.883981</td>\n",
       "      <td>1.081970</td>\n",
       "      <td>1.316660</td>\n",
       "      <td>AAP</td>\n",
       "    </tr>\n",
       "    <tr>\n",
       "      <th>131</th>\n",
       "      <td>2015</td>\n",
       "      <td>SHAHDARA</td>\n",
       "      <td>-0.189788</td>\n",
       "      <td>-0.392663</td>\n",
       "      <td>1.001508</td>\n",
       "      <td>-0.541764</td>\n",
       "      <td>0.032643</td>\n",
       "      <td>0.076240</td>\n",
       "      <td>AAP</td>\n",
       "    </tr>\n",
       "    <tr>\n",
       "      <th>192</th>\n",
       "      <td>2013</td>\n",
       "      <td>BADARPUR</td>\n",
       "      <td>0.244408</td>\n",
       "      <td>0.296747</td>\n",
       "      <td>-0.328581</td>\n",
       "      <td>0.287595</td>\n",
       "      <td>-1.556827</td>\n",
       "      <td>-1.402723</td>\n",
       "      <td>BJP</td>\n",
       "    </tr>\n",
       "    <tr>\n",
       "      <th>195</th>\n",
       "      <td>2013</td>\n",
       "      <td>KONDLI</td>\n",
       "      <td>-0.506540</td>\n",
       "      <td>-0.593839</td>\n",
       "      <td>0.543366</td>\n",
       "      <td>-0.816985</td>\n",
       "      <td>-1.259203</td>\n",
       "      <td>-1.402723</td>\n",
       "      <td>AAP</td>\n",
       "    </tr>\n",
       "  </tbody>\n",
       "</table>\n",
       "</div>"
      ],
      "text/plain": [
       "     year      assembly  valid_votes  total_electors  turnout_percentage  \\\n",
       "3    2020  ADARSH NAGAR    -0.633155       -0.327226           -1.400042   \n",
       "121  2015   TUGHLAKABAD    -0.654400       -0.669631            0.205918   \n",
       "131  2015      SHAHDARA    -0.189788       -0.392663            1.001508   \n",
       "192  2013      BADARPUR     0.244408        0.296747           -0.328581   \n",
       "195  2013        KONDLI    -0.506540       -0.593839            0.543366   \n",
       "\n",
       "     margin(m1)  margin(m1-m2)  margin(m1-m2)_percentage winner_party  \n",
       "3     -1.199931      -0.310679                 -0.353136          AAP  \n",
       "121    0.883981       1.081970                  1.316660          AAP  \n",
       "131   -0.541764       0.032643                  0.076240          AAP  \n",
       "192    0.287595      -1.556827                 -1.402723          BJP  \n",
       "195   -0.816985      -1.259203                 -1.402723          AAP  "
      ]
     },
     "execution_count": 294,
     "metadata": {},
     "output_type": "execute_result"
    }
   ],
   "source": [
    "# Normalization of Numerical Columns (Except year)\n",
    "\n",
    "from sklearn.preprocessing import StandardScaler\n",
    "\n",
    "# Initialize the StandardScaler\n",
    "scaler = StandardScaler()\n",
    "\n",
    "# Select numerical columns (except year)\n",
    "numerical_cols = delhi_elec_df.select_dtypes(include=['int', 'float64']).columns.drop('year')\n",
    "\n",
    "# Normalize the numerical columns\n",
    "delhi_elec_df[numerical_cols] = scaler.fit_transform(delhi_elec_df[numerical_cols])\n",
    "\n",
    "# Display the normalized data\n",
    "delhi_elec_df.sample(5)"
   ]
  },
  {
   "cell_type": "code",
   "execution_count": 295,
   "metadata": {},
   "outputs": [
    {
     "data": {
      "text/html": [
       "<div>\n",
       "<style scoped>\n",
       "    .dataframe tbody tr th:only-of-type {\n",
       "        vertical-align: middle;\n",
       "    }\n",
       "\n",
       "    .dataframe tbody tr th {\n",
       "        vertical-align: top;\n",
       "    }\n",
       "\n",
       "    .dataframe thead th {\n",
       "        text-align: right;\n",
       "    }\n",
       "</style>\n",
       "<table border=\"1\" class=\"dataframe\">\n",
       "  <thead>\n",
       "    <tr style=\"text-align: right;\">\n",
       "      <th></th>\n",
       "      <th>year</th>\n",
       "      <th>assembly</th>\n",
       "      <th>valid_votes</th>\n",
       "      <th>total_electors</th>\n",
       "      <th>turnout_percentage</th>\n",
       "      <th>margin(m1)</th>\n",
       "      <th>margin(m1-m2)</th>\n",
       "      <th>margin(m1-m2)_percentage</th>\n",
       "      <th>winner_party</th>\n",
       "    </tr>\n",
       "  </thead>\n",
       "  <tbody>\n",
       "    <tr>\n",
       "      <th>94</th>\n",
       "      <td>2015</td>\n",
       "      <td>36</td>\n",
       "      <td>-0.339452</td>\n",
       "      <td>-0.525241</td>\n",
       "      <td>0.999045</td>\n",
       "      <td>-0.315281</td>\n",
       "      <td>0.357506</td>\n",
       "      <td>0.410199</td>\n",
       "      <td>0</td>\n",
       "    </tr>\n",
       "    <tr>\n",
       "      <th>150</th>\n",
       "      <td>2013</td>\n",
       "      <td>40</td>\n",
       "      <td>0.345437</td>\n",
       "      <td>0.566598</td>\n",
       "      <td>-0.981310</td>\n",
       "      <td>0.754515</td>\n",
       "      <td>-0.737401</td>\n",
       "      <td>-0.591679</td>\n",
       "      <td>1</td>\n",
       "    </tr>\n",
       "    <tr>\n",
       "      <th>190</th>\n",
       "      <td>2013</td>\n",
       "      <td>21</td>\n",
       "      <td>-1.027214</td>\n",
       "      <td>-0.883868</td>\n",
       "      <td>-0.597062</td>\n",
       "      <td>-1.170403</td>\n",
       "      <td>-1.075628</td>\n",
       "      <td>-1.402723</td>\n",
       "      <td>1</td>\n",
       "    </tr>\n",
       "    <tr>\n",
       "      <th>203</th>\n",
       "      <td>2013</td>\n",
       "      <td>52</td>\n",
       "      <td>-0.113367</td>\n",
       "      <td>-0.289500</td>\n",
       "      <td>0.819236</td>\n",
       "      <td>-0.333321</td>\n",
       "      <td>-0.739792</td>\n",
       "      <td>-0.687096</td>\n",
       "      <td>1</td>\n",
       "    </tr>\n",
       "    <tr>\n",
       "      <th>81</th>\n",
       "      <td>2015</td>\n",
       "      <td>31</td>\n",
       "      <td>0.137418</td>\n",
       "      <td>-0.222662</td>\n",
       "      <td>1.614827</td>\n",
       "      <td>0.815452</td>\n",
       "      <td>-0.229277</td>\n",
       "      <td>-0.162302</td>\n",
       "      <td>0</td>\n",
       "    </tr>\n",
       "  </tbody>\n",
       "</table>\n",
       "</div>"
      ],
      "text/plain": [
       "     year  assembly  valid_votes  total_electors  turnout_percentage  \\\n",
       "94   2015        36    -0.339452       -0.525241            0.999045   \n",
       "150  2013        40     0.345437        0.566598           -0.981310   \n",
       "190  2013        21    -1.027214       -0.883868           -0.597062   \n",
       "203  2013        52    -0.113367       -0.289500            0.819236   \n",
       "81   2015        31     0.137418       -0.222662            1.614827   \n",
       "\n",
       "     margin(m1)  margin(m1-m2)  margin(m1-m2)_percentage  winner_party  \n",
       "94    -0.315281       0.357506                  0.410199             0  \n",
       "150    0.754515      -0.737401                 -0.591679             1  \n",
       "190   -1.170403      -1.075628                 -1.402723             1  \n",
       "203   -0.333321      -0.739792                 -0.687096             1  \n",
       "81     0.815452      -0.229277                 -0.162302             0  "
      ]
     },
     "execution_count": 295,
     "metadata": {},
     "output_type": "execute_result"
    }
   ],
   "source": [
    "## Encoding Categorical Variables (assembly and winner_party)\n",
    "\n",
    "from sklearn.preprocessing import LabelEncoder\n",
    "\n",
    "# Separate LabelEncoders for each column\n",
    "assembly_encoder = LabelEncoder()\n",
    "winner_party_encoder = LabelEncoder()\n",
    "\n",
    "# Fit the encoders and encode the columns\n",
    "delhi_elec_df['assembly'] = assembly_encoder.fit_transform(delhi_elec_df['assembly'])\n",
    "delhi_elec_df['winner_party'] = winner_party_encoder.fit_transform(delhi_elec_df['winner_party'])\n",
    "\n",
    "# Display the encoded data\n",
    "delhi_elec_df.sample(5)"
   ]
  },
  {
   "cell_type": "code",
   "execution_count": 296,
   "metadata": {},
   "outputs": [
    {
     "data": {
      "image/png": "[encoded data removed]",
      "text/plain": [
       "<Figure size 1500x1500 with 9 Axes>"
      ]
     },
     "metadata": {},
     "output_type": "display_data"
    }
   ],
   "source": [
    "## Relationship between Features and Target, winner_party\n",
    "\n",
    "numerical_cols = delhi_elec_df.select_dtypes(include=['int', 'float64']).columns\n",
    "\n",
    "# Calculate the number of rows and columns needed for the subplots\n",
    "num_plots = len(numerical_cols)\n",
    "num_rows = (num_plots // 3) + (num_plots % 3 > 0)  # Rounding up if there are leftover columns\n",
    "num_cols = min(3, num_plots)  # Maximum 3 columns per row\n",
    "\n",
    "# Plotting the relationship between features and target variable\n",
    "plt.figure(figsize=(15, num_rows * 5))\n",
    "\n",
    "for i, col in enumerate(numerical_cols, 1):\n",
    "    plt.subplot(num_rows, num_cols, i)\n",
    "    sns.boxplot(x='winner_party', y=col, data=delhi_elec_df)\n",
    "    plt.title(f'{col.capitalize()} vs Winner Party')\n",
    "\n",
    "# Display the plot\n",
    "plt.tight_layout()\n",
    "plt.show()"
   ]
  },
  {
   "cell_type": "code",
   "execution_count": 297,
   "metadata": {},
   "outputs": [
    {
     "data": {
      "image/png": "[encoded data removed]",
      "text/plain": [
       "<Figure size 800x500 with 2 Axes>"
      ]
     },
     "metadata": {},
     "output_type": "display_data"
    }
   ],
   "source": [
    "# Calculate the correlation matrix\n",
    "correlation_matrix = delhi_elec_df.corr()\n",
    "\n",
    "# Display the correlation matrix\n",
    "plt.figure(figsize=(8,5))\n",
    "sns.heatmap(correlation_matrix, annot=True, cmap='coolwarm', fmt='.1f')\n",
    "plt.title('Correlation Matrix')\n",
    "plt.show()"
   ]
  },
  {
   "cell_type": "code",
   "execution_count": 298,
   "metadata": {},
   "outputs": [
    {
     "name": "stdout",
     "output_type": "stream",
     "text": [
      "Highly correlated pairs (threshold > 0.8):\n",
      "valid_votes    total_electors              0.974464\n",
      "margin(m1-m2)  margin(m1-m2)_percentage    0.968368\n",
      "dtype: float64\n"
     ]
    }
   ],
   "source": [
    "# Identify highly correlated features (threshold > 0.8)\n",
    "high_correlation_pairs = correlation_matrix.abs().unstack().sort_values(ascending=False).drop_duplicates()\n",
    "high_correlation_pairs = high_correlation_pairs[high_correlation_pairs > 0.8]\n",
    "high_correlation_pairs = high_correlation_pairs[high_correlation_pairs < 1]  # Exclude self-correlation\n",
    "\n",
    "# Display highly correlated pairs\n",
    "print(\"Highly correlated pairs (threshold > 0.8):\")\n",
    "print(high_correlation_pairs)"
   ]
  },
  {
   "cell_type": "code",
   "execution_count": 299,
   "metadata": {},
   "outputs": [
    {
     "name": "stdout",
     "output_type": "stream",
     "text": [
      "Remaining features after removing multicollinearity:\n",
      "Index(['year', 'assembly', 'valid_votes', 'turnout_percentage', 'margin(m1)',\n",
      "       'margin(m1-m2)', 'winner_party'],\n",
      "      dtype='object')\n"
     ]
    }
   ],
   "source": [
    "# Drop one feature from each pair of highly correlated features\n",
    "features_to_drop = set()\n",
    "for pair in high_correlation_pairs.index:\n",
    "    features_to_drop.add(pair[1])  # Add the second feature of the pair to the drop list\n",
    "\n",
    "# Drop the identified features from the dataframe\n",
    "delhi_elec_df_reduced = delhi_elec_df.drop(columns=features_to_drop)\n",
    "\n",
    "# Display the remaining features\n",
    "print(\"Remaining features after removing multicollinearity:\")\n",
    "print(delhi_elec_df_reduced.columns)"
   ]
  },
  {
   "cell_type": "code",
   "execution_count": 300,
   "metadata": {},
   "outputs": [],
   "source": [
    "## checking with Gini Impurity Index for feature selection\n",
    "\n",
    "from sklearn.tree import DecisionTreeClassifier\n",
    "from sklearn.metrics import make_scorer\n",
    "import numpy as np\n",
    "\n",
    "# Function to calculate Gini Impurity for the target variable\n",
    "def calculate_gini_impurity(X, y):\n",
    "    clf = DecisionTreeClassifier(criterion='gini', max_depth=1)  # Decision Tree with one split (max depth = 1)\n",
    "    clf.fit(X, y)\n",
    "    return clf.score(X, y)\n"
   ]
  },
  {
   "cell_type": "code",
   "execution_count": 301,
   "metadata": {},
   "outputs": [
    {
     "data": {
      "text/plain": [
       "((210, 8), (210,))"
      ]
     },
     "execution_count": 301,
     "metadata": {},
     "output_type": "execute_result"
    }
   ],
   "source": [
    "# Separate features and target variable\n",
    "X = delhi_elec_df.drop(columns=['winner_party'])\n",
    "y = delhi_elec_df['winner_party']\n",
    "\n",
    "X.shape, y.shape"
   ]
  },
  {
   "cell_type": "code",
   "execution_count": 302,
   "metadata": {},
   "outputs": [
    {
     "name": "stdout",
     "output_type": "stream",
     "text": [
      "Gini Impurity before removing columns: 0.7619047619047619\n",
      "Gini Impurity after removing columns: 0.7619047619047619\n",
      "Removing the columns did not reduce variability.\n"
     ]
    }
   ],
   "source": [
    "# Calculate Gini Impurity before removing columns\n",
    "gini_before = calculate_gini_impurity(X, y)\n",
    "print(f'Gini Impurity before removing columns: {gini_before}')\n",
    "\n",
    "# Remove columns with high correlation\n",
    "X_reduced = X.drop(columns=features_to_drop)\n",
    "\n",
    "# Calculate Gini Impurity after removing columns\n",
    "gini_after = calculate_gini_impurity(X_reduced, y)\n",
    "print(f'Gini Impurity after removing columns: {gini_after}')\n",
    "\n",
    "# Compare the results\n",
    "if gini_before > gini_after:\n",
    "    print(\"Removing the columns reduced variability.\")\n",
    "else:\n",
    "    print(\"Removing the columns did not reduce variability.\")"
   ]
  },
  {
   "cell_type": "code",
   "execution_count": 303,
   "metadata": {},
   "outputs": [],
   "source": [
    "# ## Trying to find the best features using Gini Impurity Index\n",
    "\n",
    "# clf = DecisionTreeClassifier(criterion='gini', max_depth=9)\n",
    "# clf.fit(X, y)\n",
    "\n",
    "# # Get feature importance\n",
    "# feature_importance = clf.feature_importances_\n",
    "# importance_df = pd.DataFrame({'Feature': X.columns, 'Importance': feature_importance})\n",
    "# importance_df = importance_df.sort_values(by='Importance', ascending=False)\n",
    "# print(importance_df)"
   ]
  },
  {
   "cell_type": "markdown",
   "metadata": {},
   "source": [
    "**Steps Overview:**\n",
    "\n",
    "* `Split Data`: Divide the data into training, validation, and test sets.\n",
    "* `Build Models`: Train multiple models (LogisticRegression, DecisionTreeClassifier, LGBMClassifier, AdaBoostClassifier, RandomForestClassifier).\n",
    "* `Hyperparameter Optimization`: Use GridSearchCV or RandomizedSearchCV for hyperparameter tuning.\n",
    "* `Evaluate and Compare Models`: Evaluate all models on the validation set and select the best-performing one.\n",
    "* `Test the Final Model`: Once the best model is selected, evaluate it on the test set."
   ]
  },
  {
   "cell_type": "code",
   "execution_count": 304,
   "metadata": {},
   "outputs": [],
   "source": [
    "## import necessary libraries\n",
    "\n",
    "import pandas as pd\n",
    "from sklearn.model_selection import train_test_split, GridSearchCV\n",
    "from sklearn.linear_model import LogisticRegression\n",
    "from sklearn.tree import DecisionTreeClassifier\n",
    "from sklearn.ensemble import RandomForestClassifier, AdaBoostClassifier\n",
    "import lightgbm as lgb\n",
    "from sklearn.metrics import accuracy_score, classification_report, confusion_matrix\n",
    "from sklearn.naive_bayes import GaussianNB\n",
    "\n",
    "from sklearn.impute import SimpleImputer\n",
    "from sklearn.pipeline import Pipeline"
   ]
  },
  {
   "cell_type": "code",
   "execution_count": 305,
   "metadata": {},
   "outputs": [],
   "source": [
    "# Split the data into train, validation, and test sets\n",
    "X = delhi_elec_df.drop(columns=['winner_party'])\n",
    "y = delhi_elec_df['winner_party']\n",
    "\n",
    "# Split into 60% train, 20% validation, 20% test\n",
    "X_train, X_temp, y_train, y_temp = train_test_split(X, y, test_size=0.4, random_state=42)\n",
    "X_val, X_test, y_val, y_test = train_test_split(X_temp, y_temp, test_size=0.5, random_state=42)"
   ]
  },
  {
   "cell_type": "code",
   "execution_count": 306,
   "metadata": {},
   "outputs": [
    {
     "name": "stdout",
     "output_type": "stream",
     "text": [
      "Running GridSearchCV for Logistic Regression...\n",
      "Logistic Regression Validation Accuracy: 0.7857142857142857\n",
      "Best Hyperparameters for Logistic Regression: {'classifier__C': 1, 'classifier__solver': 'liblinear'}\n",
      "Running GridSearchCV for Decision Tree...\n",
      "Decision Tree Validation Accuracy: 0.8095238095238095\n",
      "Best Hyperparameters for Decision Tree: {'classifier__max_depth': 5, 'classifier__min_samples_split': 2}\n",
      "Running GridSearchCV for Random Forest...\n",
      "Random Forest Validation Accuracy: 0.8095238095238095\n",
      "Best Hyperparameters for Random Forest: {'classifier__max_depth': 5, 'classifier__min_samples_split': 2, 'classifier__n_estimators': 100}\n",
      "Running GridSearchCV for AdaBoost...\n",
      "AdaBoost Validation Accuracy: 0.8095238095238095\n",
      "Best Hyperparameters for AdaBoost: {'classifier__learning_rate': 0.01, 'classifier__n_estimators': 100}\n",
      "Running GridSearchCV for LGBM...\n",
      "[LightGBM] [Info] Auto-choosing col-wise multi-threading, the overhead of testing was 0.000660 seconds.\n",
      "You can set `force_col_wise=true` to remove the overhead.\n",
      "[LightGBM] [Info] Total Bins 291\n",
      "[LightGBM] [Info] Number of data points in the train set: 126, number of used features: 8\n",
      "[LightGBM] [Info] Start training from score -0.271934\n",
      "[LightGBM] [Info] Start training from score -1.700788\n",
      "[LightGBM] [Info] Start training from score -2.890372\n",
      "[LightGBM] [Warning] No further splits with positive gain, best gain: -inf\n",
      "[LightGBM] [Warning] No further splits with positive gain, best gain: -inf\n",
      "[LightGBM] [Warning] No further splits with positive gain, best gain: -inf\n",
      "[LightGBM] [Warning] No further splits with positive gain, best gain: -inf\n",
      "[LightGBM] [Warning] No further splits with positive gain, best gain: -inf\n",
      "[LightGBM] [Warning] No further splits with positive gain, best gain: -inf\n",
      "[LightGBM] [Warning] No further splits with positive gain, best gain: -inf\n",
      "[LightGBM] [Warning] No further splits with positive gain, best gain: -inf\n",
      "[LightGBM] [Warning] No further splits with positive gain, best gain: -inf\n",
      "[LightGBM] [Warning] No further splits with positive gain, best gain: -inf\n",
      "[LightGBM] [Warning] No further splits with positive gain, best gain: -inf\n",
      "[LightGBM] [Warning] No further splits with positive gain, best gain: -inf\n",
      "[LightGBM] [Warning] No further splits with positive gain, best gain: -inf\n",
      "[LightGBM] [Warning] No further splits with positive gain, best gain: -inf\n",
      "[LightGBM] [Warning] No further splits with positive gain, best gain: -inf\n",
      "[LightGBM] [Warning] No further splits with positive gain, best gain: -inf\n",
      "[LightGBM] [Warning] No further splits with positive gain, best gain: -inf\n",
      "[LightGBM] [Warning] No further splits with positive gain, best gain: -inf\n",
      "[LightGBM] [Warning] No further splits with positive gain, best gain: -inf\n",
      "[LightGBM] [Warning] No further splits with positive gain, best gain: -inf\n",
      "[LightGBM] [Warning] No further splits with positive gain, best gain: -inf\n",
      "[LightGBM] [Warning] No further splits with positive gain, best gain: -inf\n",
      "[LightGBM] [Warning] No further splits with positive gain, best gain: -inf\n",
      "[LightGBM] [Warning] No further splits with positive gain, best gain: -inf\n",
      "[LightGBM] [Warning] No further splits with positive gain, best gain: -inf\n",
      "[LightGBM] [Warning] No further splits with positive gain, best gain: -inf\n",
      "[LightGBM] [Warning] No further splits with positive gain, best gain: -inf\n",
      "[LightGBM] [Warning] No further splits with positive gain, best gain: -inf\n",
      "[LightGBM] [Warning] No further splits with positive gain, best gain: -inf\n",
      "[LightGBM] [Warning] No further splits with positive gain, best gain: -inf\n",
      "[LightGBM] [Warning] No further splits with positive gain, best gain: -inf\n",
      "[LightGBM] [Warning] No further splits with positive gain, best gain: -inf\n",
      "[LightGBM] [Warning] No further splits with positive gain, best gain: -inf\n",
      "[LightGBM] [Warning] No further splits with positive gain, best gain: -inf\n",
      "[LightGBM] [Warning] No further splits with positive gain, best gain: -inf\n",
      "[LightGBM] [Warning] No further splits with positive gain, best gain: -inf\n",
      "[LightGBM] [Warning] No further splits with positive gain, best gain: -inf\n",
      "[LightGBM] [Warning] No further splits with positive gain, best gain: -inf\n",
      "[LightGBM] [Warning] No further splits with positive gain, best gain: -inf\n",
      "[LightGBM] [Warning] No further splits with positive gain, best gain: -inf\n",
      "[LightGBM] [Warning] No further splits with positive gain, best gain: -inf\n",
      "[LightGBM] [Warning] No further splits with positive gain, best gain: -inf\n",
      "[LightGBM] [Warning] No further splits with positive gain, best gain: -inf\n",
      "[LightGBM] [Warning] No further splits with positive gain, best gain: -inf\n",
      "[LightGBM] [Warning] No further splits with positive gain, best gain: -inf\n",
      "[LightGBM] [Warning] No further splits with positive gain, best gain: -inf\n",
      "[LightGBM] [Warning] No further splits with positive gain, best gain: -inf\n",
      "[LightGBM] [Warning] No further splits with positive gain, best gain: -inf\n",
      "[LightGBM] [Warning] No further splits with positive gain, best gain: -inf\n",
      "[LightGBM] [Warning] No further splits with positive gain, best gain: -inf\n",
      "[LightGBM] [Warning] No further splits with positive gain, best gain: -inf\n",
      "[LightGBM] [Warning] No further splits with positive gain, best gain: -inf\n",
      "[LightGBM] [Warning] No further splits with positive gain, best gain: -inf\n",
      "[LightGBM] [Warning] No further splits with positive gain, best gain: -inf\n",
      "[LightGBM] [Warning] No further splits with positive gain, best gain: -inf\n",
      "[LightGBM] [Warning] No further splits with positive gain, best gain: -inf\n",
      "[LightGBM] [Warning] No further splits with positive gain, best gain: -inf\n",
      "[LightGBM] [Warning] No further splits with positive gain, best gain: -inf\n",
      "[LightGBM] [Warning] No further splits with positive gain, best gain: -inf\n",
      "[LightGBM] [Warning] No further splits with positive gain, best gain: -inf\n",
      "[LightGBM] [Warning] No further splits with positive gain, best gain: -inf\n",
      "[LightGBM] [Warning] No further splits with positive gain, best gain: -inf\n",
      "[LightGBM] [Warning] No further splits with positive gain, best gain: -inf\n",
      "[LightGBM] [Warning] No further splits with positive gain, best gain: -inf\n",
      "[LightGBM] [Warning] No further splits with positive gain, best gain: -inf\n",
      "[LightGBM] [Warning] No further splits with positive gain, best gain: -inf\n",
      "[LightGBM] [Warning] No further splits with positive gain, best gain: -inf\n",
      "[LightGBM] [Warning] No further splits with positive gain, best gain: -inf\n",
      "[LightGBM] [Warning] No further splits with positive gain, best gain: -inf\n",
      "[LightGBM] [Warning] No further splits with positive gain, best gain: -inf\n",
      "[LightGBM] [Warning] No further splits with positive gain, best gain: -inf\n",
      "[LightGBM] [Warning] No further splits with positive gain, best gain: -inf\n",
      "[LightGBM] [Warning] No further splits with positive gain, best gain: -inf\n",
      "[LightGBM] [Warning] No further splits with positive gain, best gain: -inf\n",
      "[LightGBM] [Warning] No further splits with positive gain, best gain: -inf\n",
      "[LightGBM] [Warning] No further splits with positive gain, best gain: -inf\n",
      "[LightGBM] [Warning] No further splits with positive gain, best gain: -inf\n",
      "[LightGBM] [Warning] No further splits with positive gain, best gain: -inf\n",
      "[LightGBM] [Warning] No further splits with positive gain, best gain: -inf\n",
      "[LightGBM] [Warning] No further splits with positive gain, best gain: -inf\n",
      "[LightGBM] [Warning] No further splits with positive gain, best gain: -inf\n",
      "[LightGBM] [Warning] No further splits with positive gain, best gain: -inf\n",
      "[LightGBM] [Warning] No further splits with positive gain, best gain: -inf\n",
      "[LightGBM] [Warning] No further splits with positive gain, best gain: -inf\n",
      "[LightGBM] [Warning] No further splits with positive gain, best gain: -inf\n",
      "[LightGBM] [Warning] No further splits with positive gain, best gain: -inf\n",
      "[LightGBM] [Warning] No further splits with positive gain, best gain: -inf\n",
      "[LightGBM] [Warning] No further splits with positive gain, best gain: -inf\n",
      "[LightGBM] [Warning] No further splits with positive gain, best gain: -inf\n",
      "[LightGBM] [Warning] No further splits with positive gain, best gain: -inf\n",
      "[LightGBM] [Warning] No further splits with positive gain, best gain: -inf\n",
      "[LightGBM] [Warning] No further splits with positive gain, best gain: -inf\n",
      "[LightGBM] [Warning] No further splits with positive gain, best gain: -inf\n",
      "[LightGBM] [Warning] No further splits with positive gain, best gain: -inf\n",
      "[LightGBM] [Warning] No further splits with positive gain, best gain: -inf\n",
      "[LightGBM] [Warning] No further splits with positive gain, best gain: -inf\n",
      "[LightGBM] [Warning] No further splits with positive gain, best gain: -inf\n",
      "[LightGBM] [Warning] No further splits with positive gain, best gain: -inf\n",
      "[LightGBM] [Warning] No further splits with positive gain, best gain: -inf\n",
      "[LightGBM] [Warning] No further splits with positive gain, best gain: -inf\n",
      "[LightGBM] [Warning] No further splits with positive gain, best gain: -inf\n",
      "[LightGBM] [Warning] No further splits with positive gain, best gain: -inf\n",
      "[LightGBM] [Warning] No further splits with positive gain, best gain: -inf\n",
      "[LightGBM] [Warning] No further splits with positive gain, best gain: -inf\n",
      "[LightGBM] [Warning] No further splits with positive gain, best gain: -inf\n",
      "[LightGBM] [Warning] No further splits with positive gain, best gain: -inf\n",
      "[LightGBM] [Warning] No further splits with positive gain, best gain: -inf\n",
      "[LightGBM] [Warning] No further splits with positive gain, best gain: -inf\n",
      "[LightGBM] [Warning] No further splits with positive gain, best gain: -inf\n",
      "[LightGBM] [Warning] No further splits with positive gain, best gain: -inf\n",
      "[LightGBM] [Warning] No further splits with positive gain, best gain: -inf\n",
      "[LightGBM] [Warning] No further splits with positive gain, best gain: -inf\n",
      "[LightGBM] [Warning] No further splits with positive gain, best gain: -inf\n",
      "[LightGBM] [Warning] No further splits with positive gain, best gain: -inf\n",
      "[LightGBM] [Warning] No further splits with positive gain, best gain: -inf\n",
      "[LightGBM] [Warning] No further splits with positive gain, best gain: -inf\n",
      "[LightGBM] [Warning] No further splits with positive gain, best gain: -inf\n",
      "[LightGBM] [Warning] No further splits with positive gain, best gain: -inf\n",
      "[LightGBM] [Warning] No further splits with positive gain, best gain: -inf\n",
      "[LightGBM] [Warning] No further splits with positive gain, best gain: -inf\n",
      "[LightGBM] [Warning] No further splits with positive gain, best gain: -inf\n",
      "[LightGBM] [Warning] No further splits with positive gain, best gain: -inf\n",
      "[LightGBM] [Warning] No further splits with positive gain, best gain: -inf\n",
      "[LightGBM] [Warning] No further splits with positive gain, best gain: -inf\n",
      "[LightGBM] [Warning] No further splits with positive gain, best gain: -inf\n",
      "[LightGBM] [Warning] No further splits with positive gain, best gain: -inf\n",
      "[LightGBM] [Warning] No further splits with positive gain, best gain: -inf\n",
      "[LightGBM] [Warning] No further splits with positive gain, best gain: -inf\n",
      "[LightGBM] [Warning] No further splits with positive gain, best gain: -inf\n",
      "[LightGBM] [Warning] No further splits with positive gain, best gain: -inf\n",
      "[LightGBM] [Warning] No further splits with positive gain, best gain: -inf\n",
      "[LightGBM] [Warning] No further splits with positive gain, best gain: -inf\n",
      "[LightGBM] [Warning] No further splits with positive gain, best gain: -inf\n",
      "[LightGBM] [Warning] No further splits with positive gain, best gain: -inf\n",
      "[LightGBM] [Warning] No further splits with positive gain, best gain: -inf\n",
      "[LightGBM] [Warning] No further splits with positive gain, best gain: -inf\n",
      "[LightGBM] [Warning] No further splits with positive gain, best gain: -inf\n",
      "[LightGBM] [Warning] No further splits with positive gain, best gain: -inf\n",
      "[LightGBM] [Warning] No further splits with positive gain, best gain: -inf\n",
      "[LightGBM] [Warning] No further splits with positive gain, best gain: -inf\n",
      "[LightGBM] [Warning] No further splits with positive gain, best gain: -inf\n",
      "[LightGBM] [Warning] No further splits with positive gain, best gain: -inf\n",
      "[LightGBM] [Warning] No further splits with positive gain, best gain: -inf\n",
      "[LightGBM] [Warning] No further splits with positive gain, best gain: -inf\n",
      "[LightGBM] [Warning] No further splits with positive gain, best gain: -inf\n",
      "[LightGBM] [Warning] No further splits with positive gain, best gain: -inf\n",
      "[LightGBM] [Warning] No further splits with positive gain, best gain: -inf\n",
      "[LightGBM] [Warning] No further splits with positive gain, best gain: -inf\n",
      "[LightGBM] [Warning] No further splits with positive gain, best gain: -inf\n",
      "[LightGBM] [Warning] No further splits with positive gain, best gain: -inf\n",
      "[LightGBM] [Warning] No further splits with positive gain, best gain: -inf\n",
      "[LightGBM] [Warning] No further splits with positive gain, best gain: -inf\n",
      "[LightGBM] [Warning] No further splits with positive gain, best gain: -inf\n",
      "[LightGBM] [Warning] No further splits with positive gain, best gain: -inf\n",
      "[LightGBM] [Warning] No further splits with positive gain, best gain: -inf\n",
      "[LightGBM] [Warning] No further splits with positive gain, best gain: -inf\n",
      "[LightGBM] [Warning] No further splits with positive gain, best gain: -inf\n",
      "[LightGBM] [Warning] No further splits with positive gain, best gain: -inf\n",
      "[LightGBM] [Warning] No further splits with positive gain, best gain: -inf\n",
      "[LightGBM] [Warning] No further splits with positive gain, best gain: -inf\n",
      "[LightGBM] [Warning] No further splits with positive gain, best gain: -inf\n",
      "[LightGBM] [Warning] No further splits with positive gain, best gain: -inf\n",
      "[LightGBM] [Warning] No further splits with positive gain, best gain: -inf\n",
      "[LightGBM] [Warning] No further splits with positive gain, best gain: -inf\n",
      "[LightGBM] [Warning] No further splits with positive gain, best gain: -inf\n",
      "[LightGBM] [Warning] No further splits with positive gain, best gain: -inf\n",
      "[LightGBM] [Warning] No further splits with positive gain, best gain: -inf\n",
      "[LightGBM] [Warning] No further splits with positive gain, best gain: -inf\n",
      "[LightGBM] [Warning] No further splits with positive gain, best gain: -inf\n",
      "[LightGBM] [Warning] No further splits with positive gain, best gain: -inf\n",
      "[LightGBM] [Warning] No further splits with positive gain, best gain: -inf\n",
      "[LightGBM] [Warning] No further splits with positive gain, best gain: -inf\n",
      "[LightGBM] [Warning] No further splits with positive gain, best gain: -inf\n",
      "[LightGBM] [Warning] No further splits with positive gain, best gain: -inf\n",
      "[LightGBM] [Warning] No further splits with positive gain, best gain: -inf\n",
      "[LightGBM] [Warning] No further splits with positive gain, best gain: -inf\n",
      "[LightGBM] [Warning] No further splits with positive gain, best gain: -inf\n",
      "[LightGBM] [Warning] No further splits with positive gain, best gain: -inf\n",
      "[LightGBM] [Warning] No further splits with positive gain, best gain: -inf\n",
      "[LightGBM] [Warning] No further splits with positive gain, best gain: -inf\n",
      "[LightGBM] [Warning] No further splits with positive gain, best gain: -inf\n",
      "[LightGBM] [Warning] No further splits with positive gain, best gain: -inf\n",
      "[LightGBM] [Warning] No further splits with positive gain, best gain: -inf\n",
      "[LightGBM] [Warning] No further splits with positive gain, best gain: -inf\n",
      "[LightGBM] [Warning] No further splits with positive gain, best gain: -inf\n",
      "[LightGBM] [Warning] No further splits with positive gain, best gain: -inf\n",
      "[LightGBM] [Warning] No further splits with positive gain, best gain: -inf\n",
      "[LightGBM] [Warning] No further splits with positive gain, best gain: -inf\n",
      "[LightGBM] [Warning] No further splits with positive gain, best gain: -inf\n",
      "[LightGBM] [Warning] No further splits with positive gain, best gain: -inf\n",
      "[LightGBM] [Warning] No further splits with positive gain, best gain: -inf\n",
      "[LightGBM] [Warning] No further splits with positive gain, best gain: -inf\n",
      "[LightGBM] [Warning] No further splits with positive gain, best gain: -inf\n",
      "[LightGBM] [Warning] No further splits with positive gain, best gain: -inf\n",
      "[LightGBM] [Warning] No further splits with positive gain, best gain: -inf\n",
      "[LightGBM] [Warning] No further splits with positive gain, best gain: -inf\n",
      "[LightGBM] [Warning] No further splits with positive gain, best gain: -inf\n",
      "[LightGBM] [Warning] No further splits with positive gain, best gain: -inf\n",
      "[LightGBM] [Warning] No further splits with positive gain, best gain: -inf\n",
      "[LightGBM] [Warning] No further splits with positive gain, best gain: -inf\n",
      "[LightGBM] [Warning] No further splits with positive gain, best gain: -inf\n",
      "[LightGBM] [Warning] No further splits with positive gain, best gain: -inf\n",
      "[LightGBM] [Warning] No further splits with positive gain, best gain: -inf\n",
      "[LightGBM] [Warning] No further splits with positive gain, best gain: -inf\n",
      "[LightGBM] [Warning] No further splits with positive gain, best gain: -inf\n",
      "[LightGBM] [Warning] No further splits with positive gain, best gain: -inf\n",
      "[LightGBM] [Warning] No further splits with positive gain, best gain: -inf\n",
      "[LightGBM] [Warning] No further splits with positive gain, best gain: -inf\n",
      "[LightGBM] [Warning] No further splits with positive gain, best gain: -inf\n",
      "[LightGBM] [Warning] No further splits with positive gain, best gain: -inf\n",
      "[LightGBM] [Warning] No further splits with positive gain, best gain: -inf\n",
      "[LightGBM] [Warning] No further splits with positive gain, best gain: -inf\n",
      "[LightGBM] [Warning] No further splits with positive gain, best gain: -inf\n",
      "[LightGBM] [Warning] No further splits with positive gain, best gain: -inf\n",
      "[LightGBM] [Warning] No further splits with positive gain, best gain: -inf\n",
      "[LightGBM] [Warning] No further splits with positive gain, best gain: -inf\n",
      "[LightGBM] [Warning] No further splits with positive gain, best gain: -inf\n",
      "[LightGBM] [Warning] No further splits with positive gain, best gain: -inf\n",
      "[LightGBM] [Warning] No further splits with positive gain, best gain: -inf\n",
      "[LightGBM] [Warning] No further splits with positive gain, best gain: -inf\n",
      "[LightGBM] [Warning] No further splits with positive gain, best gain: -inf\n",
      "[LightGBM] [Warning] No further splits with positive gain, best gain: -inf\n",
      "[LightGBM] [Warning] No further splits with positive gain, best gain: -inf\n",
      "[LightGBM] [Warning] No further splits with positive gain, best gain: -inf\n",
      "[LightGBM] [Warning] No further splits with positive gain, best gain: -inf\n",
      "[LightGBM] [Warning] No further splits with positive gain, best gain: -inf\n",
      "[LightGBM] [Warning] No further splits with positive gain, best gain: -inf\n",
      "[LightGBM] [Warning] No further splits with positive gain, best gain: -inf\n",
      "[LightGBM] [Warning] No further splits with positive gain, best gain: -inf\n",
      "[LightGBM] [Warning] No further splits with positive gain, best gain: -inf\n",
      "[LightGBM] [Warning] No further splits with positive gain, best gain: -inf\n",
      "[LightGBM] [Warning] No further splits with positive gain, best gain: -inf\n",
      "[LightGBM] [Warning] No further splits with positive gain, best gain: -inf\n",
      "[LightGBM] [Warning] No further splits with positive gain, best gain: -inf\n",
      "[LightGBM] [Warning] No further splits with positive gain, best gain: -inf\n",
      "[LightGBM] [Warning] No further splits with positive gain, best gain: -inf\n",
      "[LightGBM] [Warning] No further splits with positive gain, best gain: -inf\n",
      "[LightGBM] [Warning] No further splits with positive gain, best gain: -inf\n",
      "[LightGBM] [Warning] No further splits with positive gain, best gain: -inf\n",
      "[LightGBM] [Warning] No further splits with positive gain, best gain: -inf\n",
      "[LightGBM] [Warning] No further splits with positive gain, best gain: -inf\n",
      "[LightGBM] [Warning] No further splits with positive gain, best gain: -inf\n",
      "[LightGBM] [Warning] No further splits with positive gain, best gain: -inf\n",
      "[LightGBM] [Warning] No further splits with positive gain, best gain: -inf\n",
      "[LightGBM] [Warning] No further splits with positive gain, best gain: -inf\n",
      "[LightGBM] [Warning] No further splits with positive gain, best gain: -inf\n",
      "[LightGBM] [Warning] No further splits with positive gain, best gain: -inf\n",
      "[LightGBM] [Warning] No further splits with positive gain, best gain: -inf\n",
      "[LightGBM] [Warning] No further splits with positive gain, best gain: -inf\n",
      "[LightGBM] [Warning] No further splits with positive gain, best gain: -inf\n",
      "[LightGBM] [Warning] No further splits with positive gain, best gain: -inf\n",
      "[LightGBM] [Warning] No further splits with positive gain, best gain: -inf\n",
      "[LightGBM] [Warning] No further splits with positive gain, best gain: -inf\n",
      "[LightGBM] [Warning] No further splits with positive gain, best gain: -inf\n",
      "[LightGBM] [Warning] No further splits with positive gain, best gain: -inf\n",
      "[LightGBM] [Warning] No further splits with positive gain, best gain: -inf\n",
      "[LightGBM] [Warning] No further splits with positive gain, best gain: -inf\n",
      "[LightGBM] [Warning] No further splits with positive gain, best gain: -inf\n",
      "[LightGBM] [Warning] No further splits with positive gain, best gain: -inf\n",
      "[LightGBM] [Warning] No further splits with positive gain, best gain: -inf\n",
      "[LightGBM] [Warning] No further splits with positive gain, best gain: -inf\n",
      "[LightGBM] [Warning] No further splits with positive gain, best gain: -inf\n",
      "[LightGBM] [Warning] No further splits with positive gain, best gain: -inf\n",
      "[LightGBM] [Warning] No further splits with positive gain, best gain: -inf\n",
      "[LightGBM] [Warning] No further splits with positive gain, best gain: -inf\n",
      "[LightGBM] [Warning] No further splits with positive gain, best gain: -inf\n",
      "[LightGBM] [Warning] No further splits with positive gain, best gain: -inf\n",
      "[LightGBM] [Warning] No further splits with positive gain, best gain: -inf\n",
      "[LightGBM] [Warning] No further splits with positive gain, best gain: -inf\n",
      "[LightGBM] [Warning] No further splits with positive gain, best gain: -inf\n",
      "[LightGBM] [Warning] No further splits with positive gain, best gain: -inf\n",
      "[LightGBM] [Warning] No further splits with positive gain, best gain: -inf\n",
      "[LightGBM] [Warning] No further splits with positive gain, best gain: -inf\n",
      "[LightGBM] [Warning] No further splits with positive gain, best gain: -inf\n",
      "[LightGBM] [Warning] No further splits with positive gain, best gain: -inf\n",
      "[LightGBM] [Warning] No further splits with positive gain, best gain: -inf\n",
      "[LightGBM] [Warning] No further splits with positive gain, best gain: -inf\n",
      "[LightGBM] [Warning] No further splits with positive gain, best gain: -inf\n",
      "[LightGBM] [Warning] No further splits with positive gain, best gain: -inf\n",
      "[LightGBM] [Warning] No further splits with positive gain, best gain: -inf\n",
      "[LightGBM] [Warning] No further splits with positive gain, best gain: -inf\n",
      "[LightGBM] [Warning] No further splits with positive gain, best gain: -inf\n",
      "[LightGBM] [Warning] No further splits with positive gain, best gain: -inf\n",
      "[LightGBM] [Warning] No further splits with positive gain, best gain: -inf\n",
      "[LightGBM] [Warning] No further splits with positive gain, best gain: -inf\n",
      "[LightGBM] [Warning] No further splits with positive gain, best gain: -inf\n",
      "[LightGBM] [Warning] No further splits with positive gain, best gain: -inf\n",
      "[LightGBM] [Warning] No further splits with positive gain, best gain: -inf\n",
      "[LightGBM] [Warning] No further splits with positive gain, best gain: -inf\n",
      "[LightGBM] [Warning] No further splits with positive gain, best gain: -inf\n",
      "[LightGBM] [Warning] No further splits with positive gain, best gain: -inf\n",
      "[LightGBM] [Warning] No further splits with positive gain, best gain: -inf\n",
      "[LightGBM] [Warning] No further splits with positive gain, best gain: -inf\n",
      "[LightGBM] [Warning] No further splits with positive gain, best gain: -inf\n",
      "[LightGBM] [Warning] No further splits with positive gain, best gain: -inf\n",
      "[LightGBM] [Warning] No further splits with positive gain, best gain: -inf\n",
      "[LightGBM] [Warning] No further splits with positive gain, best gain: -inf\n",
      "[LightGBM] [Warning] No further splits with positive gain, best gain: -inf\n",
      "[LightGBM] [Warning] No further splits with positive gain, best gain: -inf\n",
      "[LightGBM] [Warning] No further splits with positive gain, best gain: -inf\n",
      "[LightGBM] [Warning] No further splits with positive gain, best gain: -inf\n",
      "[LightGBM] [Warning] No further splits with positive gain, best gain: -inf\n",
      "[LightGBM] [Warning] No further splits with positive gain, best gain: -inf\n",
      "[LightGBM] [Warning] No further splits with positive gain, best gain: -inf\n",
      "[LightGBM] [Warning] No further splits with positive gain, best gain: -inf\n",
      "[LightGBM] [Warning] No further splits with positive gain, best gain: -inf\n",
      "[LightGBM] [Warning] No further splits with positive gain, best gain: -inf\n",
      "[LightGBM] [Warning] No further splits with positive gain, best gain: -inf\n",
      "[LightGBM] [Warning] No further splits with positive gain, best gain: -inf\n",
      "[LightGBM] [Warning] No further splits with positive gain, best gain: -inf\n",
      "[LightGBM] [Warning] No further splits with positive gain, best gain: -inf\n",
      "[LightGBM] [Warning] No further splits with positive gain, best gain: -inf\n",
      "[LightGBM] [Warning] No further splits with positive gain, best gain: -inf\n",
      "[LightGBM] [Warning] No further splits with positive gain, best gain: -inf\n",
      "[LightGBM] [Warning] No further splits with positive gain, best gain: -inf\n",
      "[LightGBM] [Warning] No further splits with positive gain, best gain: -inf\n",
      "[LightGBM] [Warning] No further splits with positive gain, best gain: -inf\n",
      "[LightGBM] [Warning] No further splits with positive gain, best gain: -inf\n",
      "[LightGBM] [Warning] No further splits with positive gain, best gain: -inf\n",
      "[LightGBM] [Warning] No further splits with positive gain, best gain: -inf\n",
      "[LightGBM] [Warning] No further splits with positive gain, best gain: -inf\n",
      "[LightGBM] [Warning] No further splits with positive gain, best gain: -inf\n",
      "[LightGBM] [Warning] No further splits with positive gain, best gain: -inf\n",
      "[LightGBM] [Warning] No further splits with positive gain, best gain: -inf\n",
      "[LightGBM] [Warning] No further splits with positive gain, best gain: -inf\n",
      "[LightGBM] [Warning] No further splits with positive gain, best gain: -inf\n",
      "[LightGBM] [Warning] No further splits with positive gain, best gain: -inf\n",
      "[LightGBM] [Warning] No further splits with positive gain, best gain: -inf\n",
      "[LightGBM] [Warning] No further splits with positive gain, best gain: -inf\n",
      "[LightGBM] [Warning] No further splits with positive gain, best gain: -inf\n",
      "[LightGBM] [Warning] No further splits with positive gain, best gain: -inf\n",
      "[LightGBM] [Warning] No further splits with positive gain, best gain: -inf\n",
      "[LightGBM] [Warning] No further splits with positive gain, best gain: -inf\n",
      "[LightGBM] [Warning] No further splits with positive gain, best gain: -inf\n",
      "[LightGBM] [Warning] No further splits with positive gain, best gain: -inf\n",
      "[LightGBM] [Warning] No further splits with positive gain, best gain: -inf\n",
      "[LightGBM] [Warning] No further splits with positive gain, best gain: -inf\n",
      "[LightGBM] [Warning] No further splits with positive gain, best gain: -inf\n",
      "[LightGBM] [Warning] No further splits with positive gain, best gain: -inf\n",
      "[LightGBM] [Warning] No further splits with positive gain, best gain: -inf\n",
      "[LightGBM] [Warning] No further splits with positive gain, best gain: -inf\n",
      "[LightGBM] [Warning] No further splits with positive gain, best gain: -inf\n",
      "[LightGBM] [Warning] No further splits with positive gain, best gain: -inf\n",
      "[LightGBM] [Warning] No further splits with positive gain, best gain: -inf\n",
      "[LightGBM] [Warning] No further splits with positive gain, best gain: -inf\n",
      "[LightGBM] [Warning] No further splits with positive gain, best gain: -inf\n",
      "[LightGBM] [Warning] No further splits with positive gain, best gain: -inf\n",
      "[LightGBM] [Warning] No further splits with positive gain, best gain: -inf\n",
      "[LightGBM] [Warning] No further splits with positive gain, best gain: -inf\n",
      "[LightGBM] [Warning] No further splits with positive gain, best gain: -inf\n",
      "[LightGBM] [Warning] No further splits with positive gain, best gain: -inf\n",
      "[LightGBM] [Warning] No further splits with positive gain, best gain: -inf\n",
      "[LightGBM] [Warning] No further splits with positive gain, best gain: -inf\n",
      "[LightGBM] [Warning] No further splits with positive gain, best gain: -inf\n",
      "[LightGBM] [Warning] No further splits with positive gain, best gain: -inf\n",
      "[LightGBM] [Warning] No further splits with positive gain, best gain: -inf\n",
      "[LightGBM] [Warning] No further splits with positive gain, best gain: -inf\n",
      "[LightGBM] [Warning] No further splits with positive gain, best gain: -inf\n",
      "[LightGBM] [Warning] No further splits with positive gain, best gain: -inf\n",
      "[LightGBM] [Warning] No further splits with positive gain, best gain: -inf\n",
      "[LightGBM] [Warning] No further splits with positive gain, best gain: -inf\n",
      "[LightGBM] [Warning] No further splits with positive gain, best gain: -inf\n",
      "[LightGBM] [Warning] No further splits with positive gain, best gain: -inf\n",
      "[LightGBM] [Warning] No further splits with positive gain, best gain: -inf\n",
      "[LightGBM] [Warning] No further splits with positive gain, best gain: -inf\n",
      "[LightGBM] [Warning] No further splits with positive gain, best gain: -inf\n",
      "[LightGBM] [Warning] No further splits with positive gain, best gain: -inf\n",
      "[LightGBM] [Warning] No further splits with positive gain, best gain: -inf\n",
      "[LightGBM] [Warning] No further splits with positive gain, best gain: -inf\n",
      "[LightGBM] [Warning] No further splits with positive gain, best gain: -inf\n",
      "[LightGBM] [Warning] No further splits with positive gain, best gain: -inf\n",
      "[LightGBM] [Warning] No further splits with positive gain, best gain: -inf\n",
      "[LightGBM] [Warning] No further splits with positive gain, best gain: -inf\n",
      "[LightGBM] [Warning] No further splits with positive gain, best gain: -inf\n",
      "[LightGBM] [Warning] No further splits with positive gain, best gain: -inf\n",
      "[LightGBM] [Warning] No further splits with positive gain, best gain: -inf\n",
      "[LightGBM] [Warning] No further splits with positive gain, best gain: -inf\n",
      "[LightGBM] [Warning] No further splits with positive gain, best gain: -inf\n",
      "[LightGBM] [Warning] No further splits with positive gain, best gain: -inf\n",
      "[LightGBM] [Warning] No further splits with positive gain, best gain: -inf\n",
      "[LightGBM] [Warning] No further splits with positive gain, best gain: -inf\n",
      "[LightGBM] [Warning] No further splits with positive gain, best gain: -inf\n",
      "[LightGBM] [Warning] No further splits with positive gain, best gain: -inf\n",
      "[LightGBM] [Warning] No further splits with positive gain, best gain: -inf\n",
      "[LightGBM] [Warning] No further splits with positive gain, best gain: -inf\n",
      "[LightGBM] [Warning] No further splits with positive gain, best gain: -inf\n",
      "[LightGBM] [Warning] No further splits with positive gain, best gain: -inf\n",
      "[LightGBM] [Warning] No further splits with positive gain, best gain: -inf\n",
      "[LightGBM] [Warning] No further splits with positive gain, best gain: -inf\n",
      "[LightGBM] [Warning] No further splits with positive gain, best gain: -inf\n",
      "[LightGBM] [Warning] No further splits with positive gain, best gain: -inf\n",
      "[LightGBM] [Warning] No further splits with positive gain, best gain: -inf\n",
      "[LightGBM] [Warning] No further splits with positive gain, best gain: -inf\n",
      "[LightGBM] [Warning] No further splits with positive gain, best gain: -inf\n",
      "[LightGBM] [Warning] No further splits with positive gain, best gain: -inf\n",
      "[LightGBM] [Warning] No further splits with positive gain, best gain: -inf\n",
      "[LightGBM] [Warning] No further splits with positive gain, best gain: -inf\n",
      "[LightGBM] [Warning] No further splits with positive gain, best gain: -inf\n",
      "[LightGBM] [Warning] No further splits with positive gain, best gain: -inf\n",
      "[LightGBM] [Warning] No further splits with positive gain, best gain: -inf\n",
      "[LightGBM] [Warning] No further splits with positive gain, best gain: -inf\n",
      "[LightGBM] [Warning] No further splits with positive gain, best gain: -inf\n",
      "[LightGBM] [Warning] No further splits with positive gain, best gain: -inf\n",
      "[LightGBM] [Warning] No further splits with positive gain, best gain: -inf\n",
      "[LightGBM] [Warning] No further splits with positive gain, best gain: -inf\n",
      "[LightGBM] [Warning] No further splits with positive gain, best gain: -inf\n",
      "[LightGBM] [Warning] No further splits with positive gain, best gain: -inf\n",
      "[LightGBM] [Warning] No further splits with positive gain, best gain: -inf\n",
      "[LightGBM] [Warning] No further splits with positive gain, best gain: -inf\n",
      "[LightGBM] [Warning] No further splits with positive gain, best gain: -inf\n",
      "[LightGBM] [Warning] No further splits with positive gain, best gain: -inf\n",
      "[LightGBM] [Warning] No further splits with positive gain, best gain: -inf\n",
      "[LightGBM] [Warning] No further splits with positive gain, best gain: -inf\n",
      "[LightGBM] [Warning] No further splits with positive gain, best gain: -inf\n",
      "[LightGBM] [Warning] No further splits with positive gain, best gain: -inf\n",
      "[LightGBM] [Warning] No further splits with positive gain, best gain: -inf\n",
      "[LightGBM] [Warning] No further splits with positive gain, best gain: -inf\n",
      "[LightGBM] [Warning] No further splits with positive gain, best gain: -inf\n",
      "[LightGBM] [Warning] No further splits with positive gain, best gain: -inf\n",
      "[LightGBM] [Warning] No further splits with positive gain, best gain: -inf\n",
      "[LightGBM] [Warning] No further splits with positive gain, best gain: -inf\n",
      "[LightGBM] [Warning] No further splits with positive gain, best gain: -inf\n",
      "[LightGBM] [Warning] No further splits with positive gain, best gain: -inf\n",
      "[LightGBM] [Warning] No further splits with positive gain, best gain: -inf\n",
      "[LightGBM] [Warning] No further splits with positive gain, best gain: -inf\n",
      "[LightGBM] [Warning] No further splits with positive gain, best gain: -inf\n",
      "[LightGBM] [Warning] No further splits with positive gain, best gain: -inf\n",
      "[LightGBM] [Warning] No further splits with positive gain, best gain: -inf\n",
      "[LightGBM] [Warning] No further splits with positive gain, best gain: -inf\n",
      "[LightGBM] [Warning] No further splits with positive gain, best gain: -inf\n",
      "[LightGBM] [Warning] No further splits with positive gain, best gain: -inf\n",
      "[LightGBM] [Warning] No further splits with positive gain, best gain: -inf\n",
      "[LightGBM] [Warning] No further splits with positive gain, best gain: -inf\n",
      "[LightGBM] [Warning] No further splits with positive gain, best gain: -inf\n",
      "[LightGBM] [Warning] No further splits with positive gain, best gain: -inf\n",
      "[LightGBM] [Warning] No further splits with positive gain, best gain: -inf\n",
      "[LightGBM] [Warning] No further splits with positive gain, best gain: -inf\n",
      "[LightGBM] [Warning] No further splits with positive gain, best gain: -inf\n",
      "[LightGBM] [Warning] No further splits with positive gain, best gain: -inf\n",
      "[LightGBM] [Warning] No further splits with positive gain, best gain: -inf\n",
      "[LightGBM] [Warning] No further splits with positive gain, best gain: -inf\n",
      "[LightGBM] [Warning] No further splits with positive gain, best gain: -inf\n",
      "[LightGBM] [Warning] No further splits with positive gain, best gain: -inf\n",
      "[LightGBM] [Warning] No further splits with positive gain, best gain: -inf\n",
      "[LightGBM] [Warning] No further splits with positive gain, best gain: -inf\n",
      "[LightGBM] [Warning] No further splits with positive gain, best gain: -inf\n",
      "[LightGBM] [Warning] No further splits with positive gain, best gain: -inf\n",
      "[LightGBM] [Warning] No further splits with positive gain, best gain: -inf\n",
      "[LightGBM] [Warning] No further splits with positive gain, best gain: -inf\n",
      "[LightGBM] [Warning] No further splits with positive gain, best gain: -inf\n",
      "[LightGBM] [Warning] No further splits with positive gain, best gain: -inf\n",
      "[LightGBM] [Warning] No further splits with positive gain, best gain: -inf\n",
      "[LightGBM] [Warning] No further splits with positive gain, best gain: -inf\n",
      "[LightGBM] [Warning] No further splits with positive gain, best gain: -inf\n",
      "[LightGBM] [Warning] No further splits with positive gain, best gain: -inf\n",
      "[LightGBM] [Warning] No further splits with positive gain, best gain: -inf\n",
      "[LightGBM] [Warning] No further splits with positive gain, best gain: -inf\n",
      "[LightGBM] [Warning] No further splits with positive gain, best gain: -inf\n",
      "[LightGBM] [Warning] No further splits with positive gain, best gain: -inf\n",
      "[LightGBM] [Warning] No further splits with positive gain, best gain: -inf\n",
      "[LightGBM] [Warning] No further splits with positive gain, best gain: -inf\n",
      "[LightGBM] [Warning] No further splits with positive gain, best gain: -inf\n",
      "[LightGBM] [Warning] No further splits with positive gain, best gain: -inf\n",
      "[LightGBM] [Warning] No further splits with positive gain, best gain: -inf\n",
      "[LightGBM] [Warning] No further splits with positive gain, best gain: -inf\n",
      "[LightGBM] [Warning] No further splits with positive gain, best gain: -inf\n",
      "[LightGBM] [Warning] No further splits with positive gain, best gain: -inf\n",
      "[LightGBM] [Warning] No further splits with positive gain, best gain: -inf\n",
      "[LightGBM] [Warning] No further splits with positive gain, best gain: -inf\n",
      "[LightGBM] [Warning] No further splits with positive gain, best gain: -inf\n",
      "[LightGBM] [Warning] No further splits with positive gain, best gain: -inf\n",
      "[LightGBM] [Warning] No further splits with positive gain, best gain: -inf\n",
      "[LightGBM] [Warning] No further splits with positive gain, best gain: -inf\n",
      "[LightGBM] [Warning] No further splits with positive gain, best gain: -inf\n",
      "[LightGBM] [Warning] No further splits with positive gain, best gain: -inf\n",
      "[LightGBM] [Warning] No further splits with positive gain, best gain: -inf\n",
      "[LightGBM] [Warning] No further splits with positive gain, best gain: -inf\n",
      "[LightGBM] [Warning] No further splits with positive gain, best gain: -inf\n",
      "[LightGBM] [Warning] No further splits with positive gain, best gain: -inf\n",
      "[LightGBM] [Warning] No further splits with positive gain, best gain: -inf\n",
      "[LightGBM] [Warning] No further splits with positive gain, best gain: -inf\n",
      "[LightGBM] [Warning] No further splits with positive gain, best gain: -inf\n",
      "[LightGBM] [Warning] No further splits with positive gain, best gain: -inf\n",
      "[LightGBM] [Warning] No further splits with positive gain, best gain: -inf\n",
      "[LightGBM] [Warning] No further splits with positive gain, best gain: -inf\n",
      "[LightGBM] [Warning] No further splits with positive gain, best gain: -inf\n",
      "[LightGBM] [Warning] No further splits with positive gain, best gain: -inf\n",
      "[LightGBM] [Warning] No further splits with positive gain, best gain: -inf\n",
      "[LightGBM] [Warning] No further splits with positive gain, best gain: -inf\n",
      "[LightGBM] [Warning] No further splits with positive gain, best gain: -inf\n",
      "[LightGBM] [Warning] No further splits with positive gain, best gain: -inf\n",
      "[LightGBM] [Warning] No further splits with positive gain, best gain: -inf\n",
      "[LightGBM] [Warning] No further splits with positive gain, best gain: -inf\n",
      "[LightGBM] [Warning] No further splits with positive gain, best gain: -inf\n",
      "[LightGBM] [Warning] No further splits with positive gain, best gain: -inf\n",
      "[LightGBM] [Warning] No further splits with positive gain, best gain: -inf\n",
      "[LightGBM] [Warning] No further splits with positive gain, best gain: -inf\n",
      "[LightGBM] [Warning] No further splits with positive gain, best gain: -inf\n",
      "[LightGBM] [Warning] No further splits with positive gain, best gain: -inf\n",
      "[LightGBM] [Warning] No further splits with positive gain, best gain: -inf\n",
      "[LightGBM] [Warning] No further splits with positive gain, best gain: -inf\n",
      "[LightGBM] [Warning] No further splits with positive gain, best gain: -inf\n",
      "[LightGBM] [Warning] No further splits with positive gain, best gain: -inf\n",
      "[LightGBM] [Warning] No further splits with positive gain, best gain: -inf\n",
      "[LightGBM] [Warning] No further splits with positive gain, best gain: -inf\n",
      "[LightGBM] [Warning] No further splits with positive gain, best gain: -inf\n",
      "[LightGBM] [Warning] No further splits with positive gain, best gain: -inf\n",
      "[LightGBM] [Warning] No further splits with positive gain, best gain: -inf\n",
      "[LightGBM] [Warning] No further splits with positive gain, best gain: -inf\n",
      "[LightGBM] [Warning] No further splits with positive gain, best gain: -inf\n",
      "[LightGBM] [Warning] No further splits with positive gain, best gain: -inf\n",
      "[LightGBM] [Warning] No further splits with positive gain, best gain: -inf\n",
      "[LightGBM] [Warning] No further splits with positive gain, best gain: -inf\n",
      "[LightGBM] [Warning] No further splits with positive gain, best gain: -inf\n",
      "[LightGBM] [Warning] No further splits with positive gain, best gain: -inf\n",
      "[LightGBM] [Warning] No further splits with positive gain, best gain: -inf\n",
      "[LightGBM] [Warning] No further splits with positive gain, best gain: -inf\n",
      "[LightGBM] [Warning] No further splits with positive gain, best gain: -inf\n",
      "[LightGBM] [Warning] No further splits with positive gain, best gain: -inf\n",
      "[LightGBM] [Warning] No further splits with positive gain, best gain: -inf\n",
      "[LightGBM] [Warning] No further splits with positive gain, best gain: -inf\n",
      "[LightGBM] [Warning] No further splits with positive gain, best gain: -inf\n",
      "[LightGBM] [Warning] No further splits with positive gain, best gain: -inf\n",
      "[LightGBM] [Warning] No further splits with positive gain, best gain: -inf\n",
      "[LightGBM] [Warning] No further splits with positive gain, best gain: -inf\n",
      "[LightGBM] [Warning] No further splits with positive gain, best gain: -inf\n",
      "[LightGBM] [Warning] No further splits with positive gain, best gain: -inf\n",
      "[LightGBM] [Warning] No further splits with positive gain, best gain: -inf\n",
      "[LightGBM] [Warning] No further splits with positive gain, best gain: -inf\n",
      "[LightGBM] [Warning] No further splits with positive gain, best gain: -inf\n",
      "[LightGBM] [Warning] No further splits with positive gain, best gain: -inf\n",
      "[LightGBM] [Warning] No further splits with positive gain, best gain: -inf\n",
      "[LightGBM] [Warning] No further splits with positive gain, best gain: -inf\n",
      "[LightGBM] [Warning] No further splits with positive gain, best gain: -inf\n",
      "[LightGBM] [Warning] No further splits with positive gain, best gain: -inf\n",
      "[LightGBM] [Warning] No further splits with positive gain, best gain: -inf\n",
      "[LightGBM] [Warning] No further splits with positive gain, best gain: -inf\n",
      "[LightGBM] [Warning] No further splits with positive gain, best gain: -inf\n",
      "[LightGBM] [Warning] No further splits with positive gain, best gain: -inf\n",
      "[LightGBM] [Warning] No further splits with positive gain, best gain: -inf\n",
      "[LightGBM] [Warning] No further splits with positive gain, best gain: -inf\n",
      "[LightGBM] [Warning] No further splits with positive gain, best gain: -inf\n",
      "[LightGBM] [Warning] No further splits with positive gain, best gain: -inf\n",
      "[LightGBM] [Warning] No further splits with positive gain, best gain: -inf\n",
      "[LightGBM] [Warning] No further splits with positive gain, best gain: -inf\n",
      "[LightGBM] [Warning] No further splits with positive gain, best gain: -inf\n",
      "[LightGBM] [Warning] No further splits with positive gain, best gain: -inf\n",
      "[LightGBM] [Warning] No further splits with positive gain, best gain: -inf\n",
      "[LightGBM] [Warning] No further splits with positive gain, best gain: -inf\n",
      "[LightGBM] [Warning] No further splits with positive gain, best gain: -inf\n",
      "[LightGBM] [Warning] No further splits with positive gain, best gain: -inf\n",
      "[LightGBM] [Warning] No further splits with positive gain, best gain: -inf\n",
      "[LightGBM] [Warning] No further splits with positive gain, best gain: -inf\n",
      "[LightGBM] [Warning] No further splits with positive gain, best gain: -inf\n",
      "[LightGBM] [Warning] No further splits with positive gain, best gain: -inf\n",
      "[LightGBM] [Warning] No further splits with positive gain, best gain: -inf\n",
      "[LightGBM] [Warning] No further splits with positive gain, best gain: -inf\n",
      "[LightGBM] [Warning] No further splits with positive gain, best gain: -inf\n",
      "[LightGBM] [Warning] No further splits with positive gain, best gain: -inf\n",
      "[LightGBM] [Warning] No further splits with positive gain, best gain: -inf\n",
      "[LightGBM] [Warning] No further splits with positive gain, best gain: -inf\n",
      "[LightGBM] [Warning] No further splits with positive gain, best gain: -inf\n",
      "[LightGBM] [Warning] No further splits with positive gain, best gain: -inf\n",
      "[LightGBM] [Warning] No further splits with positive gain, best gain: -inf\n",
      "[LightGBM] [Warning] No further splits with positive gain, best gain: -inf\n",
      "[LightGBM] [Warning] No further splits with positive gain, best gain: -inf\n",
      "[LightGBM] [Warning] No further splits with positive gain, best gain: -inf\n",
      "[LightGBM] [Warning] No further splits with positive gain, best gain: -inf\n",
      "[LightGBM] [Warning] No further splits with positive gain, best gain: -inf\n",
      "[LightGBM] [Warning] No further splits with positive gain, best gain: -inf\n",
      "[LightGBM] [Warning] No further splits with positive gain, best gain: -inf\n",
      "[LightGBM] [Warning] No further splits with positive gain, best gain: -inf\n",
      "[LightGBM] [Warning] No further splits with positive gain, best gain: -inf\n",
      "[LightGBM] [Warning] No further splits with positive gain, best gain: -inf\n",
      "[LightGBM] [Warning] No further splits with positive gain, best gain: -inf\n",
      "[LightGBM] [Warning] No further splits with positive gain, best gain: -inf\n",
      "[LightGBM] [Warning] No further splits with positive gain, best gain: -inf\n",
      "[LightGBM] [Warning] No further splits with positive gain, best gain: -inf\n",
      "[LightGBM] [Warning] No further splits with positive gain, best gain: -inf\n",
      "[LightGBM] [Warning] No further splits with positive gain, best gain: -inf\n",
      "[LightGBM] [Warning] No further splits with positive gain, best gain: -inf\n",
      "[LightGBM] [Warning] No further splits with positive gain, best gain: -inf\n",
      "[LightGBM] [Warning] No further splits with positive gain, best gain: -inf\n",
      "[LightGBM] [Warning] No further splits with positive gain, best gain: -inf\n",
      "[LightGBM] [Warning] No further splits with positive gain, best gain: -inf\n",
      "[LightGBM] [Warning] No further splits with positive gain, best gain: -inf\n",
      "[LightGBM] [Warning] No further splits with positive gain, best gain: -inf\n",
      "[LightGBM] [Warning] No further splits with positive gain, best gain: -inf\n",
      "[LightGBM] [Warning] No further splits with positive gain, best gain: -inf\n",
      "[LightGBM] [Warning] No further splits with positive gain, best gain: -inf\n",
      "[LightGBM] [Warning] No further splits with positive gain, best gain: -inf\n",
      "[LightGBM] [Warning] No further splits with positive gain, best gain: -inf\n",
      "[LightGBM] [Warning] No further splits with positive gain, best gain: -inf\n",
      "[LightGBM] [Warning] No further splits with positive gain, best gain: -inf\n",
      "[LightGBM] [Warning] No further splits with positive gain, best gain: -inf\n",
      "[LightGBM] [Warning] No further splits with positive gain, best gain: -inf\n",
      "[LightGBM] [Warning] No further splits with positive gain, best gain: -inf\n",
      "[LightGBM] [Warning] No further splits with positive gain, best gain: -inf\n",
      "[LightGBM] [Warning] No further splits with positive gain, best gain: -inf\n",
      "[LightGBM] [Warning] No further splits with positive gain, best gain: -inf\n",
      "LGBM Validation Accuracy: 0.8333333333333334\n",
      "Best Hyperparameters for LGBM: {'classifier__learning_rate': 0.01, 'classifier__n_estimators': 200, 'classifier__num_leaves': 31}\n",
      "Running GridSearchCV for Naive Bayes...\n",
      "Naive Bayes Validation Accuracy: 0.7380952380952381\n",
      "Best Hyperparameters for Naive Bayes: {'classifier__var_smoothing': 1e-08}\n"
     ]
    }
   ],
   "source": [
    "# Define the models and their hyperparameters for GridSearchCV\n",
    "param_grid = {\n",
    "    'Logistic Regression': {\n",
    "        'classifier__C': [0.01, 0.1, 1, 10],\n",
    "        'classifier__solver': ['liblinear', 'saga']\n",
    "    },\n",
    "    'Decision Tree': {\n",
    "        'classifier__max_depth': [5, 10, 15, 20],\n",
    "        'classifier__min_samples_split': [2, 5, 10]\n",
    "    },\n",
    "    'Random Forest': {\n",
    "        'classifier__n_estimators': [50, 100, 150],\n",
    "        'classifier__max_depth': [5, 10, 15],\n",
    "        'classifier__min_samples_split': [2, 5, 10]\n",
    "    },\n",
    "    'AdaBoost': {\n",
    "        'classifier__n_estimators': [50, 100, 200],\n",
    "        'classifier__learning_rate': [0.01, 0.1, 1]\n",
    "    },\n",
    "    'LGBM': {\n",
    "        'classifier__num_leaves': [31, 50, 100],\n",
    "        'classifier__learning_rate': [0.01, 0.1, 0.5],\n",
    "        'classifier__n_estimators': [50, 100, 200]\n",
    "    },\n",
    "    'Naive Bayes': {\n",
    "        'classifier__var_smoothing': [1e-10, 1e-9, 1e-8]  # Hyperparameter for smoothing\n",
    "    }\n",
    "}\n",
    "\n",
    "# Initialize the classifiers\n",
    "models = {\n",
    "    'Logistic Regression': LogisticRegression(),\n",
    "    'Decision Tree': DecisionTreeClassifier(),\n",
    "    'Random Forest': RandomForestClassifier(),\n",
    "    'AdaBoost': AdaBoostClassifier(),\n",
    "    'LGBM': lgb.LGBMClassifier(),\n",
    "    'Naive Bayes': GaussianNB()\n",
    "}\n",
    "\n",
    "# Initialize the best accuracy variable\n",
    "best_accuracy = 0\n",
    "best_model = None\n",
    "\n",
    "# Perform Grid Search for each model\n",
    "for model_name, model in models.items():\n",
    "    print(f\"Running GridSearchCV for {model_name}...\")\n",
    "    \n",
    "    # Create a pipeline with SimpleImputer and the classifier\n",
    "    pipeline = Pipeline([\n",
    "        ('imputer', SimpleImputer(strategy='mean')),  # Impute missing values\n",
    "        ('classifier', model)\n",
    "    ])\n",
    "    \n",
    "    # GridSearchCV with imputation\n",
    "    grid_search = GridSearchCV(pipeline, param_grid[model_name], cv=5, n_jobs=-1, scoring='accuracy')\n",
    "    grid_search.fit(X_train, y_train)\n",
    "    \n",
    "    # Evaluate on validation set\n",
    "    val_predictions = grid_search.predict(X_val)\n",
    "    val_accuracy = accuracy_score(y_val, val_predictions)\n",
    "    \n",
    "    print(f\"{model_name} Validation Accuracy: {val_accuracy}\")\n",
    "    print(f\"Best Hyperparameters for {model_name}: {grid_search.best_params_}\")\n",
    "    \n",
    "    # Update the best model\n",
    "    if val_accuracy > best_accuracy:\n",
    "        best_accuracy = val_accuracy\n",
    "        best_model = grid_search.best_estimator_"
   ]
  },
  {
   "cell_type": "code",
   "execution_count": 307,
   "metadata": {},
   "outputs": [
    {
     "name": "stdout",
     "output_type": "stream",
     "text": [
      "\n",
      "Test accuracy of best model (Pipeline): 0.7381\n"
     ]
    }
   ],
   "source": [
    "# Evaluate the best model on the test set\n",
    "y_test_pred = best_model.predict(X_test)\n",
    "test_accuracy = accuracy_score(y_test, y_test_pred)\n",
    "print(f\"\\nTest accuracy of best model ({best_model.__class__.__name__}): {test_accuracy:.4f}\")"
   ]
  },
  {
   "cell_type": "markdown",
   "metadata": {},
   "source": [
    "-------\n",
    "\n",
    "### Saving the Model\n",
    "\n",
    "--------"
   ]
  },
  {
   "cell_type": "code",
   "execution_count": 308,
   "metadata": {},
   "outputs": [
    {
     "data": {
      "text/plain": [
       "['best_model.pkl']"
      ]
     },
     "execution_count": 308,
     "metadata": {},
     "output_type": "execute_result"
    }
   ],
   "source": [
    "import joblib\n",
    "\n",
    "# Save the best model to a file\n",
    "joblib.dump(best_model, 'best_model.pkl')"
   ]
  },
  {
   "cell_type": "markdown",
   "metadata": {},
   "source": [
    "------\n",
    "\n",
    "### Loading the Model and Making Predictions\n",
    "\n",
    "-------"
   ]
  },
  {
   "cell_type": "code",
   "execution_count": 309,
   "metadata": {},
   "outputs": [
    {
     "name": "stdout",
     "output_type": "stream",
     "text": [
      "Test accuracy of the best model (Pipeline): 0.7381\n"
     ]
    }
   ],
   "source": [
    "# Load the saved model\n",
    "loaded_model = joblib.load('best_model.pkl')\n",
    "\n",
    "# Make predictions on the test set\n",
    "y_test_pred = loaded_model.predict(X_test)\n",
    "\n",
    "# Evaluate accuracy on the test set\n",
    "test_accuracy = accuracy_score(y_test, y_test_pred)\n",
    "print(f\"Test accuracy of the best model ({loaded_model.__class__.__name__}): {test_accuracy:.4f}\")"
   ]
  },
  {
   "cell_type": "markdown",
   "metadata": {},
   "source": [
    "-----\n",
    "\n",
    "### Classification Matrix\n",
    "\n",
    "----"
   ]
  },
  {
   "cell_type": "code",
   "execution_count": 310,
   "metadata": {},
   "outputs": [
    {
     "name": "stdout",
     "output_type": "stream",
     "text": [
      "Classification Report:\n",
      "               precision    recall  f1-score   support\n",
      "\n",
      "           0       0.82      0.90      0.86        30\n",
      "           1       0.43      0.33      0.38         9\n",
      "           2       0.50      0.33      0.40         3\n",
      "\n",
      "    accuracy                           0.74        42\n",
      "   macro avg       0.58      0.52      0.54        42\n",
      "weighted avg       0.71      0.74      0.72        42\n",
      "\n",
      "Confusion Matrix:\n",
      " [[27  3  0]\n",
      " [ 5  3  1]\n",
      " [ 1  1  1]]\n"
     ]
    }
   ],
   "source": [
    "from sklearn.metrics import classification_report, confusion_matrix\n",
    "\n",
    "# Print classification report\n",
    "print(\"Classification Report:\\n\", classification_report(y_test, y_test_pred))\n",
    "\n",
    "# Print confusion matrix\n",
    "print(\"Confusion Matrix:\\n\", confusion_matrix(y_test, y_test_pred))\n"
   ]
  },
  {
   "cell_type": "code",
   "execution_count": 311,
   "metadata": {},
   "outputs": [
    {
     "data": {
      "image/png": "[encoded data removed]",
      "text/plain": [
       "<Figure size 800x600 with 2 Axes>"
      ]
     },
     "metadata": {},
     "output_type": "display_data"
    }
   ],
   "source": [
    "# Get the original class names from the label encoder\n",
    "original_labels = winner_party_encoder.inverse_transform(best_model.classes_)\n",
    "\n",
    "# Generate confusion matrix\n",
    "cm = confusion_matrix(y_test, y_test_pred)\n",
    "\n",
    "# Plot confusion matrix with original class names\n",
    "plt.figure(figsize=(8, 6))\n",
    "sns.heatmap(cm, annot=True, fmt='g', cmap='Blues', xticklabels=original_labels, yticklabels=original_labels)\n",
    "plt.title('Confusion Matrix with Original Labels')\n",
    "plt.xlabel('Predicted Label')\n",
    "plt.ylabel('True Label')\n",
    "plt.show()"
   ]
  },
  {
   "cell_type": "code",
   "execution_count": 312,
   "metadata": {},
   "outputs": [],
   "source": [
    "# ## Plotting the confusion matrix with the predicted labels\n",
    "\n",
    "# # Generate confusion matrix\n",
    "# cm = confusion_matrix(y_test, y_test_pred)\n",
    "\n",
    "# plt.figure(figsize=(8,5))\n",
    "# im = plt.imshow(cm, interpolation='nearest', cmap='Blues')\n",
    "# plt.colorbar()\n",
    "\n",
    "# # Add text annotations to every cell\n",
    "# for i in range(cm.shape[0]):\n",
    "#     for j in range(cm.shape[1]):\n",
    "#         plt.text(j, i, str(cm[i, j]),\n",
    "#                 ha=\"center\", va=\"center\",\n",
    "#                 color=\"white\" if cm[i, j] > cm.max()/2 else \"black\",\n",
    "#                 fontsize=12, fontweight='bold')\n",
    "\n",
    "# plt.title('Confusion Matrix')\n",
    "# plt.xlabel('Predicted Label')\n",
    "# plt.ylabel('True Label')\n",
    "# plt.tight_layout()\n",
    "# plt.show()"
   ]
  },
  {
   "cell_type": "markdown",
   "metadata": {},
   "source": [
    "-----\n",
    "\n",
    "### Saving the Model\n",
    "\n",
    "------"
   ]
  },
  {
   "cell_type": "code",
   "execution_count": 313,
   "metadata": {},
   "outputs": [
    {
     "data": {
      "text/plain": [
       "['winner_party_encoder.pkl']"
      ]
     },
     "execution_count": 313,
     "metadata": {},
     "output_type": "execute_result"
    }
   ],
   "source": [
    "joblib.dump(best_model, 'best_model.pkl')  # Save model\n",
    "joblib.dump(assembly_encoder, 'assembly_encoder.pkl')  # Save label encoder\n",
    "joblib.dump(winner_party_encoder, 'winner_party_encoder.pkl')  # Save label encoder"
   ]
  },
  {
   "cell_type": "code",
   "execution_count": null,
   "metadata": {},
   "outputs": [],
   "source": []
  },
  {
   "cell_type": "code",
   "execution_count": null,
   "metadata": {},
   "outputs": [],
   "source": []
  }
 ],
 "metadata": {
  "kaggle": {
   "accelerator": "none",
   "dataSources": [
    {
     "datasetId": 6406525,
     "sourceId": 10345978,
     "sourceType": "datasetVersion"
    }
   ],
   "dockerImageVersionId": 30822,
   "isGpuEnabled": false,
   "isInternetEnabled": true,
   "language": "python",
   "sourceType": "notebook"
  },
  "kernelspec": {
   "display_name": "jupyter",
   "language": "python",
   "name": "python3"
  },
  "language_info": {
   "codemirror_mode": {
    "name": "ipython",
    "version": 3
   },
   "file_extension": ".py",
   "mimetype": "text/x-python",
   "name": "python",
   "nbconvert_exporter": "python",
   "pygments_lexer": "ipython3",
   "version": "3.11.7"
  }
 },
 "nbformat": 4,
 "nbformat_minor": 4
}
